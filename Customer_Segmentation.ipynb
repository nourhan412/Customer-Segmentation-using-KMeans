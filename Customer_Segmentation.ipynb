{
  "nbformat": 4,
  "nbformat_minor": 0,
  "metadata": {
    "colab": {
      "provenance": []
    },
    "kernelspec": {
      "name": "python3",
      "display_name": "Python 3"
    },
    "language_info": {
      "name": "python"
    }
  },
  "cells": [
    {
      "cell_type": "code",
      "source": [
        "from google.colab import drive\n",
        "drive.mount('/content/drive')"
      ],
      "metadata": {
        "colab": {
          "base_uri": "https://localhost:8080/"
        },
        "id": "eGZau50ZdWyV",
        "outputId": "9b608764-7d84-4966-b026-4a2ef0cab5c4"
      },
      "execution_count": 1,
      "outputs": [
        {
          "output_type": "stream",
          "name": "stdout",
          "text": [
            "Mounted at /content/drive\n"
          ]
        }
      ]
    },
    {
      "cell_type": "code",
      "execution_count": 2,
      "metadata": {
        "id": "-zDDjjg5dRyx"
      },
      "outputs": [],
      "source": [
        "data_path= \"/content/drive/MyDrive/SCF Dataset/SCFP2019.csv\""
      ]
    },
    {
      "cell_type": "code",
      "source": [
        "import pandas as pd\n",
        "import matplotlib.pyplot as plt\n",
        "import seaborn as sns"
      ],
      "metadata": {
        "id": "2DGLRITXduIR"
      },
      "execution_count": 3,
      "outputs": []
    },
    {
      "cell_type": "markdown",
      "source": [
        "# Prepare"
      ],
      "metadata": {
        "id": "1cHGTufhev3Y"
      }
    },
    {
      "cell_type": "code",
      "source": [
        "df = pd.read_csv(data_path)\n",
        "print(\"df shape:\", df.shape)\n",
        "df.head()"
      ],
      "metadata": {
        "colab": {
          "base_uri": "https://localhost:8080/",
          "height": 253
        },
        "id": "8WpKSo2kdita",
        "outputId": "93b8d03c-e276-4c7d-cb87-7038add2bc61"
      },
      "execution_count": 4,
      "outputs": [
        {
          "output_type": "stream",
          "name": "stdout",
          "text": [
            "df shape: (28885, 351)\n"
          ]
        },
        {
          "output_type": "execute_result",
          "data": {
            "text/plain": [
              "   YY1  Y1          WGT  HHSEX  AGE  AGECL  EDUC  EDCL  MARRIED  KIDS  ...  \\\n",
              "0    1  11  6119.779308      2   75      6    12     4        2     0  ...   \n",
              "1    1  12  4712.374912      2   75      6    12     4        2     0  ...   \n",
              "2    1  13  5145.224455      2   75      6    12     4        2     0  ...   \n",
              "3    1  14  5297.663412      2   75      6    12     4        2     0  ...   \n",
              "4    1  15  4761.812371      2   75      6    12     4        2     0  ...   \n",
              "\n",
              "   NWCAT  INCCAT  ASSETCAT  NINCCAT  NINC2CAT  NWPCTLECAT  INCPCTLECAT  \\\n",
              "0      5       3         6        3         2          10            6   \n",
              "1      5       3         6        3         1          10            5   \n",
              "2      5       3         6        3         1          10            5   \n",
              "3      5       2         6        2         1          10            4   \n",
              "4      5       3         6        3         1          10            5   \n",
              "\n",
              "   NINCPCTLECAT  INCQRTCAT  NINCQRTCAT  \n",
              "0             6          3           3  \n",
              "1             5          2           2  \n",
              "2             5          2           2  \n",
              "3             4          2           2  \n",
              "4             5          2           2  \n",
              "\n",
              "[5 rows x 351 columns]"
            ],
            "text/html": [
              "\n",
              "  <div id=\"df-fec6f53a-6792-487f-8432-3d979ca111cc\" class=\"colab-df-container\">\n",
              "    <div>\n",
              "<style scoped>\n",
              "    .dataframe tbody tr th:only-of-type {\n",
              "        vertical-align: middle;\n",
              "    }\n",
              "\n",
              "    .dataframe tbody tr th {\n",
              "        vertical-align: top;\n",
              "    }\n",
              "\n",
              "    .dataframe thead th {\n",
              "        text-align: right;\n",
              "    }\n",
              "</style>\n",
              "<table border=\"1\" class=\"dataframe\">\n",
              "  <thead>\n",
              "    <tr style=\"text-align: right;\">\n",
              "      <th></th>\n",
              "      <th>YY1</th>\n",
              "      <th>Y1</th>\n",
              "      <th>WGT</th>\n",
              "      <th>HHSEX</th>\n",
              "      <th>AGE</th>\n",
              "      <th>AGECL</th>\n",
              "      <th>EDUC</th>\n",
              "      <th>EDCL</th>\n",
              "      <th>MARRIED</th>\n",
              "      <th>KIDS</th>\n",
              "      <th>...</th>\n",
              "      <th>NWCAT</th>\n",
              "      <th>INCCAT</th>\n",
              "      <th>ASSETCAT</th>\n",
              "      <th>NINCCAT</th>\n",
              "      <th>NINC2CAT</th>\n",
              "      <th>NWPCTLECAT</th>\n",
              "      <th>INCPCTLECAT</th>\n",
              "      <th>NINCPCTLECAT</th>\n",
              "      <th>INCQRTCAT</th>\n",
              "      <th>NINCQRTCAT</th>\n",
              "    </tr>\n",
              "  </thead>\n",
              "  <tbody>\n",
              "    <tr>\n",
              "      <th>0</th>\n",
              "      <td>1</td>\n",
              "      <td>11</td>\n",
              "      <td>6119.779308</td>\n",
              "      <td>2</td>\n",
              "      <td>75</td>\n",
              "      <td>6</td>\n",
              "      <td>12</td>\n",
              "      <td>4</td>\n",
              "      <td>2</td>\n",
              "      <td>0</td>\n",
              "      <td>...</td>\n",
              "      <td>5</td>\n",
              "      <td>3</td>\n",
              "      <td>6</td>\n",
              "      <td>3</td>\n",
              "      <td>2</td>\n",
              "      <td>10</td>\n",
              "      <td>6</td>\n",
              "      <td>6</td>\n",
              "      <td>3</td>\n",
              "      <td>3</td>\n",
              "    </tr>\n",
              "    <tr>\n",
              "      <th>1</th>\n",
              "      <td>1</td>\n",
              "      <td>12</td>\n",
              "      <td>4712.374912</td>\n",
              "      <td>2</td>\n",
              "      <td>75</td>\n",
              "      <td>6</td>\n",
              "      <td>12</td>\n",
              "      <td>4</td>\n",
              "      <td>2</td>\n",
              "      <td>0</td>\n",
              "      <td>...</td>\n",
              "      <td>5</td>\n",
              "      <td>3</td>\n",
              "      <td>6</td>\n",
              "      <td>3</td>\n",
              "      <td>1</td>\n",
              "      <td>10</td>\n",
              "      <td>5</td>\n",
              "      <td>5</td>\n",
              "      <td>2</td>\n",
              "      <td>2</td>\n",
              "    </tr>\n",
              "    <tr>\n",
              "      <th>2</th>\n",
              "      <td>1</td>\n",
              "      <td>13</td>\n",
              "      <td>5145.224455</td>\n",
              "      <td>2</td>\n",
              "      <td>75</td>\n",
              "      <td>6</td>\n",
              "      <td>12</td>\n",
              "      <td>4</td>\n",
              "      <td>2</td>\n",
              "      <td>0</td>\n",
              "      <td>...</td>\n",
              "      <td>5</td>\n",
              "      <td>3</td>\n",
              "      <td>6</td>\n",
              "      <td>3</td>\n",
              "      <td>1</td>\n",
              "      <td>10</td>\n",
              "      <td>5</td>\n",
              "      <td>5</td>\n",
              "      <td>2</td>\n",
              "      <td>2</td>\n",
              "    </tr>\n",
              "    <tr>\n",
              "      <th>3</th>\n",
              "      <td>1</td>\n",
              "      <td>14</td>\n",
              "      <td>5297.663412</td>\n",
              "      <td>2</td>\n",
              "      <td>75</td>\n",
              "      <td>6</td>\n",
              "      <td>12</td>\n",
              "      <td>4</td>\n",
              "      <td>2</td>\n",
              "      <td>0</td>\n",
              "      <td>...</td>\n",
              "      <td>5</td>\n",
              "      <td>2</td>\n",
              "      <td>6</td>\n",
              "      <td>2</td>\n",
              "      <td>1</td>\n",
              "      <td>10</td>\n",
              "      <td>4</td>\n",
              "      <td>4</td>\n",
              "      <td>2</td>\n",
              "      <td>2</td>\n",
              "    </tr>\n",
              "    <tr>\n",
              "      <th>4</th>\n",
              "      <td>1</td>\n",
              "      <td>15</td>\n",
              "      <td>4761.812371</td>\n",
              "      <td>2</td>\n",
              "      <td>75</td>\n",
              "      <td>6</td>\n",
              "      <td>12</td>\n",
              "      <td>4</td>\n",
              "      <td>2</td>\n",
              "      <td>0</td>\n",
              "      <td>...</td>\n",
              "      <td>5</td>\n",
              "      <td>3</td>\n",
              "      <td>6</td>\n",
              "      <td>3</td>\n",
              "      <td>1</td>\n",
              "      <td>10</td>\n",
              "      <td>5</td>\n",
              "      <td>5</td>\n",
              "      <td>2</td>\n",
              "      <td>2</td>\n",
              "    </tr>\n",
              "  </tbody>\n",
              "</table>\n",
              "<p>5 rows × 351 columns</p>\n",
              "</div>\n",
              "    <div class=\"colab-df-buttons\">\n",
              "\n",
              "  <div class=\"colab-df-container\">\n",
              "    <button class=\"colab-df-convert\" onclick=\"convertToInteractive('df-fec6f53a-6792-487f-8432-3d979ca111cc')\"\n",
              "            title=\"Convert this dataframe to an interactive table.\"\n",
              "            style=\"display:none;\">\n",
              "\n",
              "  <svg xmlns=\"http://www.w3.org/2000/svg\" height=\"24px\" viewBox=\"0 -960 960 960\">\n",
              "    <path d=\"M120-120v-720h720v720H120Zm60-500h600v-160H180v160Zm220 220h160v-160H400v160Zm0 220h160v-160H400v160ZM180-400h160v-160H180v160Zm440 0h160v-160H620v160ZM180-180h160v-160H180v160Zm440 0h160v-160H620v160Z\"/>\n",
              "  </svg>\n",
              "    </button>\n",
              "\n",
              "  <style>\n",
              "    .colab-df-container {\n",
              "      display:flex;\n",
              "      gap: 12px;\n",
              "    }\n",
              "\n",
              "    .colab-df-convert {\n",
              "      background-color: #E8F0FE;\n",
              "      border: none;\n",
              "      border-radius: 50%;\n",
              "      cursor: pointer;\n",
              "      display: none;\n",
              "      fill: #1967D2;\n",
              "      height: 32px;\n",
              "      padding: 0 0 0 0;\n",
              "      width: 32px;\n",
              "    }\n",
              "\n",
              "    .colab-df-convert:hover {\n",
              "      background-color: #E2EBFA;\n",
              "      box-shadow: 0px 1px 2px rgba(60, 64, 67, 0.3), 0px 1px 3px 1px rgba(60, 64, 67, 0.15);\n",
              "      fill: #174EA6;\n",
              "    }\n",
              "\n",
              "    .colab-df-buttons div {\n",
              "      margin-bottom: 4px;\n",
              "    }\n",
              "\n",
              "    [theme=dark] .colab-df-convert {\n",
              "      background-color: #3B4455;\n",
              "      fill: #D2E3FC;\n",
              "    }\n",
              "\n",
              "    [theme=dark] .colab-df-convert:hover {\n",
              "      background-color: #434B5C;\n",
              "      box-shadow: 0px 1px 3px 1px rgba(0, 0, 0, 0.15);\n",
              "      filter: drop-shadow(0px 1px 2px rgba(0, 0, 0, 0.3));\n",
              "      fill: #FFFFFF;\n",
              "    }\n",
              "  </style>\n",
              "\n",
              "    <script>\n",
              "      const buttonEl =\n",
              "        document.querySelector('#df-fec6f53a-6792-487f-8432-3d979ca111cc button.colab-df-convert');\n",
              "      buttonEl.style.display =\n",
              "        google.colab.kernel.accessAllowed ? 'block' : 'none';\n",
              "\n",
              "      async function convertToInteractive(key) {\n",
              "        const element = document.querySelector('#df-fec6f53a-6792-487f-8432-3d979ca111cc');\n",
              "        const dataTable =\n",
              "          await google.colab.kernel.invokeFunction('convertToInteractive',\n",
              "                                                    [key], {});\n",
              "        if (!dataTable) return;\n",
              "\n",
              "        const docLinkHtml = 'Like what you see? Visit the ' +\n",
              "          '<a target=\"_blank\" href=https://colab.research.google.com/notebooks/data_table.ipynb>data table notebook</a>'\n",
              "          + ' to learn more about interactive tables.';\n",
              "        element.innerHTML = '';\n",
              "        dataTable['output_type'] = 'display_data';\n",
              "        await google.colab.output.renderOutput(dataTable, element);\n",
              "        const docLink = document.createElement('div');\n",
              "        docLink.innerHTML = docLinkHtml;\n",
              "        element.appendChild(docLink);\n",
              "      }\n",
              "    </script>\n",
              "  </div>\n",
              "\n",
              "\n",
              "<div id=\"df-5ddb15e8-f149-4109-a58a-dcaac810a963\">\n",
              "  <button class=\"colab-df-quickchart\" onclick=\"quickchart('df-5ddb15e8-f149-4109-a58a-dcaac810a963')\"\n",
              "            title=\"Suggest charts.\"\n",
              "            style=\"display:none;\">\n",
              "\n",
              "<svg xmlns=\"http://www.w3.org/2000/svg\" height=\"24px\"viewBox=\"0 0 24 24\"\n",
              "     width=\"24px\">\n",
              "    <g>\n",
              "        <path d=\"M19 3H5c-1.1 0-2 .9-2 2v14c0 1.1.9 2 2 2h14c1.1 0 2-.9 2-2V5c0-1.1-.9-2-2-2zM9 17H7v-7h2v7zm4 0h-2V7h2v10zm4 0h-2v-4h2v4z\"/>\n",
              "    </g>\n",
              "</svg>\n",
              "  </button>\n",
              "\n",
              "<style>\n",
              "  .colab-df-quickchart {\n",
              "    background-color: #E8F0FE;\n",
              "    border: none;\n",
              "    border-radius: 50%;\n",
              "    cursor: pointer;\n",
              "    display: none;\n",
              "    fill: #1967D2;\n",
              "    height: 32px;\n",
              "    padding: 0 0 0 0;\n",
              "    width: 32px;\n",
              "  }\n",
              "\n",
              "  .colab-df-quickchart:hover {\n",
              "    background-color: #E2EBFA;\n",
              "    box-shadow: 0px 1px 2px rgba(60, 64, 67, 0.3), 0px 1px 3px 1px rgba(60, 64, 67, 0.15);\n",
              "    fill: #174EA6;\n",
              "  }\n",
              "\n",
              "  [theme=dark] .colab-df-quickchart {\n",
              "    background-color: #3B4455;\n",
              "    fill: #D2E3FC;\n",
              "  }\n",
              "\n",
              "  [theme=dark] .colab-df-quickchart:hover {\n",
              "    background-color: #434B5C;\n",
              "    box-shadow: 0px 1px 3px 1px rgba(0, 0, 0, 0.15);\n",
              "    filter: drop-shadow(0px 1px 2px rgba(0, 0, 0, 0.3));\n",
              "    fill: #FFFFFF;\n",
              "  }\n",
              "</style>\n",
              "\n",
              "  <script>\n",
              "    async function quickchart(key) {\n",
              "      const charts = await google.colab.kernel.invokeFunction(\n",
              "          'suggestCharts', [key], {});\n",
              "    }\n",
              "    (() => {\n",
              "      let quickchartButtonEl =\n",
              "        document.querySelector('#df-5ddb15e8-f149-4109-a58a-dcaac810a963 button');\n",
              "      quickchartButtonEl.style.display =\n",
              "        google.colab.kernel.accessAllowed ? 'block' : 'none';\n",
              "    })();\n",
              "  </script>\n",
              "</div>\n",
              "    </div>\n",
              "  </div>\n"
            ]
          },
          "metadata": {},
          "execution_count": 4
        }
      ]
    },
    {
      "cell_type": "markdown",
      "source": [
        "#### A lot of rows and columns!\n",
        "\n",
        "I will focus on households that have \"been turned down for credit or feared being denied credit in the past 5 years.\" These households are identified in the **TURNFEAR** column."
      ],
      "metadata": {
        "id": "M7vyr1X7eFqm"
      }
    },
    {
      "cell_type": "code",
      "source": [
        "df[\"TURNFEAR\"].head(10)"
      ],
      "metadata": {
        "colab": {
          "base_uri": "https://localhost:8080/"
        },
        "id": "DzNOuK2Fdvl2",
        "outputId": "c1384875-c39d-48ad-96f7-9fe328a2480f"
      },
      "execution_count": 5,
      "outputs": [
        {
          "output_type": "execute_result",
          "data": {
            "text/plain": [
              "0    0\n",
              "1    0\n",
              "2    0\n",
              "3    0\n",
              "4    0\n",
              "5    1\n",
              "6    1\n",
              "7    1\n",
              "8    1\n",
              "9    1\n",
              "Name: TURNFEAR, dtype: int64"
            ]
          },
          "metadata": {},
          "execution_count": 5
        }
      ]
    },
    {
      "cell_type": "code",
      "source": [
        "mask = df[\"TURNFEAR\"]==1\n",
        "df_fear = df[mask]\n",
        "print(\"df_fear shape:\", df_fear.shape)\n",
        "df_fear.head()"
      ],
      "metadata": {
        "colab": {
          "base_uri": "https://localhost:8080/",
          "height": 253
        },
        "id": "Leae6gT9e2Zl",
        "outputId": "ad7e4e71-9197-4ad4-d59b-c5059f5cc7a9"
      },
      "execution_count": 6,
      "outputs": [
        {
          "output_type": "stream",
          "name": "stdout",
          "text": [
            "df_fear shape: (4623, 351)\n"
          ]
        },
        {
          "output_type": "execute_result",
          "data": {
            "text/plain": [
              "   YY1  Y1          WGT  HHSEX  AGE  AGECL  EDUC  EDCL  MARRIED  KIDS  ...  \\\n",
              "5    2  21  3790.476607      1   50      3     8     2        1     3  ...   \n",
              "6    2  22  3798.868505      1   50      3     8     2        1     3  ...   \n",
              "7    2  23  3799.468393      1   50      3     8     2        1     3  ...   \n",
              "8    2  24  3788.076005      1   50      3     8     2        1     3  ...   \n",
              "9    2  25  3793.066589      1   50      3     8     2        1     3  ...   \n",
              "\n",
              "   NWCAT  INCCAT  ASSETCAT  NINCCAT  NINC2CAT  NWPCTLECAT  INCPCTLECAT  \\\n",
              "5      1       2         1        2         1           1            4   \n",
              "6      1       2         1        2         1           1            4   \n",
              "7      1       2         1        2         1           1            4   \n",
              "8      1       2         1        2         1           1            4   \n",
              "9      1       2         1        2         1           1            4   \n",
              "\n",
              "   NINCPCTLECAT  INCQRTCAT  NINCQRTCAT  \n",
              "5             4          2           2  \n",
              "6             3          2           2  \n",
              "7             4          2           2  \n",
              "8             4          2           2  \n",
              "9             4          2           2  \n",
              "\n",
              "[5 rows x 351 columns]"
            ],
            "text/html": [
              "\n",
              "  <div id=\"df-b784372e-f05b-46da-8fde-3dcab146fcca\" class=\"colab-df-container\">\n",
              "    <div>\n",
              "<style scoped>\n",
              "    .dataframe tbody tr th:only-of-type {\n",
              "        vertical-align: middle;\n",
              "    }\n",
              "\n",
              "    .dataframe tbody tr th {\n",
              "        vertical-align: top;\n",
              "    }\n",
              "\n",
              "    .dataframe thead th {\n",
              "        text-align: right;\n",
              "    }\n",
              "</style>\n",
              "<table border=\"1\" class=\"dataframe\">\n",
              "  <thead>\n",
              "    <tr style=\"text-align: right;\">\n",
              "      <th></th>\n",
              "      <th>YY1</th>\n",
              "      <th>Y1</th>\n",
              "      <th>WGT</th>\n",
              "      <th>HHSEX</th>\n",
              "      <th>AGE</th>\n",
              "      <th>AGECL</th>\n",
              "      <th>EDUC</th>\n",
              "      <th>EDCL</th>\n",
              "      <th>MARRIED</th>\n",
              "      <th>KIDS</th>\n",
              "      <th>...</th>\n",
              "      <th>NWCAT</th>\n",
              "      <th>INCCAT</th>\n",
              "      <th>ASSETCAT</th>\n",
              "      <th>NINCCAT</th>\n",
              "      <th>NINC2CAT</th>\n",
              "      <th>NWPCTLECAT</th>\n",
              "      <th>INCPCTLECAT</th>\n",
              "      <th>NINCPCTLECAT</th>\n",
              "      <th>INCQRTCAT</th>\n",
              "      <th>NINCQRTCAT</th>\n",
              "    </tr>\n",
              "  </thead>\n",
              "  <tbody>\n",
              "    <tr>\n",
              "      <th>5</th>\n",
              "      <td>2</td>\n",
              "      <td>21</td>\n",
              "      <td>3790.476607</td>\n",
              "      <td>1</td>\n",
              "      <td>50</td>\n",
              "      <td>3</td>\n",
              "      <td>8</td>\n",
              "      <td>2</td>\n",
              "      <td>1</td>\n",
              "      <td>3</td>\n",
              "      <td>...</td>\n",
              "      <td>1</td>\n",
              "      <td>2</td>\n",
              "      <td>1</td>\n",
              "      <td>2</td>\n",
              "      <td>1</td>\n",
              "      <td>1</td>\n",
              "      <td>4</td>\n",
              "      <td>4</td>\n",
              "      <td>2</td>\n",
              "      <td>2</td>\n",
              "    </tr>\n",
              "    <tr>\n",
              "      <th>6</th>\n",
              "      <td>2</td>\n",
              "      <td>22</td>\n",
              "      <td>3798.868505</td>\n",
              "      <td>1</td>\n",
              "      <td>50</td>\n",
              "      <td>3</td>\n",
              "      <td>8</td>\n",
              "      <td>2</td>\n",
              "      <td>1</td>\n",
              "      <td>3</td>\n",
              "      <td>...</td>\n",
              "      <td>1</td>\n",
              "      <td>2</td>\n",
              "      <td>1</td>\n",
              "      <td>2</td>\n",
              "      <td>1</td>\n",
              "      <td>1</td>\n",
              "      <td>4</td>\n",
              "      <td>3</td>\n",
              "      <td>2</td>\n",
              "      <td>2</td>\n",
              "    </tr>\n",
              "    <tr>\n",
              "      <th>7</th>\n",
              "      <td>2</td>\n",
              "      <td>23</td>\n",
              "      <td>3799.468393</td>\n",
              "      <td>1</td>\n",
              "      <td>50</td>\n",
              "      <td>3</td>\n",
              "      <td>8</td>\n",
              "      <td>2</td>\n",
              "      <td>1</td>\n",
              "      <td>3</td>\n",
              "      <td>...</td>\n",
              "      <td>1</td>\n",
              "      <td>2</td>\n",
              "      <td>1</td>\n",
              "      <td>2</td>\n",
              "      <td>1</td>\n",
              "      <td>1</td>\n",
              "      <td>4</td>\n",
              "      <td>4</td>\n",
              "      <td>2</td>\n",
              "      <td>2</td>\n",
              "    </tr>\n",
              "    <tr>\n",
              "      <th>8</th>\n",
              "      <td>2</td>\n",
              "      <td>24</td>\n",
              "      <td>3788.076005</td>\n",
              "      <td>1</td>\n",
              "      <td>50</td>\n",
              "      <td>3</td>\n",
              "      <td>8</td>\n",
              "      <td>2</td>\n",
              "      <td>1</td>\n",
              "      <td>3</td>\n",
              "      <td>...</td>\n",
              "      <td>1</td>\n",
              "      <td>2</td>\n",
              "      <td>1</td>\n",
              "      <td>2</td>\n",
              "      <td>1</td>\n",
              "      <td>1</td>\n",
              "      <td>4</td>\n",
              "      <td>4</td>\n",
              "      <td>2</td>\n",
              "      <td>2</td>\n",
              "    </tr>\n",
              "    <tr>\n",
              "      <th>9</th>\n",
              "      <td>2</td>\n",
              "      <td>25</td>\n",
              "      <td>3793.066589</td>\n",
              "      <td>1</td>\n",
              "      <td>50</td>\n",
              "      <td>3</td>\n",
              "      <td>8</td>\n",
              "      <td>2</td>\n",
              "      <td>1</td>\n",
              "      <td>3</td>\n",
              "      <td>...</td>\n",
              "      <td>1</td>\n",
              "      <td>2</td>\n",
              "      <td>1</td>\n",
              "      <td>2</td>\n",
              "      <td>1</td>\n",
              "      <td>1</td>\n",
              "      <td>4</td>\n",
              "      <td>4</td>\n",
              "      <td>2</td>\n",
              "      <td>2</td>\n",
              "    </tr>\n",
              "  </tbody>\n",
              "</table>\n",
              "<p>5 rows × 351 columns</p>\n",
              "</div>\n",
              "    <div class=\"colab-df-buttons\">\n",
              "\n",
              "  <div class=\"colab-df-container\">\n",
              "    <button class=\"colab-df-convert\" onclick=\"convertToInteractive('df-b784372e-f05b-46da-8fde-3dcab146fcca')\"\n",
              "            title=\"Convert this dataframe to an interactive table.\"\n",
              "            style=\"display:none;\">\n",
              "\n",
              "  <svg xmlns=\"http://www.w3.org/2000/svg\" height=\"24px\" viewBox=\"0 -960 960 960\">\n",
              "    <path d=\"M120-120v-720h720v720H120Zm60-500h600v-160H180v160Zm220 220h160v-160H400v160Zm0 220h160v-160H400v160ZM180-400h160v-160H180v160Zm440 0h160v-160H620v160ZM180-180h160v-160H180v160Zm440 0h160v-160H620v160Z\"/>\n",
              "  </svg>\n",
              "    </button>\n",
              "\n",
              "  <style>\n",
              "    .colab-df-container {\n",
              "      display:flex;\n",
              "      gap: 12px;\n",
              "    }\n",
              "\n",
              "    .colab-df-convert {\n",
              "      background-color: #E8F0FE;\n",
              "      border: none;\n",
              "      border-radius: 50%;\n",
              "      cursor: pointer;\n",
              "      display: none;\n",
              "      fill: #1967D2;\n",
              "      height: 32px;\n",
              "      padding: 0 0 0 0;\n",
              "      width: 32px;\n",
              "    }\n",
              "\n",
              "    .colab-df-convert:hover {\n",
              "      background-color: #E2EBFA;\n",
              "      box-shadow: 0px 1px 2px rgba(60, 64, 67, 0.3), 0px 1px 3px 1px rgba(60, 64, 67, 0.15);\n",
              "      fill: #174EA6;\n",
              "    }\n",
              "\n",
              "    .colab-df-buttons div {\n",
              "      margin-bottom: 4px;\n",
              "    }\n",
              "\n",
              "    [theme=dark] .colab-df-convert {\n",
              "      background-color: #3B4455;\n",
              "      fill: #D2E3FC;\n",
              "    }\n",
              "\n",
              "    [theme=dark] .colab-df-convert:hover {\n",
              "      background-color: #434B5C;\n",
              "      box-shadow: 0px 1px 3px 1px rgba(0, 0, 0, 0.15);\n",
              "      filter: drop-shadow(0px 1px 2px rgba(0, 0, 0, 0.3));\n",
              "      fill: #FFFFFF;\n",
              "    }\n",
              "  </style>\n",
              "\n",
              "    <script>\n",
              "      const buttonEl =\n",
              "        document.querySelector('#df-b784372e-f05b-46da-8fde-3dcab146fcca button.colab-df-convert');\n",
              "      buttonEl.style.display =\n",
              "        google.colab.kernel.accessAllowed ? 'block' : 'none';\n",
              "\n",
              "      async function convertToInteractive(key) {\n",
              "        const element = document.querySelector('#df-b784372e-f05b-46da-8fde-3dcab146fcca');\n",
              "        const dataTable =\n",
              "          await google.colab.kernel.invokeFunction('convertToInteractive',\n",
              "                                                    [key], {});\n",
              "        if (!dataTable) return;\n",
              "\n",
              "        const docLinkHtml = 'Like what you see? Visit the ' +\n",
              "          '<a target=\"_blank\" href=https://colab.research.google.com/notebooks/data_table.ipynb>data table notebook</a>'\n",
              "          + ' to learn more about interactive tables.';\n",
              "        element.innerHTML = '';\n",
              "        dataTable['output_type'] = 'display_data';\n",
              "        await google.colab.output.renderOutput(dataTable, element);\n",
              "        const docLink = document.createElement('div');\n",
              "        docLink.innerHTML = docLinkHtml;\n",
              "        element.appendChild(docLink);\n",
              "      }\n",
              "    </script>\n",
              "  </div>\n",
              "\n",
              "\n",
              "<div id=\"df-9dd70ff9-62e3-4f23-a7be-82804b75a915\">\n",
              "  <button class=\"colab-df-quickchart\" onclick=\"quickchart('df-9dd70ff9-62e3-4f23-a7be-82804b75a915')\"\n",
              "            title=\"Suggest charts.\"\n",
              "            style=\"display:none;\">\n",
              "\n",
              "<svg xmlns=\"http://www.w3.org/2000/svg\" height=\"24px\"viewBox=\"0 0 24 24\"\n",
              "     width=\"24px\">\n",
              "    <g>\n",
              "        <path d=\"M19 3H5c-1.1 0-2 .9-2 2v14c0 1.1.9 2 2 2h14c1.1 0 2-.9 2-2V5c0-1.1-.9-2-2-2zM9 17H7v-7h2v7zm4 0h-2V7h2v10zm4 0h-2v-4h2v4z\"/>\n",
              "    </g>\n",
              "</svg>\n",
              "  </button>\n",
              "\n",
              "<style>\n",
              "  .colab-df-quickchart {\n",
              "    background-color: #E8F0FE;\n",
              "    border: none;\n",
              "    border-radius: 50%;\n",
              "    cursor: pointer;\n",
              "    display: none;\n",
              "    fill: #1967D2;\n",
              "    height: 32px;\n",
              "    padding: 0 0 0 0;\n",
              "    width: 32px;\n",
              "  }\n",
              "\n",
              "  .colab-df-quickchart:hover {\n",
              "    background-color: #E2EBFA;\n",
              "    box-shadow: 0px 1px 2px rgba(60, 64, 67, 0.3), 0px 1px 3px 1px rgba(60, 64, 67, 0.15);\n",
              "    fill: #174EA6;\n",
              "  }\n",
              "\n",
              "  [theme=dark] .colab-df-quickchart {\n",
              "    background-color: #3B4455;\n",
              "    fill: #D2E3FC;\n",
              "  }\n",
              "\n",
              "  [theme=dark] .colab-df-quickchart:hover {\n",
              "    background-color: #434B5C;\n",
              "    box-shadow: 0px 1px 3px 1px rgba(0, 0, 0, 0.15);\n",
              "    filter: drop-shadow(0px 1px 2px rgba(0, 0, 0, 0.3));\n",
              "    fill: #FFFFFF;\n",
              "  }\n",
              "</style>\n",
              "\n",
              "  <script>\n",
              "    async function quickchart(key) {\n",
              "      const charts = await google.colab.kernel.invokeFunction(\n",
              "          'suggestCharts', [key], {});\n",
              "    }\n",
              "    (() => {\n",
              "      let quickchartButtonEl =\n",
              "        document.querySelector('#df-9dd70ff9-62e3-4f23-a7be-82804b75a915 button');\n",
              "      quickchartButtonEl.style.display =\n",
              "        google.colab.kernel.accessAllowed ? 'block' : 'none';\n",
              "    })();\n",
              "  </script>\n",
              "</div>\n",
              "    </div>\n",
              "  </div>\n"
            ]
          },
          "metadata": {},
          "execution_count": 6
        }
      ]
    },
    {
      "cell_type": "markdown",
      "source": [
        "# Explore"
      ],
      "metadata": {
        "id": "9hyS0dMbe90f"
      }
    },
    {
      "cell_type": "markdown",
      "source": [
        "### Age"
      ],
      "metadata": {
        "id": "1v3vBe8NfHeM"
      }
    },
    {
      "cell_type": "code",
      "source": [
        "age_groups = df_fear[\"AGECL\"].unique()\n",
        "print(\"Age Groups:\", age_groups)"
      ],
      "metadata": {
        "colab": {
          "base_uri": "https://localhost:8080/"
        },
        "id": "t9n1_3Pse5Ty",
        "outputId": "9b7cd8dc-5e14-4776-ce09-8431b1c2b511"
      },
      "execution_count": 7,
      "outputs": [
        {
          "output_type": "stream",
          "name": "stdout",
          "text": [
            "Age Groups: [3 5 1 2 4 6]\n"
          ]
        }
      ]
    },
    {
      "cell_type": "markdown",
      "source": [
        "Categorical data\n",
        "1(<35), 2(35-44), 3(45-54), 4(55-64), 5(65-74) and 6(>74)"
      ],
      "metadata": {
        "id": "mGklQeKdfV9e"
      }
    },
    {
      "cell_type": "code",
      "source": [
        "agecl_dict = {\n",
        "    1: \"Under 35\",\n",
        "    2: \"35-44\",\n",
        "    3: \"45-54\",\n",
        "    4: \"55-64\",\n",
        "    5: \"65-74\",\n",
        "    6: \"75 or Older\",\n",
        "}\n",
        "age_cl =df_fear['AGECL'].replace(agecl_dict)\n",
        "age_cl.head(10)"
      ],
      "metadata": {
        "colab": {
          "base_uri": "https://localhost:8080/"
        },
        "id": "i9Th4Ez5fOPe",
        "outputId": "8107a624-339f-42e3-a538-f9d8db661526"
      },
      "execution_count": 8,
      "outputs": [
        {
          "output_type": "execute_result",
          "data": {
            "text/plain": [
              "5      45-54\n",
              "6      45-54\n",
              "7      45-54\n",
              "8      45-54\n",
              "9      45-54\n",
              "110    65-74\n",
              "111    65-74\n",
              "112    65-74\n",
              "113    65-74\n",
              "114    65-74\n",
              "Name: AGECL, dtype: object"
            ]
          },
          "metadata": {},
          "execution_count": 8
        }
      ]
    },
    {
      "cell_type": "code",
      "source": [
        "age_cl_value_counts = age_cl.value_counts()\n",
        "age_cl_value_counts.plot(kind='bar',xlabel=\"Age Group\",ylabel=\"Frequency (count)\",title=\"Credit Fearful: Age Groups\");"
      ],
      "metadata": {
        "colab": {
          "base_uri": "https://localhost:8080/",
          "height": 536
        },
        "id": "JqxHYMRIgARt",
        "outputId": "11cb8c1c-0fb9-4aa9-e6e5-b22d84ac3e80"
      },
      "execution_count": 9,
      "outputs": [
        {
          "output_type": "display_data",
          "data": {
            "text/plain": [
              "<Figure size 640x480 with 1 Axes>"
            ],
            "image/png": "[encoded data removed]"
          },
          "metadata": {}
        }
      ]
    },
    {
      "cell_type": "code",
      "source": [
        "df_fear['AGE'].nunique()"
      ],
      "metadata": {
        "colab": {
          "base_uri": "https://localhost:8080/"
        },
        "id": "SARf0NlEgHZg",
        "outputId": "eb94b13f-e6c6-4880-c96c-bc427395d619"
      },
      "execution_count": 10,
      "outputs": [
        {
          "output_type": "execute_result",
          "data": {
            "text/plain": [
              "67"
            ]
          },
          "metadata": {},
          "execution_count": 10
        }
      ]
    },
    {
      "cell_type": "code",
      "source": [
        "# Plot histogram of \"AGE\"\n",
        "df_fear['AGE'].hist(bins=10);"
      ],
      "metadata": {
        "colab": {
          "base_uri": "https://localhost:8080/",
          "height": 430
        },
        "id": "F4kvsIcZgXgg",
        "outputId": "a093b73f-50b0-497b-8f89-67df9d09e95c"
      },
      "execution_count": 11,
      "outputs": [
        {
          "output_type": "display_data",
          "data": {
            "text/plain": [
              "<Figure size 640x480 with 1 Axes>"
            ],
            "image/png": "[encoded data removed]"
          },
          "metadata": {}
        }
      ]
    },
    {
      "cell_type": "markdown",
      "source": [
        "### Race"
      ],
      "metadata": {
        "id": "zwr883ECgirR"
      }
    },
    {
      "cell_type": "code",
      "source": [
        " df_fear['RACE'].unique()"
      ],
      "metadata": {
        "colab": {
          "base_uri": "https://localhost:8080/"
        },
        "id": "BNpTjj3ygYxr",
        "outputId": "e4038655-0f2f-4608-e720-a478b6197772"
      },
      "execution_count": 12,
      "outputs": [
        {
          "output_type": "execute_result",
          "data": {
            "text/plain": [
              "array([1, 3, 2, 5])"
            ]
          },
          "metadata": {},
          "execution_count": 12
        }
      ]
    },
    {
      "cell_type": "markdown",
      "source": [
        "1 = white non-Hispanic\n",
        "\n",
        "2 = black / African American\n",
        "\n",
        "3 = Hispanic\n",
        "\n",
        "5 = Other"
      ],
      "metadata": {
        "id": "AHQHqnlphAkC"
      }
    },
    {
      "cell_type": "code",
      "source": [
        "race_dict = {\n",
        "    1: \"White/Non-Hispanic\",\n",
        "    2: \"Black/African-American\",\n",
        "    3: \"Hispanic\",\n",
        "    5: \"Other\",\n",
        "}\n",
        "race = df_fear['RACE'].replace(race_dict)\n",
        "race_value_counts = race.value_counts(normalize=True)\n",
        "print(race_value_counts)\n",
        "# Create bar chart of race_value_counts\n",
        "race_value_counts.plot(kind='barh')\n",
        "plt.xlim((0, 1))\n",
        "plt.xlabel(\"Frequency (%)\")\n",
        "plt.ylabel(\"Race\")\n",
        "plt.title(\"Credit Fearful: Racial Groups\");"
      ],
      "metadata": {
        "colab": {
          "base_uri": "https://localhost:8080/",
          "height": 559
        },
        "id": "nuMmEBz3hMxp",
        "outputId": "11091f67-4937-4822-d7b3-9e40b03eec34"
      },
      "execution_count": 13,
      "outputs": [
        {
          "output_type": "stream",
          "name": "stdout",
          "text": [
            "White/Non-Hispanic        0.539477\n",
            "Black/African-American    0.237508\n",
            "Hispanic                  0.162232\n",
            "Other                     0.060783\n",
            "Name: RACE, dtype: float64\n"
          ]
        },
        {
          "output_type": "display_data",
          "data": {
            "text/plain": [
              "<Figure size 640x480 with 1 Axes>"
            ],
            "image/png": "[encoded data removed]"
          },
          "metadata": {}
        }
      ]
    },
    {
      "cell_type": "code",
      "source": [
        "# Try the entire dataset\n",
        "race =df['RACE'].replace(race_dict)\n",
        "race_value_counts = race.value_counts(normalize=True)\n",
        "# Create bar chart of race_value_counts\n",
        "race_value_counts.plot(kind='barh')\n",
        "plt.xlim((0, 1))\n",
        "plt.xlabel(\"Frequency (%)\")\n",
        "plt.ylabel(\"Race\")\n",
        "plt.title(\"SCF Respondents: Racial Groups\");"
      ],
      "metadata": {
        "colab": {
          "base_uri": "https://localhost:8080/",
          "height": 472
        },
        "id": "XmWuOSi4hSjy",
        "outputId": "8fc4880e-2474-4183-a144-7cbb4c5be084"
      },
      "execution_count": 14,
      "outputs": [
        {
          "output_type": "display_data",
          "data": {
            "text/plain": [
              "<Figure size 640x480 with 1 Axes>"
            ],
            "image/png": "[encoded data removed]"
          },
          "metadata": {}
        }
      ]
    },
    {
      "cell_type": "markdown",
      "source": [
        "### Income"
      ],
      "metadata": {
        "id": "18rWPMxWiNiu"
      }
    },
    {
      "cell_type": "code",
      "source": [
        "df_fear[\"INCCAT\"].unique()"
      ],
      "metadata": {
        "colab": {
          "base_uri": "https://localhost:8080/"
        },
        "id": "1ERLxLaEh7Zw",
        "outputId": "7da3ef84-f3e4-471c-af5d-8ea7bd11d888"
      },
      "execution_count": 15,
      "outputs": [
        {
          "output_type": "execute_result",
          "data": {
            "text/plain": [
              "array([2, 1, 3, 6, 4, 5])"
            ]
          },
          "metadata": {},
          "execution_count": 15
        }
      ]
    },
    {
      "cell_type": "markdown",
      "source": [
        "1 = 0-20\n",
        "\n",
        "2 = 21-39.9\n",
        "\n",
        "3 = 40-59.9\n",
        "\n",
        "4 = 60-79.9\n",
        "\n",
        "5 = 80-89.9\n",
        "\n",
        "6 = 90-100"
      ],
      "metadata": {
        "id": "7mANQlMwituQ"
      }
    },
    {
      "cell_type": "code",
      "source": [
        "inccat_dict = {\n",
        "    1: \"0-20\",\n",
        "    2: \"21-39.9\",\n",
        "    3: \"40-59.9\",\n",
        "    4: \"60-79.9\",\n",
        "    5: \"80-89.9\",\n",
        "    6: \"90-100\",\n",
        "}\n",
        "\n",
        "df_inccat = (\n",
        "      df['INCCAT'].replace(inccat_dict)\n",
        "      .groupby(df['TURNFEAR'])\n",
        "      .value_counts(normalize=True)\n",
        "      .rename('frequency')\n",
        "      .to_frame()\n",
        "      .reset_index()\n",
        ")\n",
        "\n",
        "df_inccat.head(10)"
      ],
      "metadata": {
        "colab": {
          "base_uri": "https://localhost:8080/",
          "height": 363
        },
        "id": "hKzC5MRJieCN",
        "outputId": "162572c5-2a8f-4a8c-b8d3-55b0884dc68a"
      },
      "execution_count": 16,
      "outputs": [
        {
          "output_type": "execute_result",
          "data": {
            "text/plain": [
              "   TURNFEAR   INCCAT  frequency\n",
              "0         0   90-100   0.297296\n",
              "1         0  60-79.9   0.174841\n",
              "2         0  40-59.9   0.143146\n",
              "3         0     0-20   0.140343\n",
              "4         0  21-39.9   0.135933\n",
              "5         0  80-89.9   0.108441\n",
              "6         1     0-20   0.288125\n",
              "7         1  21-39.9   0.256327\n",
              "8         1  40-59.9   0.228856\n",
              "9         1  60-79.9   0.132598"
            ],
            "text/html": [
              "\n",
              "  <div id=\"df-296eee61-755c-43a3-84c9-ed2fa868a1c1\" class=\"colab-df-container\">\n",
              "    <div>\n",
              "<style scoped>\n",
              "    .dataframe tbody tr th:only-of-type {\n",
              "        vertical-align: middle;\n",
              "    }\n",
              "\n",
              "    .dataframe tbody tr th {\n",
              "        vertical-align: top;\n",
              "    }\n",
              "\n",
              "    .dataframe thead th {\n",
              "        text-align: right;\n",
              "    }\n",
              "</style>\n",
              "<table border=\"1\" class=\"dataframe\">\n",
              "  <thead>\n",
              "    <tr style=\"text-align: right;\">\n",
              "      <th></th>\n",
              "      <th>TURNFEAR</th>\n",
              "      <th>INCCAT</th>\n",
              "      <th>frequency</th>\n",
              "    </tr>\n",
              "  </thead>\n",
              "  <tbody>\n",
              "    <tr>\n",
              "      <th>0</th>\n",
              "      <td>0</td>\n",
              "      <td>90-100</td>\n",
              "      <td>0.297296</td>\n",
              "    </tr>\n",
              "    <tr>\n",
              "      <th>1</th>\n",
              "      <td>0</td>\n",
              "      <td>60-79.9</td>\n",
              "      <td>0.174841</td>\n",
              "    </tr>\n",
              "    <tr>\n",
              "      <th>2</th>\n",
              "      <td>0</td>\n",
              "      <td>40-59.9</td>\n",
              "      <td>0.143146</td>\n",
              "    </tr>\n",
              "    <tr>\n",
              "      <th>3</th>\n",
              "      <td>0</td>\n",
              "      <td>0-20</td>\n",
              "      <td>0.140343</td>\n",
              "    </tr>\n",
              "    <tr>\n",
              "      <th>4</th>\n",
              "      <td>0</td>\n",
              "      <td>21-39.9</td>\n",
              "      <td>0.135933</td>\n",
              "    </tr>\n",
              "    <tr>\n",
              "      <th>5</th>\n",
              "      <td>0</td>\n",
              "      <td>80-89.9</td>\n",
              "      <td>0.108441</td>\n",
              "    </tr>\n",
              "    <tr>\n",
              "      <th>6</th>\n",
              "      <td>1</td>\n",
              "      <td>0-20</td>\n",
              "      <td>0.288125</td>\n",
              "    </tr>\n",
              "    <tr>\n",
              "      <th>7</th>\n",
              "      <td>1</td>\n",
              "      <td>21-39.9</td>\n",
              "      <td>0.256327</td>\n",
              "    </tr>\n",
              "    <tr>\n",
              "      <th>8</th>\n",
              "      <td>1</td>\n",
              "      <td>40-59.9</td>\n",
              "      <td>0.228856</td>\n",
              "    </tr>\n",
              "    <tr>\n",
              "      <th>9</th>\n",
              "      <td>1</td>\n",
              "      <td>60-79.9</td>\n",
              "      <td>0.132598</td>\n",
              "    </tr>\n",
              "  </tbody>\n",
              "</table>\n",
              "</div>\n",
              "    <div class=\"colab-df-buttons\">\n",
              "\n",
              "  <div class=\"colab-df-container\">\n",
              "    <button class=\"colab-df-convert\" onclick=\"convertToInteractive('df-296eee61-755c-43a3-84c9-ed2fa868a1c1')\"\n",
              "            title=\"Convert this dataframe to an interactive table.\"\n",
              "            style=\"display:none;\">\n",
              "\n",
              "  <svg xmlns=\"http://www.w3.org/2000/svg\" height=\"24px\" viewBox=\"0 -960 960 960\">\n",
              "    <path d=\"M120-120v-720h720v720H120Zm60-500h600v-160H180v160Zm220 220h160v-160H400v160Zm0 220h160v-160H400v160ZM180-400h160v-160H180v160Zm440 0h160v-160H620v160ZM180-180h160v-160H180v160Zm440 0h160v-160H620v160Z\"/>\n",
              "  </svg>\n",
              "    </button>\n",
              "\n",
              "  <style>\n",
              "    .colab-df-container {\n",
              "      display:flex;\n",
              "      gap: 12px;\n",
              "    }\n",
              "\n",
              "    .colab-df-convert {\n",
              "      background-color: #E8F0FE;\n",
              "      border: none;\n",
              "      border-radius: 50%;\n",
              "      cursor: pointer;\n",
              "      display: none;\n",
              "      fill: #1967D2;\n",
              "      height: 32px;\n",
              "      padding: 0 0 0 0;\n",
              "      width: 32px;\n",
              "    }\n",
              "\n",
              "    .colab-df-convert:hover {\n",
              "      background-color: #E2EBFA;\n",
              "      box-shadow: 0px 1px 2px rgba(60, 64, 67, 0.3), 0px 1px 3px 1px rgba(60, 64, 67, 0.15);\n",
              "      fill: #174EA6;\n",
              "    }\n",
              "\n",
              "    .colab-df-buttons div {\n",
              "      margin-bottom: 4px;\n",
              "    }\n",
              "\n",
              "    [theme=dark] .colab-df-convert {\n",
              "      background-color: #3B4455;\n",
              "      fill: #D2E3FC;\n",
              "    }\n",
              "\n",
              "    [theme=dark] .colab-df-convert:hover {\n",
              "      background-color: #434B5C;\n",
              "      box-shadow: 0px 1px 3px 1px rgba(0, 0, 0, 0.15);\n",
              "      filter: drop-shadow(0px 1px 2px rgba(0, 0, 0, 0.3));\n",
              "      fill: #FFFFFF;\n",
              "    }\n",
              "  </style>\n",
              "\n",
              "    <script>\n",
              "      const buttonEl =\n",
              "        document.querySelector('#df-296eee61-755c-43a3-84c9-ed2fa868a1c1 button.colab-df-convert');\n",
              "      buttonEl.style.display =\n",
              "        google.colab.kernel.accessAllowed ? 'block' : 'none';\n",
              "\n",
              "      async function convertToInteractive(key) {\n",
              "        const element = document.querySelector('#df-296eee61-755c-43a3-84c9-ed2fa868a1c1');\n",
              "        const dataTable =\n",
              "          await google.colab.kernel.invokeFunction('convertToInteractive',\n",
              "                                                    [key], {});\n",
              "        if (!dataTable) return;\n",
              "\n",
              "        const docLinkHtml = 'Like what you see? Visit the ' +\n",
              "          '<a target=\"_blank\" href=https://colab.research.google.com/notebooks/data_table.ipynb>data table notebook</a>'\n",
              "          + ' to learn more about interactive tables.';\n",
              "        element.innerHTML = '';\n",
              "        dataTable['output_type'] = 'display_data';\n",
              "        await google.colab.output.renderOutput(dataTable, element);\n",
              "        const docLink = document.createElement('div');\n",
              "        docLink.innerHTML = docLinkHtml;\n",
              "        element.appendChild(docLink);\n",
              "      }\n",
              "    </script>\n",
              "  </div>\n",
              "\n",
              "\n",
              "<div id=\"df-3fdaf620-a9cc-4728-9ec4-c8393c281584\">\n",
              "  <button class=\"colab-df-quickchart\" onclick=\"quickchart('df-3fdaf620-a9cc-4728-9ec4-c8393c281584')\"\n",
              "            title=\"Suggest charts.\"\n",
              "            style=\"display:none;\">\n",
              "\n",
              "<svg xmlns=\"http://www.w3.org/2000/svg\" height=\"24px\"viewBox=\"0 0 24 24\"\n",
              "     width=\"24px\">\n",
              "    <g>\n",
              "        <path d=\"M19 3H5c-1.1 0-2 .9-2 2v14c0 1.1.9 2 2 2h14c1.1 0 2-.9 2-2V5c0-1.1-.9-2-2-2zM9 17H7v-7h2v7zm4 0h-2V7h2v10zm4 0h-2v-4h2v4z\"/>\n",
              "    </g>\n",
              "</svg>\n",
              "  </button>\n",
              "\n",
              "<style>\n",
              "  .colab-df-quickchart {\n",
              "    background-color: #E8F0FE;\n",
              "    border: none;\n",
              "    border-radius: 50%;\n",
              "    cursor: pointer;\n",
              "    display: none;\n",
              "    fill: #1967D2;\n",
              "    height: 32px;\n",
              "    padding: 0 0 0 0;\n",
              "    width: 32px;\n",
              "  }\n",
              "\n",
              "  .colab-df-quickchart:hover {\n",
              "    background-color: #E2EBFA;\n",
              "    box-shadow: 0px 1px 2px rgba(60, 64, 67, 0.3), 0px 1px 3px 1px rgba(60, 64, 67, 0.15);\n",
              "    fill: #174EA6;\n",
              "  }\n",
              "\n",
              "  [theme=dark] .colab-df-quickchart {\n",
              "    background-color: #3B4455;\n",
              "    fill: #D2E3FC;\n",
              "  }\n",
              "\n",
              "  [theme=dark] .colab-df-quickchart:hover {\n",
              "    background-color: #434B5C;\n",
              "    box-shadow: 0px 1px 3px 1px rgba(0, 0, 0, 0.15);\n",
              "    filter: drop-shadow(0px 1px 2px rgba(0, 0, 0, 0.3));\n",
              "    fill: #FFFFFF;\n",
              "  }\n",
              "</style>\n",
              "\n",
              "  <script>\n",
              "    async function quickchart(key) {\n",
              "      const charts = await google.colab.kernel.invokeFunction(\n",
              "          'suggestCharts', [key], {});\n",
              "    }\n",
              "    (() => {\n",
              "      let quickchartButtonEl =\n",
              "        document.querySelector('#df-3fdaf620-a9cc-4728-9ec4-c8393c281584 button');\n",
              "      quickchartButtonEl.style.display =\n",
              "        google.colab.kernel.accessAllowed ? 'block' : 'none';\n",
              "    })();\n",
              "  </script>\n",
              "</div>\n",
              "    </div>\n",
              "  </div>\n"
            ]
          },
          "metadata": {},
          "execution_count": 16
        }
      ]
    },
    {
      "cell_type": "code",
      "source": [
        "# Create bar chart of `df_inccat`\n",
        "sns.barplot(data=df_inccat,x=\"INCCAT\",y=\"frequency\",order=inccat_dict.values(),hue=\"TURNFEAR\")\n",
        "plt.xlabel(\"Income Category\")\n",
        "plt.ylabel(\"Frequency (%)\")\n",
        "plt.title(\"Income Distribution: Credit Fearful vs. Non-fearful\");"
      ],
      "metadata": {
        "colab": {
          "base_uri": "https://localhost:8080/",
          "height": 472
        },
        "id": "CiK6O4u0i-66",
        "outputId": "c7652380-44b3-4b67-e779-2c25ac2a008a"
      },
      "execution_count": 17,
      "outputs": [
        {
          "output_type": "display_data",
          "data": {
            "text/plain": [
              "<Figure size 640x480 with 1 Axes>"
            ],
            "image/png": "[encoded data removed]"
          },
          "metadata": {}
        }
      ]
    },
    {
      "cell_type": "markdown",
      "source": [
        "Based on all this->  Among the people who responded that they were indeed worried about being approved for credit after having been denied in the past five years, a plurality of the young and low-income had the highest number of respondents."
      ],
      "metadata": {
        "id": "oya2hODxje58"
      }
    },
    {
      "cell_type": "markdown",
      "source": [
        "### Assets"
      ],
      "metadata": {
        "id": "vDZ9v_GZj1Xt"
      }
    },
    {
      "cell_type": "code",
      "source": [
        "#The entire data\n",
        "asset_house_corr = df[\"ASSET\"].corr(df[\"HOUSES\"])\n",
        "print(\"SCF: Asset Houses Correlation:\", asset_house_corr)"
      ],
      "metadata": {
        "colab": {
          "base_uri": "https://localhost:8080/"
        },
        "id": "YbQDtYrZjKFh",
        "outputId": "efe91061-925c-487f-f96a-8ec0b1d98c7a"
      },
      "execution_count": 18,
      "outputs": [
        {
          "output_type": "stream",
          "name": "stdout",
          "text": [
            "SCF: Asset Houses Correlation: 0.5198273544779252\n"
          ]
        }
      ]
    },
    {
      "cell_type": "code",
      "source": [
        "#our subset\n",
        "asset_house_corr = df_fear[\"ASSET\"].corr(df_fear[\"HOUSES\"])\n",
        "print(\"Credit Fearful: Asset Houses Correlation:\", asset_house_corr)"
      ],
      "metadata": {
        "colab": {
          "base_uri": "https://localhost:8080/"
        },
        "id": "CXQtCWn8j69t",
        "outputId": "fe3c6b2c-a404-4635-b08e-7cd87be99d4f"
      },
      "execution_count": 19,
      "outputs": [
        {
          "output_type": "stream",
          "name": "stdout",
          "text": [
            "Credit Fearful: Asset Houses Correlation: 0.583287973597916\n"
          ]
        }
      ]
    },
    {
      "cell_type": "code",
      "source": [
        "cols = [\"ASSET\", \"HOUSES\", \"INCOME\", \"DEBT\", \"EDUC\"]\n",
        "corr =df[cols].corr()\n",
        "corr.style.background_gradient(axis=None)"
      ],
      "metadata": {
        "colab": {
          "base_uri": "https://localhost:8080/",
          "height": 206
        },
        "id": "22slGR62kJIh",
        "outputId": "a1370618-01b8-4e7b-fb95-d73eadd2fb2c"
      },
      "execution_count": 20,
      "outputs": [
        {
          "output_type": "execute_result",
          "data": {
            "text/plain": [
              "<pandas.io.formats.style.Styler at 0x7b3b0a5c9a50>"
            ],
            "text/html": [
              "<style type=\"text/css\">\n",
              "#T_6ac21_row0_col0, #T_6ac21_row1_col1, #T_6ac21_row2_col2, #T_6ac21_row3_col3, #T_6ac21_row4_col4 {\n",
              "  background-color: #023858;\n",
              "  color: #f1f1f1;\n",
              "}\n",
              "#T_6ac21_row0_col1, #T_6ac21_row1_col0 {\n",
              "  background-color: #76aad0;\n",
              "  color: #f1f1f1;\n",
              "}\n",
              "#T_6ac21_row0_col2, #T_6ac21_row2_col0 {\n",
              "  background-color: #4295c3;\n",
              "  color: #f1f1f1;\n",
              "}\n",
              "#T_6ac21_row0_col3, #T_6ac21_row3_col0 {\n",
              "  background-color: #d7d6e9;\n",
              "  color: #000000;\n",
              "}\n",
              "#T_6ac21_row0_col4, #T_6ac21_row2_col3, #T_6ac21_row3_col2, #T_6ac21_row4_col0 {\n",
              "  background-color: #f5eff6;\n",
              "  color: #000000;\n",
              "}\n",
              "#T_6ac21_row1_col2, #T_6ac21_row2_col1 {\n",
              "  background-color: #dad9ea;\n",
              "  color: #000000;\n",
              "}\n",
              "#T_6ac21_row1_col3, #T_6ac21_row3_col1 {\n",
              "  background-color: #d6d6e9;\n",
              "  color: #000000;\n",
              "}\n",
              "#T_6ac21_row1_col4, #T_6ac21_row4_col1 {\n",
              "  background-color: #ede7f2;\n",
              "  color: #000000;\n",
              "}\n",
              "#T_6ac21_row2_col4, #T_6ac21_row4_col2 {\n",
              "  background-color: #fdf5fa;\n",
              "  color: #000000;\n",
              "}\n",
              "#T_6ac21_row3_col4, #T_6ac21_row4_col3 {\n",
              "  background-color: #fff7fb;\n",
              "  color: #000000;\n",
              "}\n",
              "</style>\n",
              "<table id=\"T_6ac21\" class=\"dataframe\">\n",
              "  <thead>\n",
              "    <tr>\n",
              "      <th class=\"blank level0\" >&nbsp;</th>\n",
              "      <th id=\"T_6ac21_level0_col0\" class=\"col_heading level0 col0\" >ASSET</th>\n",
              "      <th id=\"T_6ac21_level0_col1\" class=\"col_heading level0 col1\" >HOUSES</th>\n",
              "      <th id=\"T_6ac21_level0_col2\" class=\"col_heading level0 col2\" >INCOME</th>\n",
              "      <th id=\"T_6ac21_level0_col3\" class=\"col_heading level0 col3\" >DEBT</th>\n",
              "      <th id=\"T_6ac21_level0_col4\" class=\"col_heading level0 col4\" >EDUC</th>\n",
              "    </tr>\n",
              "  </thead>\n",
              "  <tbody>\n",
              "    <tr>\n",
              "      <th id=\"T_6ac21_level0_row0\" class=\"row_heading level0 row0\" >ASSET</th>\n",
              "      <td id=\"T_6ac21_row0_col0\" class=\"data row0 col0\" >1.000000</td>\n",
              "      <td id=\"T_6ac21_row0_col1\" class=\"data row0 col1\" >0.519827</td>\n",
              "      <td id=\"T_6ac21_row0_col2\" class=\"data row0 col2\" >0.622429</td>\n",
              "      <td id=\"T_6ac21_row0_col3\" class=\"data row0 col3\" >0.261250</td>\n",
              "      <td id=\"T_6ac21_row0_col4\" class=\"data row0 col4\" >0.116673</td>\n",
              "    </tr>\n",
              "    <tr>\n",
              "      <th id=\"T_6ac21_level0_row1\" class=\"row_heading level0 row1\" >HOUSES</th>\n",
              "      <td id=\"T_6ac21_row1_col0\" class=\"data row1 col0\" >0.519827</td>\n",
              "      <td id=\"T_6ac21_row1_col1\" class=\"data row1 col1\" >1.000000</td>\n",
              "      <td id=\"T_6ac21_row1_col2\" class=\"data row1 col2\" >0.247852</td>\n",
              "      <td id=\"T_6ac21_row1_col3\" class=\"data row1 col3\" >0.266661</td>\n",
              "      <td id=\"T_6ac21_row1_col4\" class=\"data row1 col4\" >0.169300</td>\n",
              "    </tr>\n",
              "    <tr>\n",
              "      <th id=\"T_6ac21_level0_row2\" class=\"row_heading level0 row2\" >INCOME</th>\n",
              "      <td id=\"T_6ac21_row2_col0\" class=\"data row2 col0\" >0.622429</td>\n",
              "      <td id=\"T_6ac21_row2_col1\" class=\"data row2 col1\" >0.247852</td>\n",
              "      <td id=\"T_6ac21_row2_col2\" class=\"data row2 col2\" >1.000000</td>\n",
              "      <td id=\"T_6ac21_row2_col3\" class=\"data row2 col3\" >0.114646</td>\n",
              "      <td id=\"T_6ac21_row2_col4\" class=\"data row2 col4\" >0.069400</td>\n",
              "    </tr>\n",
              "    <tr>\n",
              "      <th id=\"T_6ac21_level0_row3\" class=\"row_heading level0 row3\" >DEBT</th>\n",
              "      <td id=\"T_6ac21_row3_col0\" class=\"data row3 col0\" >0.261250</td>\n",
              "      <td id=\"T_6ac21_row3_col1\" class=\"data row3 col1\" >0.266661</td>\n",
              "      <td id=\"T_6ac21_row3_col2\" class=\"data row3 col2\" >0.114646</td>\n",
              "      <td id=\"T_6ac21_row3_col3\" class=\"data row3 col3\" >1.000000</td>\n",
              "      <td id=\"T_6ac21_row3_col4\" class=\"data row3 col4\" >0.054179</td>\n",
              "    </tr>\n",
              "    <tr>\n",
              "      <th id=\"T_6ac21_level0_row4\" class=\"row_heading level0 row4\" >EDUC</th>\n",
              "      <td id=\"T_6ac21_row4_col0\" class=\"data row4 col0\" >0.116673</td>\n",
              "      <td id=\"T_6ac21_row4_col1\" class=\"data row4 col1\" >0.169300</td>\n",
              "      <td id=\"T_6ac21_row4_col2\" class=\"data row4 col2\" >0.069400</td>\n",
              "      <td id=\"T_6ac21_row4_col3\" class=\"data row4 col3\" >0.054179</td>\n",
              "      <td id=\"T_6ac21_row4_col4\" class=\"data row4 col4\" >1.000000</td>\n",
              "    </tr>\n",
              "  </tbody>\n",
              "</table>\n"
            ]
          },
          "metadata": {},
          "execution_count": 20
        }
      ]
    },
    {
      "cell_type": "code",
      "source": [
        "corr = df_fear[cols].corr()\n",
        "corr.style.background_gradient(axis=None)"
      ],
      "metadata": {
        "colab": {
          "base_uri": "https://localhost:8080/",
          "height": 206
        },
        "id": "7vVYQkQdkTRl",
        "outputId": "69a3ca92-ddbf-4c7d-a21c-8f8940e0a383"
      },
      "execution_count": 21,
      "outputs": [
        {
          "output_type": "execute_result",
          "data": {
            "text/plain": [
              "<pandas.io.formats.style.Styler at 0x7b3b0a3f9690>"
            ],
            "text/html": [
              "<style type=\"text/css\">\n",
              "#T_4c4ea_row0_col0, #T_4c4ea_row1_col1, #T_4c4ea_row2_col2, #T_4c4ea_row3_col3, #T_4c4ea_row4_col4 {\n",
              "  background-color: #023858;\n",
              "  color: #f1f1f1;\n",
              "}\n",
              "#T_4c4ea_row0_col1, #T_4c4ea_row1_col0 {\n",
              "  background-color: #65a3cb;\n",
              "  color: #f1f1f1;\n",
              "}\n",
              "#T_4c4ea_row0_col2, #T_4c4ea_row2_col0 {\n",
              "  background-color: #1e80b8;\n",
              "  color: #f1f1f1;\n",
              "}\n",
              "#T_4c4ea_row0_col3, #T_4c4ea_row3_col0 {\n",
              "  background-color: #99b8d8;\n",
              "  color: #000000;\n",
              "}\n",
              "#T_4c4ea_row0_col4, #T_4c4ea_row4_col0 {\n",
              "  background-color: #fff7fb;\n",
              "  color: #000000;\n",
              "}\n",
              "#T_4c4ea_row1_col2, #T_4c4ea_row2_col1 {\n",
              "  background-color: #e2dfee;\n",
              "  color: #000000;\n",
              "}\n",
              "#T_4c4ea_row1_col3, #T_4c4ea_row3_col1 {\n",
              "  background-color: #034369;\n",
              "  color: #f1f1f1;\n",
              "}\n",
              "#T_4c4ea_row1_col4, #T_4c4ea_row4_col1 {\n",
              "  background-color: #f7f0f7;\n",
              "  color: #000000;\n",
              "}\n",
              "#T_4c4ea_row2_col3, #T_4c4ea_row3_col2 {\n",
              "  background-color: #f5eff6;\n",
              "  color: #000000;\n",
              "}\n",
              "#T_4c4ea_row2_col4, #T_4c4ea_row4_col2 {\n",
              "  background-color: #fcf4fa;\n",
              "  color: #000000;\n",
              "}\n",
              "#T_4c4ea_row3_col4, #T_4c4ea_row4_col3 {\n",
              "  background-color: #f4eef6;\n",
              "  color: #000000;\n",
              "}\n",
              "</style>\n",
              "<table id=\"T_4c4ea\" class=\"dataframe\">\n",
              "  <thead>\n",
              "    <tr>\n",
              "      <th class=\"blank level0\" >&nbsp;</th>\n",
              "      <th id=\"T_4c4ea_level0_col0\" class=\"col_heading level0 col0\" >ASSET</th>\n",
              "      <th id=\"T_4c4ea_level0_col1\" class=\"col_heading level0 col1\" >HOUSES</th>\n",
              "      <th id=\"T_4c4ea_level0_col2\" class=\"col_heading level0 col2\" >INCOME</th>\n",
              "      <th id=\"T_4c4ea_level0_col3\" class=\"col_heading level0 col3\" >DEBT</th>\n",
              "      <th id=\"T_4c4ea_level0_col4\" class=\"col_heading level0 col4\" >EDUC</th>\n",
              "    </tr>\n",
              "  </thead>\n",
              "  <tbody>\n",
              "    <tr>\n",
              "      <th id=\"T_4c4ea_level0_row0\" class=\"row_heading level0 row0\" >ASSET</th>\n",
              "      <td id=\"T_4c4ea_row0_col0\" class=\"data row0 col0\" >1.000000</td>\n",
              "      <td id=\"T_4c4ea_row0_col1\" class=\"data row0 col1\" >0.583288</td>\n",
              "      <td id=\"T_4c4ea_row0_col2\" class=\"data row0 col2\" >0.722074</td>\n",
              "      <td id=\"T_4c4ea_row0_col3\" class=\"data row0 col3\" >0.474658</td>\n",
              "      <td id=\"T_4c4ea_row0_col4\" class=\"data row0 col4\" >0.113536</td>\n",
              "    </tr>\n",
              "    <tr>\n",
              "      <th id=\"T_4c4ea_level0_row1\" class=\"row_heading level0 row1\" >HOUSES</th>\n",
              "      <td id=\"T_4c4ea_row1_col0\" class=\"data row1 col0\" >0.583288</td>\n",
              "      <td id=\"T_4c4ea_row1_col1\" class=\"data row1 col1\" >1.000000</td>\n",
              "      <td id=\"T_4c4ea_row1_col2\" class=\"data row1 col2\" >0.264099</td>\n",
              "      <td id=\"T_4c4ea_row1_col3\" class=\"data row1 col3\" >0.962629</td>\n",
              "      <td id=\"T_4c4ea_row1_col4\" class=\"data row1 col4\" >0.160348</td>\n",
              "    </tr>\n",
              "    <tr>\n",
              "      <th id=\"T_4c4ea_level0_row2\" class=\"row_heading level0 row2\" >INCOME</th>\n",
              "      <td id=\"T_4c4ea_row2_col0\" class=\"data row2 col0\" >0.722074</td>\n",
              "      <td id=\"T_4c4ea_row2_col1\" class=\"data row2 col1\" >0.264099</td>\n",
              "      <td id=\"T_4c4ea_row2_col2\" class=\"data row2 col2\" >1.000000</td>\n",
              "      <td id=\"T_4c4ea_row2_col3\" class=\"data row2 col3\" >0.172393</td>\n",
              "      <td id=\"T_4c4ea_row2_col4\" class=\"data row2 col4\" >0.133170</td>\n",
              "    </tr>\n",
              "    <tr>\n",
              "      <th id=\"T_4c4ea_level0_row3\" class=\"row_heading level0 row3\" >DEBT</th>\n",
              "      <td id=\"T_4c4ea_row3_col0\" class=\"data row3 col0\" >0.474658</td>\n",
              "      <td id=\"T_4c4ea_row3_col1\" class=\"data row3 col1\" >0.962629</td>\n",
              "      <td id=\"T_4c4ea_row3_col2\" class=\"data row3 col2\" >0.172393</td>\n",
              "      <td id=\"T_4c4ea_row3_col3\" class=\"data row3 col3\" >1.000000</td>\n",
              "      <td id=\"T_4c4ea_row3_col4\" class=\"data row3 col4\" >0.177386</td>\n",
              "    </tr>\n",
              "    <tr>\n",
              "      <th id=\"T_4c4ea_level0_row4\" class=\"row_heading level0 row4\" >EDUC</th>\n",
              "      <td id=\"T_4c4ea_row4_col0\" class=\"data row4 col0\" >0.113536</td>\n",
              "      <td id=\"T_4c4ea_row4_col1\" class=\"data row4 col1\" >0.160348</td>\n",
              "      <td id=\"T_4c4ea_row4_col2\" class=\"data row4 col2\" >0.133170</td>\n",
              "      <td id=\"T_4c4ea_row4_col3\" class=\"data row4 col3\" >0.177386</td>\n",
              "      <td id=\"T_4c4ea_row4_col4\" class=\"data row4 col4\" >1.000000</td>\n",
              "    </tr>\n",
              "  </tbody>\n",
              "</table>\n"
            ]
          },
          "metadata": {},
          "execution_count": 21
        }
      ]
    },
    {
      "cell_type": "markdown",
      "source": [
        "The correlation between Debt & Houses int our subset!"
      ],
      "metadata": {
        "id": "8DsA6-cjks2P"
      }
    },
    {
      "cell_type": "markdown",
      "source": [
        "### Education"
      ],
      "metadata": {
        "id": "VvqHIgkllV2E"
      }
    },
    {
      "cell_type": "code",
      "source": [
        "df_fear['EDUC'].unique()"
      ],
      "metadata": {
        "colab": {
          "base_uri": "https://localhost:8080/"
        },
        "id": "EfQHPzsckcDG",
        "outputId": "1318d754-4f09-4283-9339-06f49d555651"
      },
      "execution_count": 22,
      "outputs": [
        {
          "output_type": "execute_result",
          "data": {
            "text/plain": [
              "array([ 8, 11,  9,  2, 12,  7,  3,  6, 10, 14,  4,  1, 13,  5, -1])"
            ]
          },
          "metadata": {},
          "execution_count": 22
        }
      ]
    },
    {
      "cell_type": "code",
      "source": [
        "df_educ = (df['EDUC'].groupby(df['TURNFEAR'])\n",
        "            .value_counts(normalize=True)\n",
        "            .rename(\"frequency\")\n",
        "            .to_frame()\n",
        "            .reset_index())\n",
        "df_educ.head()"
      ],
      "metadata": {
        "colab": {
          "base_uri": "https://localhost:8080/",
          "height": 206
        },
        "id": "Y7h0tvzXli6L",
        "outputId": "3eee9504-8530-4f2d-9521-3edb311322e3"
      },
      "execution_count": 23,
      "outputs": [
        {
          "output_type": "execute_result",
          "data": {
            "text/plain": [
              "   TURNFEAR  EDUC  frequency\n",
              "0         0    12   0.257481\n",
              "1         0     8   0.192029\n",
              "2         0    13   0.149823\n",
              "3         0     9   0.129833\n",
              "4         0    14   0.096117"
            ],
            "text/html": [
              "\n",
              "  <div id=\"df-fbd900e6-d8e5-4841-83c8-2ddd9d36fc16\" class=\"colab-df-container\">\n",
              "    <div>\n",
              "<style scoped>\n",
              "    .dataframe tbody tr th:only-of-type {\n",
              "        vertical-align: middle;\n",
              "    }\n",
              "\n",
              "    .dataframe tbody tr th {\n",
              "        vertical-align: top;\n",
              "    }\n",
              "\n",
              "    .dataframe thead th {\n",
              "        text-align: right;\n",
              "    }\n",
              "</style>\n",
              "<table border=\"1\" class=\"dataframe\">\n",
              "  <thead>\n",
              "    <tr style=\"text-align: right;\">\n",
              "      <th></th>\n",
              "      <th>TURNFEAR</th>\n",
              "      <th>EDUC</th>\n",
              "      <th>frequency</th>\n",
              "    </tr>\n",
              "  </thead>\n",
              "  <tbody>\n",
              "    <tr>\n",
              "      <th>0</th>\n",
              "      <td>0</td>\n",
              "      <td>12</td>\n",
              "      <td>0.257481</td>\n",
              "    </tr>\n",
              "    <tr>\n",
              "      <th>1</th>\n",
              "      <td>0</td>\n",
              "      <td>8</td>\n",
              "      <td>0.192029</td>\n",
              "    </tr>\n",
              "    <tr>\n",
              "      <th>2</th>\n",
              "      <td>0</td>\n",
              "      <td>13</td>\n",
              "      <td>0.149823</td>\n",
              "    </tr>\n",
              "    <tr>\n",
              "      <th>3</th>\n",
              "      <td>0</td>\n",
              "      <td>9</td>\n",
              "      <td>0.129833</td>\n",
              "    </tr>\n",
              "    <tr>\n",
              "      <th>4</th>\n",
              "      <td>0</td>\n",
              "      <td>14</td>\n",
              "      <td>0.096117</td>\n",
              "    </tr>\n",
              "  </tbody>\n",
              "</table>\n",
              "</div>\n",
              "    <div class=\"colab-df-buttons\">\n",
              "\n",
              "  <div class=\"colab-df-container\">\n",
              "    <button class=\"colab-df-convert\" onclick=\"convertToInteractive('df-fbd900e6-d8e5-4841-83c8-2ddd9d36fc16')\"\n",
              "            title=\"Convert this dataframe to an interactive table.\"\n",
              "            style=\"display:none;\">\n",
              "\n",
              "  <svg xmlns=\"http://www.w3.org/2000/svg\" height=\"24px\" viewBox=\"0 -960 960 960\">\n",
              "    <path d=\"M120-120v-720h720v720H120Zm60-500h600v-160H180v160Zm220 220h160v-160H400v160Zm0 220h160v-160H400v160ZM180-400h160v-160H180v160Zm440 0h160v-160H620v160ZM180-180h160v-160H180v160Zm440 0h160v-160H620v160Z\"/>\n",
              "  </svg>\n",
              "    </button>\n",
              "\n",
              "  <style>\n",
              "    .colab-df-container {\n",
              "      display:flex;\n",
              "      gap: 12px;\n",
              "    }\n",
              "\n",
              "    .colab-df-convert {\n",
              "      background-color: #E8F0FE;\n",
              "      border: none;\n",
              "      border-radius: 50%;\n",
              "      cursor: pointer;\n",
              "      display: none;\n",
              "      fill: #1967D2;\n",
              "      height: 32px;\n",
              "      padding: 0 0 0 0;\n",
              "      width: 32px;\n",
              "    }\n",
              "\n",
              "    .colab-df-convert:hover {\n",
              "      background-color: #E2EBFA;\n",
              "      box-shadow: 0px 1px 2px rgba(60, 64, 67, 0.3), 0px 1px 3px 1px rgba(60, 64, 67, 0.15);\n",
              "      fill: #174EA6;\n",
              "    }\n",
              "\n",
              "    .colab-df-buttons div {\n",
              "      margin-bottom: 4px;\n",
              "    }\n",
              "\n",
              "    [theme=dark] .colab-df-convert {\n",
              "      background-color: #3B4455;\n",
              "      fill: #D2E3FC;\n",
              "    }\n",
              "\n",
              "    [theme=dark] .colab-df-convert:hover {\n",
              "      background-color: #434B5C;\n",
              "      box-shadow: 0px 1px 3px 1px rgba(0, 0, 0, 0.15);\n",
              "      filter: drop-shadow(0px 1px 2px rgba(0, 0, 0, 0.3));\n",
              "      fill: #FFFFFF;\n",
              "    }\n",
              "  </style>\n",
              "\n",
              "    <script>\n",
              "      const buttonEl =\n",
              "        document.querySelector('#df-fbd900e6-d8e5-4841-83c8-2ddd9d36fc16 button.colab-df-convert');\n",
              "      buttonEl.style.display =\n",
              "        google.colab.kernel.accessAllowed ? 'block' : 'none';\n",
              "\n",
              "      async function convertToInteractive(key) {\n",
              "        const element = document.querySelector('#df-fbd900e6-d8e5-4841-83c8-2ddd9d36fc16');\n",
              "        const dataTable =\n",
              "          await google.colab.kernel.invokeFunction('convertToInteractive',\n",
              "                                                    [key], {});\n",
              "        if (!dataTable) return;\n",
              "\n",
              "        const docLinkHtml = 'Like what you see? Visit the ' +\n",
              "          '<a target=\"_blank\" href=https://colab.research.google.com/notebooks/data_table.ipynb>data table notebook</a>'\n",
              "          + ' to learn more about interactive tables.';\n",
              "        element.innerHTML = '';\n",
              "        dataTable['output_type'] = 'display_data';\n",
              "        await google.colab.output.renderOutput(dataTable, element);\n",
              "        const docLink = document.createElement('div');\n",
              "        docLink.innerHTML = docLinkHtml;\n",
              "        element.appendChild(docLink);\n",
              "      }\n",
              "    </script>\n",
              "  </div>\n",
              "\n",
              "\n",
              "<div id=\"df-f0c6cb5d-5969-4c40-b03e-1961811b456d\">\n",
              "  <button class=\"colab-df-quickchart\" onclick=\"quickchart('df-f0c6cb5d-5969-4c40-b03e-1961811b456d')\"\n",
              "            title=\"Suggest charts.\"\n",
              "            style=\"display:none;\">\n",
              "\n",
              "<svg xmlns=\"http://www.w3.org/2000/svg\" height=\"24px\"viewBox=\"0 0 24 24\"\n",
              "     width=\"24px\">\n",
              "    <g>\n",
              "        <path d=\"M19 3H5c-1.1 0-2 .9-2 2v14c0 1.1.9 2 2 2h14c1.1 0 2-.9 2-2V5c0-1.1-.9-2-2-2zM9 17H7v-7h2v7zm4 0h-2V7h2v10zm4 0h-2v-4h2v4z\"/>\n",
              "    </g>\n",
              "</svg>\n",
              "  </button>\n",
              "\n",
              "<style>\n",
              "  .colab-df-quickchart {\n",
              "    background-color: #E8F0FE;\n",
              "    border: none;\n",
              "    border-radius: 50%;\n",
              "    cursor: pointer;\n",
              "    display: none;\n",
              "    fill: #1967D2;\n",
              "    height: 32px;\n",
              "    padding: 0 0 0 0;\n",
              "    width: 32px;\n",
              "  }\n",
              "\n",
              "  .colab-df-quickchart:hover {\n",
              "    background-color: #E2EBFA;\n",
              "    box-shadow: 0px 1px 2px rgba(60, 64, 67, 0.3), 0px 1px 3px 1px rgba(60, 64, 67, 0.15);\n",
              "    fill: #174EA6;\n",
              "  }\n",
              "\n",
              "  [theme=dark] .colab-df-quickchart {\n",
              "    background-color: #3B4455;\n",
              "    fill: #D2E3FC;\n",
              "  }\n",
              "\n",
              "  [theme=dark] .colab-df-quickchart:hover {\n",
              "    background-color: #434B5C;\n",
              "    box-shadow: 0px 1px 3px 1px rgba(0, 0, 0, 0.15);\n",
              "    filter: drop-shadow(0px 1px 2px rgba(0, 0, 0, 0.3));\n",
              "    fill: #FFFFFF;\n",
              "  }\n",
              "</style>\n",
              "\n",
              "  <script>\n",
              "    async function quickchart(key) {\n",
              "      const charts = await google.colab.kernel.invokeFunction(\n",
              "          'suggestCharts', [key], {});\n",
              "    }\n",
              "    (() => {\n",
              "      let quickchartButtonEl =\n",
              "        document.querySelector('#df-f0c6cb5d-5969-4c40-b03e-1961811b456d button');\n",
              "      quickchartButtonEl.style.display =\n",
              "        google.colab.kernel.accessAllowed ? 'block' : 'none';\n",
              "    })();\n",
              "  </script>\n",
              "</div>\n",
              "    </div>\n",
              "  </div>\n"
            ]
          },
          "metadata": {},
          "execution_count": 23
        }
      ]
    },
    {
      "cell_type": "markdown",
      "source": [
        "12-> BACHELOR'S DEGREE (FOR EXAMPLE: BA, AB, BS)"
      ],
      "metadata": {
        "id": "YqbzrxM9l4MR"
      }
    },
    {
      "cell_type": "code",
      "source": [
        "# Create bar chart of `df_educ`\n",
        "sns.barplot(data=df_educ,x=\"EDUC\",y=\"frequency\",hue=\"TURNFEAR\")\n",
        "plt.xlabel(\"Education Level\")\n",
        "plt.ylabel(\"Frequency (%)\")\n",
        "plt.title(\"Educational Attainment: Credit Fearful vs. Non-fearful\");"
      ],
      "metadata": {
        "colab": {
          "base_uri": "https://localhost:8080/",
          "height": 472
        },
        "id": "YFXpA7-NlyUg",
        "outputId": "41874e91-6943-4a50-f354-128ce3c71ac0"
      },
      "execution_count": 24,
      "outputs": [
        {
          "output_type": "display_data",
          "data": {
            "text/plain": [
              "<Figure size 640x480 with 1 Axes>"
            ],
            "image/png": "[encoded data removed]"
          },
          "metadata": {}
        }
      ]
    },
    {
      "cell_type": "markdown",
      "source": [
        "8-> HIGH SCHOOL GRADUATE - HIGH SCHOOL DIPLOMA OR EQUIVALENT"
      ],
      "metadata": {
        "id": "pC4epnThmLFp"
      }
    },
    {
      "cell_type": "markdown",
      "source": [
        "### Debt"
      ],
      "metadata": {
        "id": "6YSuINKfmPeh"
      }
    },
    {
      "cell_type": "code",
      "source": [
        "# Create scatter plot of ASSET vs DEBT, df\n",
        "df.plot.scatter(x=\"DEBT\",y=\"ASSET\");"
      ],
      "metadata": {
        "colab": {
          "base_uri": "https://localhost:8080/",
          "height": 465
        },
        "id": "HBaTzVJSmC_s",
        "outputId": "b25ce70f-eb50-4f9b-f597-46def9d862c7"
      },
      "execution_count": 25,
      "outputs": [
        {
          "output_type": "display_data",
          "data": {
            "text/plain": [
              "<Figure size 640x480 with 1 Axes>"
            ],
            "image/png": "[encoded data removed]"
          },
          "metadata": {}
        }
      ]
    },
    {
      "cell_type": "code",
      "source": [
        "# Create scatter plot of ASSET vs DEBT, df_fear\n",
        "df_fear.plot.scatter(x=\"DEBT\",y=\"ASSET\");"
      ],
      "metadata": {
        "colab": {
          "base_uri": "https://localhost:8080/",
          "height": 465
        },
        "id": "WcuaQQwomX0W",
        "outputId": "384149b9-6922-4c0a-b6bf-ccca40cb418a"
      },
      "execution_count": 26,
      "outputs": [
        {
          "output_type": "display_data",
          "data": {
            "text/plain": [
              "<Figure size 640x480 with 1 Axes>"
            ],
            "image/png": "[encoded data removed]"
          },
          "metadata": {}
        }
      ]
    },
    {
      "cell_type": "code",
      "source": [
        "# Create scatter plot of HOUSES vs DEBT, df\n",
        "df.plot.scatter(x=\"DEBT\",y=\"HOUSES\");"
      ],
      "metadata": {
        "colab": {
          "base_uri": "https://localhost:8080/",
          "height": 465
        },
        "id": "2YSjmaZvmfmT",
        "outputId": "c974a9f8-accd-4848-c070-b496e2d58393"
      },
      "execution_count": 27,
      "outputs": [
        {
          "output_type": "display_data",
          "data": {
            "text/plain": [
              "<Figure size 640x480 with 1 Axes>"
            ],
            "image/png": "[encoded data removed]"
          },
          "metadata": {}
        }
      ]
    },
    {
      "cell_type": "code",
      "source": [
        "# Create scatter plot of HOUSES vs DEBT, df_fear\n",
        "df_fear.plot.scatter(x=\"DEBT\",y=\"HOUSES\");"
      ],
      "metadata": {
        "colab": {
          "base_uri": "https://localhost:8080/",
          "height": 465
        },
        "id": "ERiC4q3Cmncr",
        "outputId": "b50ee4b8-3d69-4bf8-e02d-dc7ed454d9d3"
      },
      "execution_count": 28,
      "outputs": [
        {
          "output_type": "display_data",
          "data": {
            "text/plain": [
              "<Figure size 640x480 with 1 Axes>"
            ],
            "image/png": "[encoded data removed]"
          },
          "metadata": {}
        }
      ]
    },
    {
      "cell_type": "markdown",
      "source": [
        "1- The outliers make it a little difficult to see the difference between these two plots, but the relationship is clear enough: our df_fear graph shows an almost perfect linear relationship unlike df.\n",
        "\n",
        "2- Datapoints on the df_fear graph form several little groups(clusters)."
      ],
      "metadata": {
        "id": "Bh30WsRnm7Ip"
      }
    },
    {
      "cell_type": "markdown",
      "source": [
        "# Clustering with Two features"
      ],
      "metadata": {
        "id": "BNNMC10DnV8s"
      }
    },
    {
      "cell_type": "code",
      "source": [
        "from sklearn.cluster import KMeans\n",
        "from sklearn.metrics import silhouette_score"
      ],
      "metadata": {
        "id": "B_GKyG23mrDY"
      },
      "execution_count": 29,
      "outputs": []
    },
    {
      "cell_type": "code",
      "source": [
        "X = df_fear[[\"DEBT\",\"HOUSES\"]]\n",
        "print(X.shape)\n",
        "X.head()"
      ],
      "metadata": {
        "id": "KL0-Zm_pngzn",
        "colab": {
          "base_uri": "https://localhost:8080/",
          "height": 224
        },
        "outputId": "6aefd225-3863-4da1-8a8c-f1b0ea6d33e9"
      },
      "execution_count": 31,
      "outputs": [
        {
          "output_type": "stream",
          "name": "stdout",
          "text": [
            "(4623, 2)\n"
          ]
        },
        {
          "output_type": "execute_result",
          "data": {
            "text/plain": [
              "      DEBT  HOUSES\n",
              "5  12200.0     0.0\n",
              "6  12600.0     0.0\n",
              "7  15300.0     0.0\n",
              "8  14100.0     0.0\n",
              "9  15400.0     0.0"
            ],
            "text/html": [
              "\n",
              "  <div id=\"df-9645e73d-019c-45c9-8d98-95477e2a9c9a\" class=\"colab-df-container\">\n",
              "    <div>\n",
              "<style scoped>\n",
              "    .dataframe tbody tr th:only-of-type {\n",
              "        vertical-align: middle;\n",
              "    }\n",
              "\n",
              "    .dataframe tbody tr th {\n",
              "        vertical-align: top;\n",
              "    }\n",
              "\n",
              "    .dataframe thead th {\n",
              "        text-align: right;\n",
              "    }\n",
              "</style>\n",
              "<table border=\"1\" class=\"dataframe\">\n",
              "  <thead>\n",
              "    <tr style=\"text-align: right;\">\n",
              "      <th></th>\n",
              "      <th>DEBT</th>\n",
              "      <th>HOUSES</th>\n",
              "    </tr>\n",
              "  </thead>\n",
              "  <tbody>\n",
              "    <tr>\n",
              "      <th>5</th>\n",
              "      <td>12200.0</td>\n",
              "      <td>0.0</td>\n",
              "    </tr>\n",
              "    <tr>\n",
              "      <th>6</th>\n",
              "      <td>12600.0</td>\n",
              "      <td>0.0</td>\n",
              "    </tr>\n",
              "    <tr>\n",
              "      <th>7</th>\n",
              "      <td>15300.0</td>\n",
              "      <td>0.0</td>\n",
              "    </tr>\n",
              "    <tr>\n",
              "      <th>8</th>\n",
              "      <td>14100.0</td>\n",
              "      <td>0.0</td>\n",
              "    </tr>\n",
              "    <tr>\n",
              "      <th>9</th>\n",
              "      <td>15400.0</td>\n",
              "      <td>0.0</td>\n",
              "    </tr>\n",
              "  </tbody>\n",
              "</table>\n",
              "</div>\n",
              "    <div class=\"colab-df-buttons\">\n",
              "\n",
              "  <div class=\"colab-df-container\">\n",
              "    <button class=\"colab-df-convert\" onclick=\"convertToInteractive('df-9645e73d-019c-45c9-8d98-95477e2a9c9a')\"\n",
              "            title=\"Convert this dataframe to an interactive table.\"\n",
              "            style=\"display:none;\">\n",
              "\n",
              "  <svg xmlns=\"http://www.w3.org/2000/svg\" height=\"24px\" viewBox=\"0 -960 960 960\">\n",
              "    <path d=\"M120-120v-720h720v720H120Zm60-500h600v-160H180v160Zm220 220h160v-160H400v160Zm0 220h160v-160H400v160ZM180-400h160v-160H180v160Zm440 0h160v-160H620v160ZM180-180h160v-160H180v160Zm440 0h160v-160H620v160Z\"/>\n",
              "  </svg>\n",
              "    </button>\n",
              "\n",
              "  <style>\n",
              "    .colab-df-container {\n",
              "      display:flex;\n",
              "      gap: 12px;\n",
              "    }\n",
              "\n",
              "    .colab-df-convert {\n",
              "      background-color: #E8F0FE;\n",
              "      border: none;\n",
              "      border-radius: 50%;\n",
              "      cursor: pointer;\n",
              "      display: none;\n",
              "      fill: #1967D2;\n",
              "      height: 32px;\n",
              "      padding: 0 0 0 0;\n",
              "      width: 32px;\n",
              "    }\n",
              "\n",
              "    .colab-df-convert:hover {\n",
              "      background-color: #E2EBFA;\n",
              "      box-shadow: 0px 1px 2px rgba(60, 64, 67, 0.3), 0px 1px 3px 1px rgba(60, 64, 67, 0.15);\n",
              "      fill: #174EA6;\n",
              "    }\n",
              "\n",
              "    .colab-df-buttons div {\n",
              "      margin-bottom: 4px;\n",
              "    }\n",
              "\n",
              "    [theme=dark] .colab-df-convert {\n",
              "      background-color: #3B4455;\n",
              "      fill: #D2E3FC;\n",
              "    }\n",
              "\n",
              "    [theme=dark] .colab-df-convert:hover {\n",
              "      background-color: #434B5C;\n",
              "      box-shadow: 0px 1px 3px 1px rgba(0, 0, 0, 0.15);\n",
              "      filter: drop-shadow(0px 1px 2px rgba(0, 0, 0, 0.3));\n",
              "      fill: #FFFFFF;\n",
              "    }\n",
              "  </style>\n",
              "\n",
              "    <script>\n",
              "      const buttonEl =\n",
              "        document.querySelector('#df-9645e73d-019c-45c9-8d98-95477e2a9c9a button.colab-df-convert');\n",
              "      buttonEl.style.display =\n",
              "        google.colab.kernel.accessAllowed ? 'block' : 'none';\n",
              "\n",
              "      async function convertToInteractive(key) {\n",
              "        const element = document.querySelector('#df-9645e73d-019c-45c9-8d98-95477e2a9c9a');\n",
              "        const dataTable =\n",
              "          await google.colab.kernel.invokeFunction('convertToInteractive',\n",
              "                                                    [key], {});\n",
              "        if (!dataTable) return;\n",
              "\n",
              "        const docLinkHtml = 'Like what you see? Visit the ' +\n",
              "          '<a target=\"_blank\" href=https://colab.research.google.com/notebooks/data_table.ipynb>data table notebook</a>'\n",
              "          + ' to learn more about interactive tables.';\n",
              "        element.innerHTML = '';\n",
              "        dataTable['output_type'] = 'display_data';\n",
              "        await google.colab.output.renderOutput(dataTable, element);\n",
              "        const docLink = document.createElement('div');\n",
              "        docLink.innerHTML = docLinkHtml;\n",
              "        element.appendChild(docLink);\n",
              "      }\n",
              "    </script>\n",
              "  </div>\n",
              "\n",
              "\n",
              "<div id=\"df-669bbf4f-c16a-4bec-90c5-a0926ad111b7\">\n",
              "  <button class=\"colab-df-quickchart\" onclick=\"quickchart('df-669bbf4f-c16a-4bec-90c5-a0926ad111b7')\"\n",
              "            title=\"Suggest charts.\"\n",
              "            style=\"display:none;\">\n",
              "\n",
              "<svg xmlns=\"http://www.w3.org/2000/svg\" height=\"24px\"viewBox=\"0 0 24 24\"\n",
              "     width=\"24px\">\n",
              "    <g>\n",
              "        <path d=\"M19 3H5c-1.1 0-2 .9-2 2v14c0 1.1.9 2 2 2h14c1.1 0 2-.9 2-2V5c0-1.1-.9-2-2-2zM9 17H7v-7h2v7zm4 0h-2V7h2v10zm4 0h-2v-4h2v4z\"/>\n",
              "    </g>\n",
              "</svg>\n",
              "  </button>\n",
              "\n",
              "<style>\n",
              "  .colab-df-quickchart {\n",
              "    background-color: #E8F0FE;\n",
              "    border: none;\n",
              "    border-radius: 50%;\n",
              "    cursor: pointer;\n",
              "    display: none;\n",
              "    fill: #1967D2;\n",
              "    height: 32px;\n",
              "    padding: 0 0 0 0;\n",
              "    width: 32px;\n",
              "  }\n",
              "\n",
              "  .colab-df-quickchart:hover {\n",
              "    background-color: #E2EBFA;\n",
              "    box-shadow: 0px 1px 2px rgba(60, 64, 67, 0.3), 0px 1px 3px 1px rgba(60, 64, 67, 0.15);\n",
              "    fill: #174EA6;\n",
              "  }\n",
              "\n",
              "  [theme=dark] .colab-df-quickchart {\n",
              "    background-color: #3B4455;\n",
              "    fill: #D2E3FC;\n",
              "  }\n",
              "\n",
              "  [theme=dark] .colab-df-quickchart:hover {\n",
              "    background-color: #434B5C;\n",
              "    box-shadow: 0px 1px 3px 1px rgba(0, 0, 0, 0.15);\n",
              "    filter: drop-shadow(0px 1px 2px rgba(0, 0, 0, 0.3));\n",
              "    fill: #FFFFFF;\n",
              "  }\n",
              "</style>\n",
              "\n",
              "  <script>\n",
              "    async function quickchart(key) {\n",
              "      const charts = await google.colab.kernel.invokeFunction(\n",
              "          'suggestCharts', [key], {});\n",
              "    }\n",
              "    (() => {\n",
              "      let quickchartButtonEl =\n",
              "        document.querySelector('#df-669bbf4f-c16a-4bec-90c5-a0926ad111b7 button');\n",
              "      quickchartButtonEl.style.display =\n",
              "        google.colab.kernel.accessAllowed ? 'block' : 'none';\n",
              "    })();\n",
              "  </script>\n",
              "</div>\n",
              "    </div>\n",
              "  </div>\n"
            ]
          },
          "metadata": {},
          "execution_count": 31
        }
      ]
    },
    {
      "cell_type": "code",
      "source": [
        "# Build model\n",
        "model =KMeans(n_clusters=3,random_state=42)\n",
        "# Fit model to data\n",
        "model.fit(X)"
      ],
      "metadata": {
        "colab": {
          "base_uri": "https://localhost:8080/",
          "height": 109
        },
        "id": "lslNuztHSsnY",
        "outputId": "3c243915-e251-46c2-eb0b-7b4b2080aa61"
      },
      "execution_count": 32,
      "outputs": [
        {
          "output_type": "stream",
          "name": "stderr",
          "text": [
            "/usr/local/lib/python3.10/dist-packages/sklearn/cluster/_kmeans.py:870: FutureWarning: The default value of `n_init` will change from 10 to 'auto' in 1.4. Set the value of `n_init` explicitly to suppress the warning\n",
            "  warnings.warn(\n"
          ]
        },
        {
          "output_type": "execute_result",
          "data": {
            "text/plain": [
              "KMeans(n_clusters=3, random_state=42)"
            ],
            "text/html": [
              "<style>#sk-container-id-1 {color: black;background-color: white;}#sk-container-id-1 pre{padding: 0;}#sk-container-id-1 div.sk-toggleable {background-color: white;}#sk-container-id-1 label.sk-toggleable__label {cursor: pointer;display: block;width: 100%;margin-bottom: 0;padding: 0.3em;box-sizing: border-box;text-align: center;}#sk-container-id-1 label.sk-toggleable__label-arrow:before {content: \"▸\";float: left;margin-right: 0.25em;color: #696969;}#sk-container-id-1 label.sk-toggleable__label-arrow:hover:before {color: black;}#sk-container-id-1 div.sk-estimator:hover label.sk-toggleable__label-arrow:before {color: black;}#sk-container-id-1 div.sk-toggleable__content {max-height: 0;max-width: 0;overflow: hidden;text-align: left;background-color: #f0f8ff;}#sk-container-id-1 div.sk-toggleable__content pre {margin: 0.2em;color: black;border-radius: 0.25em;background-color: #f0f8ff;}#sk-container-id-1 input.sk-toggleable__control:checked~div.sk-toggleable__content {max-height: 200px;max-width: 100%;overflow: auto;}#sk-container-id-1 input.sk-toggleable__control:checked~label.sk-toggleable__label-arrow:before {content: \"▾\";}#sk-container-id-1 div.sk-estimator input.sk-toggleable__control:checked~label.sk-toggleable__label {background-color: #d4ebff;}#sk-container-id-1 div.sk-label input.sk-toggleable__control:checked~label.sk-toggleable__label {background-color: #d4ebff;}#sk-container-id-1 input.sk-hidden--visually {border: 0;clip: rect(1px 1px 1px 1px);clip: rect(1px, 1px, 1px, 1px);height: 1px;margin: -1px;overflow: hidden;padding: 0;position: absolute;width: 1px;}#sk-container-id-1 div.sk-estimator {font-family: monospace;background-color: #f0f8ff;border: 1px dotted black;border-radius: 0.25em;box-sizing: border-box;margin-bottom: 0.5em;}#sk-container-id-1 div.sk-estimator:hover {background-color: #d4ebff;}#sk-container-id-1 div.sk-parallel-item::after {content: \"\";width: 100%;border-bottom: 1px solid gray;flex-grow: 1;}#sk-container-id-1 div.sk-label:hover label.sk-toggleable__label {background-color: #d4ebff;}#sk-container-id-1 div.sk-serial::before {content: \"\";position: absolute;border-left: 1px solid gray;box-sizing: border-box;top: 0;bottom: 0;left: 50%;z-index: 0;}#sk-container-id-1 div.sk-serial {display: flex;flex-direction: column;align-items: center;background-color: white;padding-right: 0.2em;padding-left: 0.2em;position: relative;}#sk-container-id-1 div.sk-item {position: relative;z-index: 1;}#sk-container-id-1 div.sk-parallel {display: flex;align-items: stretch;justify-content: center;background-color: white;position: relative;}#sk-container-id-1 div.sk-item::before, #sk-container-id-1 div.sk-parallel-item::before {content: \"\";position: absolute;border-left: 1px solid gray;box-sizing: border-box;top: 0;bottom: 0;left: 50%;z-index: -1;}#sk-container-id-1 div.sk-parallel-item {display: flex;flex-direction: column;z-index: 1;position: relative;background-color: white;}#sk-container-id-1 div.sk-parallel-item:first-child::after {align-self: flex-end;width: 50%;}#sk-container-id-1 div.sk-parallel-item:last-child::after {align-self: flex-start;width: 50%;}#sk-container-id-1 div.sk-parallel-item:only-child::after {width: 0;}#sk-container-id-1 div.sk-dashed-wrapped {border: 1px dashed gray;margin: 0 0.4em 0.5em 0.4em;box-sizing: border-box;padding-bottom: 0.4em;background-color: white;}#sk-container-id-1 div.sk-label label {font-family: monospace;font-weight: bold;display: inline-block;line-height: 1.2em;}#sk-container-id-1 div.sk-label-container {text-align: center;}#sk-container-id-1 div.sk-container {/* jupyter's `normalize.less` sets `[hidden] { display: none; }` but bootstrap.min.css set `[hidden] { display: none !important; }` so we also need the `!important` here to be able to override the default hidden behavior on the sphinx rendered scikit-learn.org. See: https://github.com/scikit-learn/scikit-learn/issues/21755 */display: inline-block !important;position: relative;}#sk-container-id-1 div.sk-text-repr-fallback {display: none;}</style><div id=\"sk-container-id-1\" class=\"sk-top-container\"><div class=\"sk-text-repr-fallback\"><pre>KMeans(n_clusters=3, random_state=42)</pre><b>In a Jupyter environment, please rerun this cell to show the HTML representation or trust the notebook. <br />On GitHub, the HTML representation is unable to render, please try loading this page with nbviewer.org.</b></div><div class=\"sk-container\" hidden><div class=\"sk-item\"><div class=\"sk-estimator sk-toggleable\"><input class=\"sk-toggleable__control sk-hidden--visually\" id=\"sk-estimator-id-1\" type=\"checkbox\" checked><label for=\"sk-estimator-id-1\" class=\"sk-toggleable__label sk-toggleable__label-arrow\">KMeans</label><div class=\"sk-toggleable__content\"><pre>KMeans(n_clusters=3, random_state=42)</pre></div></div></div></div></div>"
            ]
          },
          "metadata": {},
          "execution_count": 32
        }
      ]
    },
    {
      "cell_type": "code",
      "source": [
        "labels = model.labels_\n",
        "labels[:10]"
      ],
      "metadata": {
        "colab": {
          "base_uri": "https://localhost:8080/"
        },
        "id": "oEOk7NmjS0ok",
        "outputId": "04123db4-3876-46e5-d3ca-df1e9e0ba802"
      },
      "execution_count": 33,
      "outputs": [
        {
          "output_type": "execute_result",
          "data": {
            "text/plain": [
              "array([0, 0, 0, 0, 0, 0, 0, 0, 0, 0], dtype=int32)"
            ]
          },
          "metadata": {},
          "execution_count": 33
        }
      ]
    },
    {
      "cell_type": "code",
      "source": [
        "# Plot \"HOUSES\" vs \"DEBT\" with hue=label\n",
        "sns.scatterplot(x=df_fear['DEBT']/1e6,y=df_fear['HOUSES']/1e6,hue=labels,palette=\"deep\")\n",
        "plt.xlabel(\"Household Debt [$1M]\")\n",
        "plt.ylabel(\"Home Value [$1M]\")\n",
        "plt.title(\"Credit Fearful: Home Value vs. Household Debt\");"
      ],
      "metadata": {
        "colab": {
          "base_uri": "https://localhost:8080/",
          "height": 472
        },
        "id": "XjWeujSMTJDv",
        "outputId": "bbc63b6c-fafa-4f59-a683-76dc85997cb7"
      },
      "execution_count": 35,
      "outputs": [
        {
          "output_type": "display_data",
          "data": {
            "text/plain": [
              "<Figure size 640x480 with 1 Axes>"
            ],
            "image/png": "[encoded data removed]"
          },
          "metadata": {}
        }
      ]
    },
    {
      "cell_type": "code",
      "source": [
        "centroids = model.cluster_centers_\n",
        "centroids"
      ],
      "metadata": {
        "colab": {
          "base_uri": "https://localhost:8080/"
        },
        "id": "J-hOzLB0Ti-T",
        "outputId": "d4717e37-b590-466f-fa30-d78fb601a7a7"
      },
      "execution_count": 36,
      "outputs": [
        {
          "output_type": "execute_result",
          "data": {
            "text/plain": [
              "array([[   91017.57766674,   116150.29328698],\n",
              "       [18384100.        , 34484000.        ],\n",
              "       [ 5065800.        , 11666666.66666667]])"
            ]
          },
          "metadata": {},
          "execution_count": 36
        }
      ]
    },
    {
      "cell_type": "code",
      "source": [
        "# Plot \"HOUSES\" vs \"DEBT\", add centroids\n",
        "sns.scatterplot(x=df_fear['DEBT']/1e6,y=df_fear['HOUSES']/1e6,hue=labels,palette=\"deep\")\n",
        "plt.scatter(\n",
        "    x=centroids[:,0]/1e6,\n",
        "    y=centroids[:,1]/1e6,\n",
        "    color='gray',\n",
        "    marker='*',\n",
        "    s=150\n",
        ")\n",
        "plt.xlabel(\"Household Debt [$1M]\")\n",
        "plt.ylabel(\"Home Value [$1M]\")\n",
        "plt.title(\"Credit Fearful: Home Value vs. Household Debt\");"
      ],
      "metadata": {
        "colab": {
          "base_uri": "https://localhost:8080/",
          "height": 472
        },
        "id": "S1R6CwtkUUfC",
        "outputId": "f810a67f-0090-4c86-807c-7be7af917ce5"
      },
      "execution_count": 37,
      "outputs": [
        {
          "output_type": "display_data",
          "data": {
            "text/plain": [
              "<Figure size 640x480 with 1 Axes>"
            ],
            "image/png": "[encoded data removed]"
          },
          "metadata": {}
        }
      ]
    },
    {
      "cell_type": "code",
      "source": [
        "inertia = model.inertia_\n",
        "print(\"Inertia (3 clusters):\", inertia)"
      ],
      "metadata": {
        "colab": {
          "base_uri": "https://localhost:8080/"
        },
        "id": "9GxHc4kpUqCE",
        "outputId": "277f0e17-b282-453c-af7a-30af49a0d7ea"
      },
      "execution_count": 38,
      "outputs": [
        {
          "output_type": "stream",
          "name": "stdout",
          "text": [
            "Inertia (3 clusters): 939554010797057.5\n"
          ]
        }
      ]
    },
    {
      "cell_type": "code",
      "source": [
        "ss = silhouette_score(X,model.labels_)   # -1: is the worst & 1 : is the best\n",
        "print(\"Silhouette Score (3 clusters):\", ss)"
      ],
      "metadata": {
        "colab": {
          "base_uri": "https://localhost:8080/"
        },
        "id": "ffDBmBChhENR",
        "outputId": "f78effa5-44a0-4417-c310-ce08ba85000d"
      },
      "execution_count": 41,
      "outputs": [
        {
          "output_type": "stream",
          "name": "stdout",
          "text": [
            "Silhouette Score (3 clusters): 0.9768842462944348\n"
          ]
        }
      ]
    },
    {
      "cell_type": "code",
      "source": [
        "# number of clusters hyperparameter tunning\n",
        "n_clusters = range(2,13)\n",
        "inertia_errors = list()\n",
        "silhouette_scores = list()\n",
        "\n",
        "# Add `for` loop to train model and calculate inertia, silhouette score.\n",
        "for x in n_clusters:\n",
        "    model=KMeans(n_clusters=x,random_state=42)\n",
        "    model.fit(X)\n",
        "    inertia_errors.append(model.inertia_)\n",
        "    silhouette_scores.append(silhouette_score(X,model.labels_))\n",
        "print(\"Inertia:\", inertia_errors)\n",
        "print()\n",
        "print(\"Silhouette Scores:\", silhouette_scores)"
      ],
      "metadata": {
        "colab": {
          "base_uri": "https://localhost:8080/"
        },
        "id": "FXcEWdl7h68j",
        "outputId": "019a80b4-a51d-4e26-fbce-0bdfdfdcc16b"
      },
      "execution_count": 42,
      "outputs": [
        {
          "output_type": "stream",
          "name": "stderr",
          "text": [
            "/usr/local/lib/python3.10/dist-packages/sklearn/cluster/_kmeans.py:870: FutureWarning: The default value of `n_init` will change from 10 to 'auto' in 1.4. Set the value of `n_init` explicitly to suppress the warning\n",
            "  warnings.warn(\n",
            "/usr/local/lib/python3.10/dist-packages/sklearn/cluster/_kmeans.py:870: FutureWarning: The default value of `n_init` will change from 10 to 'auto' in 1.4. Set the value of `n_init` explicitly to suppress the warning\n",
            "  warnings.warn(\n",
            "/usr/local/lib/python3.10/dist-packages/sklearn/cluster/_kmeans.py:870: FutureWarning: The default value of `n_init` will change from 10 to 'auto' in 1.4. Set the value of `n_init` explicitly to suppress the warning\n",
            "  warnings.warn(\n",
            "/usr/local/lib/python3.10/dist-packages/sklearn/cluster/_kmeans.py:870: FutureWarning: The default value of `n_init` will change from 10 to 'auto' in 1.4. Set the value of `n_init` explicitly to suppress the warning\n",
            "  warnings.warn(\n",
            "/usr/local/lib/python3.10/dist-packages/sklearn/cluster/_kmeans.py:870: FutureWarning: The default value of `n_init` will change from 10 to 'auto' in 1.4. Set the value of `n_init` explicitly to suppress the warning\n",
            "  warnings.warn(\n",
            "/usr/local/lib/python3.10/dist-packages/sklearn/cluster/_kmeans.py:870: FutureWarning: The default value of `n_init` will change from 10 to 'auto' in 1.4. Set the value of `n_init` explicitly to suppress the warning\n",
            "  warnings.warn(\n",
            "/usr/local/lib/python3.10/dist-packages/sklearn/cluster/_kmeans.py:870: FutureWarning: The default value of `n_init` will change from 10 to 'auto' in 1.4. Set the value of `n_init` explicitly to suppress the warning\n",
            "  warnings.warn(\n",
            "/usr/local/lib/python3.10/dist-packages/sklearn/cluster/_kmeans.py:870: FutureWarning: The default value of `n_init` will change from 10 to 'auto' in 1.4. Set the value of `n_init` explicitly to suppress the warning\n",
            "  warnings.warn(\n",
            "/usr/local/lib/python3.10/dist-packages/sklearn/cluster/_kmeans.py:870: FutureWarning: The default value of `n_init` will change from 10 to 'auto' in 1.4. Set the value of `n_init` explicitly to suppress the warning\n",
            "  warnings.warn(\n",
            "/usr/local/lib/python3.10/dist-packages/sklearn/cluster/_kmeans.py:870: FutureWarning: The default value of `n_init` will change from 10 to 'auto' in 1.4. Set the value of `n_init` explicitly to suppress the warning\n",
            "  warnings.warn(\n",
            "/usr/local/lib/python3.10/dist-packages/sklearn/cluster/_kmeans.py:870: FutureWarning: The default value of `n_init` will change from 10 to 'auto' in 1.4. Set the value of `n_init` explicitly to suppress the warning\n",
            "  warnings.warn(\n"
          ]
        },
        {
          "output_type": "stream",
          "name": "stdout",
          "text": [
            "Inertia: [3018038313336920.0, 939554010797057.5, 546098841715650.0, 309310386410919.8, 235243397481786.56, 182225729179700.12, 150670779013794.06, 114321995931019.72, 100340259483917.66, 86229997033602.6, 74757234072099.45]\n",
            "\n",
            "Silhouette Scores: [0.9855099957519555, 0.9768842462944348, 0.9490311483406091, 0.839330043242819, 0.7287406719898627, 0.726989114305748, 0.7263840026889208, 0.7335125606476427, 0.692157992955073, 0.6949309528556856, 0.6951831031001252]\n"
          ]
        }
      ]
    },
    {
      "cell_type": "code",
      "source": [
        "# Plot `inertia_errors` by `n_clusters`\n",
        "plt.plot(n_clusters,inertia_errors)\n",
        "plt.xlabel(\"Number of Clusters\")\n",
        "plt.ylabel(\"Inertia\")\n",
        "plt.title(\"K-Means Model: Inertia vs Number of Clusters\");"
      ],
      "metadata": {
        "colab": {
          "base_uri": "https://localhost:8080/",
          "height": 472
        },
        "id": "C4cD7B6OkrHW",
        "outputId": "102dbd5f-b836-45cb-d39e-d1188f623a5f"
      },
      "execution_count": 43,
      "outputs": [
        {
          "output_type": "display_data",
          "data": {
            "text/plain": [
              "<Figure size 640x480 with 1 Axes>"
            ],
            "image/png": "[encoded data removed]"
          },
          "metadata": {}
        }
      ]
    },
    {
      "cell_type": "code",
      "source": [
        "# from the plot we must choose 4 or 5 clusters (pick the point where the drop in inertia becomes less dramatic and the line begins to flatten out.)"
      ],
      "metadata": {
        "id": "qd_dMzvtlMjy"
      },
      "execution_count": 45,
      "outputs": []
    },
    {
      "cell_type": "code",
      "source": [
        "# Plot `silhouette_scores` vs `n_clusters`\n",
        "plt.plot(n_clusters,silhouette_scores)\n",
        "plt.xlabel(\"Number of Clusters\")\n",
        "plt.ylabel(\"Silhouette Score\")\n",
        "plt.title(\"K-Means Model: Silhouette Score vs Number of Clusters\");"
      ],
      "metadata": {
        "colab": {
          "base_uri": "https://localhost:8080/",
          "height": 472
        },
        "id": "s6SBUuT1m2jq",
        "outputId": "112cb68a-c6dd-49ad-da64-447fd9007d1e"
      },
      "execution_count": 46,
      "outputs": [
        {
          "output_type": "display_data",
          "data": {
            "text/plain": [
              "<Figure size 640x480 with 1 Axes>"
            ],
            "image/png": "[encoded data removed]"
          },
          "metadata": {}
        }
      ]
    },
    {
      "cell_type": "code",
      "source": [
        "# so we must choose 4 clusters."
      ],
      "metadata": {
        "id": "9DY1XdOnnKIL"
      },
      "execution_count": 48,
      "outputs": []
    },
    {
      "cell_type": "code",
      "source": [
        "# Let's build the final Model\n",
        "final_model = KMeans(n_clusters=4,random_state=42)\n",
        "# Fit model to data\n",
        "final_model.fit(X)"
      ],
      "metadata": {
        "colab": {
          "base_uri": "https://localhost:8080/",
          "height": 109
        },
        "id": "OK2BIEoSn4sY",
        "outputId": "4aff9e56-6b0c-4dfa-b3ad-7c4628634fa3"
      },
      "execution_count": 50,
      "outputs": [
        {
          "output_type": "stream",
          "name": "stderr",
          "text": [
            "/usr/local/lib/python3.10/dist-packages/sklearn/cluster/_kmeans.py:870: FutureWarning: The default value of `n_init` will change from 10 to 'auto' in 1.4. Set the value of `n_init` explicitly to suppress the warning\n",
            "  warnings.warn(\n"
          ]
        },
        {
          "output_type": "execute_result",
          "data": {
            "text/plain": [
              "KMeans(n_clusters=4, random_state=42)"
            ],
            "text/html": [
              "<style>#sk-container-id-2 {color: black;background-color: white;}#sk-container-id-2 pre{padding: 0;}#sk-container-id-2 div.sk-toggleable {background-color: white;}#sk-container-id-2 label.sk-toggleable__label {cursor: pointer;display: block;width: 100%;margin-bottom: 0;padding: 0.3em;box-sizing: border-box;text-align: center;}#sk-container-id-2 label.sk-toggleable__label-arrow:before {content: \"▸\";float: left;margin-right: 0.25em;color: #696969;}#sk-container-id-2 label.sk-toggleable__label-arrow:hover:before {color: black;}#sk-container-id-2 div.sk-estimator:hover label.sk-toggleable__label-arrow:before {color: black;}#sk-container-id-2 div.sk-toggleable__content {max-height: 0;max-width: 0;overflow: hidden;text-align: left;background-color: #f0f8ff;}#sk-container-id-2 div.sk-toggleable__content pre {margin: 0.2em;color: black;border-radius: 0.25em;background-color: #f0f8ff;}#sk-container-id-2 input.sk-toggleable__control:checked~div.sk-toggleable__content {max-height: 200px;max-width: 100%;overflow: auto;}#sk-container-id-2 input.sk-toggleable__control:checked~label.sk-toggleable__label-arrow:before {content: \"▾\";}#sk-container-id-2 div.sk-estimator input.sk-toggleable__control:checked~label.sk-toggleable__label {background-color: #d4ebff;}#sk-container-id-2 div.sk-label input.sk-toggleable__control:checked~label.sk-toggleable__label {background-color: #d4ebff;}#sk-container-id-2 input.sk-hidden--visually {border: 0;clip: rect(1px 1px 1px 1px);clip: rect(1px, 1px, 1px, 1px);height: 1px;margin: -1px;overflow: hidden;padding: 0;position: absolute;width: 1px;}#sk-container-id-2 div.sk-estimator {font-family: monospace;background-color: #f0f8ff;border: 1px dotted black;border-radius: 0.25em;box-sizing: border-box;margin-bottom: 0.5em;}#sk-container-id-2 div.sk-estimator:hover {background-color: #d4ebff;}#sk-container-id-2 div.sk-parallel-item::after {content: \"\";width: 100%;border-bottom: 1px solid gray;flex-grow: 1;}#sk-container-id-2 div.sk-label:hover label.sk-toggleable__label {background-color: #d4ebff;}#sk-container-id-2 div.sk-serial::before {content: \"\";position: absolute;border-left: 1px solid gray;box-sizing: border-box;top: 0;bottom: 0;left: 50%;z-index: 0;}#sk-container-id-2 div.sk-serial {display: flex;flex-direction: column;align-items: center;background-color: white;padding-right: 0.2em;padding-left: 0.2em;position: relative;}#sk-container-id-2 div.sk-item {position: relative;z-index: 1;}#sk-container-id-2 div.sk-parallel {display: flex;align-items: stretch;justify-content: center;background-color: white;position: relative;}#sk-container-id-2 div.sk-item::before, #sk-container-id-2 div.sk-parallel-item::before {content: \"\";position: absolute;border-left: 1px solid gray;box-sizing: border-box;top: 0;bottom: 0;left: 50%;z-index: -1;}#sk-container-id-2 div.sk-parallel-item {display: flex;flex-direction: column;z-index: 1;position: relative;background-color: white;}#sk-container-id-2 div.sk-parallel-item:first-child::after {align-self: flex-end;width: 50%;}#sk-container-id-2 div.sk-parallel-item:last-child::after {align-self: flex-start;width: 50%;}#sk-container-id-2 div.sk-parallel-item:only-child::after {width: 0;}#sk-container-id-2 div.sk-dashed-wrapped {border: 1px dashed gray;margin: 0 0.4em 0.5em 0.4em;box-sizing: border-box;padding-bottom: 0.4em;background-color: white;}#sk-container-id-2 div.sk-label label {font-family: monospace;font-weight: bold;display: inline-block;line-height: 1.2em;}#sk-container-id-2 div.sk-label-container {text-align: center;}#sk-container-id-2 div.sk-container {/* jupyter's `normalize.less` sets `[hidden] { display: none; }` but bootstrap.min.css set `[hidden] { display: none !important; }` so we also need the `!important` here to be able to override the default hidden behavior on the sphinx rendered scikit-learn.org. See: https://github.com/scikit-learn/scikit-learn/issues/21755 */display: inline-block !important;position: relative;}#sk-container-id-2 div.sk-text-repr-fallback {display: none;}</style><div id=\"sk-container-id-2\" class=\"sk-top-container\"><div class=\"sk-text-repr-fallback\"><pre>KMeans(n_clusters=4, random_state=42)</pre><b>In a Jupyter environment, please rerun this cell to show the HTML representation or trust the notebook. <br />On GitHub, the HTML representation is unable to render, please try loading this page with nbviewer.org.</b></div><div class=\"sk-container\" hidden><div class=\"sk-item\"><div class=\"sk-estimator sk-toggleable\"><input class=\"sk-toggleable__control sk-hidden--visually\" id=\"sk-estimator-id-2\" type=\"checkbox\" checked><label for=\"sk-estimator-id-2\" class=\"sk-toggleable__label sk-toggleable__label-arrow\">KMeans</label><div class=\"sk-toggleable__content\"><pre>KMeans(n_clusters=4, random_state=42)</pre></div></div></div></div></div>"
            ]
          },
          "metadata": {},
          "execution_count": 50
        }
      ]
    },
    {
      "cell_type": "code",
      "source": [
        "# Plot \"HOUSES\" vs \"DEBT\" with final_model labels\n",
        "sns.scatterplot(x=df_fear[\"DEBT\"]/1e6,y=df_fear[\"HOUSES\"]/1e6,hue=final_model.labels_,palette=\"deep\")\n",
        "plt.xlabel(\"Household Debt [$1M]\")\n",
        "plt.ylabel(\"Home Value [$1M]\")\n",
        "plt.title(\"Credit Fearful: Home Value vs. Household Debt\");"
      ],
      "metadata": {
        "colab": {
          "base_uri": "https://localhost:8080/",
          "height": 472
        },
        "id": "6QpiKuYKn71m",
        "outputId": "fadf6f4a-5e83-4c27-ab3e-783bc6ac3092"
      },
      "execution_count": 51,
      "outputs": [
        {
          "output_type": "display_data",
          "data": {
            "text/plain": [
              "<Figure size 640x480 with 1 Axes>"
            ],
            "image/png": "[encoded data removed]"
          },
          "metadata": {}
        }
      ]
    },
    {
      "cell_type": "code",
      "source": [
        "# Create dataframe contains the mean \"DEBT\" and \"HOUSES\" values for each of the clusters in your final_model.\n",
        "xgb =X.groupby(final_model.labels_).mean()\n",
        "xgb"
      ],
      "metadata": {
        "colab": {
          "base_uri": "https://localhost:8080/",
          "height": 175
        },
        "id": "OskokyYFoK7n",
        "outputId": "14b59665-6bf4-43a5-ec78-7fc10bc2add2"
      },
      "execution_count": 52,
      "outputs": [
        {
          "output_type": "execute_result",
          "data": {
            "text/plain": [
              "           DEBT        HOUSES\n",
              "0  8.488629e+04  1.031872e+05\n",
              "1  1.838410e+07  3.448400e+07\n",
              "2  5.472800e+06  1.407400e+07\n",
              "3  2.420929e+06  4.551429e+06"
            ],
            "text/html": [
              "\n",
              "  <div id=\"df-2fdbdf0e-77e6-4c64-9e8f-03436dd9d895\" class=\"colab-df-container\">\n",
              "    <div>\n",
              "<style scoped>\n",
              "    .dataframe tbody tr th:only-of-type {\n",
              "        vertical-align: middle;\n",
              "    }\n",
              "\n",
              "    .dataframe tbody tr th {\n",
              "        vertical-align: top;\n",
              "    }\n",
              "\n",
              "    .dataframe thead th {\n",
              "        text-align: right;\n",
              "    }\n",
              "</style>\n",
              "<table border=\"1\" class=\"dataframe\">\n",
              "  <thead>\n",
              "    <tr style=\"text-align: right;\">\n",
              "      <th></th>\n",
              "      <th>DEBT</th>\n",
              "      <th>HOUSES</th>\n",
              "    </tr>\n",
              "  </thead>\n",
              "  <tbody>\n",
              "    <tr>\n",
              "      <th>0</th>\n",
              "      <td>8.488629e+04</td>\n",
              "      <td>1.031872e+05</td>\n",
              "    </tr>\n",
              "    <tr>\n",
              "      <th>1</th>\n",
              "      <td>1.838410e+07</td>\n",
              "      <td>3.448400e+07</td>\n",
              "    </tr>\n",
              "    <tr>\n",
              "      <th>2</th>\n",
              "      <td>5.472800e+06</td>\n",
              "      <td>1.407400e+07</td>\n",
              "    </tr>\n",
              "    <tr>\n",
              "      <th>3</th>\n",
              "      <td>2.420929e+06</td>\n",
              "      <td>4.551429e+06</td>\n",
              "    </tr>\n",
              "  </tbody>\n",
              "</table>\n",
              "</div>\n",
              "    <div class=\"colab-df-buttons\">\n",
              "\n",
              "  <div class=\"colab-df-container\">\n",
              "    <button class=\"colab-df-convert\" onclick=\"convertToInteractive('df-2fdbdf0e-77e6-4c64-9e8f-03436dd9d895')\"\n",
              "            title=\"Convert this dataframe to an interactive table.\"\n",
              "            style=\"display:none;\">\n",
              "\n",
              "  <svg xmlns=\"http://www.w3.org/2000/svg\" height=\"24px\" viewBox=\"0 -960 960 960\">\n",
              "    <path d=\"M120-120v-720h720v720H120Zm60-500h600v-160H180v160Zm220 220h160v-160H400v160Zm0 220h160v-160H400v160ZM180-400h160v-160H180v160Zm440 0h160v-160H620v160ZM180-180h160v-160H180v160Zm440 0h160v-160H620v160Z\"/>\n",
              "  </svg>\n",
              "    </button>\n",
              "\n",
              "  <style>\n",
              "    .colab-df-container {\n",
              "      display:flex;\n",
              "      gap: 12px;\n",
              "    }\n",
              "\n",
              "    .colab-df-convert {\n",
              "      background-color: #E8F0FE;\n",
              "      border: none;\n",
              "      border-radius: 50%;\n",
              "      cursor: pointer;\n",
              "      display: none;\n",
              "      fill: #1967D2;\n",
              "      height: 32px;\n",
              "      padding: 0 0 0 0;\n",
              "      width: 32px;\n",
              "    }\n",
              "\n",
              "    .colab-df-convert:hover {\n",
              "      background-color: #E2EBFA;\n",
              "      box-shadow: 0px 1px 2px rgba(60, 64, 67, 0.3), 0px 1px 3px 1px rgba(60, 64, 67, 0.15);\n",
              "      fill: #174EA6;\n",
              "    }\n",
              "\n",
              "    .colab-df-buttons div {\n",
              "      margin-bottom: 4px;\n",
              "    }\n",
              "\n",
              "    [theme=dark] .colab-df-convert {\n",
              "      background-color: #3B4455;\n",
              "      fill: #D2E3FC;\n",
              "    }\n",
              "\n",
              "    [theme=dark] .colab-df-convert:hover {\n",
              "      background-color: #434B5C;\n",
              "      box-shadow: 0px 1px 3px 1px rgba(0, 0, 0, 0.15);\n",
              "      filter: drop-shadow(0px 1px 2px rgba(0, 0, 0, 0.3));\n",
              "      fill: #FFFFFF;\n",
              "    }\n",
              "  </style>\n",
              "\n",
              "    <script>\n",
              "      const buttonEl =\n",
              "        document.querySelector('#df-2fdbdf0e-77e6-4c64-9e8f-03436dd9d895 button.colab-df-convert');\n",
              "      buttonEl.style.display =\n",
              "        google.colab.kernel.accessAllowed ? 'block' : 'none';\n",
              "\n",
              "      async function convertToInteractive(key) {\n",
              "        const element = document.querySelector('#df-2fdbdf0e-77e6-4c64-9e8f-03436dd9d895');\n",
              "        const dataTable =\n",
              "          await google.colab.kernel.invokeFunction('convertToInteractive',\n",
              "                                                    [key], {});\n",
              "        if (!dataTable) return;\n",
              "\n",
              "        const docLinkHtml = 'Like what you see? Visit the ' +\n",
              "          '<a target=\"_blank\" href=https://colab.research.google.com/notebooks/data_table.ipynb>data table notebook</a>'\n",
              "          + ' to learn more about interactive tables.';\n",
              "        element.innerHTML = '';\n",
              "        dataTable['output_type'] = 'display_data';\n",
              "        await google.colab.output.renderOutput(dataTable, element);\n",
              "        const docLink = document.createElement('div');\n",
              "        docLink.innerHTML = docLinkHtml;\n",
              "        element.appendChild(docLink);\n",
              "      }\n",
              "    </script>\n",
              "  </div>\n",
              "\n",
              "\n",
              "<div id=\"df-f4307576-6eba-4621-8b53-fd531bcc1781\">\n",
              "  <button class=\"colab-df-quickchart\" onclick=\"quickchart('df-f4307576-6eba-4621-8b53-fd531bcc1781')\"\n",
              "            title=\"Suggest charts.\"\n",
              "            style=\"display:none;\">\n",
              "\n",
              "<svg xmlns=\"http://www.w3.org/2000/svg\" height=\"24px\"viewBox=\"0 0 24 24\"\n",
              "     width=\"24px\">\n",
              "    <g>\n",
              "        <path d=\"M19 3H5c-1.1 0-2 .9-2 2v14c0 1.1.9 2 2 2h14c1.1 0 2-.9 2-2V5c0-1.1-.9-2-2-2zM9 17H7v-7h2v7zm4 0h-2V7h2v10zm4 0h-2v-4h2v4z\"/>\n",
              "    </g>\n",
              "</svg>\n",
              "  </button>\n",
              "\n",
              "<style>\n",
              "  .colab-df-quickchart {\n",
              "    background-color: #E8F0FE;\n",
              "    border: none;\n",
              "    border-radius: 50%;\n",
              "    cursor: pointer;\n",
              "    display: none;\n",
              "    fill: #1967D2;\n",
              "    height: 32px;\n",
              "    padding: 0 0 0 0;\n",
              "    width: 32px;\n",
              "  }\n",
              "\n",
              "  .colab-df-quickchart:hover {\n",
              "    background-color: #E2EBFA;\n",
              "    box-shadow: 0px 1px 2px rgba(60, 64, 67, 0.3), 0px 1px 3px 1px rgba(60, 64, 67, 0.15);\n",
              "    fill: #174EA6;\n",
              "  }\n",
              "\n",
              "  [theme=dark] .colab-df-quickchart {\n",
              "    background-color: #3B4455;\n",
              "    fill: #D2E3FC;\n",
              "  }\n",
              "\n",
              "  [theme=dark] .colab-df-quickchart:hover {\n",
              "    background-color: #434B5C;\n",
              "    box-shadow: 0px 1px 3px 1px rgba(0, 0, 0, 0.15);\n",
              "    filter: drop-shadow(0px 1px 2px rgba(0, 0, 0, 0.3));\n",
              "    fill: #FFFFFF;\n",
              "  }\n",
              "</style>\n",
              "\n",
              "  <script>\n",
              "    async function quickchart(key) {\n",
              "      const charts = await google.colab.kernel.invokeFunction(\n",
              "          'suggestCharts', [key], {});\n",
              "    }\n",
              "    (() => {\n",
              "      let quickchartButtonEl =\n",
              "        document.querySelector('#df-f4307576-6eba-4621-8b53-fd531bcc1781 button');\n",
              "      quickchartButtonEl.style.display =\n",
              "        google.colab.kernel.accessAllowed ? 'block' : 'none';\n",
              "    })();\n",
              "  </script>\n",
              "</div>\n",
              "    </div>\n",
              "  </div>\n"
            ]
          },
          "metadata": {},
          "execution_count": 52
        }
      ]
    },
    {
      "cell_type": "code",
      "source": [
        "final_model.cluster_centers_"
      ],
      "metadata": {
        "colab": {
          "base_uri": "https://localhost:8080/"
        },
        "id": "eoUAfW-Pof_f",
        "outputId": "a561feea-f7b9-4621-82e0-8ed4f4601991"
      },
      "execution_count": 53,
      "outputs": [
        {
          "output_type": "execute_result",
          "data": {
            "text/plain": [
              "array([[   84886.28951384,   103187.22476564],\n",
              "       [18384100.        , 34484000.        ],\n",
              "       [ 5472800.        , 14074000.        ],\n",
              "       [ 2420928.57142857,  4551428.57142857]])"
            ]
          },
          "metadata": {},
          "execution_count": 53
        }
      ]
    },
    {
      "cell_type": "code",
      "source": [
        "# Create side-by-side bar chart of `xgb`\n",
        "(xgb/1e6).plot(kind='bar')\n",
        "plt.xlabel(\"Cluster\")\n",
        "plt.ylabel(\"Value [$1 million]\")\n",
        "plt.title(\"Mean Home Value & Household Debt by Cluster\");"
      ],
      "metadata": {
        "colab": {
          "base_uri": "https://localhost:8080/",
          "height": 467
        },
        "id": "QG_A6kbYopgQ",
        "outputId": "f95e6e55-ed01-4f02-e897-6c5ba9cc8c71"
      },
      "execution_count": 54,
      "outputs": [
        {
          "output_type": "display_data",
          "data": {
            "text/plain": [
              "<Figure size 640x480 with 1 Axes>"
            ],
            "image/png": "[encoded data removed]"
          },
          "metadata": {}
        }
      ]
    },
    {
      "cell_type": "markdown",
      "source": [
        "# Clustering with Multiple Features"
      ],
      "metadata": {
        "id": "7sBa0a7zFKV7"
      }
    },
    {
      "cell_type": "code",
      "source": [
        "from sklearn.preprocessing import StandardScaler\n",
        "from sklearn.decomposition import PCA\n",
        "from sklearn.pipeline import make_pipeline"
      ],
      "metadata": {
        "id": "mMbTtjh-o1vR"
      },
      "execution_count": 56,
      "outputs": []
    },
    {
      "cell_type": "code",
      "source": [
        "df=df[(df['TURNFEAR']==1) & (df['NETWORTH']<2e6)]"
      ],
      "metadata": {
        "id": "lcu0sjF5FiVD"
      },
      "execution_count": 57,
      "outputs": []
    },
    {
      "cell_type": "code",
      "source": [
        "df.head()"
      ],
      "metadata": {
        "colab": {
          "base_uri": "https://localhost:8080/",
          "height": 236
        },
        "id": "zojfraZGFnIc",
        "outputId": "326ea71b-1a16-4a51-a326-3c20e1deb19c"
      },
      "execution_count": 59,
      "outputs": [
        {
          "output_type": "execute_result",
          "data": {
            "text/plain": [
              "   YY1  Y1          WGT  HHSEX  AGE  AGECL  EDUC  EDCL  MARRIED  KIDS  ...  \\\n",
              "5    2  21  3790.476607      1   50      3     8     2        1     3  ...   \n",
              "6    2  22  3798.868505      1   50      3     8     2        1     3  ...   \n",
              "7    2  23  3799.468393      1   50      3     8     2        1     3  ...   \n",
              "8    2  24  3788.076005      1   50      3     8     2        1     3  ...   \n",
              "9    2  25  3793.066589      1   50      3     8     2        1     3  ...   \n",
              "\n",
              "   NWCAT  INCCAT  ASSETCAT  NINCCAT  NINC2CAT  NWPCTLECAT  INCPCTLECAT  \\\n",
              "5      1       2         1        2         1           1            4   \n",
              "6      1       2         1        2         1           1            4   \n",
              "7      1       2         1        2         1           1            4   \n",
              "8      1       2         1        2         1           1            4   \n",
              "9      1       2         1        2         1           1            4   \n",
              "\n",
              "   NINCPCTLECAT  INCQRTCAT  NINCQRTCAT  \n",
              "5             4          2           2  \n",
              "6             3          2           2  \n",
              "7             4          2           2  \n",
              "8             4          2           2  \n",
              "9             4          2           2  \n",
              "\n",
              "[5 rows x 351 columns]"
            ],
            "text/html": [
              "\n",
              "  <div id=\"df-86ebfa71-764e-49c3-afe1-0227e799eb73\" class=\"colab-df-container\">\n",
              "    <div>\n",
              "<style scoped>\n",
              "    .dataframe tbody tr th:only-of-type {\n",
              "        vertical-align: middle;\n",
              "    }\n",
              "\n",
              "    .dataframe tbody tr th {\n",
              "        vertical-align: top;\n",
              "    }\n",
              "\n",
              "    .dataframe thead th {\n",
              "        text-align: right;\n",
              "    }\n",
              "</style>\n",
              "<table border=\"1\" class=\"dataframe\">\n",
              "  <thead>\n",
              "    <tr style=\"text-align: right;\">\n",
              "      <th></th>\n",
              "      <th>YY1</th>\n",
              "      <th>Y1</th>\n",
              "      <th>WGT</th>\n",
              "      <th>HHSEX</th>\n",
              "      <th>AGE</th>\n",
              "      <th>AGECL</th>\n",
              "      <th>EDUC</th>\n",
              "      <th>EDCL</th>\n",
              "      <th>MARRIED</th>\n",
              "      <th>KIDS</th>\n",
              "      <th>...</th>\n",
              "      <th>NWCAT</th>\n",
              "      <th>INCCAT</th>\n",
              "      <th>ASSETCAT</th>\n",
              "      <th>NINCCAT</th>\n",
              "      <th>NINC2CAT</th>\n",
              "      <th>NWPCTLECAT</th>\n",
              "      <th>INCPCTLECAT</th>\n",
              "      <th>NINCPCTLECAT</th>\n",
              "      <th>INCQRTCAT</th>\n",
              "      <th>NINCQRTCAT</th>\n",
              "    </tr>\n",
              "  </thead>\n",
              "  <tbody>\n",
              "    <tr>\n",
              "      <th>5</th>\n",
              "      <td>2</td>\n",
              "      <td>21</td>\n",
              "      <td>3790.476607</td>\n",
              "      <td>1</td>\n",
              "      <td>50</td>\n",
              "      <td>3</td>\n",
              "      <td>8</td>\n",
              "      <td>2</td>\n",
              "      <td>1</td>\n",
              "      <td>3</td>\n",
              "      <td>...</td>\n",
              "      <td>1</td>\n",
              "      <td>2</td>\n",
              "      <td>1</td>\n",
              "      <td>2</td>\n",
              "      <td>1</td>\n",
              "      <td>1</td>\n",
              "      <td>4</td>\n",
              "      <td>4</td>\n",
              "      <td>2</td>\n",
              "      <td>2</td>\n",
              "    </tr>\n",
              "    <tr>\n",
              "      <th>6</th>\n",
              "      <td>2</td>\n",
              "      <td>22</td>\n",
              "      <td>3798.868505</td>\n",
              "      <td>1</td>\n",
              "      <td>50</td>\n",
              "      <td>3</td>\n",
              "      <td>8</td>\n",
              "      <td>2</td>\n",
              "      <td>1</td>\n",
              "      <td>3</td>\n",
              "      <td>...</td>\n",
              "      <td>1</td>\n",
              "      <td>2</td>\n",
              "      <td>1</td>\n",
              "      <td>2</td>\n",
              "      <td>1</td>\n",
              "      <td>1</td>\n",
              "      <td>4</td>\n",
              "      <td>3</td>\n",
              "      <td>2</td>\n",
              "      <td>2</td>\n",
              "    </tr>\n",
              "    <tr>\n",
              "      <th>7</th>\n",
              "      <td>2</td>\n",
              "      <td>23</td>\n",
              "      <td>3799.468393</td>\n",
              "      <td>1</td>\n",
              "      <td>50</td>\n",
              "      <td>3</td>\n",
              "      <td>8</td>\n",
              "      <td>2</td>\n",
              "      <td>1</td>\n",
              "      <td>3</td>\n",
              "      <td>...</td>\n",
              "      <td>1</td>\n",
              "      <td>2</td>\n",
              "      <td>1</td>\n",
              "      <td>2</td>\n",
              "      <td>1</td>\n",
              "      <td>1</td>\n",
              "      <td>4</td>\n",
              "      <td>4</td>\n",
              "      <td>2</td>\n",
              "      <td>2</td>\n",
              "    </tr>\n",
              "    <tr>\n",
              "      <th>8</th>\n",
              "      <td>2</td>\n",
              "      <td>24</td>\n",
              "      <td>3788.076005</td>\n",
              "      <td>1</td>\n",
              "      <td>50</td>\n",
              "      <td>3</td>\n",
              "      <td>8</td>\n",
              "      <td>2</td>\n",
              "      <td>1</td>\n",
              "      <td>3</td>\n",
              "      <td>...</td>\n",
              "      <td>1</td>\n",
              "      <td>2</td>\n",
              "      <td>1</td>\n",
              "      <td>2</td>\n",
              "      <td>1</td>\n",
              "      <td>1</td>\n",
              "      <td>4</td>\n",
              "      <td>4</td>\n",
              "      <td>2</td>\n",
              "      <td>2</td>\n",
              "    </tr>\n",
              "    <tr>\n",
              "      <th>9</th>\n",
              "      <td>2</td>\n",
              "      <td>25</td>\n",
              "      <td>3793.066589</td>\n",
              "      <td>1</td>\n",
              "      <td>50</td>\n",
              "      <td>3</td>\n",
              "      <td>8</td>\n",
              "      <td>2</td>\n",
              "      <td>1</td>\n",
              "      <td>3</td>\n",
              "      <td>...</td>\n",
              "      <td>1</td>\n",
              "      <td>2</td>\n",
              "      <td>1</td>\n",
              "      <td>2</td>\n",
              "      <td>1</td>\n",
              "      <td>1</td>\n",
              "      <td>4</td>\n",
              "      <td>4</td>\n",
              "      <td>2</td>\n",
              "      <td>2</td>\n",
              "    </tr>\n",
              "  </tbody>\n",
              "</table>\n",
              "<p>5 rows × 351 columns</p>\n",
              "</div>\n",
              "    <div class=\"colab-df-buttons\">\n",
              "\n",
              "  <div class=\"colab-df-container\">\n",
              "    <button class=\"colab-df-convert\" onclick=\"convertToInteractive('df-86ebfa71-764e-49c3-afe1-0227e799eb73')\"\n",
              "            title=\"Convert this dataframe to an interactive table.\"\n",
              "            style=\"display:none;\">\n",
              "\n",
              "  <svg xmlns=\"http://www.w3.org/2000/svg\" height=\"24px\" viewBox=\"0 -960 960 960\">\n",
              "    <path d=\"M120-120v-720h720v720H120Zm60-500h600v-160H180v160Zm220 220h160v-160H400v160Zm0 220h160v-160H400v160ZM180-400h160v-160H180v160Zm440 0h160v-160H620v160ZM180-180h160v-160H180v160Zm440 0h160v-160H620v160Z\"/>\n",
              "  </svg>\n",
              "    </button>\n",
              "\n",
              "  <style>\n",
              "    .colab-df-container {\n",
              "      display:flex;\n",
              "      gap: 12px;\n",
              "    }\n",
              "\n",
              "    .colab-df-convert {\n",
              "      background-color: #E8F0FE;\n",
              "      border: none;\n",
              "      border-radius: 50%;\n",
              "      cursor: pointer;\n",
              "      display: none;\n",
              "      fill: #1967D2;\n",
              "      height: 32px;\n",
              "      padding: 0 0 0 0;\n",
              "      width: 32px;\n",
              "    }\n",
              "\n",
              "    .colab-df-convert:hover {\n",
              "      background-color: #E2EBFA;\n",
              "      box-shadow: 0px 1px 2px rgba(60, 64, 67, 0.3), 0px 1px 3px 1px rgba(60, 64, 67, 0.15);\n",
              "      fill: #174EA6;\n",
              "    }\n",
              "\n",
              "    .colab-df-buttons div {\n",
              "      margin-bottom: 4px;\n",
              "    }\n",
              "\n",
              "    [theme=dark] .colab-df-convert {\n",
              "      background-color: #3B4455;\n",
              "      fill: #D2E3FC;\n",
              "    }\n",
              "\n",
              "    [theme=dark] .colab-df-convert:hover {\n",
              "      background-color: #434B5C;\n",
              "      box-shadow: 0px 1px 3px 1px rgba(0, 0, 0, 0.15);\n",
              "      filter: drop-shadow(0px 1px 2px rgba(0, 0, 0, 0.3));\n",
              "      fill: #FFFFFF;\n",
              "    }\n",
              "  </style>\n",
              "\n",
              "    <script>\n",
              "      const buttonEl =\n",
              "        document.querySelector('#df-86ebfa71-764e-49c3-afe1-0227e799eb73 button.colab-df-convert');\n",
              "      buttonEl.style.display =\n",
              "        google.colab.kernel.accessAllowed ? 'block' : 'none';\n",
              "\n",
              "      async function convertToInteractive(key) {\n",
              "        const element = document.querySelector('#df-86ebfa71-764e-49c3-afe1-0227e799eb73');\n",
              "        const dataTable =\n",
              "          await google.colab.kernel.invokeFunction('convertToInteractive',\n",
              "                                                    [key], {});\n",
              "        if (!dataTable) return;\n",
              "\n",
              "        const docLinkHtml = 'Like what you see? Visit the ' +\n",
              "          '<a target=\"_blank\" href=https://colab.research.google.com/notebooks/data_table.ipynb>data table notebook</a>'\n",
              "          + ' to learn more about interactive tables.';\n",
              "        element.innerHTML = '';\n",
              "        dataTable['output_type'] = 'display_data';\n",
              "        await google.colab.output.renderOutput(dataTable, element);\n",
              "        const docLink = document.createElement('div');\n",
              "        docLink.innerHTML = docLinkHtml;\n",
              "        element.appendChild(docLink);\n",
              "      }\n",
              "    </script>\n",
              "  </div>\n",
              "\n",
              "\n",
              "<div id=\"df-0ee427de-1569-4d6b-89b5-6e93e288f76d\">\n",
              "  <button class=\"colab-df-quickchart\" onclick=\"quickchart('df-0ee427de-1569-4d6b-89b5-6e93e288f76d')\"\n",
              "            title=\"Suggest charts.\"\n",
              "            style=\"display:none;\">\n",
              "\n",
              "<svg xmlns=\"http://www.w3.org/2000/svg\" height=\"24px\"viewBox=\"0 0 24 24\"\n",
              "     width=\"24px\">\n",
              "    <g>\n",
              "        <path d=\"M19 3H5c-1.1 0-2 .9-2 2v14c0 1.1.9 2 2 2h14c1.1 0 2-.9 2-2V5c0-1.1-.9-2-2-2zM9 17H7v-7h2v7zm4 0h-2V7h2v10zm4 0h-2v-4h2v4z\"/>\n",
              "    </g>\n",
              "</svg>\n",
              "  </button>\n",
              "\n",
              "<style>\n",
              "  .colab-df-quickchart {\n",
              "    background-color: #E8F0FE;\n",
              "    border: none;\n",
              "    border-radius: 50%;\n",
              "    cursor: pointer;\n",
              "    display: none;\n",
              "    fill: #1967D2;\n",
              "    height: 32px;\n",
              "    padding: 0 0 0 0;\n",
              "    width: 32px;\n",
              "  }\n",
              "\n",
              "  .colab-df-quickchart:hover {\n",
              "    background-color: #E2EBFA;\n",
              "    box-shadow: 0px 1px 2px rgba(60, 64, 67, 0.3), 0px 1px 3px 1px rgba(60, 64, 67, 0.15);\n",
              "    fill: #174EA6;\n",
              "  }\n",
              "\n",
              "  [theme=dark] .colab-df-quickchart {\n",
              "    background-color: #3B4455;\n",
              "    fill: #D2E3FC;\n",
              "  }\n",
              "\n",
              "  [theme=dark] .colab-df-quickchart:hover {\n",
              "    background-color: #434B5C;\n",
              "    box-shadow: 0px 1px 3px 1px rgba(0, 0, 0, 0.15);\n",
              "    filter: drop-shadow(0px 1px 2px rgba(0, 0, 0, 0.3));\n",
              "    fill: #FFFFFF;\n",
              "  }\n",
              "</style>\n",
              "\n",
              "  <script>\n",
              "    async function quickchart(key) {\n",
              "      const charts = await google.colab.kernel.invokeFunction(\n",
              "          'suggestCharts', [key], {});\n",
              "    }\n",
              "    (() => {\n",
              "      let quickchartButtonEl =\n",
              "        document.querySelector('#df-0ee427de-1569-4d6b-89b5-6e93e288f76d button');\n",
              "      quickchartButtonEl.style.display =\n",
              "        google.colab.kernel.accessAllowed ? 'block' : 'none';\n",
              "    })();\n",
              "  </script>\n",
              "</div>\n",
              "    </div>\n",
              "  </div>\n"
            ]
          },
          "metadata": {},
          "execution_count": 59
        }
      ]
    },
    {
      "cell_type": "code",
      "source": [
        "# Calculate variance, get 10 largest features\n",
        "top_ten_var =df.var().sort_values().tail(10)\n",
        "top_ten_var"
      ],
      "metadata": {
        "colab": {
          "base_uri": "https://localhost:8080/"
        },
        "id": "Zh8abC3mFPay",
        "outputId": "33e3f0f8-53a6-459f-db17-7bc09e64aa2d"
      },
      "execution_count": 60,
      "outputs": [
        {
          "output_type": "execute_result",
          "data": {
            "text/plain": [
              "PLOAN1      1.140894e+10\n",
              "ACTBUS      1.251892e+10\n",
              "BUS         1.256643e+10\n",
              "KGTOTAL     1.346475e+10\n",
              "DEBT        1.848252e+10\n",
              "NHNFIN      2.254163e+10\n",
              "HOUSES      2.388459e+10\n",
              "NETWORTH    4.847029e+10\n",
              "NFIN        5.713939e+10\n",
              "ASSET       8.303967e+10\n",
              "dtype: float64"
            ]
          },
          "metadata": {},
          "execution_count": 60
        }
      ]
    },
    {
      "cell_type": "code",
      "source": [
        "# Create horizontal bar chart of `top_ten_var`\n",
        "import plotly.express as px\n",
        "fig = px.bar(x=top_ten_var, y=top_ten_var.index,title=\"SCF: High Variance Features\")\n",
        "fig.update_layout(xaxis_title=\"Variance\",yaxis_title=\"Feature\")\n",
        "fig.show()"
      ],
      "metadata": {
        "colab": {
          "base_uri": "https://localhost:8080/",
          "height": 542
        },
        "id": "I3GgbB3HFjRK",
        "outputId": "39ba94f5-786b-4708-fa59-dd3ec64be323"
      },
      "execution_count": 62,
      "outputs": [
        {
          "output_type": "display_data",
          "data": {
            "text/html": [
              "<html>\n",
              "<head><meta charset=\"utf-8\" /></head>\n",
              "<body>\n",
              "    <div>            <script src=\"https://cdnjs.cloudflare.com/ajax/libs/mathjax/2.7.5/MathJax.js?config=TeX-AMS-MML_SVG\"></script><script type=\"text/javascript\">if (window.MathJax && window.MathJax.Hub && window.MathJax.Hub.Config) {window.MathJax.Hub.Config({SVG: {font: \"STIX-Web\"}});}</script>                <script type=\"text/javascript\">window.PlotlyConfig = {MathJaxConfig: 'local'};</script>\n",
              "        <script charset=\"utf-8\" src=\"https://cdn.plot.ly/plotly-2.24.1.min.js\"></script>                <div id=\"2401d605-66c8-4697-8b2a-4086a2dc5f45\" class=\"plotly-graph-div\" style=\"height:525px; width:100%;\"></div>            <script type=\"text/javascript\">                                    window.PLOTLYENV=window.PLOTLYENV || {};                                    if (document.getElementById(\"2401d605-66c8-4697-8b2a-4086a2dc5f45\")) {                    Plotly.newPlot(                        \"2401d605-66c8-4697-8b2a-4086a2dc5f45\",                        [{\"alignmentgroup\":\"True\",\"hovertemplate\":\"x=%{x}\\u003cbr\\u003ey=%{y}\\u003cextra\\u003e\\u003c\\u002fextra\\u003e\",\"legendgroup\":\"\",\"marker\":{\"color\":\"#636efa\",\"pattern\":{\"shape\":\"\"}},\"name\":\"\",\"offsetgroup\":\"\",\"orientation\":\"h\",\"showlegend\":false,\"textposition\":\"auto\",\"x\":[11408942527.82743,12518916948.613602,12566432445.275385,13464753169.730022,18482520920.40815,22541633958.338097,23884594633.763046,48470286637.42383,57139390964.95616,83039666928.1987],\"xaxis\":\"x\",\"y\":[\"PLOAN1\",\"ACTBUS\",\"BUS\",\"KGTOTAL\",\"DEBT\",\"NHNFIN\",\"HOUSES\",\"NETWORTH\",\"NFIN\",\"ASSET\"],\"yaxis\":\"y\",\"type\":\"bar\"}],                        {\"template\":{\"data\":{\"histogram2dcontour\":[{\"type\":\"histogram2dcontour\",\"colorbar\":{\"outlinewidth\":0,\"ticks\":\"\"},\"colorscale\":[[0.0,\"#0d0887\"],[0.1111111111111111,\"#46039f\"],[0.2222222222222222,\"#7201a8\"],[0.3333333333333333,\"#9c179e\"],[0.4444444444444444,\"#bd3786\"],[0.5555555555555556,\"#d8576b\"],[0.6666666666666666,\"#ed7953\"],[0.7777777777777778,\"#fb9f3a\"],[0.8888888888888888,\"#fdca26\"],[1.0,\"#f0f921\"]]}],\"choropleth\":[{\"type\":\"choropleth\",\"colorbar\":{\"outlinewidth\":0,\"ticks\":\"\"}}],\"histogram2d\":[{\"type\":\"histogram2d\",\"colorbar\":{\"outlinewidth\":0,\"ticks\":\"\"},\"colorscale\":[[0.0,\"#0d0887\"],[0.1111111111111111,\"#46039f\"],[0.2222222222222222,\"#7201a8\"],[0.3333333333333333,\"#9c179e\"],[0.4444444444444444,\"#bd3786\"],[0.5555555555555556,\"#d8576b\"],[0.6666666666666666,\"#ed7953\"],[0.7777777777777778,\"#fb9f3a\"],[0.8888888888888888,\"#fdca26\"],[1.0,\"#f0f921\"]]}],\"heatmap\":[{\"type\":\"heatmap\",\"colorbar\":{\"outlinewidth\":0,\"ticks\":\"\"},\"colorscale\":[[0.0,\"#0d0887\"],[0.1111111111111111,\"#46039f\"],[0.2222222222222222,\"#7201a8\"],[0.3333333333333333,\"#9c179e\"],[0.4444444444444444,\"#bd3786\"],[0.5555555555555556,\"#d8576b\"],[0.6666666666666666,\"#ed7953\"],[0.7777777777777778,\"#fb9f3a\"],[0.8888888888888888,\"#fdca26\"],[1.0,\"#f0f921\"]]}],\"heatmapgl\":[{\"type\":\"heatmapgl\",\"colorbar\":{\"outlinewidth\":0,\"ticks\":\"\"},\"colorscale\":[[0.0,\"#0d0887\"],[0.1111111111111111,\"#46039f\"],[0.2222222222222222,\"#7201a8\"],[0.3333333333333333,\"#9c179e\"],[0.4444444444444444,\"#bd3786\"],[0.5555555555555556,\"#d8576b\"],[0.6666666666666666,\"#ed7953\"],[0.7777777777777778,\"#fb9f3a\"],[0.8888888888888888,\"#fdca26\"],[1.0,\"#f0f921\"]]}],\"contourcarpet\":[{\"type\":\"contourcarpet\",\"colorbar\":{\"outlinewidth\":0,\"ticks\":\"\"}}],\"contour\":[{\"type\":\"contour\",\"colorbar\":{\"outlinewidth\":0,\"ticks\":\"\"},\"colorscale\":[[0.0,\"#0d0887\"],[0.1111111111111111,\"#46039f\"],[0.2222222222222222,\"#7201a8\"],[0.3333333333333333,\"#9c179e\"],[0.4444444444444444,\"#bd3786\"],[0.5555555555555556,\"#d8576b\"],[0.6666666666666666,\"#ed7953\"],[0.7777777777777778,\"#fb9f3a\"],[0.8888888888888888,\"#fdca26\"],[1.0,\"#f0f921\"]]}],\"surface\":[{\"type\":\"surface\",\"colorbar\":{\"outlinewidth\":0,\"ticks\":\"\"},\"colorscale\":[[0.0,\"#0d0887\"],[0.1111111111111111,\"#46039f\"],[0.2222222222222222,\"#7201a8\"],[0.3333333333333333,\"#9c179e\"],[0.4444444444444444,\"#bd3786\"],[0.5555555555555556,\"#d8576b\"],[0.6666666666666666,\"#ed7953\"],[0.7777777777777778,\"#fb9f3a\"],[0.8888888888888888,\"#fdca26\"],[1.0,\"#f0f921\"]]}],\"mesh3d\":[{\"type\":\"mesh3d\",\"colorbar\":{\"outlinewidth\":0,\"ticks\":\"\"}}],\"scatter\":[{\"fillpattern\":{\"fillmode\":\"overlay\",\"size\":10,\"solidity\":0.2},\"type\":\"scatter\"}],\"parcoords\":[{\"type\":\"parcoords\",\"line\":{\"colorbar\":{\"outlinewidth\":0,\"ticks\":\"\"}}}],\"scatterpolargl\":[{\"type\":\"scatterpolargl\",\"marker\":{\"colorbar\":{\"outlinewidth\":0,\"ticks\":\"\"}}}],\"bar\":[{\"error_x\":{\"color\":\"#2a3f5f\"},\"error_y\":{\"color\":\"#2a3f5f\"},\"marker\":{\"line\":{\"color\":\"#E5ECF6\",\"width\":0.5},\"pattern\":{\"fillmode\":\"overlay\",\"size\":10,\"solidity\":0.2}},\"type\":\"bar\"}],\"scattergeo\":[{\"type\":\"scattergeo\",\"marker\":{\"colorbar\":{\"outlinewidth\":0,\"ticks\":\"\"}}}],\"scatterpolar\":[{\"type\":\"scatterpolar\",\"marker\":{\"colorbar\":{\"outlinewidth\":0,\"ticks\":\"\"}}}],\"histogram\":[{\"marker\":{\"pattern\":{\"fillmode\":\"overlay\",\"size\":10,\"solidity\":0.2}},\"type\":\"histogram\"}],\"scattergl\":[{\"type\":\"scattergl\",\"marker\":{\"colorbar\":{\"outlinewidth\":0,\"ticks\":\"\"}}}],\"scatter3d\":[{\"type\":\"scatter3d\",\"line\":{\"colorbar\":{\"outlinewidth\":0,\"ticks\":\"\"}},\"marker\":{\"colorbar\":{\"outlinewidth\":0,\"ticks\":\"\"}}}],\"scattermapbox\":[{\"type\":\"scattermapbox\",\"marker\":{\"colorbar\":{\"outlinewidth\":0,\"ticks\":\"\"}}}],\"scatterternary\":[{\"type\":\"scatterternary\",\"marker\":{\"colorbar\":{\"outlinewidth\":0,\"ticks\":\"\"}}}],\"scattercarpet\":[{\"type\":\"scattercarpet\",\"marker\":{\"colorbar\":{\"outlinewidth\":0,\"ticks\":\"\"}}}],\"carpet\":[{\"aaxis\":{\"endlinecolor\":\"#2a3f5f\",\"gridcolor\":\"white\",\"linecolor\":\"white\",\"minorgridcolor\":\"white\",\"startlinecolor\":\"#2a3f5f\"},\"baxis\":{\"endlinecolor\":\"#2a3f5f\",\"gridcolor\":\"white\",\"linecolor\":\"white\",\"minorgridcolor\":\"white\",\"startlinecolor\":\"#2a3f5f\"},\"type\":\"carpet\"}],\"table\":[{\"cells\":{\"fill\":{\"color\":\"#EBF0F8\"},\"line\":{\"color\":\"white\"}},\"header\":{\"fill\":{\"color\":\"#C8D4E3\"},\"line\":{\"color\":\"white\"}},\"type\":\"table\"}],\"barpolar\":[{\"marker\":{\"line\":{\"color\":\"#E5ECF6\",\"width\":0.5},\"pattern\":{\"fillmode\":\"overlay\",\"size\":10,\"solidity\":0.2}},\"type\":\"barpolar\"}],\"pie\":[{\"automargin\":true,\"type\":\"pie\"}]},\"layout\":{\"autotypenumbers\":\"strict\",\"colorway\":[\"#636efa\",\"#EF553B\",\"#00cc96\",\"#ab63fa\",\"#FFA15A\",\"#19d3f3\",\"#FF6692\",\"#B6E880\",\"#FF97FF\",\"#FECB52\"],\"font\":{\"color\":\"#2a3f5f\"},\"hovermode\":\"closest\",\"hoverlabel\":{\"align\":\"left\"},\"paper_bgcolor\":\"white\",\"plot_bgcolor\":\"#E5ECF6\",\"polar\":{\"bgcolor\":\"#E5ECF6\",\"angularaxis\":{\"gridcolor\":\"white\",\"linecolor\":\"white\",\"ticks\":\"\"},\"radialaxis\":{\"gridcolor\":\"white\",\"linecolor\":\"white\",\"ticks\":\"\"}},\"ternary\":{\"bgcolor\":\"#E5ECF6\",\"aaxis\":{\"gridcolor\":\"white\",\"linecolor\":\"white\",\"ticks\":\"\"},\"baxis\":{\"gridcolor\":\"white\",\"linecolor\":\"white\",\"ticks\":\"\"},\"caxis\":{\"gridcolor\":\"white\",\"linecolor\":\"white\",\"ticks\":\"\"}},\"coloraxis\":{\"colorbar\":{\"outlinewidth\":0,\"ticks\":\"\"}},\"colorscale\":{\"sequential\":[[0.0,\"#0d0887\"],[0.1111111111111111,\"#46039f\"],[0.2222222222222222,\"#7201a8\"],[0.3333333333333333,\"#9c179e\"],[0.4444444444444444,\"#bd3786\"],[0.5555555555555556,\"#d8576b\"],[0.6666666666666666,\"#ed7953\"],[0.7777777777777778,\"#fb9f3a\"],[0.8888888888888888,\"#fdca26\"],[1.0,\"#f0f921\"]],\"sequentialminus\":[[0.0,\"#0d0887\"],[0.1111111111111111,\"#46039f\"],[0.2222222222222222,\"#7201a8\"],[0.3333333333333333,\"#9c179e\"],[0.4444444444444444,\"#bd3786\"],[0.5555555555555556,\"#d8576b\"],[0.6666666666666666,\"#ed7953\"],[0.7777777777777778,\"#fb9f3a\"],[0.8888888888888888,\"#fdca26\"],[1.0,\"#f0f921\"]],\"diverging\":[[0,\"#8e0152\"],[0.1,\"#c51b7d\"],[0.2,\"#de77ae\"],[0.3,\"#f1b6da\"],[0.4,\"#fde0ef\"],[0.5,\"#f7f7f7\"],[0.6,\"#e6f5d0\"],[0.7,\"#b8e186\"],[0.8,\"#7fbc41\"],[0.9,\"#4d9221\"],[1,\"#276419\"]]},\"xaxis\":{\"gridcolor\":\"white\",\"linecolor\":\"white\",\"ticks\":\"\",\"title\":{\"standoff\":15},\"zerolinecolor\":\"white\",\"automargin\":true,\"zerolinewidth\":2},\"yaxis\":{\"gridcolor\":\"white\",\"linecolor\":\"white\",\"ticks\":\"\",\"title\":{\"standoff\":15},\"zerolinecolor\":\"white\",\"automargin\":true,\"zerolinewidth\":2},\"scene\":{\"xaxis\":{\"backgroundcolor\":\"#E5ECF6\",\"gridcolor\":\"white\",\"linecolor\":\"white\",\"showbackground\":true,\"ticks\":\"\",\"zerolinecolor\":\"white\",\"gridwidth\":2},\"yaxis\":{\"backgroundcolor\":\"#E5ECF6\",\"gridcolor\":\"white\",\"linecolor\":\"white\",\"showbackground\":true,\"ticks\":\"\",\"zerolinecolor\":\"white\",\"gridwidth\":2},\"zaxis\":{\"backgroundcolor\":\"#E5ECF6\",\"gridcolor\":\"white\",\"linecolor\":\"white\",\"showbackground\":true,\"ticks\":\"\",\"zerolinecolor\":\"white\",\"gridwidth\":2}},\"shapedefaults\":{\"line\":{\"color\":\"#2a3f5f\"}},\"annotationdefaults\":{\"arrowcolor\":\"#2a3f5f\",\"arrowhead\":0,\"arrowwidth\":1},\"geo\":{\"bgcolor\":\"white\",\"landcolor\":\"#E5ECF6\",\"subunitcolor\":\"white\",\"showland\":true,\"showlakes\":true,\"lakecolor\":\"white\"},\"title\":{\"x\":0.05},\"mapbox\":{\"style\":\"light\"}}},\"xaxis\":{\"anchor\":\"y\",\"domain\":[0.0,1.0],\"title\":{\"text\":\"Variance\"}},\"yaxis\":{\"anchor\":\"x\",\"domain\":[0.0,1.0],\"title\":{\"text\":\"Feature\"}},\"legend\":{\"tracegroupgap\":0},\"title\":{\"text\":\"SCF: High Variance Features\"},\"barmode\":\"relative\"},                        {\"responsive\": true}                    ).then(function(){\n",
              "                            \n",
              "var gd = document.getElementById('2401d605-66c8-4697-8b2a-4086a2dc5f45');\n",
              "var x = new MutationObserver(function (mutations, observer) {{\n",
              "        var display = window.getComputedStyle(gd).display;\n",
              "        if (!display || display === 'none') {{\n",
              "            console.log([gd, 'removed!']);\n",
              "            Plotly.purge(gd);\n",
              "            observer.disconnect();\n",
              "        }}\n",
              "}});\n",
              "\n",
              "// Listen for the removal of the full notebook cells\n",
              "var notebookContainer = gd.closest('#notebook-container');\n",
              "if (notebookContainer) {{\n",
              "    x.observe(notebookContainer, {childList: true});\n",
              "}}\n",
              "\n",
              "// Listen for the clearing of the current output cell\n",
              "var outputEl = gd.closest('.output');\n",
              "if (outputEl) {{\n",
              "    x.observe(outputEl, {childList: true});\n",
              "}}\n",
              "\n",
              "                        })                };                            </script>        </div>\n",
              "</body>\n",
              "</html>"
            ]
          },
          "metadata": {}
        }
      ]
    },
    {
      "cell_type": "code",
      "source": [
        "# Create a boxplot of `NHNFIN`\n",
        "fig = px.box(data_frame=df,x=\"NHNFIN\",title=\"Distribution of Non-home, Non-Financial Assets\")\n",
        "fig.update_layout(xaxis_title=\"Value [$]\")\n",
        "fig.show()"
      ],
      "metadata": {
        "colab": {
          "base_uri": "https://localhost:8080/",
          "height": 542
        },
        "id": "92Q8i2E_FuoQ",
        "outputId": "ac0eb4aa-8073-4061-9dc1-5df3652be57d"
      },
      "execution_count": 63,
      "outputs": [
        {
          "output_type": "display_data",
          "data": {
            "text/html": [
              "<html>\n",
              "<head><meta charset=\"utf-8\" /></head>\n",
              "<body>\n",
              "    <div>            <script src=\"https://cdnjs.cloudflare.com/ajax/libs/mathjax/2.7.5/MathJax.js?config=TeX-AMS-MML_SVG\"></script><script type=\"text/javascript\">if (window.MathJax && window.MathJax.Hub && window.MathJax.Hub.Config) {window.MathJax.Hub.Config({SVG: {font: \"STIX-Web\"}});}</script>                <script type=\"text/javascript\">window.PlotlyConfig = {MathJaxConfig: 'local'};</script>\n",
              "        <script charset=\"utf-8\" src=\"https://cdn.plot.ly/plotly-2.24.1.min.js\"></script>                <div id=\"90028afa-1192-4a93-93d8-4c20a5974d08\" class=\"plotly-graph-div\" style=\"height:525px; width:100%;\"></div>            <script type=\"text/javascript\">                                    window.PLOTLYENV=window.PLOTLYENV || {};                                    if (document.getElementById(\"90028afa-1192-4a93-93d8-4c20a5974d08\")) {                    Plotly.newPlot(                        \"90028afa-1192-4a93-93d8-4c20a5974d08\",                        [{\"alignmentgroup\":\"True\",\"hovertemplate\":\"NHNFIN=%{x}\\u003cextra\\u003e\\u003c\\u002fextra\\u003e\",\"legendgroup\":\"\",\"marker\":{\"color\":\"#636efa\"},\"name\":\"\",\"notched\":false,\"offsetgroup\":\"\",\"orientation\":\"h\",\"showlegend\":false,\"x\":[3900.0,6300.0,5600.0,10000.0,8100.0,7000.0,5500.0,2700.0,3900.0,4800.0,53000.0,51900.0,52000.0,51900.0,52000.0,9800.0,9800.0,8600.0,6800.0,11400.0,27500.0,27500.0,27500.0,27500.0,26500.0,23000.0,23000.0,23000.0,23000.0,22000.0,90500.0,88600.0,94400.0,92500.0,90600.0,20000.0,20000.0,19000.0,19000.0,20000.0,3600.0,3600.0,3600.0,3600.0,3600.0,21100.0,20200.0,21100.0,20200.0,21200.0,38600.0,37600.0,37600.0,37600.0,38700.0,34200.0,33200.0,34200.0,35200.0,34200.0,181500.0,181500.0,181500.0,181600.0,181500.0,24500.0,24500.0,24500.0,24500.0,24500.0,15810.0,16350.0,15250.0,15750.0,16400.0,3800.0,3700.0,3700.0,3700.0,3700.0,23000.0,23000.0,22000.0,23000.0,23000.0,5600.0,5600.0,5600.0,5700.0,5600.0,7100.0,5500.0,8300.0,9900.0,7800.0,5400.0,5400.0,5400.0,5400.0,5400.0,0.0,0.0,0.0,0.0,0.0,4600.0,4600.0,4600.0,4600.0,4600.0,4400.0,8600.0,9200.0,7200.0,5600.0,52300.0,28700.0,28700.0,48300.0,41000.0,3700.0,3700.0,3700.0,3700.0,3800.0,42900.0,42900.0,42900.0,42900.0,43900.0,0.0,0.0,0.0,0.0,0.0,102000.0,0.0,113000.0,33000.0,29900.0,7900.0,8000.0,7900.0,7900.0,8000.0,5800.0,5800.0,5800.0,5900.0,5900.0,8100.0,8200.0,8100.0,8200.0,8200.0,0.0,0.0,0.0,0.0,0.0,2800.0,2800.0,2800.0,2800.0,2800.0,0.0,0.0,0.0,0.0,0.0,12000.0,12000.0,11000.0,12000.0,12000.0,5200.0,4100.0,3200.0,4100.0,6700.0,10400.0,10400.0,10400.0,10400.0,10300.0,0.0,0.0,0.0,0.0,0.0,70000.0,69000.0,69000.0,70000.0,70000.0,0.0,0.0,0.0,0.0,0.0,29100.0,30000.0,28000.0,29100.0,30100.0,13000.0,16000.0,15000.0,13000.0,15000.0,19000.0,19000.0,20000.0,20000.0,19000.0,30000.0,30000.0,30000.0,30000.0,30000.0,29000.0,28000.0,28000.0,28000.0,28000.0,64200.0,64200.0,64200.0,63200.0,64200.0,0.0,0.0,0.0,0.0,0.0,6100.0,6200.0,6200.0,6100.0,6200.0,339641.0,339641.0,339641.0,339641.0,340641.0,27200.0,27100.0,28100.0,28100.0,27100.0,14100.0,14000.0,14100.0,14000.0,14000.0,0.0,0.0,0.0,0.0,0.0,22800.0,42000.0,25200.0,28000.0,28600.0,19200.0,18100.0,19100.0,18100.0,19200.0,5900.0,5900.0,5900.0,5900.0,5900.0,6000.0,6100.0,6100.0,6100.0,6100.0,435400.0,439500.0,441300.0,440500.0,433500.0,15800.0,14800.0,15800.0,15700.0,15800.0,32000.0,32000.0,32000.0,32000.0,33000.0,3900.0,3900.0,3900.0,3900.0,3900.0,6900.0,6900.0,6900.0,6900.0,6900.0,43000.0,43000.0,43000.0,43000.0,44000.0,2900.0,2900.0,3000.0,3000.0,3000.0,0.0,0.0,0.0,0.0,0.0,0.0,0.0,0.0,0.0,0.0,287200.0,287200.0,287200.0,287200.0,287200.0,39500.0,46400.0,38500.0,35500.0,39400.0,111000.0,111000.0,100000.0,120000.0,135000.0,0.0,0.0,0.0,0.0,0.0,3700.0,2700.0,3600.0,3200.0,6200.0,3900.0,3900.0,3900.0,3900.0,3900.0,6900.0,7000.0,7000.0,6900.0,7000.0,6600.0,2600.0,2600.0,4700.0,6800.0,11900.0,11800.0,11900.0,11900.0,11800.0,9900.0,9900.0,9900.0,9900.0,9900.0,3600.0,3600.0,3600.0,3600.0,3600.0,308000.0,308000.0,308000.0,308000.0,309000.0,16700.0,16700.0,16700.0,16700.0,16600.0,0.0,0.0,0.0,0.0,0.0,7000.0,7000.0,7000.0,6800.0,6900.0,0.0,0.0,0.0,0.0,0.0,9700.0,9700.0,9700.0,9700.0,9700.0,13500.0,8300.0,12700.0,11800.0,8500.0,12000.0,12000.0,12000.0,12000.0,12000.0,0.0,0.0,0.0,0.0,0.0,2900.0,4000.0,4500.0,2500.0,3200.0,4700.0,4700.0,4700.0,4800.0,4800.0,6400.0,6400.0,6400.0,6400.0,6400.0,73000.0,6900.0,13000.0,13000.0,27000.0,2500.0,2500.0,2500.0,2700.0,2600.0,23000.0,23000.0,23000.0,22000.0,22000.0,15000.0,14000.0,14000.0,14000.0,14000.0,231000.0,230100.0,230000.0,230000.0,230000.0,57730.0,61700.0,60600.0,58520.0,72700.0,10000.0,11000.0,11000.0,11000.0,11000.0,23100.0,23000.0,23000.0,23200.0,23100.0,24400.0,30000.0,26000.0,19100.0,22300.0,25900.0,24900.0,24900.0,24800.0,25900.0,8300.0,8200.0,8300.0,8200.0,8200.0,31200.0,31200.0,32100.0,31200.0,31100.0,16000.0,8500.0,28000.0,13000.0,7100.0,3000.0,3300.0,2900.0,7400.0,3600.0,5800.0,5900.0,5800.0,5800.0,5800.0,0.0,0.0,0.0,0.0,0.0,11200.0,11300.0,11200.0,11300.0,11300.0,0.0,0.0,0.0,0.0,0.0,0.0,0.0,0.0,0.0,0.0,0.0,0.0,0.0,0.0,0.0,4900.0,4800.0,4900.0,4800.0,4800.0,70000.0,63000.0,46900.0,60000.0,51000.0,13400.0,11300.0,15200.0,8600.0,9100.0,3600.0,3600.0,3600.0,3600.0,3700.0,0.0,0.0,0.0,0.0,0.0,3900.0,3900.0,3900.0,3900.0,3900.0,8500.0,8500.0,8500.0,8500.0,8500.0,3200.0,3200.0,3200.0,3200.0,3200.0,10000.0,9900.0,9900.0,9900.0,9900.0,4700.0,4600.0,4600.0,4700.0,4700.0,45000.0,45000.0,45000.0,46000.0,46000.0,9700.0,9700.0,9700.0,9700.0,9700.0,6300.0,6300.0,6300.0,6300.0,6300.0,2700.0,2700.0,2700.0,2700.0,2700.0,12400.0,9900.0,7200.0,6400.0,6300.0,0.0,0.0,0.0,0.0,0.0,31800.0,28900.0,16800.0,164900.0,59900.0,11900.0,11700.0,11300.0,10800.0,12900.0,121900.0,121900.0,120900.0,121800.0,120800.0,26000.0,26000.0,26000.0,26000.0,26000.0,15000.0,15000.0,15000.0,15000.0,15000.0,59100.0,59100.0,59100.0,59100.0,59100.0,32200.0,33200.0,33200.0,33200.0,33100.0,3100.0,3100.0,3100.0,3100.0,3100.0,84000.0,84000.0,85000.0,84000.0,84000.0,16000.0,16000.0,16000.0,16000.0,16000.0,24850.0,27650.0,25850.0,30650.0,29450.0,646000.0,520000.0,521000.0,521000.0,538000.0,433100.0,436200.0,500400.0,510100.0,443200.0,47000.0,48000.0,47000.0,47000.0,47000.0,0.0,0.0,0.0,0.0,0.0,307300.0,313300.0,291300.0,309300.0,293400.0,15000.0,14000.0,14000.0,14000.0,14000.0,12500.0,12400.0,12400.0,12600.0,12600.0,14000.0,14000.0,14000.0,14000.0,14000.0,0.0,0.0,0.0,0.0,0.0,1000.0,1000.0,1000.0,1000.0,1000.0,2700.0,5600.0,4000.0,2900.0,4000.0,8100.0,5700.0,7800.0,5400.0,6400.0,19000.0,19000.0,19000.0,19000.0,19000.0,747000.0,747000.0,747000.0,747000.0,747000.0,13300.0,18200.0,12500.0,17600.0,12300.0,14800.0,14800.0,14800.0,14800.0,14800.0,12750.0,13650.0,22950.0,19050.0,16350.0,0.0,0.0,0.0,0.0,0.0,11300.0,11300.0,11300.0,11200.0,11200.0,12100.0,7020.0,6920.0,10400.0,6930.0,41000.0,42000.0,41000.0,41000.0,41000.0,8700.0,8600.0,8700.0,8700.0,8600.0,3600.0,3600.0,3500.0,3500.0,3600.0,3000.0,3100.0,3100.0,3100.0,3600.0,20700.0,21700.0,20600.0,20700.0,20700.0,61300.0,65400.0,66400.0,65300.0,57300.0,103100.0,105600.0,103500.0,105600.0,104100.0,133000.0,103700.0,117700.0,111600.0,158300.0,19000.0,19000.0,19000.0,19000.0,19000.0,0.0,0.0,0.0,0.0,0.0,5000.0,6200.0,4900.0,6500.0,8100.0,0.0,0.0,0.0,0.0,0.0,18400.0,18900.0,20100.0,20400.0,20300.0,11000.0,10000.0,10000.0,11000.0,10000.0,197600.0,197600.0,197600.0,197600.0,198600.0,6200.0,6100.0,6100.0,6100.0,6200.0,0.0,0.0,0.0,0.0,0.0,5000.0,5000.0,5000.0,5000.0,5000.0,0.0,0.0,0.0,0.0,0.0,22300.0,23200.0,23200.0,22200.0,23200.0,4100.0,4100.0,4100.0,4100.0,4100.0,3900.0,3900.0,4000.0,3900.0,4000.0,800000.0,800000.0,800000.0,800000.0,800000.0,22800.0,22900.0,23800.0,23800.0,22900.0,0.0,0.0,0.0,0.0,0.0,6700.0,6600.0,6600.0,6700.0,6600.0,694900.0,564800.0,614700.0,389900.0,554800.0,19700.0,20700.0,20700.0,19700.0,19700.0,0.0,0.0,0.0,0.0,0.0,45500.0,45500.0,45500.0,45500.0,45500.0,3700.0,3700.0,5400.0,4500.0,3700.0,33080.0,58300.0,61400.0,33080.0,60300.0,4800.0,4800.0,4800.0,4800.0,4800.0,0.0,0.0,0.0,0.0,0.0,191000.0,192000.0,192000.0,191000.0,191000.0,51400.0,53100.0,53000.0,52600.0,53700.0,0.0,0.0,0.0,0.0,0.0,142100.0,129500.0,117000.0,123900.0,137500.0,16400.0,16400.0,16400.0,16400.0,16400.0,16000.0,17000.0,16000.0,16000.0,17000.0,10000.0,11000.0,10000.0,11000.0,11000.0,7000.0,7000.0,7000.0,7000.0,7000.0,29500.0,28500.0,29600.0,28500.0,29500.0,44000.0,44000.0,44000.0,44000.0,44000.0,67900.0,68000.0,67900.0,67900.0,68900.0,14800.0,14900.0,14900.0,15800.0,15900.0,400.0,400.0,400.0,400.0,400.0,26600.0,23500.0,29200.0,25800.0,18880.0,69000.0,51400.0,58100.0,66000.0,68000.0,14800.0,14800.0,14800.0,14800.0,14800.0,15000.0,15000.0,15000.0,15000.0,14000.0,22600.0,22600.0,22600.0,22600.0,22600.0,14000.0,14000.0,14000.0,14000.0,14000.0,338900.0,342800.0,346900.0,335700.0,346700.0,2800.0,2800.0,2800.0,2800.0,2800.0,3100.0,3100.0,3200.0,3100.0,3100.0,18000.0,19000.0,19000.0,19000.0,19000.0,29000.0,18850.0,22300.0,24000.0,19620.0,24700.0,24700.0,24700.0,25800.0,25800.0,89200.0,89100.0,89200.0,89200.0,89100.0,6100.0,6100.0,6100.0,6100.0,6100.0,14500.0,14500.0,14500.0,14500.0,14500.0,7000.0,7000.0,7000.0,7000.0,7000.0,0.0,0.0,0.0,0.0,0.0,61500.0,61500.0,60500.0,60500.0,60500.0,8100.0,8200.0,8100.0,8100.0,8100.0,12800.0,11730.0,14800.0,14300.0,16400.0,5800.0,5800.0,5900.0,5800.0,5800.0,33000.0,34900.0,34000.0,44900.0,25100.0,4300.0,4300.0,4300.0,4300.0,4300.0,23000.0,24000.0,23000.0,24000.0,24000.0,9500.0,9500.0,9400.0,9500.0,9400.0,39000.0,39000.0,40000.0,38000.0,39000.0,4800.0,4800.0,4800.0,4800.0,4700.0,68100.0,68100.0,69100.0,68100.0,69000.0,21500.0,20500.0,20600.0,21500.0,21600.0,44800.0,43800.0,43800.0,45000.0,43400.0,19700.0,18700.0,18600.0,19700.0,19600.0,0.0,0.0,0.0,0.0,0.0,255000.0,255000.0,255000.0,255000.0,255000.0,6200.0,6000.0,6200.0,6100.0,6100.0,0.0,0.0,0.0,0.0,0.0,3400.0,3300.0,3400.0,3400.0,3400.0,173400.0,173300.0,173400.0,173400.0,173400.0,16000.0,17000.0,16000.0,16000.0,17000.0,8000.0,4800.0,9400.0,6900.0,6600.0,2600.0,2600.0,2700.0,2600.0,2600.0,2400.0,2400.0,2400.0,2400.0,2500.0,8300.0,8300.0,8200.0,8200.0,8200.0,17800.0,17900.0,17800.0,17800.0,17900.0,254300.0,255200.0,255300.0,255300.0,254300.0,255600.0,257500.0,256600.0,255600.0,256500.0,157400.0,163600.0,169300.0,164500.0,168300.0,70900.0,70900.0,71000.0,70900.0,70900.0,0.0,0.0,0.0,0.0,0.0,11800.0,11900.0,11900.0,11900.0,11800.0,0.0,0.0,0.0,0.0,0.0,0.0,0.0,0.0,0.0,0.0,6400.0,8000.0,9400.0,6600.0,6900.0,7300.0,7300.0,7400.0,7300.0,7400.0,13500.0,17800.0,19400.0,16600.0,15800.0,5100.0,5100.0,5100.0,5200.0,5100.0,0.0,0.0,0.0,0.0,0.0,50000.0,50000.0,50000.0,50000.0,50000.0,12600.0,31000.0,14800.0,36000.0,31000.0,31200.0,32200.0,32100.0,32100.0,31100.0,0.0,0.0,0.0,0.0,0.0,2200.0,2200.0,2300.0,2300.0,2300.0,0.0,0.0,0.0,0.0,0.0,0.0,0.0,0.0,0.0,0.0,0.0,0.0,0.0,0.0,0.0,0.0,0.0,0.0,0.0,0.0,0.0,10100.0,10000.0,10100.0,10000.0,10000.0,3800.0,3800.0,3800.0,3800.0,3800.0,10000.0,10000.0,10000.0,10000.0,10000.0,0.0,0.0,0.0,0.0,0.0,10000.0,10000.0,10000.0,10000.0,10000.0,242300.0,241300.0,164300.0,161300.0,242300.0,0.0,0.0,0.0,0.0,0.0,61000.0,60000.0,60000.0,61000.0,60000.0,2200.0,2300.0,2200.0,2200.0,2200.0,13000.0,13000.0,13000.0,13000.0,13000.0,6400.0,6400.0,6400.0,6400.0,6400.0,29700.0,29800.0,29700.0,29700.0,28800.0,6100.0,6100.0,6100.0,6100.0,6100.0,0.0,0.0,0.0,0.0,0.0,1712700.0,1382700.0,1222600.0,0.0,0.0,0.0,0.0,0.0,403900.0,382300.0,408100.0,366400.0,350800.0,24000.0,25000.0,24000.0,24000.0,25000.0,0.0,0.0,0.0,0.0,0.0,25000.0,25000.0,25000.0,25000.0,26000.0,15900.0,15900.0,15800.0,15900.0,15900.0,0.0,0.0,0.0,0.0,0.0,134000.0,134000.0,124000.0,126000.0,119000.0,21800.0,20900.0,20900.0,20800.0,20800.0,27200.0,27300.0,27200.0,27200.0,27200.0,3500.0,5200.0,7500.0,6000.0,8200.0,1500.0,1600.0,1500.0,1600.0,1600.0,14200.0,14200.0,14200.0,14300.0,14200.0,5100.0,5100.0,5100.0,5000.0,5100.0,13000.0,13000.0,13000.0,13000.0,13000.0,18000.0,18000.0,18000.0,18000.0,18000.0,0.0,0.0,0.0,0.0,0.0,7400.0,6500.0,6300.0,4400.0,8500.0,19900.0,19900.0,21000.0,19900.0,19900.0,8000.0,8000.0,7900.0,8000.0,7900.0,0.0,0.0,0.0,0.0,0.0,0.0,0.0,0.0,0.0,0.0,24600.0,24600.0,24700.0,23700.0,24600.0,10000.0,10000.0,10000.0,10000.0,10000.0,0.0,0.0,0.0,0.0,0.0,8600.0,8600.0,8600.0,8600.0,8600.0,32800.0,27700.0,32500.0,31200.0,29200.0,0.0,0.0,0.0,0.0,0.0,12000.0,12000.0,12000.0,12000.0,12000.0,3800.0,3800.0,3900.0,3900.0,3800.0,3900.0,4000.0,3900.0,4000.0,3900.0,15900.0,12200.0,19100.0,16900.0,12900.0,0.0,0.0,0.0,0.0,0.0,17000.0,16000.0,16000.0,16000.0,16000.0,0.0,0.0,0.0,0.0,0.0,0.0,0.0,0.0,0.0,0.0,2700.0,2600.0,2600.0,2700.0,2600.0,3900.0,3900.0,3900.0,3900.0,3900.0,0.0,0.0,0.0,0.0,0.0,3600.0,3600.0,3600.0,3600.0,3600.0,7400.0,7400.0,7500.0,7400.0,7400.0,46400.0,47500.0,45500.0,47400.0,46500.0,2500.0,2500.0,2500.0,2500.0,2500.0,9200.0,9200.0,9100.0,9200.0,9100.0,8200.0,7000.0,10200.0,10600.0,10600.0,4600.0,4700.0,4600.0,4700.0,4600.0,32300.0,33200.0,32300.0,33300.0,33300.0,3400.0,2400.0,3300.0,4700.0,4700.0,1566000.0,1567000.0,1567000.0,1567000.0,1567000.0,0.0,0.0,0.0,0.0,0.0,16000.0,16100.0,16000.0,16000.0,16000.0,0.0,0.0,0.0,0.0,0.0,0.0,0.0,0.0,0.0,0.0,69000.0,69000.0,66000.0,66000.0,67000.0,26000.0,25000.0,26000.0,26000.0,26000.0,36000.0,34900.0,35000.0,35000.0,36000.0,3000.0,3000.0,3000.0,3000.0,3000.0,7000.0,7000.0,7000.0,7000.0,7000.0,1800.0,1800.0,1900.0,1800.0,1800.0,0.0,0.0,0.0,0.0,0.0,14900.0,11100.0,7700.0,11700.0,12700.0,0.0,0.0,0.0,0.0,0.0,4800.0,4900.0,4900.0,4800.0,4900.0,114000.0,104480.0,103380.0,111700.0,114000.0,11000.0,12000.0,12000.0,12000.0,12000.0,35400.0,22600.0,39500.0,34300.0,21600.0,94000.0,95000.0,94000.0,95000.0,95000.0,19500.0,19500.0,20500.0,20500.0,20500.0,7300.0,7300.0,7300.0,7300.0,7300.0,0.0,0.0,0.0,0.0,0.0,4400.0,4400.0,4400.0,4400.0,4400.0,13000.0,13000.0,13000.0,13000.0,13000.0,17400.0,17400.0,16400.0,16400.0,16400.0,5000.0,5300.0,4500.0,4500.0,4500.0,13000.0,13000.0,13000.0,13000.0,12000.0,6700.0,9900.0,11800.0,8500.0,5200.0,7800.0,7800.0,7900.0,7900.0,7900.0,10000.0,7600.0,6500.0,8300.0,6700.0,2800.0,2700.0,2700.0,2800.0,2800.0,0.0,0.0,0.0,0.0,0.0,190700.0,204700.0,147700.0,146700.0,147700.0,8400.0,6800.0,7800.0,6700.0,5200.0,41100.0,41200.0,41200.0,41100.0,40100.0,2000.0,2000.0,2000.0,2000.0,2000.0,0.0,0.0,0.0,0.0,0.0,7400.0,10400.0,9300.0,10000.0,12400.0,23000.0,22000.0,22000.0,23000.0,22000.0,62000.0,56100.0,56800.0,52500.0,50900.0,12000.0,12000.0,12000.0,12000.0,12000.0,4000.0,4000.0,4000.0,3900.0,3900.0,0.0,0.0,0.0,0.0,0.0,0.0,0.0,0.0,0.0,0.0,7900.0,0.0,0.0,0.0,0.0,0.0,36770.0,37400.0,37170.0,37500.0,37700.0,3500.0,3500.0,3500.0,3500.0,3500.0,21900.0,22000.0,22100.0,22900.0,22900.0,0.0,0.0,0.0,0.0,0.0,5000.0,5000.0,5000.0,4900.0,4900.0,195000.0,120100.0,126100.0,195200.0,156100.0,65400.0,59400.0,51400.0,54500.0,53500.0,51000.0,51000.0,51000.0,50000.0,50000.0,7000.0,7000.0,7000.0,7000.0,7000.0,12000.0,12000.0,11000.0,12000.0,12000.0,9070.0,11340.0,11650.0,11640.0,13300.0,0.0,0.0,0.0,0.0,0.0,3400.0,3500.0,3500.0,3400.0,3400.0,16200.0,16200.0,17200.0,17200.0,16200.0,115000.0,114000.0,115000.0,114000.0,115000.0,44400.0,45400.0,44400.0,44400.0,44400.0,4200.0,4200.0,4200.0,4200.0,4200.0,26500.0,26500.0,26500.0,26500.0,26500.0,19800.0,20100.0,16100.0,14160.0,15400.0,25000.0,25000.0,25000.0,25000.0,25000.0,5100.0,5100.0,5100.0,5200.0,5100.0,17700.0,17600.0,17600.0,17600.0,17700.0,2800.0,2800.0,2800.0,2800.0,2900.0,67100.0,66100.0,73500.0,67100.0,67100.0,7300.0,7300.0,7300.0,7400.0,7300.0,10000.0,11000.0,11000.0,11000.0,10000.0,16800.0,16800.0,16800.0,16800.0,16300.0,16200.0,14100.0,13300.0,12300.0,11400.0,4100.0,3900.0,4200.0,3800.0,3800.0,8000.0,7200.0,18100.0,13000.0,6000.0,4400.0,4400.0,4400.0,4500.0,4400.0,10200.0,10100.0,10200.0,10100.0,10200.0,27000.0,28000.0,27000.0,27000.0,27000.0,9500.0,9500.0,9500.0,9500.0,9500.0,11000.0,10000.0,10000.0,11000.0,11000.0,151000.0,15400.0,11100.0,11000.0,10400.0,18400.0,7000.0,7000.0,7000.0,7000.0,7100.0,0.0,0.0,0.0,0.0,0.0,20900.0,19900.0,19900.0,20900.0,20900.0,34300.0,46900.0,38000.0,29600.0,36100.0,5200.0,5200.0,5200.0,5300.0,5200.0,2700.0,2600.0,2700.0,2600.0,2600.0,712800.0,711700.0,712800.0,712700.0,711700.0,0.0,0.0,0.0,0.0,0.0,0.0,0.0,0.0,0.0,0.0,44100.0,44000.0,45100.0,45000.0,44100.0,58700.0,53200.0,62300.0,54230.0,55100.0,0.0,0.0,0.0,0.0,0.0,13000.0,13000.0,13000.0,13000.0,13000.0,11800.0,11700.0,11800.0,11600.0,11700.0,199000.0,199000.0,207000.0,197000.0,200000.0,6200.0,6200.0,6200.0,6300.0,6200.0,13000.0,13000.0,14000.0,13000.0,13000.0,29000.0,26000.0,23000.0,27000.0,19600.0,12800.0,14800.0,11100.0,15200.0,16800.0,14500.0,14500.0,14500.0,14500.0,14500.0,0.0,0.0,0.0,0.0,0.0,18500.0,17500.0,18400.0,17500.0,18400.0,40100.0,42400.0,41100.0,41100.0,42500.0,29000.0,29000.0,29000.0,29000.0,28000.0,4400.0,4400.0,4400.0,4400.0,4400.0,306400.0,304300.0,304400.0,305400.0,304400.0,13000.0,13000.0,13000.0,13000.0,13000.0,13000.0,13000.0,14000.0,14000.0,14000.0,14000.0,14000.0,13000.0,13000.0,14000.0,910000.0,910000.0,910000.0,910000.0,910000.0,0.0,0.0,0.0,0.0,0.0,31000.0,31000.0,33000.0,32000.0,33000.0,12000.0,12000.0,12000.0,12000.0,12000.0,9500.0,7500.0,8600.0,9400.0,8000.0,0.0,0.0,0.0,0.0,0.0,8200.0,8200.0,8200.0,8200.0,8100.0,10400.0,10300.0,10400.0,10300.0,10400.0,0.0,0.0,0.0,0.0,0.0,52000.0,52000.0,60000.0,62000.0,52000.0,10580.0,9100.0,17000.0,13900.0,14200.0,36100.0,36000.0,35000.0,36100.0,36100.0,626000.0,627000.0,627000.0,627000.0,627000.0,4800.0,4800.0,4800.0,4800.0,4800.0,3600.0,3600.0,3700.0,3400.0,3300.0,9800.0,9900.0,9800.0,9800.0,9900.0,6300.0,8400.0,5500.0,7200.0,4700.0,6700.0,6700.0,6700.0,6700.0,6700.0,11000.0,10000.0,11000.0,10000.0,11000.0,30500.0,34500.0,31200.0,30400.0,25100.0,15700.0,16000.0,14900.0,14400.0,15000.0,25000.0,25000.0,24000.0,24000.0,24000.0,31200.0,31200.0,30300.0,31200.0,31200.0,48000.0,47000.0,49000.0,48000.0,49000.0,0.0,0.0,0.0,0.0,0.0,3200.0,4000.0,4800.0,4300.0,5800.0,0.0,0.0,0.0,0.0,0.0,4800.0,4800.0,4800.0,4800.0,4800.0,0.0,0.0,0.0,0.0,0.0,14700.0,15700.0,15700.0,15700.0,14700.0,7300.0,7200.0,7100.0,7100.0,7200.0,5700.0,5800.0,5700.0,5700.0,5700.0,4200.0,4200.0,4200.0,4200.0,4300.0,0.0,331000.0,1480000.0,237000.0,0.0,12500.0,12600.0,12500.0,12600.0,12500.0,26000.0,25900.0,25900.0,26000.0,25900.0,48100.0,48200.0,48200.0,48200.0,48100.0,0.0,0.0,0.0,0.0,0.0,18000.0,18000.0,18000.0,17000.0,18000.0,0.0,0.0,0.0,0.0,0.0,0.0,0.0,0.0,0.0,0.0,15000.0,15000.0,15000.0,16000.0,15000.0,0.0,0.0,0.0,0.0,0.0,5000.0,5100.0,5000.0,5000.0,5100.0,0.0,0.0,0.0,0.0,0.0,25000.0,24900.0,25000.0,25000.0,25000.0,20000.0,20000.0,20000.0,20000.0,20000.0,3500.0,3500.0,3500.0,3500.0,3500.0,16000.0,16100.0,16100.0,16000.0,16000.0,13200.0,13300.0,13200.0,13200.0,13300.0,41000.0,30180.0,31100.0,36000.0,33400.0,14000.0,14000.0,14000.0,13000.0,13000.0,20400.0,15600.0,11200.0,11600.0,11200.0,20000.0,20000.0,20000.0,20000.0,20000.0,12000.0,12000.0,12000.0,12000.0,12000.0,0.0,0.0,0.0,0.0,0.0,3800.0,4900.0,6200.0,3900.0,3000.0,0.0,0.0,0.0,0.0,0.0,0.0,0.0,0.0,0.0,0.0,59500.0,58500.0,58500.0,59500.0,58500.0,0.0,0.0,0.0,0.0,0.0,7900.0,8000.0,7900.0,7900.0,7900.0,16100.0,16200.0,16300.0,16200.0,16200.0,14300.0,14400.0,14400.0,14300.0,14300.0,0.0,0.0,0.0,0.0,0.0,5300.0,5300.0,5300.0,5300.0,5300.0,9800.0,9800.0,9900.0,9900.0,9800.0,5600.0,6900.0,5700.0,9300.0,9600.0,4000.0,4100.0,4000.0,4100.0,4100.0,19000.0,19000.0,19000.0,19000.0,19000.0,12000.0,12000.0,12000.0,11000.0,11000.0,2800.0,2800.0,2800.0,2800.0,2800.0,30900.0,25900.0,22800.0,26900.0,23800.0,18500.0,18500.0,18600.0,18400.0,18600.0,8500.0,8500.0,8500.0,8500.0,8500.0,13500.0,13500.0,13600.0,13500.0,13500.0,36000.0,36000.0,38000.0,38000.0,34000.0,28900.0,28900.0,28800.0,28800.0,28900.0,74000.0,74000.0,74000.0,74000.0,74000.0,3400.0,3300.0,3400.0,3400.0,3400.0,266900.0,257500.0,260000.0,272300.0,272000.0,36000.0,36000.0,36000.0,35000.0,35000.0,2400.0,2500.0,2400.0,2400.0,2400.0,25400.0,24400.0,25400.0,24400.0,25400.0,8000.0,6700.0,7600.0,9100.0,14000.0,6800.0,6800.0,6800.0,6800.0,6800.0,10000.0,10000.0,10000.0,10000.0,10000.0,4200.0,4200.0,4300.0,4200.0,4200.0,15000.0,15000.0,15000.0,15000.0,15000.0,2900.0,2900.0,2800.0,2900.0,2900.0,16000.0,16000.0,17000.0,16000.0,16000.0,6200.0,4400.0,5200.0,3800.0,3000.0,3200.0,3100.0,3200.0,3100.0,3100.0,0.0,0.0,0.0,0.0,0.0,4900.0,4100.0,6300.0,3300.0,4600.0,69200.0,69100.0,69200.0,69200.0,69200.0,4500.0,4400.0,4400.0,4400.0,4400.0,0.0,0.0,0.0,0.0,0.0,133220.0,135600.0,135600.0,132800.0,133600.0,0.0,0.0,0.0,0.0,0.0,12000.0,12000.0,12000.0,12000.0,12000.0,7200.0,7100.0,7200.0,7100.0,7200.0,47000.0,47000.0,47000.0,47000.0,47000.0,1049300.0,1049300.0,1049300.0,1049200.0,1049300.0,1769600.0,8400.0,8400.0,8300.0,8400.0,8400.0,14000.0,15000.0,15000.0,14000.0,14000.0,0.0,0.0,0.0,0.0,0.0,0.0,0.0,0.0,0.0,0.0,47000.0,47000.0,46000.0,45000.0,46000.0,2800.0,2800.0,2900.0,2800.0,2800.0,0.0,0.0,0.0,0.0,0.0,100000.0,100000.0,100000.0,100000.0,100000.0,7800.0,7900.0,7800.0,7900.0,7800.0,65000.0,64000.0,63000.0,64000.0,65000.0,41000.0,42000.0,41000.0,42000.0,43000.0,7100.0,3200.0,7100.0,3600.0,3300.0,17400.0,17300.0,17400.0,17400.0,17300.0,5400.0,5400.0,5400.0,5400.0,5400.0,2400.0,2300.0,2300.0,2400.0,2300.0,147050.0,154050.0,147950.0,147950.0,153950.0,0.0,0.0,0.0,0.0,0.0,6000.0,5900.0,12000.0,11000.0,12000.0,11000.0,11000.0,130100.0,172100.0,110200.0,136200.0,173200.0,5000.0,5100.0,5100.0,5000.0,5000.0,154000.0,154000.0,154000.0,154000.0,154000.0,7400.0,7400.0,7400.0,7400.0,7300.0,14100.0,12200.0,12200.0,16300.0,12200.0,5600.0,5600.0,5600.0,5600.0,5600.0,7200.0,7200.0,7300.0,7200.0,7200.0,5300.0,5300.0,5300.0,5300.0,5300.0,2000.0,2000.0,1900.0,2000.0,2000.0,6100.0,5400.0,4500.0,4500.0,3200.0,14500.0,14500.0,14500.0,14500.0,14600.0,3600.0,3600.0,3600.0,3600.0,3600.0,7100.0,4400.0,7600.0,3900.0,4300.0,11700.0,11800.0,11800.0,11800.0,11800.0,19100.0,18100.0,19200.0,18200.0,19200.0,772000.0,773000.0,772000.0,772000.0,772000.0,0.0,0.0,0.0,0.0,0.0,39700.0,39700.0,40800.0,40800.0,40800.0,7600.0,8900.0,8800.0,9900.0,8200.0,9400.0,9300.0,9400.0,9300.0,9400.0,8200.0,6800.0,5800.0,6900.0,4200.0,35300.0,35300.0,34200.0,35200.0,35300.0,5900.0,6000.0,8300.0,5400.0,6300.0,0.0,0.0,0.0,0.0,0.0,497000.0,592000.0,508000.0,551000.0,608000.0,38200.0,36100.0,25540.0,37200.0,47100.0,0.0,0.0,0.0,0.0,0.0,7000.0,7000.0,7000.0,7000.0,7000.0,850.0,850.0,850.0,850.0,850.0,11000.0,11000.0,11000.0,11000.0,11000.0,25000.0,24000.0,24000.0,24000.0,24000.0,7500.0,7500.0,7600.0,7500.0,7500.0,26700.0,27700.0,27700.0,26700.0,27600.0,462600.0,462500.0,462500.0,462500.0,462500.0,0.0,0.0,0.0,0.0,0.0,0.0,0.0,0.0,3100.0,3100.0,3100.0,3100.0,3000.0,4300.0,10000.0,4800.0,7900.0,5400.0,13000.0,13000.0,12900.0,13000.0,13000.0,0.0,0.0,0.0,0.0,0.0,49000.0,48000.0,49000.0,49000.0,49000.0,7700.0,7700.0,7700.0,7700.0,7600.0,17400.0,17400.0,17500.0,17500.0,17500.0,0.0,0.0,0.0,0.0,0.0,0.0,0.0,0.0,0.0,0.0,28600.0,28700.0,28600.0,28700.0,27700.0,0.0,0.0,0.0,0.0,0.0,843000.0,540000.0,622000.0,804000.0,552000.0,14000.0,13000.0,14000.0,14000.0,13000.0,0.0,0.0,0.0,0.0,0.0,52400.0,52400.0,52400.0,52400.0,52400.0,6800.0,6900.0,6900.0,6900.0,6900.0,4300.0,6100.0,4100.0,4500.0,5900.0,8400.0,10200.0,9100.0,9200.0,9100.0,90400.0,50900.0,86800.0,22500.0,21920.0,0.0,0.0,0.0,0.0,0.0,25800.0,25700.0,25700.0,26700.0,25700.0,0.0,0.0,0.0,0.0,0.0,6900.0,6900.0,6900.0,7000.0,6900.0,947000.0,947000.0,946000.0,946000.0,946000.0,5200.0,5400.0,7900.0,13000.0,5500.0,0.0,0.0,0.0,0.0,0.0,8200.0,8300.0,8300.0,8300.0,8300.0,158800.0,158800.0,158900.0,158900.0,158800.0,0.0,0.0,0.0,0.0,0.0,0.0,0.0,0.0,0.0,0.0,25100.0,25000.0,24000.0,24000.0,24100.0,11300.0,11300.0,11300.0,11300.0,11300.0,6800.0,7600.0,6600.0,7300.0,6200.0,19300.0,19300.0,19300.0,19300.0,19400.0,18000.0,18100.0,18000.0,17900.0,17900.0,51000.0,51000.0,51000.0,51000.0,51000.0,5000.0,4900.0,5000.0,5000.0,4900.0,6700.0,6700.0,6700.0,6700.0,6700.0,0.0,0.0,0.0,0.0,0.0,17600.0,13300.0,15600.0,16700.0,18600.0,3200.0,3200.0,3100.0,3200.0,3200.0,0.0,0.0,0.0,0.0,0.0,17400.0,17400.0,17400.0,17400.0,17400.0,0.0,0.0,0.0,0.0,0.0,0.0,0.0,0.0,0.0,0.0,7900.0,5800.0,9500.0,6900.0,6000.0,0.0,0.0,0.0,0.0,0.0,5500.0,5500.0,5500.0,5500.0,5500.0,0.0,0.0,0.0,0.0,0.0,3400.0,3300.0,3300.0,3400.0,3300.0,0.0,0.0,0.0,0.0,0.0,0.0,0.0,0.0,0.0,0.0,68050.0,68100.0,56800.0,67000.0,63600.0,33000.0,34000.0,33000.0,33000.0,33000.0,33500.0,34500.0,34600.0,33500.0,34600.0,4700.0,4700.0,4700.0,4700.0,4700.0,8100.0,6800.0,6800.0,7800.0,6300.0,3700.0,3700.0,3800.0,3700.0,3700.0,4800.0,4800.0,4800.0,4700.0,4700.0,22200.0,22100.0,22100.0,22200.0,22200.0,24300.0,25300.0,24400.0,25300.0,24400.0,6050.0,6050.0,5650.0,5750.0,5250.0,11000.0,11000.0,10000.0,10000.0,11000.0,6500.0,6500.0,6500.0,6500.0,6500.0,18300.0,18300.0,18300.0,18300.0,18300.0,13000.0,12000.0,13000.0,13000.0,13000.0,11000.0,11000.0,11000.0,11000.0,11000.0,33200.0,31100.0,27700.0,31400.0,33200.0,32300.0,31300.0,32300.0,31300.0,31300.0,5000.0,13300.0,13100.0,9500.0,5200.0,12700.0,12800.0,12800.0,12700.0,12700.0,3200.0,3800.0,6100.0,4800.0,4800.0,6800.0,10100.0,9200.0,5900.0,7500.0,8400.0,7000.0,5100.0,4000.0,5900.0,9900.0,9900.0,10000.0,10000.0,10000.0,4250.0,6500.0,4400.0,4750.0,7000.0,37900.0,37800.0,37900.0,37900.0,37900.0,0.0,0.0,0.0,0.0,0.0,15000.0,15000.0,15000.0,14000.0,14000.0,9200.0,9300.0,9300.0,9300.0,9300.0,18300.0,19300.0,18300.0,18300.0,18300.0,35000.0,35000.0,35000.0,34000.0,34000.0,30000.0,30000.0,31000.0,31000.0,31000.0,11800.0,11800.0,11800.0,11800.0,11800.0,0.0,0.0,0.0,0.0,0.0,0.0,0.0,0.0,0.0,0.0,12000.0,13000.0,12000.0,12000.0,13000.0,3600.0,3600.0,3600.0,3600.0,3600.0,22000.0,22000.0,22000.0,23000.0,22000.0,58170.0,60300.0,58750.0,58050.0,64600.0,0.0,0.0,0.0,0.0,0.0,4800.0,4800.0,5000.0,11700.0,7000.0,21200.0,22100.0,21200.0,21200.0,22200.0,14300.0,16000.0,19100.0,13100.0,14400.0,13000.0,13000.0,12000.0,13000.0,13000.0,7800.0,7800.0,7800.0,7900.0,7800.0,18000.0,18000.0,18000.0,18000.0,19000.0,13100.0,13000.0,13100.0,13000.0,13000.0,0.0,0.0,0.0,0.0,0.0,0.0,0.0,0.0,0.0,0.0,9800.0,9800.0,9800.0,9800.0,9800.0,21300.0,19200.0,22200.0,21200.0,20300.0,27000.0,26000.0,27000.0,26000.0,26000.0,7900.0,7800.0,7800.0,7800.0,7800.0,5100.0,5100.0,5100.0,5100.0,5000.0,24100.0,24100.0,25100.0,24100.0,25100.0,2800.0,2800.0,2800.0,2800.0,2800.0,19300.0,15800.0,16200.0,14700.0,16200.0,3600.0,3600.0,3500.0,3600.0,3600.0,0.0,0.0,0.0,0.0,0.0,45500.0,45500.0,45500.0,45400.0,45400.0,16600.0,20500.0,26300.0,15500.0,29300.0,0.0,0.0,0.0,0.0,0.0,13800.0,9800.0,13300.0,16600.0,8800.0,24640.0,22350.0,29800.0,24830.0,37000.0,4000.0,4200.0,4600.0,4200.0,3200.0,1392000.0,1472000.0,1172000.0,1452000.0,1221000.0,3600.0,7200.0,8900.0,5000.0,4300.0,62000.0,62000.0,62000.0,62000.0,62000.0,0.0,0.0,0.0,0.0,0.0,3200.0,3200.0,3200.0,3200.0,3200.0,4400.0,5300.0,6600.0,4700.0,6200.0,0.0,0.0,0.0,0.0,0.0,5300.0,4900.0,6600.0,6600.0,5200.0,5000.0,5000.0,5000.0,5100.0,5000.0,41250.0,41250.0,41250.0,41250.0,41250.0,6100.0,5900.0,12000.0,12000.0,5700.0,31200.0,30100.0,30100.0,30100.0,30000.0,3000.0,3000.0,3000.0,3000.0,3100.0,3800.0,3800.0,3800.0,3800.0,3800.0,3900.0,3900.0,3900.0,3900.0,3900.0,5300.0,5300.0,5300.0,5300.0,5300.0,59000.0,59000.0,59000.0,59000.0,58000.0,0.0,0.0,0.0,0.0,0.0,0.0,0.0,0.0,0.0,0.0,267000.0,330000.0,481000.0,187000.0,475000.0,5500.0,5500.0,5500.0,5500.0,5500.0,10000.0,10000.0,10000.0,10000.0,10000.0,6200.0,2900.0,7400.0,4500.0,3800.0,6500.0,4500.0,4500.0,3000.0,4400.0,29200.0,71500.0,33300.0,49500.0,70500.0,7700.0,7700.0,7800.0,7700.0,7700.0,8400.0,8400.0,8400.0,8400.0,8400.0,4200.0,4200.0,4300.0,4300.0,4300.0,3900.0,3900.0,3900.0,3900.0,3900.0,0.0,0.0,0.0,0.0,0.0,34000.0,34000.0,34000.0,34000.0,34000.0,6600.0,6700.0,6700.0,6700.0,6700.0,3500.0,4100.0,3700.0,3300.0,6400.0,0.0,0.0,0.0,0.0,0.0,0.0,0.0,0.0,0.0,0.0,8700.0,8700.0,8800.0,8800.0,8700.0,2400.0,2300.0,2200.0,2200.0,2200.0,105000.0,105000.0,105000.0,104000.0,104000.0,4700.0,5400.0,2900.0,4600.0,3000.0,2900.0,3000.0,2900.0,2900.0,2900.0,0.0,0.0,0.0,0.0,0.0,13300.0,13300.0,13300.0,13300.0,14300.0,9800.0,9800.0,9900.0,9900.0,9900.0,24800.0,24700.0,24800.0,24600.0,24800.0,7700.0,7600.0,7700.0,7600.0,7700.0,6600.0,5500.0,7600.0,3800.0,4600.0,17000.0,17000.0,16000.0,16000.0,16000.0,13800.0,13900.0,13900.0,13900.0,13900.0,0.0,0.0,0.0,0.0,0.0,28000.0,27000.0,28000.0,28000.0,28000.0,2100.0,2200.0,2200.0,2100.0,2100.0,0.0,0.0,0.0,0.0,0.0,83800.0,93600.0,83900.0,96200.0,88900.0,0.0,0.0,0.0,0.0,0.0,8700.0,8700.0,8700.0,8700.0,8700.0,83000.0,83000.0,84000.0,84000.0,84000.0,15000.0,15000.0,16000.0,16000.0,16000.0,0.0,0.0,0.0,0.0,0.0,228000.0,228000.0,228000.0,228000.0,228000.0,0.0,0.0,0.0,0.0,0.0,10300.0,10300.0,10300.0,10300.0,10300.0,136700.0,140600.0,134700.0,132600.0,141600.0,52890.0,52600.0,52600.0,53180.0,52600.0,41000.0,41000.0,40000.0,40000.0,40000.0,12300.0,12200.0,12300.0,12300.0,12200.0,49900.0,143900.0,51900.0,38600.0,51900.0,0.0,0.0,0.0,0.0,0.0,0.0,0.0,0.0,0.0,0.0,11000.0,11000.0,12000.0,12000.0,12000.0,1970200.0,1970200.0,1970200.0,1970200.0,1970200.0,5800.0,5800.0,5800.0,5800.0,5800.0,2000.0,2000.0,2100.0,2000.0,2100.0,4000.0,4000.0,4000.0,4000.0,4000.0,11000.0,11000.0,11000.0,11000.0,11000.0,23500.0,23500.0,23500.0,23500.0,23500.0,17000.0,18000.0,17000.0,18000.0,18000.0,112000.0,112000.0,112000.0,112000.0,112000.0,18000.0,17000.0,18000.0,18000.0,17000.0,1041000.0,1042000.0,1042000.0,1043000.0,1042000.0,0.0,0.0,0.0,0.0,0.0,43800.0,43800.0,44900.0,45400.0,43800.0,0.0,0.0,0.0,0.0,0.0,17000.0,17000.0,17000.0,17000.0,17000.0,6900.0,3400.0,5400.0,4800.0,5400.0,13000.0,13000.0,13000.0,13000.0,14000.0,56000.0,56000.0,56000.0,56000.0,56000.0,43500.0,43500.0,42500.0,42500.0,42500.0,14500.0,15500.0,15600.0,15600.0,15600.0,5620.0,6300.0,8500.0,6800.0,6300.0,48000.0,49000.0,48000.0,49000.0,49000.0,4100.0,4000.0,4000.0,4100.0,4100.0,60000.0,30000.0,34000.0,52000.0,41000.0,0.0,0.0,0.0,0.0,0.0,16100.0,17200.0,16200.0,17100.0,16200.0,3600.0,3600.0,3600.0,3500.0,3600.0,4000.0,3500.0,4100.0,3400.0,3900.0,13800.0,13700.0,13700.0,13800.0,13700.0,0.0,0.0,0.0,0.0,0.0,332000.0,137000.0,235000.0,277200.0,223000.0,12000.0,11000.0,11000.0,12000.0,12000.0,19000.0,19000.0,18000.0,19000.0,19000.0,0.0,0.0,0.0,0.0,0.0,2400.0,3800.0,4900.0,4900.0,3300.0,15400.0,19600.0,16400.0,19100.0,19500.0,0.0,0.0,0.0,0.0,0.0,0.0,2600.0,2700.0,2600.0,2700.0,2600.0,48000.0,40000.0,42000.0,51000.0,49000.0,14000.0,13000.0,13000.0,14000.0,13000.0,0.0,0.0,0.0,0.0,0.0,52000.0,52000.0,52000.0,52000.0,52000.0,0.0,0.0,0.0,0.0,0.0,46000.0,45000.0,45000.0,45000.0,45000.0,18000.0,18000.0,18000.0,18000.0,18000.0,3100.0,2400.0,5300.0,3100.0,3100.0,17000.0,17000.0,15900.0,16900.0,17000.0,3900.0,3900.0,3900.0,3900.0,3900.0,0.0,0.0,0.0,0.0,0.0,2200.0,2300.0,2200.0,2200.0,2300.0,5800.0,5800.0,5800.0,5800.0,5800.0,0.0,0.0,0.0,0.0,0.0,0.0,0.0,0.0,0.0,0.0,0.0,0.0,0.0,0.0,0.0,0.0,0.0,0.0,0.0,0.0,33000.0,34000.0,34000.0,33000.0,34000.0,13400.0,13300.0,13400.0,13300.0,13300.0,27000.0,28000.0,27000.0,27000.0,28000.0,24000.0,24000.0,24000.0,24000.0,24000.0,14600.0,14500.0,14600.0,14500.0,14500.0,8500.0,8500.0,8500.0,8500.0,8500.0,19000.0,19000.0,19000.0,19000.0,19000.0,12400.0,20700.0,16600.0,11200.0,17800.0,13000.0,13000.0,12000.0,13000.0,13000.0,0.0,0.0,0.0,0.0,0.0,8800.0,5900.0,7400.0,6800.0,4900.0,0.0,0.0,0.0,0.0,0.0,7000.0,7000.0,7100.0,7000.0,7000.0,42100.0,51400.0,61400.0,57400.0,54400.0,3700.0,3700.0,3700.0,3700.0,3700.0,16400.0,16300.0,16400.0,17300.0,16400.0,10600.0,14800.0,14800.0,11100.0,10500.0,0.0,0.0,0.0,0.0,0.0,0.0,0.0,0.0,0.0,0.0,5900.0,5900.0,5900.0,5900.0,5900.0,7270.0,10400.0,10800.0,9100.0,9900.0,20000.0,20000.0,20000.0,19000.0,20000.0,7800.0,7800.0,7800.0,7800.0,7800.0,5400.0,16400.0,53400.0,5400.0,5400.0,5900.0,5900.0,5900.0,5900.0,5900.0,13800.0,13800.0,13800.0,13800.0,13800.0,0.0,0.0,0.0,0.0,0.0,5900.0,5900.0,6000.0,6000.0,6000.0,12000.0,12000.0,12000.0,12000.0,13000.0,0.0,0.0,0.0,0.0,0.0,15000.0,14000.0,14000.0,15000.0,14000.0,9300.0,9400.0,9300.0,9400.0,9400.0,0.0,0.0,0.0,0.0,0.0,12100.0,12100.0,12100.0,12100.0,12100.0,12600.0,12600.0,12600.0,12600.0,12700.0,18000.0,18000.0,18000.0,18000.0,18000.0,5200.0,4200.0,3600.0,5600.0,6000.0,6500.0,6600.0,6600.0,6500.0,6600.0,51000.0,50000.0,51000.0,50000.0,50000.0,0.0,0.0,0.0,0.0,0.0,21000.0,25000.0,21000.0,24000.0,23000.0,0.0,0.0,0.0,0.0,0.0,7900.0,7900.0,7900.0,7900.0,7900.0,13880.0,13880.0,13980.0,13980.0,13780.0,0.0,0.0,0.0,0.0,0.0,282600.0,282300.0,280300.0,283200.0,287100.0],\"x0\":\" \",\"xaxis\":\"x\",\"y0\":\" \",\"yaxis\":\"y\",\"type\":\"box\"}],                        {\"template\":{\"data\":{\"histogram2dcontour\":[{\"type\":\"histogram2dcontour\",\"colorbar\":{\"outlinewidth\":0,\"ticks\":\"\"},\"colorscale\":[[0.0,\"#0d0887\"],[0.1111111111111111,\"#46039f\"],[0.2222222222222222,\"#7201a8\"],[0.3333333333333333,\"#9c179e\"],[0.4444444444444444,\"#bd3786\"],[0.5555555555555556,\"#d8576b\"],[0.6666666666666666,\"#ed7953\"],[0.7777777777777778,\"#fb9f3a\"],[0.8888888888888888,\"#fdca26\"],[1.0,\"#f0f921\"]]}],\"choropleth\":[{\"type\":\"choropleth\",\"colorbar\":{\"outlinewidth\":0,\"ticks\":\"\"}}],\"histogram2d\":[{\"type\":\"histogram2d\",\"colorbar\":{\"outlinewidth\":0,\"ticks\":\"\"},\"colorscale\":[[0.0,\"#0d0887\"],[0.1111111111111111,\"#46039f\"],[0.2222222222222222,\"#7201a8\"],[0.3333333333333333,\"#9c179e\"],[0.4444444444444444,\"#bd3786\"],[0.5555555555555556,\"#d8576b\"],[0.6666666666666666,\"#ed7953\"],[0.7777777777777778,\"#fb9f3a\"],[0.8888888888888888,\"#fdca26\"],[1.0,\"#f0f921\"]]}],\"heatmap\":[{\"type\":\"heatmap\",\"colorbar\":{\"outlinewidth\":0,\"ticks\":\"\"},\"colorscale\":[[0.0,\"#0d0887\"],[0.1111111111111111,\"#46039f\"],[0.2222222222222222,\"#7201a8\"],[0.3333333333333333,\"#9c179e\"],[0.4444444444444444,\"#bd3786\"],[0.5555555555555556,\"#d8576b\"],[0.6666666666666666,\"#ed7953\"],[0.7777777777777778,\"#fb9f3a\"],[0.8888888888888888,\"#fdca26\"],[1.0,\"#f0f921\"]]}],\"heatmapgl\":[{\"type\":\"heatmapgl\",\"colorbar\":{\"outlinewidth\":0,\"ticks\":\"\"},\"colorscale\":[[0.0,\"#0d0887\"],[0.1111111111111111,\"#46039f\"],[0.2222222222222222,\"#7201a8\"],[0.3333333333333333,\"#9c179e\"],[0.4444444444444444,\"#bd3786\"],[0.5555555555555556,\"#d8576b\"],[0.6666666666666666,\"#ed7953\"],[0.7777777777777778,\"#fb9f3a\"],[0.8888888888888888,\"#fdca26\"],[1.0,\"#f0f921\"]]}],\"contourcarpet\":[{\"type\":\"contourcarpet\",\"colorbar\":{\"outlinewidth\":0,\"ticks\":\"\"}}],\"contour\":[{\"type\":\"contour\",\"colorbar\":{\"outlinewidth\":0,\"ticks\":\"\"},\"colorscale\":[[0.0,\"#0d0887\"],[0.1111111111111111,\"#46039f\"],[0.2222222222222222,\"#7201a8\"],[0.3333333333333333,\"#9c179e\"],[0.4444444444444444,\"#bd3786\"],[0.5555555555555556,\"#d8576b\"],[0.6666666666666666,\"#ed7953\"],[0.7777777777777778,\"#fb9f3a\"],[0.8888888888888888,\"#fdca26\"],[1.0,\"#f0f921\"]]}],\"surface\":[{\"type\":\"surface\",\"colorbar\":{\"outlinewidth\":0,\"ticks\":\"\"},\"colorscale\":[[0.0,\"#0d0887\"],[0.1111111111111111,\"#46039f\"],[0.2222222222222222,\"#7201a8\"],[0.3333333333333333,\"#9c179e\"],[0.4444444444444444,\"#bd3786\"],[0.5555555555555556,\"#d8576b\"],[0.6666666666666666,\"#ed7953\"],[0.7777777777777778,\"#fb9f3a\"],[0.8888888888888888,\"#fdca26\"],[1.0,\"#f0f921\"]]}],\"mesh3d\":[{\"type\":\"mesh3d\",\"colorbar\":{\"outlinewidth\":0,\"ticks\":\"\"}}],\"scatter\":[{\"fillpattern\":{\"fillmode\":\"overlay\",\"size\":10,\"solidity\":0.2},\"type\":\"scatter\"}],\"parcoords\":[{\"type\":\"parcoords\",\"line\":{\"colorbar\":{\"outlinewidth\":0,\"ticks\":\"\"}}}],\"scatterpolargl\":[{\"type\":\"scatterpolargl\",\"marker\":{\"colorbar\":{\"outlinewidth\":0,\"ticks\":\"\"}}}],\"bar\":[{\"error_x\":{\"color\":\"#2a3f5f\"},\"error_y\":{\"color\":\"#2a3f5f\"},\"marker\":{\"line\":{\"color\":\"#E5ECF6\",\"width\":0.5},\"pattern\":{\"fillmode\":\"overlay\",\"size\":10,\"solidity\":0.2}},\"type\":\"bar\"}],\"scattergeo\":[{\"type\":\"scattergeo\",\"marker\":{\"colorbar\":{\"outlinewidth\":0,\"ticks\":\"\"}}}],\"scatterpolar\":[{\"type\":\"scatterpolar\",\"marker\":{\"colorbar\":{\"outlinewidth\":0,\"ticks\":\"\"}}}],\"histogram\":[{\"marker\":{\"pattern\":{\"fillmode\":\"overlay\",\"size\":10,\"solidity\":0.2}},\"type\":\"histogram\"}],\"scattergl\":[{\"type\":\"scattergl\",\"marker\":{\"colorbar\":{\"outlinewidth\":0,\"ticks\":\"\"}}}],\"scatter3d\":[{\"type\":\"scatter3d\",\"line\":{\"colorbar\":{\"outlinewidth\":0,\"ticks\":\"\"}},\"marker\":{\"colorbar\":{\"outlinewidth\":0,\"ticks\":\"\"}}}],\"scattermapbox\":[{\"type\":\"scattermapbox\",\"marker\":{\"colorbar\":{\"outlinewidth\":0,\"ticks\":\"\"}}}],\"scatterternary\":[{\"type\":\"scatterternary\",\"marker\":{\"colorbar\":{\"outlinewidth\":0,\"ticks\":\"\"}}}],\"scattercarpet\":[{\"type\":\"scattercarpet\",\"marker\":{\"colorbar\":{\"outlinewidth\":0,\"ticks\":\"\"}}}],\"carpet\":[{\"aaxis\":{\"endlinecolor\":\"#2a3f5f\",\"gridcolor\":\"white\",\"linecolor\":\"white\",\"minorgridcolor\":\"white\",\"startlinecolor\":\"#2a3f5f\"},\"baxis\":{\"endlinecolor\":\"#2a3f5f\",\"gridcolor\":\"white\",\"linecolor\":\"white\",\"minorgridcolor\":\"white\",\"startlinecolor\":\"#2a3f5f\"},\"type\":\"carpet\"}],\"table\":[{\"cells\":{\"fill\":{\"color\":\"#EBF0F8\"},\"line\":{\"color\":\"white\"}},\"header\":{\"fill\":{\"color\":\"#C8D4E3\"},\"line\":{\"color\":\"white\"}},\"type\":\"table\"}],\"barpolar\":[{\"marker\":{\"line\":{\"color\":\"#E5ECF6\",\"width\":0.5},\"pattern\":{\"fillmode\":\"overlay\",\"size\":10,\"solidity\":0.2}},\"type\":\"barpolar\"}],\"pie\":[{\"automargin\":true,\"type\":\"pie\"}]},\"layout\":{\"autotypenumbers\":\"strict\",\"colorway\":[\"#636efa\",\"#EF553B\",\"#00cc96\",\"#ab63fa\",\"#FFA15A\",\"#19d3f3\",\"#FF6692\",\"#B6E880\",\"#FF97FF\",\"#FECB52\"],\"font\":{\"color\":\"#2a3f5f\"},\"hovermode\":\"closest\",\"hoverlabel\":{\"align\":\"left\"},\"paper_bgcolor\":\"white\",\"plot_bgcolor\":\"#E5ECF6\",\"polar\":{\"bgcolor\":\"#E5ECF6\",\"angularaxis\":{\"gridcolor\":\"white\",\"linecolor\":\"white\",\"ticks\":\"\"},\"radialaxis\":{\"gridcolor\":\"white\",\"linecolor\":\"white\",\"ticks\":\"\"}},\"ternary\":{\"bgcolor\":\"#E5ECF6\",\"aaxis\":{\"gridcolor\":\"white\",\"linecolor\":\"white\",\"ticks\":\"\"},\"baxis\":{\"gridcolor\":\"white\",\"linecolor\":\"white\",\"ticks\":\"\"},\"caxis\":{\"gridcolor\":\"white\",\"linecolor\":\"white\",\"ticks\":\"\"}},\"coloraxis\":{\"colorbar\":{\"outlinewidth\":0,\"ticks\":\"\"}},\"colorscale\":{\"sequential\":[[0.0,\"#0d0887\"],[0.1111111111111111,\"#46039f\"],[0.2222222222222222,\"#7201a8\"],[0.3333333333333333,\"#9c179e\"],[0.4444444444444444,\"#bd3786\"],[0.5555555555555556,\"#d8576b\"],[0.6666666666666666,\"#ed7953\"],[0.7777777777777778,\"#fb9f3a\"],[0.8888888888888888,\"#fdca26\"],[1.0,\"#f0f921\"]],\"sequentialminus\":[[0.0,\"#0d0887\"],[0.1111111111111111,\"#46039f\"],[0.2222222222222222,\"#7201a8\"],[0.3333333333333333,\"#9c179e\"],[0.4444444444444444,\"#bd3786\"],[0.5555555555555556,\"#d8576b\"],[0.6666666666666666,\"#ed7953\"],[0.7777777777777778,\"#fb9f3a\"],[0.8888888888888888,\"#fdca26\"],[1.0,\"#f0f921\"]],\"diverging\":[[0,\"#8e0152\"],[0.1,\"#c51b7d\"],[0.2,\"#de77ae\"],[0.3,\"#f1b6da\"],[0.4,\"#fde0ef\"],[0.5,\"#f7f7f7\"],[0.6,\"#e6f5d0\"],[0.7,\"#b8e186\"],[0.8,\"#7fbc41\"],[0.9,\"#4d9221\"],[1,\"#276419\"]]},\"xaxis\":{\"gridcolor\":\"white\",\"linecolor\":\"white\",\"ticks\":\"\",\"title\":{\"standoff\":15},\"zerolinecolor\":\"white\",\"automargin\":true,\"zerolinewidth\":2},\"yaxis\":{\"gridcolor\":\"white\",\"linecolor\":\"white\",\"ticks\":\"\",\"title\":{\"standoff\":15},\"zerolinecolor\":\"white\",\"automargin\":true,\"zerolinewidth\":2},\"scene\":{\"xaxis\":{\"backgroundcolor\":\"#E5ECF6\",\"gridcolor\":\"white\",\"linecolor\":\"white\",\"showbackground\":true,\"ticks\":\"\",\"zerolinecolor\":\"white\",\"gridwidth\":2},\"yaxis\":{\"backgroundcolor\":\"#E5ECF6\",\"gridcolor\":\"white\",\"linecolor\":\"white\",\"showbackground\":true,\"ticks\":\"\",\"zerolinecolor\":\"white\",\"gridwidth\":2},\"zaxis\":{\"backgroundcolor\":\"#E5ECF6\",\"gridcolor\":\"white\",\"linecolor\":\"white\",\"showbackground\":true,\"ticks\":\"\",\"zerolinecolor\":\"white\",\"gridwidth\":2}},\"shapedefaults\":{\"line\":{\"color\":\"#2a3f5f\"}},\"annotationdefaults\":{\"arrowcolor\":\"#2a3f5f\",\"arrowhead\":0,\"arrowwidth\":1},\"geo\":{\"bgcolor\":\"white\",\"landcolor\":\"#E5ECF6\",\"subunitcolor\":\"white\",\"showland\":true,\"showlakes\":true,\"lakecolor\":\"white\"},\"title\":{\"x\":0.05},\"mapbox\":{\"style\":\"light\"}}},\"xaxis\":{\"anchor\":\"y\",\"domain\":[0.0,1.0],\"title\":{\"text\":\"Value [$]\"}},\"yaxis\":{\"anchor\":\"x\",\"domain\":[0.0,1.0]},\"legend\":{\"tracegroupgap\":0},\"title\":{\"text\":\"Distribution of Non-home, Non-Financial Assets\"},\"boxmode\":\"group\"},                        {\"responsive\": true}                    ).then(function(){\n",
              "                            \n",
              "var gd = document.getElementById('90028afa-1192-4a93-93d8-4c20a5974d08');\n",
              "var x = new MutationObserver(function (mutations, observer) {{\n",
              "        var display = window.getComputedStyle(gd).display;\n",
              "        if (!display || display === 'none') {{\n",
              "            console.log([gd, 'removed!']);\n",
              "            Plotly.purge(gd);\n",
              "            observer.disconnect();\n",
              "        }}\n",
              "}});\n",
              "\n",
              "// Listen for the removal of the full notebook cells\n",
              "var notebookContainer = gd.closest('#notebook-container');\n",
              "if (notebookContainer) {{\n",
              "    x.observe(notebookContainer, {childList: true});\n",
              "}}\n",
              "\n",
              "// Listen for the clearing of the current output cell\n",
              "var outputEl = gd.closest('.output');\n",
              "if (outputEl) {{\n",
              "    x.observe(outputEl, {childList: true});\n",
              "}}\n",
              "\n",
              "                        })                };                            </script>        </div>\n",
              "</body>\n",
              "</html>"
            ]
          },
          "metadata": {}
        }
      ]
    },
    {
      "cell_type": "code",
      "source": [
        "# The dataset is massively right-skewed because of the huge outliers on the right side of the distribution.\n",
        "# The best way to deal with this is to look at the trimmed variance, where we remove extreme values before\n",
        "# calculating variance. We can do this using the trimmed_variance function from the SciPy library."
      ],
      "metadata": {
        "id": "iU9kg0JnF4yQ"
      },
      "execution_count": 65,
      "outputs": []
    },
    {
      "cell_type": "code",
      "source": [
        "from scipy.stats.mstats import trimmed_var\n",
        "#trimmed_var?\n",
        "trimmed_var(df['DEBT'])   # default limits=(0.1,0.1)"
      ],
      "metadata": {
        "colab": {
          "base_uri": "https://localhost:8080/"
        },
        "id": "d43izAUqF-3r",
        "outputId": "26b17a41-7868-42cf-feb8-bc6c7cc1123a"
      },
      "execution_count": 67,
      "outputs": [
        {
          "output_type": "execute_result",
          "data": {
            "text/plain": [
              "3089864647.655702"
            ]
          },
          "metadata": {},
          "execution_count": 67
        }
      ]
    },
    {
      "cell_type": "code",
      "source": [
        "df.apply(trimmed_var,limits=(0.1,0.1)).sort_values()"
      ],
      "metadata": {
        "colab": {
          "base_uri": "https://localhost:8080/"
        },
        "id": "PIIOkKZbGJ9E",
        "outputId": "c5a842c1-da6f-4d8f-f4a6-a67feea01d6c"
      },
      "execution_count": 68,
      "outputs": [
        {
          "output_type": "execute_result",
          "data": {
            "text/plain": [
              "HOTHMA      0.000000e+00\n",
              "NOTXBND     0.000000e+00\n",
              "MORTBND     0.000000e+00\n",
              "GOVTBND     0.000000e+00\n",
              "OBND        0.000000e+00\n",
              "                ...     \n",
              "DEBT        3.089865e+09\n",
              "NETWORTH    3.099929e+09\n",
              "HOUSES      4.978660e+09\n",
              "NFIN        8.456442e+09\n",
              "ASSET       1.175370e+10\n",
              "Length: 351, dtype: float64"
            ]
          },
          "metadata": {},
          "execution_count": 68
        }
      ]
    },
    {
      "cell_type": "code",
      "source": [
        "# Calculate trimmed variance\n",
        "top_ten_trim_var = df.apply(trimmed_var).sort_values().tail(10)\n",
        "top_ten_trim_var"
      ],
      "metadata": {
        "colab": {
          "base_uri": "https://localhost:8080/"
        },
        "id": "we1fC5ELGSON",
        "outputId": "489b0078-eb05-431d-a6dd-c0c743dfcbb3"
      },
      "execution_count": 69,
      "outputs": [
        {
          "output_type": "execute_result",
          "data": {
            "text/plain": [
              "WAGEINC     5.550737e+08\n",
              "HOMEEQ      7.338377e+08\n",
              "NH_MORT     1.333125e+09\n",
              "MRTHEL      1.380468e+09\n",
              "PLOAN1      1.441968e+09\n",
              "DEBT        3.089865e+09\n",
              "NETWORTH    3.099929e+09\n",
              "HOUSES      4.978660e+09\n",
              "NFIN        8.456442e+09\n",
              "ASSET       1.175370e+10\n",
              "dtype: float64"
            ]
          },
          "metadata": {},
          "execution_count": 69
        }
      ]
    },
    {
      "cell_type": "code",
      "source": [
        "# Create horizontal bar chart of `top_ten_trim_var`\n",
        "fig = px.bar(x=top_ten_trim_var,y=top_ten_trim_var.index,title=\"SCF: High Variance Features\")\n",
        "fig.update_layout(xaxis_title=\"Trimmed Variance\",yaxis_title=\"Feature\")\n",
        "fig.show()"
      ],
      "metadata": {
        "colab": {
          "base_uri": "https://localhost:8080/",
          "height": 542
        },
        "id": "MRmQ4gkAGVsi",
        "outputId": "1b515df6-97dc-41fa-8e3c-f193a87a169c"
      },
      "execution_count": 70,
      "outputs": [
        {
          "output_type": "display_data",
          "data": {
            "text/html": [
              "<html>\n",
              "<head><meta charset=\"utf-8\" /></head>\n",
              "<body>\n",
              "    <div>            <script src=\"https://cdnjs.cloudflare.com/ajax/libs/mathjax/2.7.5/MathJax.js?config=TeX-AMS-MML_SVG\"></script><script type=\"text/javascript\">if (window.MathJax && window.MathJax.Hub && window.MathJax.Hub.Config) {window.MathJax.Hub.Config({SVG: {font: \"STIX-Web\"}});}</script>                <script type=\"text/javascript\">window.PlotlyConfig = {MathJaxConfig: 'local'};</script>\n",
              "        <script charset=\"utf-8\" src=\"https://cdn.plot.ly/plotly-2.24.1.min.js\"></script>                <div id=\"a506cbfa-c3f2-456e-9c6b-74e65691aef7\" class=\"plotly-graph-div\" style=\"height:525px; width:100%;\"></div>            <script type=\"text/javascript\">                                    window.PLOTLYENV=window.PLOTLYENV || {};                                    if (document.getElementById(\"a506cbfa-c3f2-456e-9c6b-74e65691aef7\")) {                    Plotly.newPlot(                        \"a506cbfa-c3f2-456e-9c6b-74e65691aef7\",                        [{\"alignmentgroup\":\"True\",\"hovertemplate\":\"x=%{x}\\u003cbr\\u003ey=%{y}\\u003cextra\\u003e\\u003c\\u002fextra\\u003e\",\"legendgroup\":\"\",\"marker\":{\"color\":\"#636efa\",\"pattern\":{\"shape\":\"\"}},\"name\":\"\",\"offsetgroup\":\"\",\"orientation\":\"h\",\"showlegend\":false,\"textposition\":\"auto\",\"x\":[555073745.5956813,733837686.0245491,1333125491.9014952,1380467574.4371724,1441968346.3800585,3089864647.655702,3099929075.2287264,4978660011.138663,8456441584.954463,11753695011.53143],\"xaxis\":\"x\",\"y\":[\"WAGEINC\",\"HOMEEQ\",\"NH_MORT\",\"MRTHEL\",\"PLOAN1\",\"DEBT\",\"NETWORTH\",\"HOUSES\",\"NFIN\",\"ASSET\"],\"yaxis\":\"y\",\"type\":\"bar\"}],                        {\"template\":{\"data\":{\"histogram2dcontour\":[{\"type\":\"histogram2dcontour\",\"colorbar\":{\"outlinewidth\":0,\"ticks\":\"\"},\"colorscale\":[[0.0,\"#0d0887\"],[0.1111111111111111,\"#46039f\"],[0.2222222222222222,\"#7201a8\"],[0.3333333333333333,\"#9c179e\"],[0.4444444444444444,\"#bd3786\"],[0.5555555555555556,\"#d8576b\"],[0.6666666666666666,\"#ed7953\"],[0.7777777777777778,\"#fb9f3a\"],[0.8888888888888888,\"#fdca26\"],[1.0,\"#f0f921\"]]}],\"choropleth\":[{\"type\":\"choropleth\",\"colorbar\":{\"outlinewidth\":0,\"ticks\":\"\"}}],\"histogram2d\":[{\"type\":\"histogram2d\",\"colorbar\":{\"outlinewidth\":0,\"ticks\":\"\"},\"colorscale\":[[0.0,\"#0d0887\"],[0.1111111111111111,\"#46039f\"],[0.2222222222222222,\"#7201a8\"],[0.3333333333333333,\"#9c179e\"],[0.4444444444444444,\"#bd3786\"],[0.5555555555555556,\"#d8576b\"],[0.6666666666666666,\"#ed7953\"],[0.7777777777777778,\"#fb9f3a\"],[0.8888888888888888,\"#fdca26\"],[1.0,\"#f0f921\"]]}],\"heatmap\":[{\"type\":\"heatmap\",\"colorbar\":{\"outlinewidth\":0,\"ticks\":\"\"},\"colorscale\":[[0.0,\"#0d0887\"],[0.1111111111111111,\"#46039f\"],[0.2222222222222222,\"#7201a8\"],[0.3333333333333333,\"#9c179e\"],[0.4444444444444444,\"#bd3786\"],[0.5555555555555556,\"#d8576b\"],[0.6666666666666666,\"#ed7953\"],[0.7777777777777778,\"#fb9f3a\"],[0.8888888888888888,\"#fdca26\"],[1.0,\"#f0f921\"]]}],\"heatmapgl\":[{\"type\":\"heatmapgl\",\"colorbar\":{\"outlinewidth\":0,\"ticks\":\"\"},\"colorscale\":[[0.0,\"#0d0887\"],[0.1111111111111111,\"#46039f\"],[0.2222222222222222,\"#7201a8\"],[0.3333333333333333,\"#9c179e\"],[0.4444444444444444,\"#bd3786\"],[0.5555555555555556,\"#d8576b\"],[0.6666666666666666,\"#ed7953\"],[0.7777777777777778,\"#fb9f3a\"],[0.8888888888888888,\"#fdca26\"],[1.0,\"#f0f921\"]]}],\"contourcarpet\":[{\"type\":\"contourcarpet\",\"colorbar\":{\"outlinewidth\":0,\"ticks\":\"\"}}],\"contour\":[{\"type\":\"contour\",\"colorbar\":{\"outlinewidth\":0,\"ticks\":\"\"},\"colorscale\":[[0.0,\"#0d0887\"],[0.1111111111111111,\"#46039f\"],[0.2222222222222222,\"#7201a8\"],[0.3333333333333333,\"#9c179e\"],[0.4444444444444444,\"#bd3786\"],[0.5555555555555556,\"#d8576b\"],[0.6666666666666666,\"#ed7953\"],[0.7777777777777778,\"#fb9f3a\"],[0.8888888888888888,\"#fdca26\"],[1.0,\"#f0f921\"]]}],\"surface\":[{\"type\":\"surface\",\"colorbar\":{\"outlinewidth\":0,\"ticks\":\"\"},\"colorscale\":[[0.0,\"#0d0887\"],[0.1111111111111111,\"#46039f\"],[0.2222222222222222,\"#7201a8\"],[0.3333333333333333,\"#9c179e\"],[0.4444444444444444,\"#bd3786\"],[0.5555555555555556,\"#d8576b\"],[0.6666666666666666,\"#ed7953\"],[0.7777777777777778,\"#fb9f3a\"],[0.8888888888888888,\"#fdca26\"],[1.0,\"#f0f921\"]]}],\"mesh3d\":[{\"type\":\"mesh3d\",\"colorbar\":{\"outlinewidth\":0,\"ticks\":\"\"}}],\"scatter\":[{\"fillpattern\":{\"fillmode\":\"overlay\",\"size\":10,\"solidity\":0.2},\"type\":\"scatter\"}],\"parcoords\":[{\"type\":\"parcoords\",\"line\":{\"colorbar\":{\"outlinewidth\":0,\"ticks\":\"\"}}}],\"scatterpolargl\":[{\"type\":\"scatterpolargl\",\"marker\":{\"colorbar\":{\"outlinewidth\":0,\"ticks\":\"\"}}}],\"bar\":[{\"error_x\":{\"color\":\"#2a3f5f\"},\"error_y\":{\"color\":\"#2a3f5f\"},\"marker\":{\"line\":{\"color\":\"#E5ECF6\",\"width\":0.5},\"pattern\":{\"fillmode\":\"overlay\",\"size\":10,\"solidity\":0.2}},\"type\":\"bar\"}],\"scattergeo\":[{\"type\":\"scattergeo\",\"marker\":{\"colorbar\":{\"outlinewidth\":0,\"ticks\":\"\"}}}],\"scatterpolar\":[{\"type\":\"scatterpolar\",\"marker\":{\"colorbar\":{\"outlinewidth\":0,\"ticks\":\"\"}}}],\"histogram\":[{\"marker\":{\"pattern\":{\"fillmode\":\"overlay\",\"size\":10,\"solidity\":0.2}},\"type\":\"histogram\"}],\"scattergl\":[{\"type\":\"scattergl\",\"marker\":{\"colorbar\":{\"outlinewidth\":0,\"ticks\":\"\"}}}],\"scatter3d\":[{\"type\":\"scatter3d\",\"line\":{\"colorbar\":{\"outlinewidth\":0,\"ticks\":\"\"}},\"marker\":{\"colorbar\":{\"outlinewidth\":0,\"ticks\":\"\"}}}],\"scattermapbox\":[{\"type\":\"scattermapbox\",\"marker\":{\"colorbar\":{\"outlinewidth\":0,\"ticks\":\"\"}}}],\"scatterternary\":[{\"type\":\"scatterternary\",\"marker\":{\"colorbar\":{\"outlinewidth\":0,\"ticks\":\"\"}}}],\"scattercarpet\":[{\"type\":\"scattercarpet\",\"marker\":{\"colorbar\":{\"outlinewidth\":0,\"ticks\":\"\"}}}],\"carpet\":[{\"aaxis\":{\"endlinecolor\":\"#2a3f5f\",\"gridcolor\":\"white\",\"linecolor\":\"white\",\"minorgridcolor\":\"white\",\"startlinecolor\":\"#2a3f5f\"},\"baxis\":{\"endlinecolor\":\"#2a3f5f\",\"gridcolor\":\"white\",\"linecolor\":\"white\",\"minorgridcolor\":\"white\",\"startlinecolor\":\"#2a3f5f\"},\"type\":\"carpet\"}],\"table\":[{\"cells\":{\"fill\":{\"color\":\"#EBF0F8\"},\"line\":{\"color\":\"white\"}},\"header\":{\"fill\":{\"color\":\"#C8D4E3\"},\"line\":{\"color\":\"white\"}},\"type\":\"table\"}],\"barpolar\":[{\"marker\":{\"line\":{\"color\":\"#E5ECF6\",\"width\":0.5},\"pattern\":{\"fillmode\":\"overlay\",\"size\":10,\"solidity\":0.2}},\"type\":\"barpolar\"}],\"pie\":[{\"automargin\":true,\"type\":\"pie\"}]},\"layout\":{\"autotypenumbers\":\"strict\",\"colorway\":[\"#636efa\",\"#EF553B\",\"#00cc96\",\"#ab63fa\",\"#FFA15A\",\"#19d3f3\",\"#FF6692\",\"#B6E880\",\"#FF97FF\",\"#FECB52\"],\"font\":{\"color\":\"#2a3f5f\"},\"hovermode\":\"closest\",\"hoverlabel\":{\"align\":\"left\"},\"paper_bgcolor\":\"white\",\"plot_bgcolor\":\"#E5ECF6\",\"polar\":{\"bgcolor\":\"#E5ECF6\",\"angularaxis\":{\"gridcolor\":\"white\",\"linecolor\":\"white\",\"ticks\":\"\"},\"radialaxis\":{\"gridcolor\":\"white\",\"linecolor\":\"white\",\"ticks\":\"\"}},\"ternary\":{\"bgcolor\":\"#E5ECF6\",\"aaxis\":{\"gridcolor\":\"white\",\"linecolor\":\"white\",\"ticks\":\"\"},\"baxis\":{\"gridcolor\":\"white\",\"linecolor\":\"white\",\"ticks\":\"\"},\"caxis\":{\"gridcolor\":\"white\",\"linecolor\":\"white\",\"ticks\":\"\"}},\"coloraxis\":{\"colorbar\":{\"outlinewidth\":0,\"ticks\":\"\"}},\"colorscale\":{\"sequential\":[[0.0,\"#0d0887\"],[0.1111111111111111,\"#46039f\"],[0.2222222222222222,\"#7201a8\"],[0.3333333333333333,\"#9c179e\"],[0.4444444444444444,\"#bd3786\"],[0.5555555555555556,\"#d8576b\"],[0.6666666666666666,\"#ed7953\"],[0.7777777777777778,\"#fb9f3a\"],[0.8888888888888888,\"#fdca26\"],[1.0,\"#f0f921\"]],\"sequentialminus\":[[0.0,\"#0d0887\"],[0.1111111111111111,\"#46039f\"],[0.2222222222222222,\"#7201a8\"],[0.3333333333333333,\"#9c179e\"],[0.4444444444444444,\"#bd3786\"],[0.5555555555555556,\"#d8576b\"],[0.6666666666666666,\"#ed7953\"],[0.7777777777777778,\"#fb9f3a\"],[0.8888888888888888,\"#fdca26\"],[1.0,\"#f0f921\"]],\"diverging\":[[0,\"#8e0152\"],[0.1,\"#c51b7d\"],[0.2,\"#de77ae\"],[0.3,\"#f1b6da\"],[0.4,\"#fde0ef\"],[0.5,\"#f7f7f7\"],[0.6,\"#e6f5d0\"],[0.7,\"#b8e186\"],[0.8,\"#7fbc41\"],[0.9,\"#4d9221\"],[1,\"#276419\"]]},\"xaxis\":{\"gridcolor\":\"white\",\"linecolor\":\"white\",\"ticks\":\"\",\"title\":{\"standoff\":15},\"zerolinecolor\":\"white\",\"automargin\":true,\"zerolinewidth\":2},\"yaxis\":{\"gridcolor\":\"white\",\"linecolor\":\"white\",\"ticks\":\"\",\"title\":{\"standoff\":15},\"zerolinecolor\":\"white\",\"automargin\":true,\"zerolinewidth\":2},\"scene\":{\"xaxis\":{\"backgroundcolor\":\"#E5ECF6\",\"gridcolor\":\"white\",\"linecolor\":\"white\",\"showbackground\":true,\"ticks\":\"\",\"zerolinecolor\":\"white\",\"gridwidth\":2},\"yaxis\":{\"backgroundcolor\":\"#E5ECF6\",\"gridcolor\":\"white\",\"linecolor\":\"white\",\"showbackground\":true,\"ticks\":\"\",\"zerolinecolor\":\"white\",\"gridwidth\":2},\"zaxis\":{\"backgroundcolor\":\"#E5ECF6\",\"gridcolor\":\"white\",\"linecolor\":\"white\",\"showbackground\":true,\"ticks\":\"\",\"zerolinecolor\":\"white\",\"gridwidth\":2}},\"shapedefaults\":{\"line\":{\"color\":\"#2a3f5f\"}},\"annotationdefaults\":{\"arrowcolor\":\"#2a3f5f\",\"arrowhead\":0,\"arrowwidth\":1},\"geo\":{\"bgcolor\":\"white\",\"landcolor\":\"#E5ECF6\",\"subunitcolor\":\"white\",\"showland\":true,\"showlakes\":true,\"lakecolor\":\"white\"},\"title\":{\"x\":0.05},\"mapbox\":{\"style\":\"light\"}}},\"xaxis\":{\"anchor\":\"y\",\"domain\":[0.0,1.0],\"title\":{\"text\":\"Trimmed Variance\"}},\"yaxis\":{\"anchor\":\"x\",\"domain\":[0.0,1.0],\"title\":{\"text\":\"Feature\"}},\"legend\":{\"tracegroupgap\":0},\"title\":{\"text\":\"SCF: High Variance Features\"},\"barmode\":\"relative\"},                        {\"responsive\": true}                    ).then(function(){\n",
              "                            \n",
              "var gd = document.getElementById('a506cbfa-c3f2-456e-9c6b-74e65691aef7');\n",
              "var x = new MutationObserver(function (mutations, observer) {{\n",
              "        var display = window.getComputedStyle(gd).display;\n",
              "        if (!display || display === 'none') {{\n",
              "            console.log([gd, 'removed!']);\n",
              "            Plotly.purge(gd);\n",
              "            observer.disconnect();\n",
              "        }}\n",
              "}});\n",
              "\n",
              "// Listen for the removal of the full notebook cells\n",
              "var notebookContainer = gd.closest('#notebook-container');\n",
              "if (notebookContainer) {{\n",
              "    x.observe(notebookContainer, {childList: true});\n",
              "}}\n",
              "\n",
              "// Listen for the clearing of the current output cell\n",
              "var outputEl = gd.closest('.output');\n",
              "if (outputEl) {{\n",
              "    x.observe(outputEl, {childList: true});\n",
              "}}\n",
              "\n",
              "                        })                };                            </script>        </div>\n",
              "</body>\n",
              "</html>"
            ]
          },
          "metadata": {}
        }
      ]
    },
    {
      "cell_type": "code",
      "source": [
        "high_var_cols = top_ten_trim_var.tail(5).index.to_list()\n",
        "high_var_cols"
      ],
      "metadata": {
        "colab": {
          "base_uri": "https://localhost:8080/"
        },
        "id": "ooIMi8yTGgIO",
        "outputId": "90be1588-200a-4d5a-f3ea-9fc0f7d27d17"
      },
      "execution_count": 71,
      "outputs": [
        {
          "output_type": "execute_result",
          "data": {
            "text/plain": [
              "['DEBT', 'NETWORTH', 'HOUSES', 'NFIN', 'ASSET']"
            ]
          },
          "metadata": {},
          "execution_count": 71
        }
      ]
    },
    {
      "cell_type": "code",
      "source": [
        "X = df[high_var_cols]\n",
        "print(\"X shape:\", X.shape)\n",
        "X.head()"
      ],
      "metadata": {
        "colab": {
          "base_uri": "https://localhost:8080/",
          "height": 224
        },
        "id": "x2o-vI8lGnBL",
        "outputId": "7b437389-381a-4744-f8c3-62f9a66cc4d9"
      },
      "execution_count": 72,
      "outputs": [
        {
          "output_type": "stream",
          "name": "stdout",
          "text": [
            "X shape: (4418, 5)\n"
          ]
        },
        {
          "output_type": "execute_result",
          "data": {
            "text/plain": [
              "      DEBT  NETWORTH  HOUSES     NFIN    ASSET\n",
              "5  12200.0   -6710.0     0.0   3900.0   5490.0\n",
              "6  12600.0   -4710.0     0.0   6300.0   7890.0\n",
              "7  15300.0   -8115.0     0.0   5600.0   7185.0\n",
              "8  14100.0   -2510.0     0.0  10000.0  11590.0\n",
              "9  15400.0   -5715.0     0.0   8100.0   9685.0"
            ],
            "text/html": [
              "\n",
              "  <div id=\"df-e2d2a348-f364-4f0e-805d-05d4b0c5c458\" class=\"colab-df-container\">\n",
              "    <div>\n",
              "<style scoped>\n",
              "    .dataframe tbody tr th:only-of-type {\n",
              "        vertical-align: middle;\n",
              "    }\n",
              "\n",
              "    .dataframe tbody tr th {\n",
              "        vertical-align: top;\n",
              "    }\n",
              "\n",
              "    .dataframe thead th {\n",
              "        text-align: right;\n",
              "    }\n",
              "</style>\n",
              "<table border=\"1\" class=\"dataframe\">\n",
              "  <thead>\n",
              "    <tr style=\"text-align: right;\">\n",
              "      <th></th>\n",
              "      <th>DEBT</th>\n",
              "      <th>NETWORTH</th>\n",
              "      <th>HOUSES</th>\n",
              "      <th>NFIN</th>\n",
              "      <th>ASSET</th>\n",
              "    </tr>\n",
              "  </thead>\n",
              "  <tbody>\n",
              "    <tr>\n",
              "      <th>5</th>\n",
              "      <td>12200.0</td>\n",
              "      <td>-6710.0</td>\n",
              "      <td>0.0</td>\n",
              "      <td>3900.0</td>\n",
              "      <td>5490.0</td>\n",
              "    </tr>\n",
              "    <tr>\n",
              "      <th>6</th>\n",
              "      <td>12600.0</td>\n",
              "      <td>-4710.0</td>\n",
              "      <td>0.0</td>\n",
              "      <td>6300.0</td>\n",
              "      <td>7890.0</td>\n",
              "    </tr>\n",
              "    <tr>\n",
              "      <th>7</th>\n",
              "      <td>15300.0</td>\n",
              "      <td>-8115.0</td>\n",
              "      <td>0.0</td>\n",
              "      <td>5600.0</td>\n",
              "      <td>7185.0</td>\n",
              "    </tr>\n",
              "    <tr>\n",
              "      <th>8</th>\n",
              "      <td>14100.0</td>\n",
              "      <td>-2510.0</td>\n",
              "      <td>0.0</td>\n",
              "      <td>10000.0</td>\n",
              "      <td>11590.0</td>\n",
              "    </tr>\n",
              "    <tr>\n",
              "      <th>9</th>\n",
              "      <td>15400.0</td>\n",
              "      <td>-5715.0</td>\n",
              "      <td>0.0</td>\n",
              "      <td>8100.0</td>\n",
              "      <td>9685.0</td>\n",
              "    </tr>\n",
              "  </tbody>\n",
              "</table>\n",
              "</div>\n",
              "    <div class=\"colab-df-buttons\">\n",
              "\n",
              "  <div class=\"colab-df-container\">\n",
              "    <button class=\"colab-df-convert\" onclick=\"convertToInteractive('df-e2d2a348-f364-4f0e-805d-05d4b0c5c458')\"\n",
              "            title=\"Convert this dataframe to an interactive table.\"\n",
              "            style=\"display:none;\">\n",
              "\n",
              "  <svg xmlns=\"http://www.w3.org/2000/svg\" height=\"24px\" viewBox=\"0 -960 960 960\">\n",
              "    <path d=\"M120-120v-720h720v720H120Zm60-500h600v-160H180v160Zm220 220h160v-160H400v160Zm0 220h160v-160H400v160ZM180-400h160v-160H180v160Zm440 0h160v-160H620v160ZM180-180h160v-160H180v160Zm440 0h160v-160H620v160Z\"/>\n",
              "  </svg>\n",
              "    </button>\n",
              "\n",
              "  <style>\n",
              "    .colab-df-container {\n",
              "      display:flex;\n",
              "      gap: 12px;\n",
              "    }\n",
              "\n",
              "    .colab-df-convert {\n",
              "      background-color: #E8F0FE;\n",
              "      border: none;\n",
              "      border-radius: 50%;\n",
              "      cursor: pointer;\n",
              "      display: none;\n",
              "      fill: #1967D2;\n",
              "      height: 32px;\n",
              "      padding: 0 0 0 0;\n",
              "      width: 32px;\n",
              "    }\n",
              "\n",
              "    .colab-df-convert:hover {\n",
              "      background-color: #E2EBFA;\n",
              "      box-shadow: 0px 1px 2px rgba(60, 64, 67, 0.3), 0px 1px 3px 1px rgba(60, 64, 67, 0.15);\n",
              "      fill: #174EA6;\n",
              "    }\n",
              "\n",
              "    .colab-df-buttons div {\n",
              "      margin-bottom: 4px;\n",
              "    }\n",
              "\n",
              "    [theme=dark] .colab-df-convert {\n",
              "      background-color: #3B4455;\n",
              "      fill: #D2E3FC;\n",
              "    }\n",
              "\n",
              "    [theme=dark] .colab-df-convert:hover {\n",
              "      background-color: #434B5C;\n",
              "      box-shadow: 0px 1px 3px 1px rgba(0, 0, 0, 0.15);\n",
              "      filter: drop-shadow(0px 1px 2px rgba(0, 0, 0, 0.3));\n",
              "      fill: #FFFFFF;\n",
              "    }\n",
              "  </style>\n",
              "\n",
              "    <script>\n",
              "      const buttonEl =\n",
              "        document.querySelector('#df-e2d2a348-f364-4f0e-805d-05d4b0c5c458 button.colab-df-convert');\n",
              "      buttonEl.style.display =\n",
              "        google.colab.kernel.accessAllowed ? 'block' : 'none';\n",
              "\n",
              "      async function convertToInteractive(key) {\n",
              "        const element = document.querySelector('#df-e2d2a348-f364-4f0e-805d-05d4b0c5c458');\n",
              "        const dataTable =\n",
              "          await google.colab.kernel.invokeFunction('convertToInteractive',\n",
              "                                                    [key], {});\n",
              "        if (!dataTable) return;\n",
              "\n",
              "        const docLinkHtml = 'Like what you see? Visit the ' +\n",
              "          '<a target=\"_blank\" href=https://colab.research.google.com/notebooks/data_table.ipynb>data table notebook</a>'\n",
              "          + ' to learn more about interactive tables.';\n",
              "        element.innerHTML = '';\n",
              "        dataTable['output_type'] = 'display_data';\n",
              "        await google.colab.output.renderOutput(dataTable, element);\n",
              "        const docLink = document.createElement('div');\n",
              "        docLink.innerHTML = docLinkHtml;\n",
              "        element.appendChild(docLink);\n",
              "      }\n",
              "    </script>\n",
              "  </div>\n",
              "\n",
              "\n",
              "<div id=\"df-fc2ce2df-c023-483b-9b65-fbdc8031c208\">\n",
              "  <button class=\"colab-df-quickchart\" onclick=\"quickchart('df-fc2ce2df-c023-483b-9b65-fbdc8031c208')\"\n",
              "            title=\"Suggest charts.\"\n",
              "            style=\"display:none;\">\n",
              "\n",
              "<svg xmlns=\"http://www.w3.org/2000/svg\" height=\"24px\"viewBox=\"0 0 24 24\"\n",
              "     width=\"24px\">\n",
              "    <g>\n",
              "        <path d=\"M19 3H5c-1.1 0-2 .9-2 2v14c0 1.1.9 2 2 2h14c1.1 0 2-.9 2-2V5c0-1.1-.9-2-2-2zM9 17H7v-7h2v7zm4 0h-2V7h2v10zm4 0h-2v-4h2v4z\"/>\n",
              "    </g>\n",
              "</svg>\n",
              "  </button>\n",
              "\n",
              "<style>\n",
              "  .colab-df-quickchart {\n",
              "    background-color: #E8F0FE;\n",
              "    border: none;\n",
              "    border-radius: 50%;\n",
              "    cursor: pointer;\n",
              "    display: none;\n",
              "    fill: #1967D2;\n",
              "    height: 32px;\n",
              "    padding: 0 0 0 0;\n",
              "    width: 32px;\n",
              "  }\n",
              "\n",
              "  .colab-df-quickchart:hover {\n",
              "    background-color: #E2EBFA;\n",
              "    box-shadow: 0px 1px 2px rgba(60, 64, 67, 0.3), 0px 1px 3px 1px rgba(60, 64, 67, 0.15);\n",
              "    fill: #174EA6;\n",
              "  }\n",
              "\n",
              "  [theme=dark] .colab-df-quickchart {\n",
              "    background-color: #3B4455;\n",
              "    fill: #D2E3FC;\n",
              "  }\n",
              "\n",
              "  [theme=dark] .colab-df-quickchart:hover {\n",
              "    background-color: #434B5C;\n",
              "    box-shadow: 0px 1px 3px 1px rgba(0, 0, 0, 0.15);\n",
              "    filter: drop-shadow(0px 1px 2px rgba(0, 0, 0, 0.3));\n",
              "    fill: #FFFFFF;\n",
              "  }\n",
              "</style>\n",
              "\n",
              "  <script>\n",
              "    async function quickchart(key) {\n",
              "      const charts = await google.colab.kernel.invokeFunction(\n",
              "          'suggestCharts', [key], {});\n",
              "    }\n",
              "    (() => {\n",
              "      let quickchartButtonEl =\n",
              "        document.querySelector('#df-fc2ce2df-c023-483b-9b65-fbdc8031c208 button');\n",
              "      quickchartButtonEl.style.display =\n",
              "        google.colab.kernel.accessAllowed ? 'block' : 'none';\n",
              "    })();\n",
              "  </script>\n",
              "</div>\n",
              "    </div>\n",
              "  </div>\n"
            ]
          },
          "metadata": {},
          "execution_count": 72
        }
      ]
    },
    {
      "cell_type": "code",
      "source": [
        "# Instantiate transformer\n",
        "ss = StandardScaler()\n",
        "\n",
        "# Transform `X`\n",
        "X_scaled_data = ss.fit_transform(X)\n",
        "\n",
        "# Put `X_scaled_data` into DataFrame\n",
        "X_scaled = pd.DataFrame(X_scaled_data,columns=X.columns)\n",
        "\n",
        "print(\"X_scaled shape:\", X_scaled.shape)\n",
        "X_scaled.head()"
      ],
      "metadata": {
        "colab": {
          "base_uri": "https://localhost:8080/",
          "height": 224
        },
        "id": "rTZLeogQGpO2",
        "outputId": "c4dc7578-2be8-4043-8b12-97c463757293"
      },
      "execution_count": 73,
      "outputs": [
        {
          "output_type": "stream",
          "name": "stdout",
          "text": [
            "X_scaled shape: (4418, 5)\n"
          ]
        },
        {
          "output_type": "execute_result",
          "data": {
            "text/plain": [
              "       DEBT  NETWORTH   HOUSES      NFIN     ASSET\n",
              "0 -0.445075 -0.377486 -0.48231 -0.474583 -0.498377\n",
              "1 -0.442132 -0.368401 -0.48231 -0.464541 -0.490047\n",
              "2 -0.422270 -0.383868 -0.48231 -0.467470 -0.492494\n",
              "3 -0.431097 -0.358407 -0.48231 -0.449061 -0.477206\n",
              "4 -0.421534 -0.372966 -0.48231 -0.457010 -0.483818"
            ],
            "text/html": [
              "\n",
              "  <div id=\"df-76de5b4a-05b0-424d-ab04-55230a4521ed\" class=\"colab-df-container\">\n",
              "    <div>\n",
              "<style scoped>\n",
              "    .dataframe tbody tr th:only-of-type {\n",
              "        vertical-align: middle;\n",
              "    }\n",
              "\n",
              "    .dataframe tbody tr th {\n",
              "        vertical-align: top;\n",
              "    }\n",
              "\n",
              "    .dataframe thead th {\n",
              "        text-align: right;\n",
              "    }\n",
              "</style>\n",
              "<table border=\"1\" class=\"dataframe\">\n",
              "  <thead>\n",
              "    <tr style=\"text-align: right;\">\n",
              "      <th></th>\n",
              "      <th>DEBT</th>\n",
              "      <th>NETWORTH</th>\n",
              "      <th>HOUSES</th>\n",
              "      <th>NFIN</th>\n",
              "      <th>ASSET</th>\n",
              "    </tr>\n",
              "  </thead>\n",
              "  <tbody>\n",
              "    <tr>\n",
              "      <th>0</th>\n",
              "      <td>-0.445075</td>\n",
              "      <td>-0.377486</td>\n",
              "      <td>-0.48231</td>\n",
              "      <td>-0.474583</td>\n",
              "      <td>-0.498377</td>\n",
              "    </tr>\n",
              "    <tr>\n",
              "      <th>1</th>\n",
              "      <td>-0.442132</td>\n",
              "      <td>-0.368401</td>\n",
              "      <td>-0.48231</td>\n",
              "      <td>-0.464541</td>\n",
              "      <td>-0.490047</td>\n",
              "    </tr>\n",
              "    <tr>\n",
              "      <th>2</th>\n",
              "      <td>-0.422270</td>\n",
              "      <td>-0.383868</td>\n",
              "      <td>-0.48231</td>\n",
              "      <td>-0.467470</td>\n",
              "      <td>-0.492494</td>\n",
              "    </tr>\n",
              "    <tr>\n",
              "      <th>3</th>\n",
              "      <td>-0.431097</td>\n",
              "      <td>-0.358407</td>\n",
              "      <td>-0.48231</td>\n",
              "      <td>-0.449061</td>\n",
              "      <td>-0.477206</td>\n",
              "    </tr>\n",
              "    <tr>\n",
              "      <th>4</th>\n",
              "      <td>-0.421534</td>\n",
              "      <td>-0.372966</td>\n",
              "      <td>-0.48231</td>\n",
              "      <td>-0.457010</td>\n",
              "      <td>-0.483818</td>\n",
              "    </tr>\n",
              "  </tbody>\n",
              "</table>\n",
              "</div>\n",
              "    <div class=\"colab-df-buttons\">\n",
              "\n",
              "  <div class=\"colab-df-container\">\n",
              "    <button class=\"colab-df-convert\" onclick=\"convertToInteractive('df-76de5b4a-05b0-424d-ab04-55230a4521ed')\"\n",
              "            title=\"Convert this dataframe to an interactive table.\"\n",
              "            style=\"display:none;\">\n",
              "\n",
              "  <svg xmlns=\"http://www.w3.org/2000/svg\" height=\"24px\" viewBox=\"0 -960 960 960\">\n",
              "    <path d=\"M120-120v-720h720v720H120Zm60-500h600v-160H180v160Zm220 220h160v-160H400v160Zm0 220h160v-160H400v160ZM180-400h160v-160H180v160Zm440 0h160v-160H620v160ZM180-180h160v-160H180v160Zm440 0h160v-160H620v160Z\"/>\n",
              "  </svg>\n",
              "    </button>\n",
              "\n",
              "  <style>\n",
              "    .colab-df-container {\n",
              "      display:flex;\n",
              "      gap: 12px;\n",
              "    }\n",
              "\n",
              "    .colab-df-convert {\n",
              "      background-color: #E8F0FE;\n",
              "      border: none;\n",
              "      border-radius: 50%;\n",
              "      cursor: pointer;\n",
              "      display: none;\n",
              "      fill: #1967D2;\n",
              "      height: 32px;\n",
              "      padding: 0 0 0 0;\n",
              "      width: 32px;\n",
              "    }\n",
              "\n",
              "    .colab-df-convert:hover {\n",
              "      background-color: #E2EBFA;\n",
              "      box-shadow: 0px 1px 2px rgba(60, 64, 67, 0.3), 0px 1px 3px 1px rgba(60, 64, 67, 0.15);\n",
              "      fill: #174EA6;\n",
              "    }\n",
              "\n",
              "    .colab-df-buttons div {\n",
              "      margin-bottom: 4px;\n",
              "    }\n",
              "\n",
              "    [theme=dark] .colab-df-convert {\n",
              "      background-color: #3B4455;\n",
              "      fill: #D2E3FC;\n",
              "    }\n",
              "\n",
              "    [theme=dark] .colab-df-convert:hover {\n",
              "      background-color: #434B5C;\n",
              "      box-shadow: 0px 1px 3px 1px rgba(0, 0, 0, 0.15);\n",
              "      filter: drop-shadow(0px 1px 2px rgba(0, 0, 0, 0.3));\n",
              "      fill: #FFFFFF;\n",
              "    }\n",
              "  </style>\n",
              "\n",
              "    <script>\n",
              "      const buttonEl =\n",
              "        document.querySelector('#df-76de5b4a-05b0-424d-ab04-55230a4521ed button.colab-df-convert');\n",
              "      buttonEl.style.display =\n",
              "        google.colab.kernel.accessAllowed ? 'block' : 'none';\n",
              "\n",
              "      async function convertToInteractive(key) {\n",
              "        const element = document.querySelector('#df-76de5b4a-05b0-424d-ab04-55230a4521ed');\n",
              "        const dataTable =\n",
              "          await google.colab.kernel.invokeFunction('convertToInteractive',\n",
              "                                                    [key], {});\n",
              "        if (!dataTable) return;\n",
              "\n",
              "        const docLinkHtml = 'Like what you see? Visit the ' +\n",
              "          '<a target=\"_blank\" href=https://colab.research.google.com/notebooks/data_table.ipynb>data table notebook</a>'\n",
              "          + ' to learn more about interactive tables.';\n",
              "        element.innerHTML = '';\n",
              "        dataTable['output_type'] = 'display_data';\n",
              "        await google.colab.output.renderOutput(dataTable, element);\n",
              "        const docLink = document.createElement('div');\n",
              "        docLink.innerHTML = docLinkHtml;\n",
              "        element.appendChild(docLink);\n",
              "      }\n",
              "    </script>\n",
              "  </div>\n",
              "\n",
              "\n",
              "<div id=\"df-fbc3e422-7664-4a30-9ecd-170d23531fc5\">\n",
              "  <button class=\"colab-df-quickchart\" onclick=\"quickchart('df-fbc3e422-7664-4a30-9ecd-170d23531fc5')\"\n",
              "            title=\"Suggest charts.\"\n",
              "            style=\"display:none;\">\n",
              "\n",
              "<svg xmlns=\"http://www.w3.org/2000/svg\" height=\"24px\"viewBox=\"0 0 24 24\"\n",
              "     width=\"24px\">\n",
              "    <g>\n",
              "        <path d=\"M19 3H5c-1.1 0-2 .9-2 2v14c0 1.1.9 2 2 2h14c1.1 0 2-.9 2-2V5c0-1.1-.9-2-2-2zM9 17H7v-7h2v7zm4 0h-2V7h2v10zm4 0h-2v-4h2v4z\"/>\n",
              "    </g>\n",
              "</svg>\n",
              "  </button>\n",
              "\n",
              "<style>\n",
              "  .colab-df-quickchart {\n",
              "    background-color: #E8F0FE;\n",
              "    border: none;\n",
              "    border-radius: 50%;\n",
              "    cursor: pointer;\n",
              "    display: none;\n",
              "    fill: #1967D2;\n",
              "    height: 32px;\n",
              "    padding: 0 0 0 0;\n",
              "    width: 32px;\n",
              "  }\n",
              "\n",
              "  .colab-df-quickchart:hover {\n",
              "    background-color: #E2EBFA;\n",
              "    box-shadow: 0px 1px 2px rgba(60, 64, 67, 0.3), 0px 1px 3px 1px rgba(60, 64, 67, 0.15);\n",
              "    fill: #174EA6;\n",
              "  }\n",
              "\n",
              "  [theme=dark] .colab-df-quickchart {\n",
              "    background-color: #3B4455;\n",
              "    fill: #D2E3FC;\n",
              "  }\n",
              "\n",
              "  [theme=dark] .colab-df-quickchart:hover {\n",
              "    background-color: #434B5C;\n",
              "    box-shadow: 0px 1px 3px 1px rgba(0, 0, 0, 0.15);\n",
              "    filter: drop-shadow(0px 1px 2px rgba(0, 0, 0, 0.3));\n",
              "    fill: #FFFFFF;\n",
              "  }\n",
              "</style>\n",
              "\n",
              "  <script>\n",
              "    async function quickchart(key) {\n",
              "      const charts = await google.colab.kernel.invokeFunction(\n",
              "          'suggestCharts', [key], {});\n",
              "    }\n",
              "    (() => {\n",
              "      let quickchartButtonEl =\n",
              "        document.querySelector('#df-fbc3e422-7664-4a30-9ecd-170d23531fc5 button');\n",
              "      quickchartButtonEl.style.display =\n",
              "        google.colab.kernel.accessAllowed ? 'block' : 'none';\n",
              "    })();\n",
              "  </script>\n",
              "</div>\n",
              "    </div>\n",
              "  </div>\n"
            ]
          },
          "metadata": {},
          "execution_count": 73
        }
      ]
    },
    {
      "cell_type": "code",
      "source": [
        "X_scaled_summary = X_scaled.aggregate(['mean','std']).astype(int)\n",
        "X_scaled_summary"
      ],
      "metadata": {
        "colab": {
          "base_uri": "https://localhost:8080/",
          "height": 112
        },
        "id": "g69080CfGyhO",
        "outputId": "5634ec71-78fd-4b18-fc13-0c133fb9b3e9"
      },
      "execution_count": 74,
      "outputs": [
        {
          "output_type": "execute_result",
          "data": {
            "text/plain": [
              "      DEBT  NETWORTH  HOUSES  NFIN  ASSET\n",
              "mean     0         0       0     0      0\n",
              "std      1         1       1     1      1"
            ],
            "text/html": [
              "\n",
              "  <div id=\"df-4cfab928-5b50-4492-8121-2e4145e7b296\" class=\"colab-df-container\">\n",
              "    <div>\n",
              "<style scoped>\n",
              "    .dataframe tbody tr th:only-of-type {\n",
              "        vertical-align: middle;\n",
              "    }\n",
              "\n",
              "    .dataframe tbody tr th {\n",
              "        vertical-align: top;\n",
              "    }\n",
              "\n",
              "    .dataframe thead th {\n",
              "        text-align: right;\n",
              "    }\n",
              "</style>\n",
              "<table border=\"1\" class=\"dataframe\">\n",
              "  <thead>\n",
              "    <tr style=\"text-align: right;\">\n",
              "      <th></th>\n",
              "      <th>DEBT</th>\n",
              "      <th>NETWORTH</th>\n",
              "      <th>HOUSES</th>\n",
              "      <th>NFIN</th>\n",
              "      <th>ASSET</th>\n",
              "    </tr>\n",
              "  </thead>\n",
              "  <tbody>\n",
              "    <tr>\n",
              "      <th>mean</th>\n",
              "      <td>0</td>\n",
              "      <td>0</td>\n",
              "      <td>0</td>\n",
              "      <td>0</td>\n",
              "      <td>0</td>\n",
              "    </tr>\n",
              "    <tr>\n",
              "      <th>std</th>\n",
              "      <td>1</td>\n",
              "      <td>1</td>\n",
              "      <td>1</td>\n",
              "      <td>1</td>\n",
              "      <td>1</td>\n",
              "    </tr>\n",
              "  </tbody>\n",
              "</table>\n",
              "</div>\n",
              "    <div class=\"colab-df-buttons\">\n",
              "\n",
              "  <div class=\"colab-df-container\">\n",
              "    <button class=\"colab-df-convert\" onclick=\"convertToInteractive('df-4cfab928-5b50-4492-8121-2e4145e7b296')\"\n",
              "            title=\"Convert this dataframe to an interactive table.\"\n",
              "            style=\"display:none;\">\n",
              "\n",
              "  <svg xmlns=\"http://www.w3.org/2000/svg\" height=\"24px\" viewBox=\"0 -960 960 960\">\n",
              "    <path d=\"M120-120v-720h720v720H120Zm60-500h600v-160H180v160Zm220 220h160v-160H400v160Zm0 220h160v-160H400v160ZM180-400h160v-160H180v160Zm440 0h160v-160H620v160ZM180-180h160v-160H180v160Zm440 0h160v-160H620v160Z\"/>\n",
              "  </svg>\n",
              "    </button>\n",
              "\n",
              "  <style>\n",
              "    .colab-df-container {\n",
              "      display:flex;\n",
              "      gap: 12px;\n",
              "    }\n",
              "\n",
              "    .colab-df-convert {\n",
              "      background-color: #E8F0FE;\n",
              "      border: none;\n",
              "      border-radius: 50%;\n",
              "      cursor: pointer;\n",
              "      display: none;\n",
              "      fill: #1967D2;\n",
              "      height: 32px;\n",
              "      padding: 0 0 0 0;\n",
              "      width: 32px;\n",
              "    }\n",
              "\n",
              "    .colab-df-convert:hover {\n",
              "      background-color: #E2EBFA;\n",
              "      box-shadow: 0px 1px 2px rgba(60, 64, 67, 0.3), 0px 1px 3px 1px rgba(60, 64, 67, 0.15);\n",
              "      fill: #174EA6;\n",
              "    }\n",
              "\n",
              "    .colab-df-buttons div {\n",
              "      margin-bottom: 4px;\n",
              "    }\n",
              "\n",
              "    [theme=dark] .colab-df-convert {\n",
              "      background-color: #3B4455;\n",
              "      fill: #D2E3FC;\n",
              "    }\n",
              "\n",
              "    [theme=dark] .colab-df-convert:hover {\n",
              "      background-color: #434B5C;\n",
              "      box-shadow: 0px 1px 3px 1px rgba(0, 0, 0, 0.15);\n",
              "      filter: drop-shadow(0px 1px 2px rgba(0, 0, 0, 0.3));\n",
              "      fill: #FFFFFF;\n",
              "    }\n",
              "  </style>\n",
              "\n",
              "    <script>\n",
              "      const buttonEl =\n",
              "        document.querySelector('#df-4cfab928-5b50-4492-8121-2e4145e7b296 button.colab-df-convert');\n",
              "      buttonEl.style.display =\n",
              "        google.colab.kernel.accessAllowed ? 'block' : 'none';\n",
              "\n",
              "      async function convertToInteractive(key) {\n",
              "        const element = document.querySelector('#df-4cfab928-5b50-4492-8121-2e4145e7b296');\n",
              "        const dataTable =\n",
              "          await google.colab.kernel.invokeFunction('convertToInteractive',\n",
              "                                                    [key], {});\n",
              "        if (!dataTable) return;\n",
              "\n",
              "        const docLinkHtml = 'Like what you see? Visit the ' +\n",
              "          '<a target=\"_blank\" href=https://colab.research.google.com/notebooks/data_table.ipynb>data table notebook</a>'\n",
              "          + ' to learn more about interactive tables.';\n",
              "        element.innerHTML = '';\n",
              "        dataTable['output_type'] = 'display_data';\n",
              "        await google.colab.output.renderOutput(dataTable, element);\n",
              "        const docLink = document.createElement('div');\n",
              "        docLink.innerHTML = docLinkHtml;\n",
              "        element.appendChild(docLink);\n",
              "      }\n",
              "    </script>\n",
              "  </div>\n",
              "\n",
              "\n",
              "<div id=\"df-a54692ee-8629-4931-bbd1-fd901c6fbbae\">\n",
              "  <button class=\"colab-df-quickchart\" onclick=\"quickchart('df-a54692ee-8629-4931-bbd1-fd901c6fbbae')\"\n",
              "            title=\"Suggest charts.\"\n",
              "            style=\"display:none;\">\n",
              "\n",
              "<svg xmlns=\"http://www.w3.org/2000/svg\" height=\"24px\"viewBox=\"0 0 24 24\"\n",
              "     width=\"24px\">\n",
              "    <g>\n",
              "        <path d=\"M19 3H5c-1.1 0-2 .9-2 2v14c0 1.1.9 2 2 2h14c1.1 0 2-.9 2-2V5c0-1.1-.9-2-2-2zM9 17H7v-7h2v7zm4 0h-2V7h2v10zm4 0h-2v-4h2v4z\"/>\n",
              "    </g>\n",
              "</svg>\n",
              "  </button>\n",
              "\n",
              "<style>\n",
              "  .colab-df-quickchart {\n",
              "    background-color: #E8F0FE;\n",
              "    border: none;\n",
              "    border-radius: 50%;\n",
              "    cursor: pointer;\n",
              "    display: none;\n",
              "    fill: #1967D2;\n",
              "    height: 32px;\n",
              "    padding: 0 0 0 0;\n",
              "    width: 32px;\n",
              "  }\n",
              "\n",
              "  .colab-df-quickchart:hover {\n",
              "    background-color: #E2EBFA;\n",
              "    box-shadow: 0px 1px 2px rgba(60, 64, 67, 0.3), 0px 1px 3px 1px rgba(60, 64, 67, 0.15);\n",
              "    fill: #174EA6;\n",
              "  }\n",
              "\n",
              "  [theme=dark] .colab-df-quickchart {\n",
              "    background-color: #3B4455;\n",
              "    fill: #D2E3FC;\n",
              "  }\n",
              "\n",
              "  [theme=dark] .colab-df-quickchart:hover {\n",
              "    background-color: #434B5C;\n",
              "    box-shadow: 0px 1px 3px 1px rgba(0, 0, 0, 0.15);\n",
              "    filter: drop-shadow(0px 1px 2px rgba(0, 0, 0, 0.3));\n",
              "    fill: #FFFFFF;\n",
              "  }\n",
              "</style>\n",
              "\n",
              "  <script>\n",
              "    async function quickchart(key) {\n",
              "      const charts = await google.colab.kernel.invokeFunction(\n",
              "          'suggestCharts', [key], {});\n",
              "    }\n",
              "    (() => {\n",
              "      let quickchartButtonEl =\n",
              "        document.querySelector('#df-a54692ee-8629-4931-bbd1-fd901c6fbbae button');\n",
              "      quickchartButtonEl.style.display =\n",
              "        google.colab.kernel.accessAllowed ? 'block' : 'none';\n",
              "    })();\n",
              "  </script>\n",
              "</div>\n",
              "    </div>\n",
              "  </div>\n"
            ]
          },
          "metadata": {},
          "execution_count": 74
        }
      ]
    },
    {
      "cell_type": "code",
      "source": [
        "n_clusters = range(2,13)\n",
        "inertia_errors = []\n",
        "silhouette_scores = []\n",
        "\n",
        "# Add `for` loop to train model and calculate inertia, silhouette score.\n",
        "for k in n_clusters:\n",
        "    model=make_pipeline(\n",
        "        StandardScaler(),\n",
        "        KMeans(n_clusters=k,random_state=42)\n",
        "    )\n",
        "    model.fit(X_scaled)\n",
        "    inertia_errors.append(model.named_steps['kmeans'].inertia_)\n",
        "    silhouette_scores.append(silhouette_score(X,model.named_steps['kmeans'].labels_))\n",
        "print(\"Inertia:\", inertia_errors[:3])\n",
        "print()\n",
        "print(\"Silhouette Scores:\", silhouette_scores[:3])"
      ],
      "metadata": {
        "colab": {
          "base_uri": "https://localhost:8080/"
        },
        "id": "_gaJHjd0G3ok",
        "outputId": "d7a75657-4973-4e18-ca55-8d047167cec3"
      },
      "execution_count": 75,
      "outputs": [
        {
          "output_type": "stream",
          "name": "stderr",
          "text": [
            "/usr/local/lib/python3.10/dist-packages/sklearn/cluster/_kmeans.py:870: FutureWarning:\n",
            "\n",
            "The default value of `n_init` will change from 10 to 'auto' in 1.4. Set the value of `n_init` explicitly to suppress the warning\n",
            "\n",
            "/usr/local/lib/python3.10/dist-packages/sklearn/cluster/_kmeans.py:870: FutureWarning:\n",
            "\n",
            "The default value of `n_init` will change from 10 to 'auto' in 1.4. Set the value of `n_init` explicitly to suppress the warning\n",
            "\n",
            "/usr/local/lib/python3.10/dist-packages/sklearn/cluster/_kmeans.py:870: FutureWarning:\n",
            "\n",
            "The default value of `n_init` will change from 10 to 'auto' in 1.4. Set the value of `n_init` explicitly to suppress the warning\n",
            "\n",
            "/usr/local/lib/python3.10/dist-packages/sklearn/cluster/_kmeans.py:870: FutureWarning:\n",
            "\n",
            "The default value of `n_init` will change from 10 to 'auto' in 1.4. Set the value of `n_init` explicitly to suppress the warning\n",
            "\n",
            "/usr/local/lib/python3.10/dist-packages/sklearn/cluster/_kmeans.py:870: FutureWarning:\n",
            "\n",
            "The default value of `n_init` will change from 10 to 'auto' in 1.4. Set the value of `n_init` explicitly to suppress the warning\n",
            "\n",
            "/usr/local/lib/python3.10/dist-packages/sklearn/cluster/_kmeans.py:870: FutureWarning:\n",
            "\n",
            "The default value of `n_init` will change from 10 to 'auto' in 1.4. Set the value of `n_init` explicitly to suppress the warning\n",
            "\n",
            "/usr/local/lib/python3.10/dist-packages/sklearn/cluster/_kmeans.py:870: FutureWarning:\n",
            "\n",
            "The default value of `n_init` will change from 10 to 'auto' in 1.4. Set the value of `n_init` explicitly to suppress the warning\n",
            "\n",
            "/usr/local/lib/python3.10/dist-packages/sklearn/cluster/_kmeans.py:870: FutureWarning:\n",
            "\n",
            "The default value of `n_init` will change from 10 to 'auto' in 1.4. Set the value of `n_init` explicitly to suppress the warning\n",
            "\n",
            "/usr/local/lib/python3.10/dist-packages/sklearn/cluster/_kmeans.py:870: FutureWarning:\n",
            "\n",
            "The default value of `n_init` will change from 10 to 'auto' in 1.4. Set the value of `n_init` explicitly to suppress the warning\n",
            "\n",
            "/usr/local/lib/python3.10/dist-packages/sklearn/cluster/_kmeans.py:870: FutureWarning:\n",
            "\n",
            "The default value of `n_init` will change from 10 to 'auto' in 1.4. Set the value of `n_init` explicitly to suppress the warning\n",
            "\n",
            "/usr/local/lib/python3.10/dist-packages/sklearn/cluster/_kmeans.py:870: FutureWarning:\n",
            "\n",
            "The default value of `n_init` will change from 10 to 'auto' in 1.4. Set the value of `n_init` explicitly to suppress the warning\n",
            "\n"
          ]
        },
        {
          "output_type": "stream",
          "name": "stdout",
          "text": [
            "Inertia: [11028.058082607175, 7190.526303575358, 5924.997726868039]\n",
            "\n",
            "Silhouette Scores: [0.7464502937083215, 0.7044601307791996, 0.6962653079183132]\n"
          ]
        }
      ]
    },
    {
      "cell_type": "code",
      "source": [
        "# Create line plot of `inertia_errors` vs `n_clusters`\n",
        "fig = px.line(x=n_clusters,y=inertia_errors,title=\"K-Means Model: Inertia vs Number of Clusters\")\n",
        "fig.update_layout(xaxis_title=\"Number of Clusters\",yaxis_title=\"Inertia\")\n",
        "fig.show()"
      ],
      "metadata": {
        "colab": {
          "base_uri": "https://localhost:8080/",
          "height": 542
        },
        "id": "Xng4emQ7G_OY",
        "outputId": "7321c6d6-cc65-497d-8375-a21b7147574d"
      },
      "execution_count": 76,
      "outputs": [
        {
          "output_type": "display_data",
          "data": {
            "text/html": [
              "<html>\n",
              "<head><meta charset=\"utf-8\" /></head>\n",
              "<body>\n",
              "    <div>            <script src=\"https://cdnjs.cloudflare.com/ajax/libs/mathjax/2.7.5/MathJax.js?config=TeX-AMS-MML_SVG\"></script><script type=\"text/javascript\">if (window.MathJax && window.MathJax.Hub && window.MathJax.Hub.Config) {window.MathJax.Hub.Config({SVG: {font: \"STIX-Web\"}});}</script>                <script type=\"text/javascript\">window.PlotlyConfig = {MathJaxConfig: 'local'};</script>\n",
              "        <script charset=\"utf-8\" src=\"https://cdn.plot.ly/plotly-2.24.1.min.js\"></script>                <div id=\"8b061542-8246-4d6b-ad77-bfbea6dc9b4f\" class=\"plotly-graph-div\" style=\"height:525px; width:100%;\"></div>            <script type=\"text/javascript\">                                    window.PLOTLYENV=window.PLOTLYENV || {};                                    if (document.getElementById(\"8b061542-8246-4d6b-ad77-bfbea6dc9b4f\")) {                    Plotly.newPlot(                        \"8b061542-8246-4d6b-ad77-bfbea6dc9b4f\",                        [{\"hovertemplate\":\"x=%{x}\\u003cbr\\u003ey=%{y}\\u003cextra\\u003e\\u003c\\u002fextra\\u003e\",\"legendgroup\":\"\",\"line\":{\"color\":\"#636efa\",\"dash\":\"solid\"},\"marker\":{\"symbol\":\"circle\"},\"mode\":\"lines\",\"name\":\"\",\"orientation\":\"v\",\"showlegend\":false,\"x\":[2,3,4,5,6,7,8,9,10,11,12],\"xaxis\":\"x\",\"y\":[11028.058082607175,7190.526303575358,5924.997726868039,5007.534391765883,4309.697762594853,3805.230631357419,3286.7020964735066,3052.6978324228153,2807.949001893805,2564.5997714384857,2395.574824446515],\"yaxis\":\"y\",\"type\":\"scatter\"}],                        {\"template\":{\"data\":{\"histogram2dcontour\":[{\"type\":\"histogram2dcontour\",\"colorbar\":{\"outlinewidth\":0,\"ticks\":\"\"},\"colorscale\":[[0.0,\"#0d0887\"],[0.1111111111111111,\"#46039f\"],[0.2222222222222222,\"#7201a8\"],[0.3333333333333333,\"#9c179e\"],[0.4444444444444444,\"#bd3786\"],[0.5555555555555556,\"#d8576b\"],[0.6666666666666666,\"#ed7953\"],[0.7777777777777778,\"#fb9f3a\"],[0.8888888888888888,\"#fdca26\"],[1.0,\"#f0f921\"]]}],\"choropleth\":[{\"type\":\"choropleth\",\"colorbar\":{\"outlinewidth\":0,\"ticks\":\"\"}}],\"histogram2d\":[{\"type\":\"histogram2d\",\"colorbar\":{\"outlinewidth\":0,\"ticks\":\"\"},\"colorscale\":[[0.0,\"#0d0887\"],[0.1111111111111111,\"#46039f\"],[0.2222222222222222,\"#7201a8\"],[0.3333333333333333,\"#9c179e\"],[0.4444444444444444,\"#bd3786\"],[0.5555555555555556,\"#d8576b\"],[0.6666666666666666,\"#ed7953\"],[0.7777777777777778,\"#fb9f3a\"],[0.8888888888888888,\"#fdca26\"],[1.0,\"#f0f921\"]]}],\"heatmap\":[{\"type\":\"heatmap\",\"colorbar\":{\"outlinewidth\":0,\"ticks\":\"\"},\"colorscale\":[[0.0,\"#0d0887\"],[0.1111111111111111,\"#46039f\"],[0.2222222222222222,\"#7201a8\"],[0.3333333333333333,\"#9c179e\"],[0.4444444444444444,\"#bd3786\"],[0.5555555555555556,\"#d8576b\"],[0.6666666666666666,\"#ed7953\"],[0.7777777777777778,\"#fb9f3a\"],[0.8888888888888888,\"#fdca26\"],[1.0,\"#f0f921\"]]}],\"heatmapgl\":[{\"type\":\"heatmapgl\",\"colorbar\":{\"outlinewidth\":0,\"ticks\":\"\"},\"colorscale\":[[0.0,\"#0d0887\"],[0.1111111111111111,\"#46039f\"],[0.2222222222222222,\"#7201a8\"],[0.3333333333333333,\"#9c179e\"],[0.4444444444444444,\"#bd3786\"],[0.5555555555555556,\"#d8576b\"],[0.6666666666666666,\"#ed7953\"],[0.7777777777777778,\"#fb9f3a\"],[0.8888888888888888,\"#fdca26\"],[1.0,\"#f0f921\"]]}],\"contourcarpet\":[{\"type\":\"contourcarpet\",\"colorbar\":{\"outlinewidth\":0,\"ticks\":\"\"}}],\"contour\":[{\"type\":\"contour\",\"colorbar\":{\"outlinewidth\":0,\"ticks\":\"\"},\"colorscale\":[[0.0,\"#0d0887\"],[0.1111111111111111,\"#46039f\"],[0.2222222222222222,\"#7201a8\"],[0.3333333333333333,\"#9c179e\"],[0.4444444444444444,\"#bd3786\"],[0.5555555555555556,\"#d8576b\"],[0.6666666666666666,\"#ed7953\"],[0.7777777777777778,\"#fb9f3a\"],[0.8888888888888888,\"#fdca26\"],[1.0,\"#f0f921\"]]}],\"surface\":[{\"type\":\"surface\",\"colorbar\":{\"outlinewidth\":0,\"ticks\":\"\"},\"colorscale\":[[0.0,\"#0d0887\"],[0.1111111111111111,\"#46039f\"],[0.2222222222222222,\"#7201a8\"],[0.3333333333333333,\"#9c179e\"],[0.4444444444444444,\"#bd3786\"],[0.5555555555555556,\"#d8576b\"],[0.6666666666666666,\"#ed7953\"],[0.7777777777777778,\"#fb9f3a\"],[0.8888888888888888,\"#fdca26\"],[1.0,\"#f0f921\"]]}],\"mesh3d\":[{\"type\":\"mesh3d\",\"colorbar\":{\"outlinewidth\":0,\"ticks\":\"\"}}],\"scatter\":[{\"fillpattern\":{\"fillmode\":\"overlay\",\"size\":10,\"solidity\":0.2},\"type\":\"scatter\"}],\"parcoords\":[{\"type\":\"parcoords\",\"line\":{\"colorbar\":{\"outlinewidth\":0,\"ticks\":\"\"}}}],\"scatterpolargl\":[{\"type\":\"scatterpolargl\",\"marker\":{\"colorbar\":{\"outlinewidth\":0,\"ticks\":\"\"}}}],\"bar\":[{\"error_x\":{\"color\":\"#2a3f5f\"},\"error_y\":{\"color\":\"#2a3f5f\"},\"marker\":{\"line\":{\"color\":\"#E5ECF6\",\"width\":0.5},\"pattern\":{\"fillmode\":\"overlay\",\"size\":10,\"solidity\":0.2}},\"type\":\"bar\"}],\"scattergeo\":[{\"type\":\"scattergeo\",\"marker\":{\"colorbar\":{\"outlinewidth\":0,\"ticks\":\"\"}}}],\"scatterpolar\":[{\"type\":\"scatterpolar\",\"marker\":{\"colorbar\":{\"outlinewidth\":0,\"ticks\":\"\"}}}],\"histogram\":[{\"marker\":{\"pattern\":{\"fillmode\":\"overlay\",\"size\":10,\"solidity\":0.2}},\"type\":\"histogram\"}],\"scattergl\":[{\"type\":\"scattergl\",\"marker\":{\"colorbar\":{\"outlinewidth\":0,\"ticks\":\"\"}}}],\"scatter3d\":[{\"type\":\"scatter3d\",\"line\":{\"colorbar\":{\"outlinewidth\":0,\"ticks\":\"\"}},\"marker\":{\"colorbar\":{\"outlinewidth\":0,\"ticks\":\"\"}}}],\"scattermapbox\":[{\"type\":\"scattermapbox\",\"marker\":{\"colorbar\":{\"outlinewidth\":0,\"ticks\":\"\"}}}],\"scatterternary\":[{\"type\":\"scatterternary\",\"marker\":{\"colorbar\":{\"outlinewidth\":0,\"ticks\":\"\"}}}],\"scattercarpet\":[{\"type\":\"scattercarpet\",\"marker\":{\"colorbar\":{\"outlinewidth\":0,\"ticks\":\"\"}}}],\"carpet\":[{\"aaxis\":{\"endlinecolor\":\"#2a3f5f\",\"gridcolor\":\"white\",\"linecolor\":\"white\",\"minorgridcolor\":\"white\",\"startlinecolor\":\"#2a3f5f\"},\"baxis\":{\"endlinecolor\":\"#2a3f5f\",\"gridcolor\":\"white\",\"linecolor\":\"white\",\"minorgridcolor\":\"white\",\"startlinecolor\":\"#2a3f5f\"},\"type\":\"carpet\"}],\"table\":[{\"cells\":{\"fill\":{\"color\":\"#EBF0F8\"},\"line\":{\"color\":\"white\"}},\"header\":{\"fill\":{\"color\":\"#C8D4E3\"},\"line\":{\"color\":\"white\"}},\"type\":\"table\"}],\"barpolar\":[{\"marker\":{\"line\":{\"color\":\"#E5ECF6\",\"width\":0.5},\"pattern\":{\"fillmode\":\"overlay\",\"size\":10,\"solidity\":0.2}},\"type\":\"barpolar\"}],\"pie\":[{\"automargin\":true,\"type\":\"pie\"}]},\"layout\":{\"autotypenumbers\":\"strict\",\"colorway\":[\"#636efa\",\"#EF553B\",\"#00cc96\",\"#ab63fa\",\"#FFA15A\",\"#19d3f3\",\"#FF6692\",\"#B6E880\",\"#FF97FF\",\"#FECB52\"],\"font\":{\"color\":\"#2a3f5f\"},\"hovermode\":\"closest\",\"hoverlabel\":{\"align\":\"left\"},\"paper_bgcolor\":\"white\",\"plot_bgcolor\":\"#E5ECF6\",\"polar\":{\"bgcolor\":\"#E5ECF6\",\"angularaxis\":{\"gridcolor\":\"white\",\"linecolor\":\"white\",\"ticks\":\"\"},\"radialaxis\":{\"gridcolor\":\"white\",\"linecolor\":\"white\",\"ticks\":\"\"}},\"ternary\":{\"bgcolor\":\"#E5ECF6\",\"aaxis\":{\"gridcolor\":\"white\",\"linecolor\":\"white\",\"ticks\":\"\"},\"baxis\":{\"gridcolor\":\"white\",\"linecolor\":\"white\",\"ticks\":\"\"},\"caxis\":{\"gridcolor\":\"white\",\"linecolor\":\"white\",\"ticks\":\"\"}},\"coloraxis\":{\"colorbar\":{\"outlinewidth\":0,\"ticks\":\"\"}},\"colorscale\":{\"sequential\":[[0.0,\"#0d0887\"],[0.1111111111111111,\"#46039f\"],[0.2222222222222222,\"#7201a8\"],[0.3333333333333333,\"#9c179e\"],[0.4444444444444444,\"#bd3786\"],[0.5555555555555556,\"#d8576b\"],[0.6666666666666666,\"#ed7953\"],[0.7777777777777778,\"#fb9f3a\"],[0.8888888888888888,\"#fdca26\"],[1.0,\"#f0f921\"]],\"sequentialminus\":[[0.0,\"#0d0887\"],[0.1111111111111111,\"#46039f\"],[0.2222222222222222,\"#7201a8\"],[0.3333333333333333,\"#9c179e\"],[0.4444444444444444,\"#bd3786\"],[0.5555555555555556,\"#d8576b\"],[0.6666666666666666,\"#ed7953\"],[0.7777777777777778,\"#fb9f3a\"],[0.8888888888888888,\"#fdca26\"],[1.0,\"#f0f921\"]],\"diverging\":[[0,\"#8e0152\"],[0.1,\"#c51b7d\"],[0.2,\"#de77ae\"],[0.3,\"#f1b6da\"],[0.4,\"#fde0ef\"],[0.5,\"#f7f7f7\"],[0.6,\"#e6f5d0\"],[0.7,\"#b8e186\"],[0.8,\"#7fbc41\"],[0.9,\"#4d9221\"],[1,\"#276419\"]]},\"xaxis\":{\"gridcolor\":\"white\",\"linecolor\":\"white\",\"ticks\":\"\",\"title\":{\"standoff\":15},\"zerolinecolor\":\"white\",\"automargin\":true,\"zerolinewidth\":2},\"yaxis\":{\"gridcolor\":\"white\",\"linecolor\":\"white\",\"ticks\":\"\",\"title\":{\"standoff\":15},\"zerolinecolor\":\"white\",\"automargin\":true,\"zerolinewidth\":2},\"scene\":{\"xaxis\":{\"backgroundcolor\":\"#E5ECF6\",\"gridcolor\":\"white\",\"linecolor\":\"white\",\"showbackground\":true,\"ticks\":\"\",\"zerolinecolor\":\"white\",\"gridwidth\":2},\"yaxis\":{\"backgroundcolor\":\"#E5ECF6\",\"gridcolor\":\"white\",\"linecolor\":\"white\",\"showbackground\":true,\"ticks\":\"\",\"zerolinecolor\":\"white\",\"gridwidth\":2},\"zaxis\":{\"backgroundcolor\":\"#E5ECF6\",\"gridcolor\":\"white\",\"linecolor\":\"white\",\"showbackground\":true,\"ticks\":\"\",\"zerolinecolor\":\"white\",\"gridwidth\":2}},\"shapedefaults\":{\"line\":{\"color\":\"#2a3f5f\"}},\"annotationdefaults\":{\"arrowcolor\":\"#2a3f5f\",\"arrowhead\":0,\"arrowwidth\":1},\"geo\":{\"bgcolor\":\"white\",\"landcolor\":\"#E5ECF6\",\"subunitcolor\":\"white\",\"showland\":true,\"showlakes\":true,\"lakecolor\":\"white\"},\"title\":{\"x\":0.05},\"mapbox\":{\"style\":\"light\"}}},\"xaxis\":{\"anchor\":\"y\",\"domain\":[0.0,1.0],\"title\":{\"text\":\"Number of Clusters\"}},\"yaxis\":{\"anchor\":\"x\",\"domain\":[0.0,1.0],\"title\":{\"text\":\"Inertia\"}},\"legend\":{\"tracegroupgap\":0},\"title\":{\"text\":\"K-Means Model: Inertia vs Number of Clusters\"}},                        {\"responsive\": true}                    ).then(function(){\n",
              "                            \n",
              "var gd = document.getElementById('8b061542-8246-4d6b-ad77-bfbea6dc9b4f');\n",
              "var x = new MutationObserver(function (mutations, observer) {{\n",
              "        var display = window.getComputedStyle(gd).display;\n",
              "        if (!display || display === 'none') {{\n",
              "            console.log([gd, 'removed!']);\n",
              "            Plotly.purge(gd);\n",
              "            observer.disconnect();\n",
              "        }}\n",
              "}});\n",
              "\n",
              "// Listen for the removal of the full notebook cells\n",
              "var notebookContainer = gd.closest('#notebook-container');\n",
              "if (notebookContainer) {{\n",
              "    x.observe(notebookContainer, {childList: true});\n",
              "}}\n",
              "\n",
              "// Listen for the clearing of the current output cell\n",
              "var outputEl = gd.closest('.output');\n",
              "if (outputEl) {{\n",
              "    x.observe(outputEl, {childList: true});\n",
              "}}\n",
              "\n",
              "                        })                };                            </script>        </div>\n",
              "</body>\n",
              "</html>"
            ]
          },
          "metadata": {}
        }
      ]
    },
    {
      "cell_type": "code",
      "source": [
        "# Create a line plot of `silhouette_scores` vs `n_clusters`\n",
        "fig = px.line(x=n_clusters,y=silhouette_scores,title=\"K-Means Model: Silhouette Score vs Number of Clusters\")\n",
        "fig.update_layout(xaxis_title=\"Number of Clusters\",yaxis_title=\"Silhouette Score\")\n",
        "fig.show()"
      ],
      "metadata": {
        "colab": {
          "base_uri": "https://localhost:8080/",
          "height": 542
        },
        "id": "Vq1n_igyHFx_",
        "outputId": "ab7be680-e05e-4a54-f3d5-344b05777172"
      },
      "execution_count": 77,
      "outputs": [
        {
          "output_type": "display_data",
          "data": {
            "text/html": [
              "<html>\n",
              "<head><meta charset=\"utf-8\" /></head>\n",
              "<body>\n",
              "    <div>            <script src=\"https://cdnjs.cloudflare.com/ajax/libs/mathjax/2.7.5/MathJax.js?config=TeX-AMS-MML_SVG\"></script><script type=\"text/javascript\">if (window.MathJax && window.MathJax.Hub && window.MathJax.Hub.Config) {window.MathJax.Hub.Config({SVG: {font: \"STIX-Web\"}});}</script>                <script type=\"text/javascript\">window.PlotlyConfig = {MathJaxConfig: 'local'};</script>\n",
              "        <script charset=\"utf-8\" src=\"https://cdn.plot.ly/plotly-2.24.1.min.js\"></script>                <div id=\"a13f4c63-ff98-4e3c-bbe1-c6733df4287f\" class=\"plotly-graph-div\" style=\"height:525px; width:100%;\"></div>            <script type=\"text/javascript\">                                    window.PLOTLYENV=window.PLOTLYENV || {};                                    if (document.getElementById(\"a13f4c63-ff98-4e3c-bbe1-c6733df4287f\")) {                    Plotly.newPlot(                        \"a13f4c63-ff98-4e3c-bbe1-c6733df4287f\",                        [{\"hovertemplate\":\"x=%{x}\\u003cbr\\u003ey=%{y}\\u003cextra\\u003e\\u003c\\u002fextra\\u003e\",\"legendgroup\":\"\",\"line\":{\"color\":\"#636efa\",\"dash\":\"solid\"},\"marker\":{\"symbol\":\"circle\"},\"mode\":\"lines\",\"name\":\"\",\"orientation\":\"v\",\"showlegend\":false,\"x\":[2,3,4,5,6,7,8,9,10,11,12],\"xaxis\":\"x\",\"y\":[0.7464502937083215,0.7044601307791996,0.6962653079183132,0.6596375627049622,0.6476431255217172,0.6639349802702578,0.6529834060512755,0.6208762248679017,0.570186530209805,0.639079701217912,0.5607533348488275],\"yaxis\":\"y\",\"type\":\"scatter\"}],                        {\"template\":{\"data\":{\"histogram2dcontour\":[{\"type\":\"histogram2dcontour\",\"colorbar\":{\"outlinewidth\":0,\"ticks\":\"\"},\"colorscale\":[[0.0,\"#0d0887\"],[0.1111111111111111,\"#46039f\"],[0.2222222222222222,\"#7201a8\"],[0.3333333333333333,\"#9c179e\"],[0.4444444444444444,\"#bd3786\"],[0.5555555555555556,\"#d8576b\"],[0.6666666666666666,\"#ed7953\"],[0.7777777777777778,\"#fb9f3a\"],[0.8888888888888888,\"#fdca26\"],[1.0,\"#f0f921\"]]}],\"choropleth\":[{\"type\":\"choropleth\",\"colorbar\":{\"outlinewidth\":0,\"ticks\":\"\"}}],\"histogram2d\":[{\"type\":\"histogram2d\",\"colorbar\":{\"outlinewidth\":0,\"ticks\":\"\"},\"colorscale\":[[0.0,\"#0d0887\"],[0.1111111111111111,\"#46039f\"],[0.2222222222222222,\"#7201a8\"],[0.3333333333333333,\"#9c179e\"],[0.4444444444444444,\"#bd3786\"],[0.5555555555555556,\"#d8576b\"],[0.6666666666666666,\"#ed7953\"],[0.7777777777777778,\"#fb9f3a\"],[0.8888888888888888,\"#fdca26\"],[1.0,\"#f0f921\"]]}],\"heatmap\":[{\"type\":\"heatmap\",\"colorbar\":{\"outlinewidth\":0,\"ticks\":\"\"},\"colorscale\":[[0.0,\"#0d0887\"],[0.1111111111111111,\"#46039f\"],[0.2222222222222222,\"#7201a8\"],[0.3333333333333333,\"#9c179e\"],[0.4444444444444444,\"#bd3786\"],[0.5555555555555556,\"#d8576b\"],[0.6666666666666666,\"#ed7953\"],[0.7777777777777778,\"#fb9f3a\"],[0.8888888888888888,\"#fdca26\"],[1.0,\"#f0f921\"]]}],\"heatmapgl\":[{\"type\":\"heatmapgl\",\"colorbar\":{\"outlinewidth\":0,\"ticks\":\"\"},\"colorscale\":[[0.0,\"#0d0887\"],[0.1111111111111111,\"#46039f\"],[0.2222222222222222,\"#7201a8\"],[0.3333333333333333,\"#9c179e\"],[0.4444444444444444,\"#bd3786\"],[0.5555555555555556,\"#d8576b\"],[0.6666666666666666,\"#ed7953\"],[0.7777777777777778,\"#fb9f3a\"],[0.8888888888888888,\"#fdca26\"],[1.0,\"#f0f921\"]]}],\"contourcarpet\":[{\"type\":\"contourcarpet\",\"colorbar\":{\"outlinewidth\":0,\"ticks\":\"\"}}],\"contour\":[{\"type\":\"contour\",\"colorbar\":{\"outlinewidth\":0,\"ticks\":\"\"},\"colorscale\":[[0.0,\"#0d0887\"],[0.1111111111111111,\"#46039f\"],[0.2222222222222222,\"#7201a8\"],[0.3333333333333333,\"#9c179e\"],[0.4444444444444444,\"#bd3786\"],[0.5555555555555556,\"#d8576b\"],[0.6666666666666666,\"#ed7953\"],[0.7777777777777778,\"#fb9f3a\"],[0.8888888888888888,\"#fdca26\"],[1.0,\"#f0f921\"]]}],\"surface\":[{\"type\":\"surface\",\"colorbar\":{\"outlinewidth\":0,\"ticks\":\"\"},\"colorscale\":[[0.0,\"#0d0887\"],[0.1111111111111111,\"#46039f\"],[0.2222222222222222,\"#7201a8\"],[0.3333333333333333,\"#9c179e\"],[0.4444444444444444,\"#bd3786\"],[0.5555555555555556,\"#d8576b\"],[0.6666666666666666,\"#ed7953\"],[0.7777777777777778,\"#fb9f3a\"],[0.8888888888888888,\"#fdca26\"],[1.0,\"#f0f921\"]]}],\"mesh3d\":[{\"type\":\"mesh3d\",\"colorbar\":{\"outlinewidth\":0,\"ticks\":\"\"}}],\"scatter\":[{\"fillpattern\":{\"fillmode\":\"overlay\",\"size\":10,\"solidity\":0.2},\"type\":\"scatter\"}],\"parcoords\":[{\"type\":\"parcoords\",\"line\":{\"colorbar\":{\"outlinewidth\":0,\"ticks\":\"\"}}}],\"scatterpolargl\":[{\"type\":\"scatterpolargl\",\"marker\":{\"colorbar\":{\"outlinewidth\":0,\"ticks\":\"\"}}}],\"bar\":[{\"error_x\":{\"color\":\"#2a3f5f\"},\"error_y\":{\"color\":\"#2a3f5f\"},\"marker\":{\"line\":{\"color\":\"#E5ECF6\",\"width\":0.5},\"pattern\":{\"fillmode\":\"overlay\",\"size\":10,\"solidity\":0.2}},\"type\":\"bar\"}],\"scattergeo\":[{\"type\":\"scattergeo\",\"marker\":{\"colorbar\":{\"outlinewidth\":0,\"ticks\":\"\"}}}],\"scatterpolar\":[{\"type\":\"scatterpolar\",\"marker\":{\"colorbar\":{\"outlinewidth\":0,\"ticks\":\"\"}}}],\"histogram\":[{\"marker\":{\"pattern\":{\"fillmode\":\"overlay\",\"size\":10,\"solidity\":0.2}},\"type\":\"histogram\"}],\"scattergl\":[{\"type\":\"scattergl\",\"marker\":{\"colorbar\":{\"outlinewidth\":0,\"ticks\":\"\"}}}],\"scatter3d\":[{\"type\":\"scatter3d\",\"line\":{\"colorbar\":{\"outlinewidth\":0,\"ticks\":\"\"}},\"marker\":{\"colorbar\":{\"outlinewidth\":0,\"ticks\":\"\"}}}],\"scattermapbox\":[{\"type\":\"scattermapbox\",\"marker\":{\"colorbar\":{\"outlinewidth\":0,\"ticks\":\"\"}}}],\"scatterternary\":[{\"type\":\"scatterternary\",\"marker\":{\"colorbar\":{\"outlinewidth\":0,\"ticks\":\"\"}}}],\"scattercarpet\":[{\"type\":\"scattercarpet\",\"marker\":{\"colorbar\":{\"outlinewidth\":0,\"ticks\":\"\"}}}],\"carpet\":[{\"aaxis\":{\"endlinecolor\":\"#2a3f5f\",\"gridcolor\":\"white\",\"linecolor\":\"white\",\"minorgridcolor\":\"white\",\"startlinecolor\":\"#2a3f5f\"},\"baxis\":{\"endlinecolor\":\"#2a3f5f\",\"gridcolor\":\"white\",\"linecolor\":\"white\",\"minorgridcolor\":\"white\",\"startlinecolor\":\"#2a3f5f\"},\"type\":\"carpet\"}],\"table\":[{\"cells\":{\"fill\":{\"color\":\"#EBF0F8\"},\"line\":{\"color\":\"white\"}},\"header\":{\"fill\":{\"color\":\"#C8D4E3\"},\"line\":{\"color\":\"white\"}},\"type\":\"table\"}],\"barpolar\":[{\"marker\":{\"line\":{\"color\":\"#E5ECF6\",\"width\":0.5},\"pattern\":{\"fillmode\":\"overlay\",\"size\":10,\"solidity\":0.2}},\"type\":\"barpolar\"}],\"pie\":[{\"automargin\":true,\"type\":\"pie\"}]},\"layout\":{\"autotypenumbers\":\"strict\",\"colorway\":[\"#636efa\",\"#EF553B\",\"#00cc96\",\"#ab63fa\",\"#FFA15A\",\"#19d3f3\",\"#FF6692\",\"#B6E880\",\"#FF97FF\",\"#FECB52\"],\"font\":{\"color\":\"#2a3f5f\"},\"hovermode\":\"closest\",\"hoverlabel\":{\"align\":\"left\"},\"paper_bgcolor\":\"white\",\"plot_bgcolor\":\"#E5ECF6\",\"polar\":{\"bgcolor\":\"#E5ECF6\",\"angularaxis\":{\"gridcolor\":\"white\",\"linecolor\":\"white\",\"ticks\":\"\"},\"radialaxis\":{\"gridcolor\":\"white\",\"linecolor\":\"white\",\"ticks\":\"\"}},\"ternary\":{\"bgcolor\":\"#E5ECF6\",\"aaxis\":{\"gridcolor\":\"white\",\"linecolor\":\"white\",\"ticks\":\"\"},\"baxis\":{\"gridcolor\":\"white\",\"linecolor\":\"white\",\"ticks\":\"\"},\"caxis\":{\"gridcolor\":\"white\",\"linecolor\":\"white\",\"ticks\":\"\"}},\"coloraxis\":{\"colorbar\":{\"outlinewidth\":0,\"ticks\":\"\"}},\"colorscale\":{\"sequential\":[[0.0,\"#0d0887\"],[0.1111111111111111,\"#46039f\"],[0.2222222222222222,\"#7201a8\"],[0.3333333333333333,\"#9c179e\"],[0.4444444444444444,\"#bd3786\"],[0.5555555555555556,\"#d8576b\"],[0.6666666666666666,\"#ed7953\"],[0.7777777777777778,\"#fb9f3a\"],[0.8888888888888888,\"#fdca26\"],[1.0,\"#f0f921\"]],\"sequentialminus\":[[0.0,\"#0d0887\"],[0.1111111111111111,\"#46039f\"],[0.2222222222222222,\"#7201a8\"],[0.3333333333333333,\"#9c179e\"],[0.4444444444444444,\"#bd3786\"],[0.5555555555555556,\"#d8576b\"],[0.6666666666666666,\"#ed7953\"],[0.7777777777777778,\"#fb9f3a\"],[0.8888888888888888,\"#fdca26\"],[1.0,\"#f0f921\"]],\"diverging\":[[0,\"#8e0152\"],[0.1,\"#c51b7d\"],[0.2,\"#de77ae\"],[0.3,\"#f1b6da\"],[0.4,\"#fde0ef\"],[0.5,\"#f7f7f7\"],[0.6,\"#e6f5d0\"],[0.7,\"#b8e186\"],[0.8,\"#7fbc41\"],[0.9,\"#4d9221\"],[1,\"#276419\"]]},\"xaxis\":{\"gridcolor\":\"white\",\"linecolor\":\"white\",\"ticks\":\"\",\"title\":{\"standoff\":15},\"zerolinecolor\":\"white\",\"automargin\":true,\"zerolinewidth\":2},\"yaxis\":{\"gridcolor\":\"white\",\"linecolor\":\"white\",\"ticks\":\"\",\"title\":{\"standoff\":15},\"zerolinecolor\":\"white\",\"automargin\":true,\"zerolinewidth\":2},\"scene\":{\"xaxis\":{\"backgroundcolor\":\"#E5ECF6\",\"gridcolor\":\"white\",\"linecolor\":\"white\",\"showbackground\":true,\"ticks\":\"\",\"zerolinecolor\":\"white\",\"gridwidth\":2},\"yaxis\":{\"backgroundcolor\":\"#E5ECF6\",\"gridcolor\":\"white\",\"linecolor\":\"white\",\"showbackground\":true,\"ticks\":\"\",\"zerolinecolor\":\"white\",\"gridwidth\":2},\"zaxis\":{\"backgroundcolor\":\"#E5ECF6\",\"gridcolor\":\"white\",\"linecolor\":\"white\",\"showbackground\":true,\"ticks\":\"\",\"zerolinecolor\":\"white\",\"gridwidth\":2}},\"shapedefaults\":{\"line\":{\"color\":\"#2a3f5f\"}},\"annotationdefaults\":{\"arrowcolor\":\"#2a3f5f\",\"arrowhead\":0,\"arrowwidth\":1},\"geo\":{\"bgcolor\":\"white\",\"landcolor\":\"#E5ECF6\",\"subunitcolor\":\"white\",\"showland\":true,\"showlakes\":true,\"lakecolor\":\"white\"},\"title\":{\"x\":0.05},\"mapbox\":{\"style\":\"light\"}}},\"xaxis\":{\"anchor\":\"y\",\"domain\":[0.0,1.0],\"title\":{\"text\":\"Number of Clusters\"}},\"yaxis\":{\"anchor\":\"x\",\"domain\":[0.0,1.0],\"title\":{\"text\":\"Silhouette Score\"}},\"legend\":{\"tracegroupgap\":0},\"title\":{\"text\":\"K-Means Model: Silhouette Score vs Number of Clusters\"}},                        {\"responsive\": true}                    ).then(function(){\n",
              "                            \n",
              "var gd = document.getElementById('a13f4c63-ff98-4e3c-bbe1-c6733df4287f');\n",
              "var x = new MutationObserver(function (mutations, observer) {{\n",
              "        var display = window.getComputedStyle(gd).display;\n",
              "        if (!display || display === 'none') {{\n",
              "            console.log([gd, 'removed!']);\n",
              "            Plotly.purge(gd);\n",
              "            observer.disconnect();\n",
              "        }}\n",
              "}});\n",
              "\n",
              "// Listen for the removal of the full notebook cells\n",
              "var notebookContainer = gd.closest('#notebook-container');\n",
              "if (notebookContainer) {{\n",
              "    x.observe(notebookContainer, {childList: true});\n",
              "}}\n",
              "\n",
              "// Listen for the clearing of the current output cell\n",
              "var outputEl = gd.closest('.output');\n",
              "if (outputEl) {{\n",
              "    x.observe(outputEl, {childList: true});\n",
              "}}\n",
              "\n",
              "                        })                };                            </script>        </div>\n",
              "</body>\n",
              "</html>"
            ]
          },
          "metadata": {}
        }
      ]
    },
    {
      "cell_type": "code",
      "source": [
        "final_model = make_pipeline(\n",
        "          StandardScaler(),\n",
        "        KMeans(n_clusters=4,random_state=42)\n",
        ")\n",
        "final_model.fit(X)"
      ],
      "metadata": {
        "colab": {
          "base_uri": "https://localhost:8080/",
          "height": 196
        },
        "id": "MUBjdVtsHIfH",
        "outputId": "7131078c-928f-4598-fdd2-66073733d068"
      },
      "execution_count": 78,
      "outputs": [
        {
          "output_type": "stream",
          "name": "stderr",
          "text": [
            "/usr/local/lib/python3.10/dist-packages/sklearn/cluster/_kmeans.py:870: FutureWarning:\n",
            "\n",
            "The default value of `n_init` will change from 10 to 'auto' in 1.4. Set the value of `n_init` explicitly to suppress the warning\n",
            "\n"
          ]
        },
        {
          "output_type": "execute_result",
          "data": {
            "text/plain": [
              "Pipeline(steps=[('standardscaler', StandardScaler()),\n",
              "                ('kmeans', KMeans(n_clusters=4, random_state=42))])"
            ],
            "text/html": [
              "<style>#sk-container-id-3 {color: black;background-color: white;}#sk-container-id-3 pre{padding: 0;}#sk-container-id-3 div.sk-toggleable {background-color: white;}#sk-container-id-3 label.sk-toggleable__label {cursor: pointer;display: block;width: 100%;margin-bottom: 0;padding: 0.3em;box-sizing: border-box;text-align: center;}#sk-container-id-3 label.sk-toggleable__label-arrow:before {content: \"▸\";float: left;margin-right: 0.25em;color: #696969;}#sk-container-id-3 label.sk-toggleable__label-arrow:hover:before {color: black;}#sk-container-id-3 div.sk-estimator:hover label.sk-toggleable__label-arrow:before {color: black;}#sk-container-id-3 div.sk-toggleable__content {max-height: 0;max-width: 0;overflow: hidden;text-align: left;background-color: #f0f8ff;}#sk-container-id-3 div.sk-toggleable__content pre {margin: 0.2em;color: black;border-radius: 0.25em;background-color: #f0f8ff;}#sk-container-id-3 input.sk-toggleable__control:checked~div.sk-toggleable__content {max-height: 200px;max-width: 100%;overflow: auto;}#sk-container-id-3 input.sk-toggleable__control:checked~label.sk-toggleable__label-arrow:before {content: \"▾\";}#sk-container-id-3 div.sk-estimator input.sk-toggleable__control:checked~label.sk-toggleable__label {background-color: #d4ebff;}#sk-container-id-3 div.sk-label input.sk-toggleable__control:checked~label.sk-toggleable__label {background-color: #d4ebff;}#sk-container-id-3 input.sk-hidden--visually {border: 0;clip: rect(1px 1px 1px 1px);clip: rect(1px, 1px, 1px, 1px);height: 1px;margin: -1px;overflow: hidden;padding: 0;position: absolute;width: 1px;}#sk-container-id-3 div.sk-estimator {font-family: monospace;background-color: #f0f8ff;border: 1px dotted black;border-radius: 0.25em;box-sizing: border-box;margin-bottom: 0.5em;}#sk-container-id-3 div.sk-estimator:hover {background-color: #d4ebff;}#sk-container-id-3 div.sk-parallel-item::after {content: \"\";width: 100%;border-bottom: 1px solid gray;flex-grow: 1;}#sk-container-id-3 div.sk-label:hover label.sk-toggleable__label {background-color: #d4ebff;}#sk-container-id-3 div.sk-serial::before {content: \"\";position: absolute;border-left: 1px solid gray;box-sizing: border-box;top: 0;bottom: 0;left: 50%;z-index: 0;}#sk-container-id-3 div.sk-serial {display: flex;flex-direction: column;align-items: center;background-color: white;padding-right: 0.2em;padding-left: 0.2em;position: relative;}#sk-container-id-3 div.sk-item {position: relative;z-index: 1;}#sk-container-id-3 div.sk-parallel {display: flex;align-items: stretch;justify-content: center;background-color: white;position: relative;}#sk-container-id-3 div.sk-item::before, #sk-container-id-3 div.sk-parallel-item::before {content: \"\";position: absolute;border-left: 1px solid gray;box-sizing: border-box;top: 0;bottom: 0;left: 50%;z-index: -1;}#sk-container-id-3 div.sk-parallel-item {display: flex;flex-direction: column;z-index: 1;position: relative;background-color: white;}#sk-container-id-3 div.sk-parallel-item:first-child::after {align-self: flex-end;width: 50%;}#sk-container-id-3 div.sk-parallel-item:last-child::after {align-self: flex-start;width: 50%;}#sk-container-id-3 div.sk-parallel-item:only-child::after {width: 0;}#sk-container-id-3 div.sk-dashed-wrapped {border: 1px dashed gray;margin: 0 0.4em 0.5em 0.4em;box-sizing: border-box;padding-bottom: 0.4em;background-color: white;}#sk-container-id-3 div.sk-label label {font-family: monospace;font-weight: bold;display: inline-block;line-height: 1.2em;}#sk-container-id-3 div.sk-label-container {text-align: center;}#sk-container-id-3 div.sk-container {/* jupyter's `normalize.less` sets `[hidden] { display: none; }` but bootstrap.min.css set `[hidden] { display: none !important; }` so we also need the `!important` here to be able to override the default hidden behavior on the sphinx rendered scikit-learn.org. See: https://github.com/scikit-learn/scikit-learn/issues/21755 */display: inline-block !important;position: relative;}#sk-container-id-3 div.sk-text-repr-fallback {display: none;}</style><div id=\"sk-container-id-3\" class=\"sk-top-container\"><div class=\"sk-text-repr-fallback\"><pre>Pipeline(steps=[(&#x27;standardscaler&#x27;, StandardScaler()),\n",
              "                (&#x27;kmeans&#x27;, KMeans(n_clusters=4, random_state=42))])</pre><b>In a Jupyter environment, please rerun this cell to show the HTML representation or trust the notebook. <br />On GitHub, the HTML representation is unable to render, please try loading this page with nbviewer.org.</b></div><div class=\"sk-container\" hidden><div class=\"sk-item sk-dashed-wrapped\"><div class=\"sk-label-container\"><div class=\"sk-label sk-toggleable\"><input class=\"sk-toggleable__control sk-hidden--visually\" id=\"sk-estimator-id-3\" type=\"checkbox\" ><label for=\"sk-estimator-id-3\" class=\"sk-toggleable__label sk-toggleable__label-arrow\">Pipeline</label><div class=\"sk-toggleable__content\"><pre>Pipeline(steps=[(&#x27;standardscaler&#x27;, StandardScaler()),\n",
              "                (&#x27;kmeans&#x27;, KMeans(n_clusters=4, random_state=42))])</pre></div></div></div><div class=\"sk-serial\"><div class=\"sk-item\"><div class=\"sk-estimator sk-toggleable\"><input class=\"sk-toggleable__control sk-hidden--visually\" id=\"sk-estimator-id-4\" type=\"checkbox\" ><label for=\"sk-estimator-id-4\" class=\"sk-toggleable__label sk-toggleable__label-arrow\">StandardScaler</label><div class=\"sk-toggleable__content\"><pre>StandardScaler()</pre></div></div></div><div class=\"sk-item\"><div class=\"sk-estimator sk-toggleable\"><input class=\"sk-toggleable__control sk-hidden--visually\" id=\"sk-estimator-id-5\" type=\"checkbox\" ><label for=\"sk-estimator-id-5\" class=\"sk-toggleable__label sk-toggleable__label-arrow\">KMeans</label><div class=\"sk-toggleable__content\"><pre>KMeans(n_clusters=4, random_state=42)</pre></div></div></div></div></div></div></div>"
            ]
          },
          "metadata": {},
          "execution_count": 78
        }
      ]
    },
    {
      "cell_type": "code",
      "source": [
        "labels =final_model.named_steps['kmeans'].labels_\n",
        "print(labels[:5])"
      ],
      "metadata": {
        "colab": {
          "base_uri": "https://localhost:8080/"
        },
        "id": "AAiVAk92HMKj",
        "outputId": "4a1f68e2-d3dc-4608-e032-1fbc19ddf724"
      },
      "execution_count": 79,
      "outputs": [
        {
          "output_type": "stream",
          "name": "stdout",
          "text": [
            "[0 0 0 0 0]\n"
          ]
        }
      ]
    },
    {
      "cell_type": "code",
      "source": [
        "xgb = X.groupby(labels).mean()\n",
        "xgb"
      ],
      "metadata": {
        "colab": {
          "base_uri": "https://localhost:8080/",
          "height": 175
        },
        "id": "_LjJI-YHHb1X",
        "outputId": "5c83e721-ddaa-4abb-e402-d5b4aee290b8"
      },
      "execution_count": 80,
      "outputs": [
        {
          "output_type": "execute_result",
          "data": {
            "text/plain": [
              "            DEBT       NETWORTH         HOUSES          NFIN         ASSET\n",
              "0   26551.075439   13676.153182   13745.637777  2.722605e+04  4.022723e+04\n",
              "1  218112.818182  174713.441558  257403.246753  3.305884e+05  3.928263e+05\n",
              "2  116160.779817  965764.155963  264339.449541  7.800611e+05  1.081925e+06\n",
              "3  732937.575758  760397.575758  826136.363636  1.276227e+06  1.493335e+06"
            ],
            "text/html": [
              "\n",
              "  <div id=\"df-22d2c9d6-305c-404a-becd-1131ec873c27\" class=\"colab-df-container\">\n",
              "    <div>\n",
              "<style scoped>\n",
              "    .dataframe tbody tr th:only-of-type {\n",
              "        vertical-align: middle;\n",
              "    }\n",
              "\n",
              "    .dataframe tbody tr th {\n",
              "        vertical-align: top;\n",
              "    }\n",
              "\n",
              "    .dataframe thead th {\n",
              "        text-align: right;\n",
              "    }\n",
              "</style>\n",
              "<table border=\"1\" class=\"dataframe\">\n",
              "  <thead>\n",
              "    <tr style=\"text-align: right;\">\n",
              "      <th></th>\n",
              "      <th>DEBT</th>\n",
              "      <th>NETWORTH</th>\n",
              "      <th>HOUSES</th>\n",
              "      <th>NFIN</th>\n",
              "      <th>ASSET</th>\n",
              "    </tr>\n",
              "  </thead>\n",
              "  <tbody>\n",
              "    <tr>\n",
              "      <th>0</th>\n",
              "      <td>26551.075439</td>\n",
              "      <td>13676.153182</td>\n",
              "      <td>13745.637777</td>\n",
              "      <td>2.722605e+04</td>\n",
              "      <td>4.022723e+04</td>\n",
              "    </tr>\n",
              "    <tr>\n",
              "      <th>1</th>\n",
              "      <td>218112.818182</td>\n",
              "      <td>174713.441558</td>\n",
              "      <td>257403.246753</td>\n",
              "      <td>3.305884e+05</td>\n",
              "      <td>3.928263e+05</td>\n",
              "    </tr>\n",
              "    <tr>\n",
              "      <th>2</th>\n",
              "      <td>116160.779817</td>\n",
              "      <td>965764.155963</td>\n",
              "      <td>264339.449541</td>\n",
              "      <td>7.800611e+05</td>\n",
              "      <td>1.081925e+06</td>\n",
              "    </tr>\n",
              "    <tr>\n",
              "      <th>3</th>\n",
              "      <td>732937.575758</td>\n",
              "      <td>760397.575758</td>\n",
              "      <td>826136.363636</td>\n",
              "      <td>1.276227e+06</td>\n",
              "      <td>1.493335e+06</td>\n",
              "    </tr>\n",
              "  </tbody>\n",
              "</table>\n",
              "</div>\n",
              "    <div class=\"colab-df-buttons\">\n",
              "\n",
              "  <div class=\"colab-df-container\">\n",
              "    <button class=\"colab-df-convert\" onclick=\"convertToInteractive('df-22d2c9d6-305c-404a-becd-1131ec873c27')\"\n",
              "            title=\"Convert this dataframe to an interactive table.\"\n",
              "            style=\"display:none;\">\n",
              "\n",
              "  <svg xmlns=\"http://www.w3.org/2000/svg\" height=\"24px\" viewBox=\"0 -960 960 960\">\n",
              "    <path d=\"M120-120v-720h720v720H120Zm60-500h600v-160H180v160Zm220 220h160v-160H400v160Zm0 220h160v-160H400v160ZM180-400h160v-160H180v160Zm440 0h160v-160H620v160ZM180-180h160v-160H180v160Zm440 0h160v-160H620v160Z\"/>\n",
              "  </svg>\n",
              "    </button>\n",
              "\n",
              "  <style>\n",
              "    .colab-df-container {\n",
              "      display:flex;\n",
              "      gap: 12px;\n",
              "    }\n",
              "\n",
              "    .colab-df-convert {\n",
              "      background-color: #E8F0FE;\n",
              "      border: none;\n",
              "      border-radius: 50%;\n",
              "      cursor: pointer;\n",
              "      display: none;\n",
              "      fill: #1967D2;\n",
              "      height: 32px;\n",
              "      padding: 0 0 0 0;\n",
              "      width: 32px;\n",
              "    }\n",
              "\n",
              "    .colab-df-convert:hover {\n",
              "      background-color: #E2EBFA;\n",
              "      box-shadow: 0px 1px 2px rgba(60, 64, 67, 0.3), 0px 1px 3px 1px rgba(60, 64, 67, 0.15);\n",
              "      fill: #174EA6;\n",
              "    }\n",
              "\n",
              "    .colab-df-buttons div {\n",
              "      margin-bottom: 4px;\n",
              "    }\n",
              "\n",
              "    [theme=dark] .colab-df-convert {\n",
              "      background-color: #3B4455;\n",
              "      fill: #D2E3FC;\n",
              "    }\n",
              "\n",
              "    [theme=dark] .colab-df-convert:hover {\n",
              "      background-color: #434B5C;\n",
              "      box-shadow: 0px 1px 3px 1px rgba(0, 0, 0, 0.15);\n",
              "      filter: drop-shadow(0px 1px 2px rgba(0, 0, 0, 0.3));\n",
              "      fill: #FFFFFF;\n",
              "    }\n",
              "  </style>\n",
              "\n",
              "    <script>\n",
              "      const buttonEl =\n",
              "        document.querySelector('#df-22d2c9d6-305c-404a-becd-1131ec873c27 button.colab-df-convert');\n",
              "      buttonEl.style.display =\n",
              "        google.colab.kernel.accessAllowed ? 'block' : 'none';\n",
              "\n",
              "      async function convertToInteractive(key) {\n",
              "        const element = document.querySelector('#df-22d2c9d6-305c-404a-becd-1131ec873c27');\n",
              "        const dataTable =\n",
              "          await google.colab.kernel.invokeFunction('convertToInteractive',\n",
              "                                                    [key], {});\n",
              "        if (!dataTable) return;\n",
              "\n",
              "        const docLinkHtml = 'Like what you see? Visit the ' +\n",
              "          '<a target=\"_blank\" href=https://colab.research.google.com/notebooks/data_table.ipynb>data table notebook</a>'\n",
              "          + ' to learn more about interactive tables.';\n",
              "        element.innerHTML = '';\n",
              "        dataTable['output_type'] = 'display_data';\n",
              "        await google.colab.output.renderOutput(dataTable, element);\n",
              "        const docLink = document.createElement('div');\n",
              "        docLink.innerHTML = docLinkHtml;\n",
              "        element.appendChild(docLink);\n",
              "      }\n",
              "    </script>\n",
              "  </div>\n",
              "\n",
              "\n",
              "<div id=\"df-9a26ec4a-fe32-4ca9-a227-87d0dff34b1d\">\n",
              "  <button class=\"colab-df-quickchart\" onclick=\"quickchart('df-9a26ec4a-fe32-4ca9-a227-87d0dff34b1d')\"\n",
              "            title=\"Suggest charts.\"\n",
              "            style=\"display:none;\">\n",
              "\n",
              "<svg xmlns=\"http://www.w3.org/2000/svg\" height=\"24px\"viewBox=\"0 0 24 24\"\n",
              "     width=\"24px\">\n",
              "    <g>\n",
              "        <path d=\"M19 3H5c-1.1 0-2 .9-2 2v14c0 1.1.9 2 2 2h14c1.1 0 2-.9 2-2V5c0-1.1-.9-2-2-2zM9 17H7v-7h2v7zm4 0h-2V7h2v10zm4 0h-2v-4h2v4z\"/>\n",
              "    </g>\n",
              "</svg>\n",
              "  </button>\n",
              "\n",
              "<style>\n",
              "  .colab-df-quickchart {\n",
              "    background-color: #E8F0FE;\n",
              "    border: none;\n",
              "    border-radius: 50%;\n",
              "    cursor: pointer;\n",
              "    display: none;\n",
              "    fill: #1967D2;\n",
              "    height: 32px;\n",
              "    padding: 0 0 0 0;\n",
              "    width: 32px;\n",
              "  }\n",
              "\n",
              "  .colab-df-quickchart:hover {\n",
              "    background-color: #E2EBFA;\n",
              "    box-shadow: 0px 1px 2px rgba(60, 64, 67, 0.3), 0px 1px 3px 1px rgba(60, 64, 67, 0.15);\n",
              "    fill: #174EA6;\n",
              "  }\n",
              "\n",
              "  [theme=dark] .colab-df-quickchart {\n",
              "    background-color: #3B4455;\n",
              "    fill: #D2E3FC;\n",
              "  }\n",
              "\n",
              "  [theme=dark] .colab-df-quickchart:hover {\n",
              "    background-color: #434B5C;\n",
              "    box-shadow: 0px 1px 3px 1px rgba(0, 0, 0, 0.15);\n",
              "    filter: drop-shadow(0px 1px 2px rgba(0, 0, 0, 0.3));\n",
              "    fill: #FFFFFF;\n",
              "  }\n",
              "</style>\n",
              "\n",
              "  <script>\n",
              "    async function quickchart(key) {\n",
              "      const charts = await google.colab.kernel.invokeFunction(\n",
              "          'suggestCharts', [key], {});\n",
              "    }\n",
              "    (() => {\n",
              "      let quickchartButtonEl =\n",
              "        document.querySelector('#df-9a26ec4a-fe32-4ca9-a227-87d0dff34b1d button');\n",
              "      quickchartButtonEl.style.display =\n",
              "        google.colab.kernel.accessAllowed ? 'block' : 'none';\n",
              "    })();\n",
              "  </script>\n",
              "</div>\n",
              "    </div>\n",
              "  </div>\n"
            ]
          },
          "metadata": {},
          "execution_count": 80
        }
      ]
    },
    {
      "cell_type": "code",
      "source": [
        "# Create side-by-side bar chart of `xgb`\n",
        "fig = px.bar(xgb,barmode='group',title=\"Mean Household Finances by Cluster\")\n",
        "fig.update_layout(xaxis_title=\"Cluster\",yaxis_title=\"Value [$]\")\n",
        "fig.show()"
      ],
      "metadata": {
        "colab": {
          "base_uri": "https://localhost:8080/",
          "height": 542
        },
        "id": "g8c7akOkHegW",
        "outputId": "a80d5c85-c786-4ac5-bcb7-e9ed5a8089ed"
      },
      "execution_count": 81,
      "outputs": [
        {
          "output_type": "display_data",
          "data": {
            "text/html": [
              "<html>\n",
              "<head><meta charset=\"utf-8\" /></head>\n",
              "<body>\n",
              "    <div>            <script src=\"https://cdnjs.cloudflare.com/ajax/libs/mathjax/2.7.5/MathJax.js?config=TeX-AMS-MML_SVG\"></script><script type=\"text/javascript\">if (window.MathJax && window.MathJax.Hub && window.MathJax.Hub.Config) {window.MathJax.Hub.Config({SVG: {font: \"STIX-Web\"}});}</script>                <script type=\"text/javascript\">window.PlotlyConfig = {MathJaxConfig: 'local'};</script>\n",
              "        <script charset=\"utf-8\" src=\"https://cdn.plot.ly/plotly-2.24.1.min.js\"></script>                <div id=\"185536f2-6f11-425c-b906-2015454b150e\" class=\"plotly-graph-div\" style=\"height:525px; width:100%;\"></div>            <script type=\"text/javascript\">                                    window.PLOTLYENV=window.PLOTLYENV || {};                                    if (document.getElementById(\"185536f2-6f11-425c-b906-2015454b150e\")) {                    Plotly.newPlot(                        \"185536f2-6f11-425c-b906-2015454b150e\",                        [{\"alignmentgroup\":\"True\",\"hovertemplate\":\"variable=DEBT\\u003cbr\\u003eindex=%{x}\\u003cbr\\u003evalue=%{y}\\u003cextra\\u003e\\u003c\\u002fextra\\u003e\",\"legendgroup\":\"DEBT\",\"marker\":{\"color\":\"#636efa\",\"pattern\":{\"shape\":\"\"}},\"name\":\"DEBT\",\"offsetgroup\":\"DEBT\",\"orientation\":\"v\",\"showlegend\":true,\"textposition\":\"auto\",\"x\":[0,1,2,3],\"xaxis\":\"x\",\"y\":[26551.07543910164,218112.81818181818,116160.77981651376,732937.5757575758],\"yaxis\":\"y\",\"type\":\"bar\"},{\"alignmentgroup\":\"True\",\"hovertemplate\":\"variable=NETWORTH\\u003cbr\\u003eindex=%{x}\\u003cbr\\u003evalue=%{y}\\u003cextra\\u003e\\u003c\\u002fextra\\u003e\",\"legendgroup\":\"NETWORTH\",\"marker\":{\"color\":\"#EF553B\",\"pattern\":{\"shape\":\"\"}},\"name\":\"NETWORTH\",\"offsetgroup\":\"NETWORTH\",\"orientation\":\"v\",\"showlegend\":true,\"textposition\":\"auto\",\"x\":[0,1,2,3],\"xaxis\":\"x\",\"y\":[13676.153181687301,174713.44155844155,965764.1559633027,760397.5757575758],\"yaxis\":\"y\",\"type\":\"bar\"},{\"alignmentgroup\":\"True\",\"hovertemplate\":\"variable=HOUSES\\u003cbr\\u003eindex=%{x}\\u003cbr\\u003evalue=%{y}\\u003cextra\\u003e\\u003c\\u002fextra\\u003e\",\"legendgroup\":\"HOUSES\",\"marker\":{\"color\":\"#00cc96\",\"pattern\":{\"shape\":\"\"}},\"name\":\"HOUSES\",\"offsetgroup\":\"HOUSES\",\"orientation\":\"v\",\"showlegend\":true,\"textposition\":\"auto\",\"x\":[0,1,2,3],\"xaxis\":\"x\",\"y\":[13745.637777137921,257403.24675324676,264339.4495412844,826136.3636363636],\"yaxis\":\"y\",\"type\":\"bar\"},{\"alignmentgroup\":\"True\",\"hovertemplate\":\"variable=NFIN\\u003cbr\\u003eindex=%{x}\\u003cbr\\u003evalue=%{y}\\u003cextra\\u003e\\u003c\\u002fextra\\u003e\",\"legendgroup\":\"NFIN\",\"marker\":{\"color\":\"#ab63fa\",\"pattern\":{\"shape\":\"\"}},\"name\":\"NFIN\",\"offsetgroup\":\"NFIN\",\"orientation\":\"v\",\"showlegend\":true,\"textposition\":\"auto\",\"x\":[0,1,2,3],\"xaxis\":\"x\",\"y\":[27226.046645551396,330588.3506493507,780061.1467889908,1276227.2727272727],\"yaxis\":\"y\",\"type\":\"bar\"},{\"alignmentgroup\":\"True\",\"hovertemplate\":\"variable=ASSET\\u003cbr\\u003eindex=%{x}\\u003cbr\\u003evalue=%{y}\\u003cextra\\u003e\\u003c\\u002fextra\\u003e\",\"legendgroup\":\"ASSET\",\"marker\":{\"color\":\"#FFA15A\",\"pattern\":{\"shape\":\"\"}},\"name\":\"ASSET\",\"offsetgroup\":\"ASSET\",\"orientation\":\"v\",\"showlegend\":true,\"textposition\":\"auto\",\"x\":[0,1,2,3],\"xaxis\":\"x\",\"y\":[40227.22862078894,392826.25974025973,1081924.9357798165,1493335.1515151516],\"yaxis\":\"y\",\"type\":\"bar\"}],                        {\"template\":{\"data\":{\"histogram2dcontour\":[{\"type\":\"histogram2dcontour\",\"colorbar\":{\"outlinewidth\":0,\"ticks\":\"\"},\"colorscale\":[[0.0,\"#0d0887\"],[0.1111111111111111,\"#46039f\"],[0.2222222222222222,\"#7201a8\"],[0.3333333333333333,\"#9c179e\"],[0.4444444444444444,\"#bd3786\"],[0.5555555555555556,\"#d8576b\"],[0.6666666666666666,\"#ed7953\"],[0.7777777777777778,\"#fb9f3a\"],[0.8888888888888888,\"#fdca26\"],[1.0,\"#f0f921\"]]}],\"choropleth\":[{\"type\":\"choropleth\",\"colorbar\":{\"outlinewidth\":0,\"ticks\":\"\"}}],\"histogram2d\":[{\"type\":\"histogram2d\",\"colorbar\":{\"outlinewidth\":0,\"ticks\":\"\"},\"colorscale\":[[0.0,\"#0d0887\"],[0.1111111111111111,\"#46039f\"],[0.2222222222222222,\"#7201a8\"],[0.3333333333333333,\"#9c179e\"],[0.4444444444444444,\"#bd3786\"],[0.5555555555555556,\"#d8576b\"],[0.6666666666666666,\"#ed7953\"],[0.7777777777777778,\"#fb9f3a\"],[0.8888888888888888,\"#fdca26\"],[1.0,\"#f0f921\"]]}],\"heatmap\":[{\"type\":\"heatmap\",\"colorbar\":{\"outlinewidth\":0,\"ticks\":\"\"},\"colorscale\":[[0.0,\"#0d0887\"],[0.1111111111111111,\"#46039f\"],[0.2222222222222222,\"#7201a8\"],[0.3333333333333333,\"#9c179e\"],[0.4444444444444444,\"#bd3786\"],[0.5555555555555556,\"#d8576b\"],[0.6666666666666666,\"#ed7953\"],[0.7777777777777778,\"#fb9f3a\"],[0.8888888888888888,\"#fdca26\"],[1.0,\"#f0f921\"]]}],\"heatmapgl\":[{\"type\":\"heatmapgl\",\"colorbar\":{\"outlinewidth\":0,\"ticks\":\"\"},\"colorscale\":[[0.0,\"#0d0887\"],[0.1111111111111111,\"#46039f\"],[0.2222222222222222,\"#7201a8\"],[0.3333333333333333,\"#9c179e\"],[0.4444444444444444,\"#bd3786\"],[0.5555555555555556,\"#d8576b\"],[0.6666666666666666,\"#ed7953\"],[0.7777777777777778,\"#fb9f3a\"],[0.8888888888888888,\"#fdca26\"],[1.0,\"#f0f921\"]]}],\"contourcarpet\":[{\"type\":\"contourcarpet\",\"colorbar\":{\"outlinewidth\":0,\"ticks\":\"\"}}],\"contour\":[{\"type\":\"contour\",\"colorbar\":{\"outlinewidth\":0,\"ticks\":\"\"},\"colorscale\":[[0.0,\"#0d0887\"],[0.1111111111111111,\"#46039f\"],[0.2222222222222222,\"#7201a8\"],[0.3333333333333333,\"#9c179e\"],[0.4444444444444444,\"#bd3786\"],[0.5555555555555556,\"#d8576b\"],[0.6666666666666666,\"#ed7953\"],[0.7777777777777778,\"#fb9f3a\"],[0.8888888888888888,\"#fdca26\"],[1.0,\"#f0f921\"]]}],\"surface\":[{\"type\":\"surface\",\"colorbar\":{\"outlinewidth\":0,\"ticks\":\"\"},\"colorscale\":[[0.0,\"#0d0887\"],[0.1111111111111111,\"#46039f\"],[0.2222222222222222,\"#7201a8\"],[0.3333333333333333,\"#9c179e\"],[0.4444444444444444,\"#bd3786\"],[0.5555555555555556,\"#d8576b\"],[0.6666666666666666,\"#ed7953\"],[0.7777777777777778,\"#fb9f3a\"],[0.8888888888888888,\"#fdca26\"],[1.0,\"#f0f921\"]]}],\"mesh3d\":[{\"type\":\"mesh3d\",\"colorbar\":{\"outlinewidth\":0,\"ticks\":\"\"}}],\"scatter\":[{\"fillpattern\":{\"fillmode\":\"overlay\",\"size\":10,\"solidity\":0.2},\"type\":\"scatter\"}],\"parcoords\":[{\"type\":\"parcoords\",\"line\":{\"colorbar\":{\"outlinewidth\":0,\"ticks\":\"\"}}}],\"scatterpolargl\":[{\"type\":\"scatterpolargl\",\"marker\":{\"colorbar\":{\"outlinewidth\":0,\"ticks\":\"\"}}}],\"bar\":[{\"error_x\":{\"color\":\"#2a3f5f\"},\"error_y\":{\"color\":\"#2a3f5f\"},\"marker\":{\"line\":{\"color\":\"#E5ECF6\",\"width\":0.5},\"pattern\":{\"fillmode\":\"overlay\",\"size\":10,\"solidity\":0.2}},\"type\":\"bar\"}],\"scattergeo\":[{\"type\":\"scattergeo\",\"marker\":{\"colorbar\":{\"outlinewidth\":0,\"ticks\":\"\"}}}],\"scatterpolar\":[{\"type\":\"scatterpolar\",\"marker\":{\"colorbar\":{\"outlinewidth\":0,\"ticks\":\"\"}}}],\"histogram\":[{\"marker\":{\"pattern\":{\"fillmode\":\"overlay\",\"size\":10,\"solidity\":0.2}},\"type\":\"histogram\"}],\"scattergl\":[{\"type\":\"scattergl\",\"marker\":{\"colorbar\":{\"outlinewidth\":0,\"ticks\":\"\"}}}],\"scatter3d\":[{\"type\":\"scatter3d\",\"line\":{\"colorbar\":{\"outlinewidth\":0,\"ticks\":\"\"}},\"marker\":{\"colorbar\":{\"outlinewidth\":0,\"ticks\":\"\"}}}],\"scattermapbox\":[{\"type\":\"scattermapbox\",\"marker\":{\"colorbar\":{\"outlinewidth\":0,\"ticks\":\"\"}}}],\"scatterternary\":[{\"type\":\"scatterternary\",\"marker\":{\"colorbar\":{\"outlinewidth\":0,\"ticks\":\"\"}}}],\"scattercarpet\":[{\"type\":\"scattercarpet\",\"marker\":{\"colorbar\":{\"outlinewidth\":0,\"ticks\":\"\"}}}],\"carpet\":[{\"aaxis\":{\"endlinecolor\":\"#2a3f5f\",\"gridcolor\":\"white\",\"linecolor\":\"white\",\"minorgridcolor\":\"white\",\"startlinecolor\":\"#2a3f5f\"},\"baxis\":{\"endlinecolor\":\"#2a3f5f\",\"gridcolor\":\"white\",\"linecolor\":\"white\",\"minorgridcolor\":\"white\",\"startlinecolor\":\"#2a3f5f\"},\"type\":\"carpet\"}],\"table\":[{\"cells\":{\"fill\":{\"color\":\"#EBF0F8\"},\"line\":{\"color\":\"white\"}},\"header\":{\"fill\":{\"color\":\"#C8D4E3\"},\"line\":{\"color\":\"white\"}},\"type\":\"table\"}],\"barpolar\":[{\"marker\":{\"line\":{\"color\":\"#E5ECF6\",\"width\":0.5},\"pattern\":{\"fillmode\":\"overlay\",\"size\":10,\"solidity\":0.2}},\"type\":\"barpolar\"}],\"pie\":[{\"automargin\":true,\"type\":\"pie\"}]},\"layout\":{\"autotypenumbers\":\"strict\",\"colorway\":[\"#636efa\",\"#EF553B\",\"#00cc96\",\"#ab63fa\",\"#FFA15A\",\"#19d3f3\",\"#FF6692\",\"#B6E880\",\"#FF97FF\",\"#FECB52\"],\"font\":{\"color\":\"#2a3f5f\"},\"hovermode\":\"closest\",\"hoverlabel\":{\"align\":\"left\"},\"paper_bgcolor\":\"white\",\"plot_bgcolor\":\"#E5ECF6\",\"polar\":{\"bgcolor\":\"#E5ECF6\",\"angularaxis\":{\"gridcolor\":\"white\",\"linecolor\":\"white\",\"ticks\":\"\"},\"radialaxis\":{\"gridcolor\":\"white\",\"linecolor\":\"white\",\"ticks\":\"\"}},\"ternary\":{\"bgcolor\":\"#E5ECF6\",\"aaxis\":{\"gridcolor\":\"white\",\"linecolor\":\"white\",\"ticks\":\"\"},\"baxis\":{\"gridcolor\":\"white\",\"linecolor\":\"white\",\"ticks\":\"\"},\"caxis\":{\"gridcolor\":\"white\",\"linecolor\":\"white\",\"ticks\":\"\"}},\"coloraxis\":{\"colorbar\":{\"outlinewidth\":0,\"ticks\":\"\"}},\"colorscale\":{\"sequential\":[[0.0,\"#0d0887\"],[0.1111111111111111,\"#46039f\"],[0.2222222222222222,\"#7201a8\"],[0.3333333333333333,\"#9c179e\"],[0.4444444444444444,\"#bd3786\"],[0.5555555555555556,\"#d8576b\"],[0.6666666666666666,\"#ed7953\"],[0.7777777777777778,\"#fb9f3a\"],[0.8888888888888888,\"#fdca26\"],[1.0,\"#f0f921\"]],\"sequentialminus\":[[0.0,\"#0d0887\"],[0.1111111111111111,\"#46039f\"],[0.2222222222222222,\"#7201a8\"],[0.3333333333333333,\"#9c179e\"],[0.4444444444444444,\"#bd3786\"],[0.5555555555555556,\"#d8576b\"],[0.6666666666666666,\"#ed7953\"],[0.7777777777777778,\"#fb9f3a\"],[0.8888888888888888,\"#fdca26\"],[1.0,\"#f0f921\"]],\"diverging\":[[0,\"#8e0152\"],[0.1,\"#c51b7d\"],[0.2,\"#de77ae\"],[0.3,\"#f1b6da\"],[0.4,\"#fde0ef\"],[0.5,\"#f7f7f7\"],[0.6,\"#e6f5d0\"],[0.7,\"#b8e186\"],[0.8,\"#7fbc41\"],[0.9,\"#4d9221\"],[1,\"#276419\"]]},\"xaxis\":{\"gridcolor\":\"white\",\"linecolor\":\"white\",\"ticks\":\"\",\"title\":{\"standoff\":15},\"zerolinecolor\":\"white\",\"automargin\":true,\"zerolinewidth\":2},\"yaxis\":{\"gridcolor\":\"white\",\"linecolor\":\"white\",\"ticks\":\"\",\"title\":{\"standoff\":15},\"zerolinecolor\":\"white\",\"automargin\":true,\"zerolinewidth\":2},\"scene\":{\"xaxis\":{\"backgroundcolor\":\"#E5ECF6\",\"gridcolor\":\"white\",\"linecolor\":\"white\",\"showbackground\":true,\"ticks\":\"\",\"zerolinecolor\":\"white\",\"gridwidth\":2},\"yaxis\":{\"backgroundcolor\":\"#E5ECF6\",\"gridcolor\":\"white\",\"linecolor\":\"white\",\"showbackground\":true,\"ticks\":\"\",\"zerolinecolor\":\"white\",\"gridwidth\":2},\"zaxis\":{\"backgroundcolor\":\"#E5ECF6\",\"gridcolor\":\"white\",\"linecolor\":\"white\",\"showbackground\":true,\"ticks\":\"\",\"zerolinecolor\":\"white\",\"gridwidth\":2}},\"shapedefaults\":{\"line\":{\"color\":\"#2a3f5f\"}},\"annotationdefaults\":{\"arrowcolor\":\"#2a3f5f\",\"arrowhead\":0,\"arrowwidth\":1},\"geo\":{\"bgcolor\":\"white\",\"landcolor\":\"#E5ECF6\",\"subunitcolor\":\"white\",\"showland\":true,\"showlakes\":true,\"lakecolor\":\"white\"},\"title\":{\"x\":0.05},\"mapbox\":{\"style\":\"light\"}}},\"xaxis\":{\"anchor\":\"y\",\"domain\":[0.0,1.0],\"title\":{\"text\":\"Cluster\"}},\"yaxis\":{\"anchor\":\"x\",\"domain\":[0.0,1.0],\"title\":{\"text\":\"Value [$]\"}},\"legend\":{\"title\":{\"text\":\"variable\"},\"tracegroupgap\":0},\"title\":{\"text\":\"Mean Household Finances by Cluster\"},\"barmode\":\"group\"},                        {\"responsive\": true}                    ).then(function(){\n",
              "                            \n",
              "var gd = document.getElementById('185536f2-6f11-425c-b906-2015454b150e');\n",
              "var x = new MutationObserver(function (mutations, observer) {{\n",
              "        var display = window.getComputedStyle(gd).display;\n",
              "        if (!display || display === 'none') {{\n",
              "            console.log([gd, 'removed!']);\n",
              "            Plotly.purge(gd);\n",
              "            observer.disconnect();\n",
              "        }}\n",
              "}});\n",
              "\n",
              "// Listen for the removal of the full notebook cells\n",
              "var notebookContainer = gd.closest('#notebook-container');\n",
              "if (notebookContainer) {{\n",
              "    x.observe(notebookContainer, {childList: true});\n",
              "}}\n",
              "\n",
              "// Listen for the clearing of the current output cell\n",
              "var outputEl = gd.closest('.output');\n",
              "if (outputEl) {{\n",
              "    x.observe(outputEl, {childList: true});\n",
              "}}\n",
              "\n",
              "                        })                };                            </script>        </div>\n",
              "</body>\n",
              "</html>"
            ]
          },
          "metadata": {}
        }
      ]
    },
    {
      "cell_type": "code",
      "source": [
        "#  If we're going to do anything like the scatter plot we made before, we'll need to take our 5-dimensional data and change it into something we can look at in 2 dimensions."
      ],
      "metadata": {
        "id": "3VPAOWb1HiHU"
      },
      "execution_count": 82,
      "outputs": []
    },
    {
      "cell_type": "code",
      "source": [
        "# Instantiate transformer\n",
        "pca = PCA(n_components=2,random_state=42)\n",
        "sc=StandardScaler()\n",
        "# Transform `X`\n",
        "X_t = pca.fit_transform(sc.fit_transform(X))\n",
        "\n",
        "# Put `X_t` into DataFrame\n",
        "X_pca = pd.DataFrame(X_t,columns=['PC1','PC2'])\n",
        "\n",
        "print(\"X_pca shape:\", X_pca.shape)\n",
        "X_pca.head()"
      ],
      "metadata": {
        "colab": {
          "base_uri": "https://localhost:8080/",
          "height": 224
        },
        "id": "AOyv_vcRHuGs",
        "outputId": "03f8f38e-8435-4f73-fe35-dc4c6220fb7e"
      },
      "execution_count": 83,
      "outputs": [
        {
          "output_type": "stream",
          "name": "stdout",
          "text": [
            "X_pca shape: (4418, 2)\n"
          ]
        },
        {
          "output_type": "execute_result",
          "data": {
            "text/plain": [
              "        PC1       PC2\n",
              "0 -1.020669 -0.067119\n",
              "1 -1.006799 -0.073208\n",
              "2 -1.008007 -0.049070\n",
              "3 -0.984522 -0.075588\n",
              "4 -0.993881 -0.057924"
            ],
            "text/html": [
              "\n",
              "  <div id=\"df-9c53d741-8c61-4931-a333-42d0c6089b88\" class=\"colab-df-container\">\n",
              "    <div>\n",
              "<style scoped>\n",
              "    .dataframe tbody tr th:only-of-type {\n",
              "        vertical-align: middle;\n",
              "    }\n",
              "\n",
              "    .dataframe tbody tr th {\n",
              "        vertical-align: top;\n",
              "    }\n",
              "\n",
              "    .dataframe thead th {\n",
              "        text-align: right;\n",
              "    }\n",
              "</style>\n",
              "<table border=\"1\" class=\"dataframe\">\n",
              "  <thead>\n",
              "    <tr style=\"text-align: right;\">\n",
              "      <th></th>\n",
              "      <th>PC1</th>\n",
              "      <th>PC2</th>\n",
              "    </tr>\n",
              "  </thead>\n",
              "  <tbody>\n",
              "    <tr>\n",
              "      <th>0</th>\n",
              "      <td>-1.020669</td>\n",
              "      <td>-0.067119</td>\n",
              "    </tr>\n",
              "    <tr>\n",
              "      <th>1</th>\n",
              "      <td>-1.006799</td>\n",
              "      <td>-0.073208</td>\n",
              "    </tr>\n",
              "    <tr>\n",
              "      <th>2</th>\n",
              "      <td>-1.008007</td>\n",
              "      <td>-0.049070</td>\n",
              "    </tr>\n",
              "    <tr>\n",
              "      <th>3</th>\n",
              "      <td>-0.984522</td>\n",
              "      <td>-0.075588</td>\n",
              "    </tr>\n",
              "    <tr>\n",
              "      <th>4</th>\n",
              "      <td>-0.993881</td>\n",
              "      <td>-0.057924</td>\n",
              "    </tr>\n",
              "  </tbody>\n",
              "</table>\n",
              "</div>\n",
              "    <div class=\"colab-df-buttons\">\n",
              "\n",
              "  <div class=\"colab-df-container\">\n",
              "    <button class=\"colab-df-convert\" onclick=\"convertToInteractive('df-9c53d741-8c61-4931-a333-42d0c6089b88')\"\n",
              "            title=\"Convert this dataframe to an interactive table.\"\n",
              "            style=\"display:none;\">\n",
              "\n",
              "  <svg xmlns=\"http://www.w3.org/2000/svg\" height=\"24px\" viewBox=\"0 -960 960 960\">\n",
              "    <path d=\"M120-120v-720h720v720H120Zm60-500h600v-160H180v160Zm220 220h160v-160H400v160Zm0 220h160v-160H400v160ZM180-400h160v-160H180v160Zm440 0h160v-160H620v160ZM180-180h160v-160H180v160Zm440 0h160v-160H620v160Z\"/>\n",
              "  </svg>\n",
              "    </button>\n",
              "\n",
              "  <style>\n",
              "    .colab-df-container {\n",
              "      display:flex;\n",
              "      gap: 12px;\n",
              "    }\n",
              "\n",
              "    .colab-df-convert {\n",
              "      background-color: #E8F0FE;\n",
              "      border: none;\n",
              "      border-radius: 50%;\n",
              "      cursor: pointer;\n",
              "      display: none;\n",
              "      fill: #1967D2;\n",
              "      height: 32px;\n",
              "      padding: 0 0 0 0;\n",
              "      width: 32px;\n",
              "    }\n",
              "\n",
              "    .colab-df-convert:hover {\n",
              "      background-color: #E2EBFA;\n",
              "      box-shadow: 0px 1px 2px rgba(60, 64, 67, 0.3), 0px 1px 3px 1px rgba(60, 64, 67, 0.15);\n",
              "      fill: #174EA6;\n",
              "    }\n",
              "\n",
              "    .colab-df-buttons div {\n",
              "      margin-bottom: 4px;\n",
              "    }\n",
              "\n",
              "    [theme=dark] .colab-df-convert {\n",
              "      background-color: #3B4455;\n",
              "      fill: #D2E3FC;\n",
              "    }\n",
              "\n",
              "    [theme=dark] .colab-df-convert:hover {\n",
              "      background-color: #434B5C;\n",
              "      box-shadow: 0px 1px 3px 1px rgba(0, 0, 0, 0.15);\n",
              "      filter: drop-shadow(0px 1px 2px rgba(0, 0, 0, 0.3));\n",
              "      fill: #FFFFFF;\n",
              "    }\n",
              "  </style>\n",
              "\n",
              "    <script>\n",
              "      const buttonEl =\n",
              "        document.querySelector('#df-9c53d741-8c61-4931-a333-42d0c6089b88 button.colab-df-convert');\n",
              "      buttonEl.style.display =\n",
              "        google.colab.kernel.accessAllowed ? 'block' : 'none';\n",
              "\n",
              "      async function convertToInteractive(key) {\n",
              "        const element = document.querySelector('#df-9c53d741-8c61-4931-a333-42d0c6089b88');\n",
              "        const dataTable =\n",
              "          await google.colab.kernel.invokeFunction('convertToInteractive',\n",
              "                                                    [key], {});\n",
              "        if (!dataTable) return;\n",
              "\n",
              "        const docLinkHtml = 'Like what you see? Visit the ' +\n",
              "          '<a target=\"_blank\" href=https://colab.research.google.com/notebooks/data_table.ipynb>data table notebook</a>'\n",
              "          + ' to learn more about interactive tables.';\n",
              "        element.innerHTML = '';\n",
              "        dataTable['output_type'] = 'display_data';\n",
              "        await google.colab.output.renderOutput(dataTable, element);\n",
              "        const docLink = document.createElement('div');\n",
              "        docLink.innerHTML = docLinkHtml;\n",
              "        element.appendChild(docLink);\n",
              "      }\n",
              "    </script>\n",
              "  </div>\n",
              "\n",
              "\n",
              "<div id=\"df-fbb1c9b0-801c-4c22-ae52-6e235356380f\">\n",
              "  <button class=\"colab-df-quickchart\" onclick=\"quickchart('df-fbb1c9b0-801c-4c22-ae52-6e235356380f')\"\n",
              "            title=\"Suggest charts.\"\n",
              "            style=\"display:none;\">\n",
              "\n",
              "<svg xmlns=\"http://www.w3.org/2000/svg\" height=\"24px\"viewBox=\"0 0 24 24\"\n",
              "     width=\"24px\">\n",
              "    <g>\n",
              "        <path d=\"M19 3H5c-1.1 0-2 .9-2 2v14c0 1.1.9 2 2 2h14c1.1 0 2-.9 2-2V5c0-1.1-.9-2-2-2zM9 17H7v-7h2v7zm4 0h-2V7h2v10zm4 0h-2v-4h2v4z\"/>\n",
              "    </g>\n",
              "</svg>\n",
              "  </button>\n",
              "\n",
              "<style>\n",
              "  .colab-df-quickchart {\n",
              "    background-color: #E8F0FE;\n",
              "    border: none;\n",
              "    border-radius: 50%;\n",
              "    cursor: pointer;\n",
              "    display: none;\n",
              "    fill: #1967D2;\n",
              "    height: 32px;\n",
              "    padding: 0 0 0 0;\n",
              "    width: 32px;\n",
              "  }\n",
              "\n",
              "  .colab-df-quickchart:hover {\n",
              "    background-color: #E2EBFA;\n",
              "    box-shadow: 0px 1px 2px rgba(60, 64, 67, 0.3), 0px 1px 3px 1px rgba(60, 64, 67, 0.15);\n",
              "    fill: #174EA6;\n",
              "  }\n",
              "\n",
              "  [theme=dark] .colab-df-quickchart {\n",
              "    background-color: #3B4455;\n",
              "    fill: #D2E3FC;\n",
              "  }\n",
              "\n",
              "  [theme=dark] .colab-df-quickchart:hover {\n",
              "    background-color: #434B5C;\n",
              "    box-shadow: 0px 1px 3px 1px rgba(0, 0, 0, 0.15);\n",
              "    filter: drop-shadow(0px 1px 2px rgba(0, 0, 0, 0.3));\n",
              "    fill: #FFFFFF;\n",
              "  }\n",
              "</style>\n",
              "\n",
              "  <script>\n",
              "    async function quickchart(key) {\n",
              "      const charts = await google.colab.kernel.invokeFunction(\n",
              "          'suggestCharts', [key], {});\n",
              "    }\n",
              "    (() => {\n",
              "      let quickchartButtonEl =\n",
              "        document.querySelector('#df-fbb1c9b0-801c-4c22-ae52-6e235356380f button');\n",
              "      quickchartButtonEl.style.display =\n",
              "        google.colab.kernel.accessAllowed ? 'block' : 'none';\n",
              "    })();\n",
              "  </script>\n",
              "</div>\n",
              "    </div>\n",
              "  </div>\n"
            ]
          },
          "metadata": {},
          "execution_count": 83
        }
      ]
    },
    {
      "cell_type": "code",
      "source": [
        "# Create scatter plot of `PC2` vs `PC1`\n",
        "fig = px.scatter(data_frame=X_pca,x='PC1',y='PC2',color=labels.astype(str),title=\"PCA Representation of Clusters\")\n",
        "fig.update_layout(xaxis_title=\"PC1\",yaxis_title=\"PC2\")\n",
        "fig.show()"
      ],
      "metadata": {
        "colab": {
          "base_uri": "https://localhost:8080/",
          "height": 542
        },
        "id": "yj8GoX2bHwT9",
        "outputId": "1878bfe7-0f17-456b-c717-ade62b2579af"
      },
      "execution_count": 84,
      "outputs": [
        {
          "output_type": "display_data",
          "data": {
            "text/html": [
              "<html>\n",
              "<head><meta charset=\"utf-8\" /></head>\n",
              "<body>\n",
              "    <div>            <script src=\"https://cdnjs.cloudflare.com/ajax/libs/mathjax/2.7.5/MathJax.js?config=TeX-AMS-MML_SVG\"></script><script type=\"text/javascript\">if (window.MathJax && window.MathJax.Hub && window.MathJax.Hub.Config) {window.MathJax.Hub.Config({SVG: {font: \"STIX-Web\"}});}</script>                <script type=\"text/javascript\">window.PlotlyConfig = {MathJaxConfig: 'local'};</script>\n",
              "        <script charset=\"utf-8\" src=\"https://cdn.plot.ly/plotly-2.24.1.min.js\"></script>                <div id=\"800134cc-433e-41cc-909e-ae40951c6637\" class=\"plotly-graph-div\" style=\"height:525px; width:100%;\"></div>            <script type=\"text/javascript\">                                    window.PLOTLYENV=window.PLOTLYENV || {};                                    if (document.getElementById(\"800134cc-433e-41cc-909e-ae40951c6637\")) {                    Plotly.newPlot(                        \"800134cc-433e-41cc-909e-ae40951c6637\",                        [{\"hovertemplate\":\"color=0\\u003cbr\\u003ePC1=%{x}\\u003cbr\\u003ePC2=%{y}\\u003cextra\\u003e\\u003c\\u002fextra\\u003e\",\"legendgroup\":\"0\",\"marker\":{\"color\":\"#636efa\",\"symbol\":\"circle\"},\"mode\":\"markers\",\"name\":\"0\",\"showlegend\":true,\"x\":[-1.020668921161857,-1.006799363864049,-1.0080074499451717,-0.9845217632298041,-0.9938809748581101,-1.0182122154897237,-1.026627283197047,-1.04233540958405,-1.035603355418192,-1.0305543147937974,-0.6876288704645243,-0.6927684626958448,-0.691158165755817,-0.6927327926848644,-0.6932389156027396,-1.0053933599921259,-1.0053933599921259,-1.0121967541799453,-1.0219381353189296,-0.9916375062996187,0.32547872508240044,0.3254685888582482,0.325450753852758,0.3254685888582482,0.3198407087145425,-0.30968254940332607,-0.3114954724428173,-0.28323761195880537,-0.27748849267046966,-0.30419908337422097,-0.8467925099312844,-0.8457788875160585,-0.8524025550695,-0.8524025550695,-0.8457788875160585,-0.9897049721525332,-0.9897049721525332,-0.9897049721525332,-0.9896336321305725,-0.9897049721525332,-0.9089920109281922,-0.9140410515525863,-0.9089920109281922,-0.9140410515525863,-0.9084310064143705,0.38906214286379986,0.40985775926532375,0.3888124527869376,0.39194169809134194,0.3952585885502224,-0.8770540623396729,-0.8770540623396729,-0.8770540623396729,-0.8770540623396729,-0.8770540623396729,-0.6812132282979848,-0.6953440449602338,-0.6966253325910411,-0.637449824890047,-0.6936426880595361,-1.0385542506676944,-1.039115255181516,-1.039115255181516,-1.039115255181516,-1.039115255181516,0.20991803292636593,0.2109316553415922,0.20434365779913077,0.20995370293734625,0.20995370293734625,0.42663816957351103,0.42378456869508585,0.424141268804889,0.42791257430693896,0.42842167012252674,-1.0065637881180223,-1.0155398603391668,-0.9997303717106409,-0.9908556617310187,-1.0026367565212713,-0.43376932152759673,-0.43376932152759673,-0.43376932152759673,-0.43376932152759673,-0.43376932152759673,-1.0579790290667603,-1.0463325075158108,-1.0553436107871716,-1.0463223712916585,-1.0575480463138422,-0.2330397821244258,-0.36053800082976173,-0.2075401383833586,-0.2500395446184706,-0.3435382383357169,-0.2257459057867271,-0.5888582288196862,-0.014062490361050181,-0.6883200132605197,-0.4390529350420758,-0.9961789825783215,-0.9965844315444121,-0.9970912427520252,-0.9955886441346756,-0.9957728453224929,-0.9632453377257376,-0.9623535874512295,-0.9631739977037769,-0.9624249274731903,-0.9628886376159344,-0.46899950750633906,-1.0581905818894273,-0.4032374033931026,-0.8709926994108306,-0.8744626362837142,-0.7407364484240279,-0.668015011697028,-0.7399873781934412,-0.7547190927283115,-0.7037206926883239,-1.0280475606108697,-1.0280475606108697,-1.0280475606108697,-1.0274865560970483,-1.0274865560970483,-0.936803922171705,-0.9365996177676869,-0.9410843234893428,-0.9423068195245373,-0.9401666188657182,-1.0574468614462518,-1.0603361323356575,-1.0509549194478343,-1.0591590219733067,-1.0603361323356575,-0.995713441885945,-0.995713441885945,-0.995713441885945,-0.995713441885945,-0.995713441885945,-0.9989822281910514,-0.9990178982020318,-0.9989822281910514,-0.9989822281910514,-0.9990178982020318,-0.9896982796559022,-0.9896982796559022,-0.9953083247941176,-0.9896982796559022,-0.9896982796559022,-1.0269459200089077,-1.0331169696609446,-1.0381660102853385,-1.0331169696609446,-1.0185308523015844,0.06282969616594061,0.06297237620986185,0.0627940261549603,0.0630437162318225,0.06176931149839465,-1.0577678915450746,-1.0577678915450746,-1.057803561556055,-1.0577678915450746,-1.057803561556055,-1.0163627378548241,-1.0163627378548241,-1.0163627378548241,-1.0163627378548241,-1.0163627378548241,0.3242539017540481,0.329302942378442,0.31808285210201115,0.3242539017540481,0.3298639468922636,-0.8993480752432891,-0.8896579007452695,-0.9054734637175974,-0.9075779943654361,-0.9103314960040715,-0.815493831807533,-0.8211038769457485,-0.8211038769457485,-0.8221174993609748,-0.8200902545305222,-1.0574825314572318,-1.0574825314572318,-1.0574825314572318,-1.0574825314572318,-1.0574825314572318,-0.5648406192190747,-0.5642796147052531,-0.5642796147052531,-0.5648406192190747,-0.5642796147052531,-0.961499206433091,-0.9620602109469124,-0.961499206433091,-0.961046588531686,-0.9620602109469124,-0.8587726293437904,-0.8592363394865343,-0.8593433495194754,-0.8593611845249655,-0.8592720094975148,-0.8649583180483164,-0.7572454513945791,-0.8514942097165994,-0.8357860833295958,-0.8324200562466667,-0.24776506212683266,-0.33456812249615936,-0.2575826525136492,-0.13014525115322687,-0.20494129671884834,-0.999722267810122,-0.9991612632963004,-0.9981476408810741,-0.9991612632963004,-0.9981476408810741,0.5708685840314993,0.5652585388932839,0.5708685840314993,0.5703075795176776,0.5708685840314993,-0.7732874469549595,-0.7743010693701861,-0.7732874469549595,-0.7737455093062854,-0.7676774018167444,-1.0107528118728972,-1.0104317817740742,-1.0115476883386163,-1.0108598219058382,-1.0106559380641085,-1.0201675910569394,-1.0199851390221988,-1.0201574548327874,-1.020339906867528,-1.0206845384887049,-1.0395012400293517,-1.0395012400293517,-1.0389402355155308,-1.0389402355155308,-1.0389402355155308,-1.060550152401539,-1.0605679874070293,-1.0605679874070293,-1.0605679874070293,-1.060550152401539,-1.0397949693135375,-1.0397949693135375,-1.0397949693135375,-1.0397949693135375,-1.0397949693135375,-0.5336448962451065,-0.49393209860034565,-0.5382514551922479,-0.5550714543827422,-0.5332024145678542,0.0281301173319119,-0.08325154294404281,-0.06998358793490234,0.01914476352056861,0.07333069910586185,-1.0591590219733067,-1.0591590219733067,-1.0591590219733067,-1.0591590219733067,-1.0591590219733067,-1.033220787057412,-1.0388308321956277,-1.0337817915712335,-1.0360258096265198,-1.019195674211873,-1.0087245471626187,-1.0087245471626187,-1.0105080477116344,-1.0065843465037998,-1.0065843465037998,-0.9873300889271331,-1.0097702694799953,-1.0097702694799953,-0.9979891746897429,-0.9862080798994904,-0.9842172332202982,-0.9847425677231394,-0.984354265472801,-0.984354265472801,-0.9847425677231394,-1.0141198912247564,-1.0141198912247564,-1.0141198912247564,-1.0141198912247564,-1.0141198912247564,-0.8767480640277854,-0.8767480640277854,-0.8767480640277854,-0.8767480640277854,-0.8773090685416066,-1.0529554153412308,-1.0529554153412308,-1.0529554153412308,-1.0529554153412308,-1.0529554153412308,0.45388539022155344,0.45287176780632715,0.45287176780632715,0.45174975877868406,0.45332438570773187,-0.2887539844966305,-0.2887539844966305,-0.2887539844966305,-0.2887539844966305,-0.2887539844966305,-0.8878358521227592,-0.8878837093478114,-0.887929515582944,-0.8829463857247503,-0.8864476945922394,-0.9678998247810792,-0.9970007194778389,-0.972453553122194,-0.9774312537246272,-0.9959500504721563,-0.9747644414075736,-0.9761704339435834,-0.9762061039545636,-0.9760634239106424,-0.9739648390582291,0.3370878017559477,0.3370878017559477,0.3370878017559477,0.33712347176692814,0.33712347176692814,-1.0424598302273567,-1.036187418333797,-1.033493894230364,-1.0446126222652723,-1.0406855906685217,-1.0342150432618085,-1.0342150432618085,-1.0342150432618085,-1.033654038747987,-1.033654038747987,-1.0244675134620584,-1.0244675134620584,-1.024503183473039,-1.0244675134620584,-1.024503183473039,-0.6363308326674122,-1.0026649439057855,-0.9678287158592043,-0.9678060362446435,-0.8956423418705444,-1.0465607095669807,-1.0465607095669807,-1.0465607095669807,-1.0454387005393377,-1.0459997050531593,-0.8055466178205826,-0.8045329954053562,-0.8045329954053562,-0.8101430405435717,-0.8111566629587978,-0.9530653518749005,-0.9586753970131159,-0.9576617745978896,-0.9576617745978896,-0.9586753970131159,-0.6518355033767527,-0.6306786088347863,-0.6382330598571595,-0.6473152843213471,-0.5691708367974612,-0.9920662661753623,-0.986384881015186,-0.9856714807955796,-0.9853147806857765,-0.9862778709822451,1.0504753302367853,1.0499143257229637,1.0499143257229637,1.0510363347506069,1.0504753302367853,-0.9197849863410141,-0.8883687335670075,-0.9108089141198695,-0.9495182255735563,-0.9315660811312666,-0.8141344232664883,-0.8197444684047037,-0.8197444684047037,-0.8203054729185254,-0.8141344232664883,-0.9969245372275938,-0.9974855417414156,-0.9969245372275938,-0.9975869039829381,-0.997384179499893,-0.8611125203064001,-0.8621261427216262,-0.8560634796820062,-0.8621261427216262,-0.8616735248202217,-0.6084828088994574,-0.6067945340194693,-0.6094387397023222,-0.584148116798115,-0.6054257434267247,-0.9951535809723041,-0.9945925764584824,-0.9951535809723041,-0.9951535809723041,-0.9951535809723041,-0.8285524247934299,-0.8285524247934299,-0.8285524247934299,-0.8285524247934299,-0.8285524247934299,-0.9941131924820437,-0.9935521879682221,-0.9941131924820437,-0.9935521879682221,-0.9935521879682221,-1.0588023218635039,-1.0588023218635039,-1.0588023218635039,-1.0588023218635039,-1.0588023218635039,-1.0591554554483662,-1.0590484454154252,-1.0591197854373857,-1.0591554554483662,-1.0591197854373857,-0.9947373808588137,-0.9953340553836155,-0.994773050869794,-0.9953340553836155,-0.9953340553836155,-0.6234497301699587,-0.6614732905667391,-0.7512780698602427,-0.6774215744801384,-0.7300405877960531,-0.4737390285271457,-0.37787526798453236,-0.2794614907113101,-0.4355574661038064,-0.44675592510639694,-1.0328989576090775,-1.0328989576090775,-1.0328989576090775,-1.0332556577188807,-1.032337953095256,-1.0559308859795882,-1.0559308859795882,-1.0559130509740982,-1.0559130509740982,-1.0559130509740982,-0.9996976693988319,-0.9996976693988319,-0.9997888954162021,-0.9993935826742641,-0.9995861709331569,-0.9301846585528353,-0.9301846585528353,-0.9300832963113126,-0.9301846585528353,-0.9300832963113126,-1.0397800770918049,-1.0397800770918049,-1.0397800770918049,-1.0397800770918049,-1.0397800770918049,-0.39249392124475246,-0.39305492575857404,-0.39305492575857404,-0.39305492575857404,-0.39305492575857404,-0.9932771507235603,-0.9938559902428719,-0.9938738252483619,-0.9933128207345406,-0.9932771507235603,0.05492188679947533,0.055935509214701584,0.055935509214701584,0.061545554352917045,0.061545554352917045,-0.9961806367807527,-0.9961806367807527,-0.9963833612637979,-0.9962819990222753,-0.9961806367807527,-0.8848156506076854,-0.8776816484116221,-0.8741146473135905,-0.8741146473135905,-0.8705476462155592,-1.0383046983432749,-1.0383046983432749,-1.0383046983432749,-1.0383046983432749,-1.0383046983432749,-0.9426794815079681,-0.9770365006122866,-0.9504497096384993,-0.9938180577176154,-0.9922388615726182,0.30329034810281047,0.30292351176885507,0.30293364799300726,0.30292351176885507,0.30441692634640316,0.37937891082596664,0.36310977992514176,0.2943159735790309,-0.84832745317373,-0.8427174080355145,-0.8427174080355145,-0.8427174080355145,-0.8432784125493363,-1.0400132159847717,-1.0400132159847717,-1.040031050990262,-1.0400132159847717,-1.0400132159847717,-0.4664172600236773,-0.46862850270044965,-0.4626091440671958,-0.44937889112751,-0.44596646166425064,-0.13211023541575187,-0.2085734966279731,-0.22560892913299826,-0.3020721903452194,-0.23407314036904026,-0.6357710908604054,-0.620062964473402,-0.6301610457221899,-0.6032328290587559,-0.6099648832246144,-0.6360440469463643,-0.6376693662457343,-0.6504134135800129,-0.6361454091878868,-0.6361454091878868,-1.0599080922038935,-1.0599080922038935,-1.0599080922038935,-1.0599080922038935,-1.0599080922038935,-0.7167422471937834,-0.7213386699167729,-0.7213386699167729,-0.7213386699167729,-0.7213386699167729,-0.9841109962303298,-0.9847076707551318,-0.9846720007441514,-0.9835499917165081,-0.9835499917165081,-0.9798553791315622,-0.9798553791315622,-0.9798910491425423,-0.9798910491425423,-0.9798553791315622,-0.1845229232553722,-0.14202351702026025,-0.20684045139583987,-0.22142206713421977,-0.22711289970036488,-1.024598011525955,-1.024633681536935,-1.0246515165424253,-1.0246515165424253,-1.0246515165424253,-0.4877436476818548,-0.4878951999076954,-0.4663612374305297,-0.4033018761226141,-0.47774421715352067,-0.9730549147459986,-0.9865190230777157,-0.9747379282874631,-0.9882020366191803,-0.9826933537224873,-0.9319390159328848,-0.9319390159328848,-0.9319390159328848,-0.9319390159328848,-0.9319390159328848,-0.8883821269161416,-0.8883821269161416,-0.8883821269161416,-0.8883821269161416,-0.8883821269161416,-0.29795771404917554,-0.290233422601258,-0.24216205407859018,-0.2617940194258707,-0.27694114129905256,-1.0602291223027163,-1.0602291223027163,-1.0602291223027163,-1.0602291223027163,-1.0602291223027163,-0.9859266557825622,-0.9860923134450515,-0.9865567964935852,-0.9781546736865433,-0.9851927797731542,-0.991990876020506,-1.0204899053226404,-1.021050909836462,-1.0015279527554721,-1.0209948093850798,-0.9907313447307609,-0.9902787268293562,-0.9897177223155346,-0.9907313447307609,-0.9912923492445826,-0.9079261107649745,-0.9043591096669429,-0.9049201141807647,-0.9049201141807647,-0.9043591096669429,-0.7786363419708661,-0.774929243440895,-0.7822953963315511,-0.7851721517263197,-0.7811415958383529,-0.7914243555940756,-0.7858321454613504,-0.7919853601078972,-0.791442190599566,-0.7914243555940756,0.039180842454499196,0.053205955300037897,0.04142486050978544,0.053205955300037897,0.0447908875927147,-0.7138513395724841,-0.7109977386940588,-0.7138513395724841,-0.7154564900665984,-0.7109977386940588,-0.6917669021818161,-0.6828589773461584,-0.6923279066956377,-0.6815326639144967,-0.6735196819898205,-1.059987398734641,-1.059987398734641,-1.059987398734641,-1.059987398734641,-1.0600332049697736,-0.9350517258608948,-0.9322467032917873,-0.9255247853500809,-0.9238316355844641,-0.9243926400982856,-0.9065412187903644,-0.9121512639285798,-0.9121614001527322,-0.9029742176923328,-0.9085943990547003,0.2612404798362633,0.2612404798362633,0.2612404798362633,0.2612404798362633,0.26685052497447886,-0.9900116594345496,-1.0002035669130565,-0.9902159638385684,-0.9905726639483712,-0.9992858622894317,-1.0069143522395683,-1.0069143522395683,-1.0069143522395683,-1.0069143522395683,-1.0069143522395683,0.10380899486187346,0.10380899486187346,0.10380899486187346,0.10380899486187346,0.10380899486187346,-1.055354222389264,-1.0553898924002445,-1.0553898924002445,-1.055354222389264,-1.0553898924002445,-0.8414062995613657,-0.8367728441272144,-0.8363572589369717,-0.8411766785913107,-0.8298903479278283,-1.019143241669013,-1.019143241669013,-1.019143241669013,-1.0191075716580327,-1.019143241669013,-0.9455505782461542,-0.9455505782461542,-0.9446328736225295,-0.9455505782461542,-0.9446328736225295,-0.7497718826698455,-0.7481265396226231,-0.7454545483394946,-0.7436425713824959,-0.7506981094872552,-1.0573793859532388,-1.0573793859532388,-1.0573437159422585,-1.0573437159422585,-1.0573437159422585,-1.0229949529853777,-1.0235559574991993,-1.0235559574991993,-1.0229949529853777,-1.0235559574991993,-0.9210441473616865,-0.9164120546277171,-0.9164120546277171,-0.9211455096032092,-0.9220220997659327,-1.0574111914352715,-1.0574111914352715,-1.0574111914352715,-1.057375521424291,-1.0574111914352715,-1.0102748702395192,-1.0102748702395192,-1.0007377935045527,-1.0057868341289466,-1.0102748702395192,-0.3959832872818755,-0.3959832872818755,-0.3959832872818755,-0.3959832872818755,-0.3959832872818755,-0.7483454665823552,-0.7388083898473887,-0.7403830167764366,-0.7426270348317228,-0.7354423627644594,-0.008416508549228603,-0.008559188593149879,-0.00795279840648451,-0.008452178560208927,-0.00838083853824831,-0.915722949728616,-0.915722949728616,-0.915722949728616,-0.9157330859527684,-0.915722949728616,-0.9626343740487561,-0.9570421639160308,-0.9626522090542463,-0.9626343740487561,-0.9570421639160308,-0.993427667626467,-0.9878176224882516,-0.993427667626467,-0.9878176224882516,-0.9878176224882516,-0.9632566392061989,-0.9639864473451617,-0.9640067197934663,-0.9629525524816309,-0.9616348433418369,-0.006136581301434279,0.331095758247118,-0.005147648381251016,0.04371315492140625,0.3202234228854298,-0.970455255656907,-0.9675911585451566,-0.9678577919962738,-0.9628800913938405,-0.9610162398480021,-1.0522779024905797,-1.0522779024905797,-1.0522779024905797,-1.0522779024905797,-1.0522779024905797,-0.5705770342798114,-0.6693138287124039,-0.631369826176557,-0.5880640919998809,-0.5772007018332533,-0.7899264214690473,-0.7899175051566953,-0.8083202507824665,-0.8118307739663149,-0.8114856674433556,-0.9632792761932157,-0.9634921369004129,-0.9630765517101703,-0.9634718644521085,-0.969081909590324,-0.28621021521384776,-0.2821557255529427,-0.2811421031377164,-0.28621021521384776,-0.28621021521384776,-0.8708528547010798,-0.8708706897065703,-0.8712095548108832,-0.8708706897065703,-0.8712273898163735,-1.0399843814958234,-1.0399843814958234,-1.0394233769820016,-1.0399843814958234,-1.0399843814958234,-0.3706022840270609,-0.4225861106536842,-0.4012490944237277,-0.3977815673468333,-0.42329584744548265,-0.7509533066999223,-0.7509533066999223,-0.7509533066999223,-0.7446987298118531,-0.7447822570478854,-0.6544306054237112,-0.6556734080166038,-0.6546089554786129,-0.6544662754346915,-0.6553880479287614,-0.9311291127069612,-0.9311392489311136,-0.9311392489311136,-0.9275621116089298,-0.934696113804993,-0.9357074800922537,-0.9357074800922537,-0.9357074800922537,-0.9357074800922537,-0.9357074800922537,-1.0574846127237096,-1.0574846127237096,-1.0574846127237096,-1.0574744764995572,-1.0574744764995572,-1.0094734605020024,-1.0089023197640286,-1.0094734605020024,-1.0094633242778501,-1.0094633242778501,-0.9685371930673106,-0.9676086636521831,-0.9104996197519873,-0.9241070078567123,-0.9529011441837967,-1.0182076941252791,-1.0182076941252791,-1.0176466896114578,-1.0182076941252791,-1.0182076941252791,-1.036459061317095,-1.036459061317095,-1.036459061317095,-1.036459061317095,-1.036459061317095,0.4448506189027487,0.5306618576535492,0.5257280745283888,0.5693133461768574,0.536370561731755,-0.9696906355012793,-0.9689810998106206,-0.9694407420829196,-0.9683729263614849,-0.9703530022566235,-0.4260404729209368,-0.4260404729209368,-0.4204304277827212,-0.4316505180591521,-0.4260404729209368,-0.9146266142857385,-0.9196284859748184,-0.9143251532630854,-0.9131061806628993,-0.9140656097719171,-0.5417354906937868,-0.547446898073525,-0.5473455358320022,-0.5407148439076664,-0.5495895538872884,-0.7068513744547377,-0.7124614195929533,-0.7130224241067746,-0.7068513744547377,-0.7074123789685594,-1.0552917986796555,-1.0552917986796555,-1.0552917986796555,-1.0552917986796555,-1.0552917986796555,0.5746753983309097,0.5523935402014224,0.5665485840036095,-0.9889177902081561,-0.9900397992357992,-0.9889177902081561,-0.9894787947219778,-0.9894787947219778,-1.0538085203262595,-1.0538085203262595,-1.0538085203262595,-1.0538085203262595,-1.0538085203262595,-1.0414224939151364,-1.0419478284179773,-1.0414046589096462,-1.0414046589096462,-1.0413868239041557,-0.8881916861864451,-0.8846088858786818,-0.8921448136058273,-0.8929557115380081,-0.8862306817430439,-0.9813203758087479,-0.9992319753544284,-0.9734817101779221,-0.9874610167883285,-0.9891338941056406,-0.9924517970729365,-0.9959275721535977,-0.9917363117540166,-0.9924088147335127,-0.9994134834584112,-1.033954726249669,-1.0307444252614402,-1.0311011253712439,-1.0307444252614402,-1.0326803215162412,-1.0063846096401536,-1.006247577387651,-1.0068085819014725,-1.0069456141539757,-1.0068085819014725,0.07412844190281517,0.10889288675426097,0.14088797904757938,0.11394192737865494,0.13526009890387375,-0.6439846312754813,-0.6439489612645009,-0.6439846312754813,-0.6439846312754813,-0.6439489612645009,-0.9018854675586879,-0.9034530701168416,-0.9038585190829321,-0.9031489833922737,-0.8981350646223508,-0.990135497553197,-0.990135497553197,-0.990135497553197,-0.990135497553197,-0.990135497553197,-1.059694072138012,-1.059694072138012,-1.059694072138012,-1.059694072138012,-1.059694072138012,-1.00768180515968,-0.9978535172039553,-0.9912740620853786,-1.004904737422951,-0.995026211768587,-0.900576678127113,-0.8948694763702625,-0.8975187728446693,-0.9034302790055382,-0.8957352722956536,-0.9731355873372897,-0.9490123932429632,-0.9400363210218183,-0.9557444474088217,-0.960232483519394,-1.0319745922076204,-1.0319745922076204,-1.0319745922076204,-1.031413587693799,-1.0319745922076204,-1.0564774994545791,-1.0564774994545791,-1.0564774994545791,-1.0564774994545791,-1.0564774994545791,-0.7668856614390288,-0.7668856614390288,-0.7668856614390288,-0.7668856614390288,-0.7668856614390288,0.2941073933833935,0.41666803762923615,0.307083972829221,0.4494053008584979,0.4175033099895608,-0.7766980448926942,-0.7731407783717592,-0.7680820031702686,-0.7726626266835265,-0.7756836231279564,-0.9958056887571921,-0.9958056887571921,-0.9957955525330401,-0.9957955525330401,-0.9957955525330401,-1.0481367130755044,-1.0481367130755044,-1.047575708561683,-1.047575708561683,-1.047575708561683,-1.0604788123795788,-1.0604788123795788,-1.0604788123795788,-1.0604788123795788,-1.0604788123795788,-1.007814134337552,-1.007814134337552,-1.007814134337552,-1.007814134337552,-1.007814134337552,-1.0408008626708678,-1.060550152401539,-1.0605822554114215,-1.060550152401539,-1.060550152401539,-1.0605822554114215,-1.059137768968722,-1.0591199339632318,-1.0591199339632318,-1.059137768968722,-1.0591199339632318,-0.955002069110523,-0.9554617113828221,-0.955002069110523,-0.9555630736243447,-0.9555630736243447,-1.0095827428020179,-1.0066221318906514,-1.01211531358162,-1.0109025332082897,-1.0037685310122264,-0.9565324077202456,-0.9462089124391572,-0.9537352847560038,-0.9505249837677755,-0.9561965155136454,-0.9582967470892755,-0.9582967470892755,-0.9582967470892755,-0.9582967470892755,-0.9582967470892755,-0.9937799119608803,-0.9930008195107319,-0.9929990362482614,-0.9931021817522543,-0.9929933884568432,-0.6780540792674856,-0.683664124405701,-0.683664124405701,-0.6780540792674856,-0.683664124405701,-1.0443726352858462,-1.0438116307720244,-1.0443726352858462,-1.0443726352858462,-1.0443726352858462,-0.9659648979466029,-0.9639376531161504,-0.9594777144891548,-0.9583627298324059,-0.9639376531161504,-0.9572961528145905,-0.9512144183232331,-0.959323397645043,-0.9502007959080068,-0.9512144183232331,-0.3880915961480054,-0.38753059163418385,-0.3880915961480054,-0.3880915961480054,-0.39364744798001255,-1.0102952071227729,-1.0102773721172829,-1.0102952071227729,-1.0102773721172829,-1.0102773721172829,-1.058704824150929,-1.058704824150929,-1.0587404941619092,-1.0587404941619092,-1.0587404941619092,-1.0571971713693897,-1.0571971713693897,-1.0571971713693897,-1.0571971713693897,-1.0571971713693897,-0.9199913858908044,-0.9143813407525889,-0.9199913858908044,-0.9199913858908044,-0.9143813407525889,-1.0063674057224399,-0.9896025005616915,-0.969983994522518,-0.9778313969381875,-0.9714107949617307,-0.9650800928272697,-0.9650800928272697,-0.9656410973410914,-0.9650800928272697,-0.9650800928272697,-1.0602647923136967,-1.0601577822807555,-1.0602647923136967,-1.0601577822807555,-1.060086442258795,-0.18649620017339436,-0.1878665226984238,-0.24186838922816545,-0.24947908470926952,-0.2970367300534894,-0.7771356943057363,-0.7802945223521808,-0.7797220189140253,-0.7807699486400502,-0.7812779192063477,-0.8408812689215694,-0.8438307875915962,-0.8519181644222642,-0.8490288935328586,-0.8446266200745023,0.5366202459407311,0.4776820817253959,-1.0080810436852083,-1.0080132706643457,-1.0080132706643457,-1.0084672651452264,-1.0080667756808162,-0.9387220089004953,-0.9397356313157217,-0.9397356313157217,-0.9397356313157217,-0.9397356313157217,-0.8191351022262274,-0.8191351022262274,-0.8191351022262274,-0.8191351022262274,-0.8191351022262274,-0.9716168344607168,-0.9716881744826774,-0.972249178996499,-0.9715811644497364,-0.9721778389745385,-0.7205905725316236,-0.7205905725316236,-0.7205905725316236,-0.7205905725316236,-0.7205905725316236,-1.0604788123795788,-1.0594443820611494,-1.059694072138012,-1.0595513920940904,-1.0602291223027163,-0.893731492976862,-0.893731492976862,-0.8931704884630406,-0.898780533601256,-0.893731492976862,-1.0028802205362506,-1.0028802205362506,-1.0028802205362506,-1.0028802205362506,-1.0028802205362506,-0.7464281488796024,-0.7467848489894056,-0.7467848489894056,-0.7467848489894056,-0.7467848489894056,-0.3133673455712398,-0.30486746432421746,-0.30486746432421746,-0.30486746432421746,-0.30486746432421746,-0.8525418922897734,-0.882615592944865,-0.8561154164131947,-0.8615893045328789,-0.8739151651496995,-1.0560616768134445,-1.0560616768134445,-1.0560616768134445,-1.0560616768134445,-1.0560616768134445,0.05005886994888137,0.07438580791431139,0.023704687152998866,0.029786421644356364,0.015595707831188865,-0.3587161466116877,-0.35815514209786614,-0.3587161466116877,-0.35815514209786614,-0.3587161466116877,-0.8962014696725745,-0.9290864404172791,-0.8786060253400882,-0.8920182249735716,-0.9255161089303313,-1.042462342077162,-1.0425130231979232,-1.0424724783013142,-1.0424319334047052,-1.0425130231979232,0.41515413895847786,0.4105577162354886,0.40954409382026236,0.4105577162354886,0.4105577162354886,-1.0541671527005372,-1.0541671527005372,-1.0541671527005372,-1.0541671527005372,-1.0541671527005372,-0.8276098215424503,-0.8281708260562718,-0.8281708260562718,-0.8276098215424503,-0.8281708260562718,-1.0376992956534572,-1.0376891594293052,-1.0376636256424767,-1.0376636256424767,-1.0376636256424767,-1.0470877009157558,-1.0470877009157558,-1.0470877009157558,-1.0470877009157558,-1.0470877009157558,-0.895462405301922,-0.891289014017225,-0.8887921132486029,-0.8943566349615318,-0.8956407553568234,-1.015896857412477,-1.015896857412477,-1.0153358528986554,-1.0159325274234574,-1.0159325274234574,0.019935648573456602,0.02610669822549363,0.015900230364288913,0.025444331470149455,0.02049665308727815,0.28008946934507495,0.28124874470193517,0.290166247447014,0.28424502562428167,0.28260420511918705,-1.0014918307025424,-1.0010739267949307,-0.9983788240853915,-1.0014967055881712,-1.0013154470215087,-0.9550842835499957,-0.9618163377158545,-0.943864193273565,-0.9416201752182787,-0.9416201752182787,-1.0245033830934638,-1.0231314806474612,-1.0241992963688962,-1.0230301184059385,-1.0250101943010772,-0.7173860643391413,-0.7162607249225822,-0.721309765546976,-0.7164131206283669,-0.7181966211773825,-1.0404415686131774,-1.0460516137513927,-1.0410025731269992,-1.0331485099334974,-1.0331485099334974,-0.5328228726354338,-0.37076412442818685,-0.3373154677297665,-0.31182596021285164,-0.260816536506565,-1.048798017627224,-1.0488032789657475,-1.0488081538513763,-1.0488081538513763,-1.048787881403072,-1.0580889216438973,-1.0580889216438973,-1.0580889216438973,-1.0580889216438973,-1.0580889216438973,-1.0413452863629964,-1.041309616352016,-1.0413452863629964,-1.0413452863629964,-1.0413452863629964,0.5816597687989459,0.581943583075209,0.65328360503584,0.5429092954799072,0.5819537192993613,-1.0311584597413488,-1.0418772980409332,-1.0310611653702708,-1.0402899825523098,-1.0351178309601636,-1.060514482390559,-1.060514482390559,-1.060514482390559,-1.0604788123795788,-1.060514482390559,-0.9759260495236995,-0.9972442210489183,-1.016318374518851,-0.9938781939659889,-0.9882681488277734,-1.0584099517427206,-1.0583742817317399,-1.0584812917646806,-1.0582672716987986,-1.0581959316768386,-1.0169551290595182,-1.0163941245456964,-1.0163941245456964,-1.0169551290595182,-1.0163941245456964,-0.9873688350064008,-0.9817689260923377,-0.981723119857205,-0.9817129836330526,-0.981748653644033,-0.8361800082008657,-0.9079885859700241,-0.8131788231341821,-0.8423510578529027,-0.9135986311082392,-0.007734214958766107,-0.2596358325017543,-0.4029406521524674,-0.11055713867176184,-0.1698368323920982,-1.0605858224125195,-1.0605858224125195,-1.0605858224125195,-1.0605858224125195,-1.0605858224125195,-1.0306994499926634,-1.0305567699487423,-1.0305567699487423,-1.030628109970703,-1.0307351200036443,-0.9302473306021858,-0.9302473306021858,-0.9302473306021858,-0.9302473306021858,-0.9302473306021858,-0.9414739143580773,-0.9518895575643295,-0.9555912571150978,-0.948261069858643,-0.9574282626805842,-0.3434454887833156,-0.3433441265417931,-0.34233050412656674,-0.33939099912241066,-0.34601466667585246,-1.0134388192913089,-1.0134388192913089,-1.0128778147774875,-1.0128778147774875,-1.0128778147774875,-0.5525801084567706,-0.5680714616189403,-0.5722254026646768,-0.563130807606963,-0.5731306384674864,-1.0301222030705166,-1.0306832075843382,-1.0306832075843382,-1.0301222030705166,-1.0301222030705166,-1.0588023218635039,-1.0588023218635039,-1.0588023218635039,-1.0588023218635039,-1.0588023218635039,-0.9972078145969093,-1.006183886818054,-0.9964179897774107,-1.0067448913318755,-1.0151599590391986,-0.5482996241411894,-0.5466714921956709,-0.5466714921956709,-0.547286001725963,-0.551864589443462,-1.0493657321360883,-1.0493657321360883,-1.0493657321360883,-1.0493657321360883,-1.0493657321360883,-0.9754759937206031,-0.9754759937206031,-0.9754759937206031,-0.9754759937206031,-0.9754759937206031,-0.24473306675592613,-0.22825963145108288,-0.23371728088351354,-0.22907684906715645,-0.21703954117465185,-0.9918384803147212,-0.9918384803147212,-0.9918384803147212,-0.9918384803147212,-0.9918384803147212,-1.0353990510141733,-1.0353990510141733,-1.035363381003193,-1.0359243855170146,-1.0359243855170146,-1.0274055881979325,-1.0277622883077355,-1.0277622883077355,-1.0277622883077355,-1.0277622883077355,-1.0601398285498198,-1.0601499647739723,-1.0601398285498198,-1.0601499647739723,-1.0601398285498198,-1.0087757635147512,-1.024573987714896,-1.024573987714896,-1.024573987714896,-1.024573987714896,-1.024573987714896,-0.8232596710597562,-0.8201890527654244,-0.8214793631472139,-0.8195567082296422,-0.8185060392239599,-1.0374550033526944,-1.0374193333417145,-1.0374906733636744,-1.0374906733636744,-1.0374906733636744,-0.7328875128028383,-0.7328875128028383,-0.7328875128028383,-0.7328875128028383,-0.7328875128028383,-1.0268248279634935,-1.0271815280732965,-1.0278949282929035,-1.0263157321479057,-1.0295260331361338,-0.3841880306214342,-0.3846460929727601,-0.3841880306214342,-0.3902561381109755,-0.3901547758694529,-0.45200318035593506,-0.4520388503669154,-0.45200318035593506,-0.4520388503669154,-0.4520388503669154,-0.777371019672644,-0.777371019672644,-0.7829810648108598,-0.7809380207706759,-0.777371019672644,-0.001733299110249495,0.00030050005940499724,-0.049681901869205757,-0.04156956980609563,-0.040425327391150165,0.2393064160193712,0.2393064160193712,0.2393064160193712,0.2393064160193712,0.2393064160193712,-0.7936138925970866,-0.8108777573492706,-0.8144447584473021,-0.7900367552749027,-0.8292839035774022,-0.9483010845852395,-0.9483010845852395,-0.942691039447024,-0.942691039447024,-0.9483010845852395,-0.07120790203095809,-0.07681794716917358,-0.07110653978943546,-0.07671658492765096,-0.07120790203095809,-1.0225356673401536,-1.0193967063738856,-1.005485402091563,-1.0183266060444762,-1.005485402091563,0.4534475449318014,0.4534475449318014,0.4534832149427816,0.4545176452612108,0.4534832149427816,-0.8227620771458906,-0.8197235844091241,-0.8216687896427937,-0.8250485243735716,-0.8264521376390966,-0.9274116457044486,-0.9092382802883181,-0.9202959836922159,-0.7427103624745067,-0.9206526838020191,-0.9822373160229971,-0.9822373160229971,-0.9822373160229971,-0.9822016460120166,-0.9816406414981952,-0.5452319772624269,-0.5508420224006425,-0.5093276883778479,-0.5452319772624269,-0.5452319772624269,-0.9674906849545114,-0.9674550149435309,-0.9683824352290191,-0.9688201910226465,-0.43397433072193214,-0.9822035105200911,-0.9766948276233982,-0.9766948276233982,-0.9766948276233982,-0.9823048727616137,-0.9627700629924683,-0.9627700629924683,-0.9627700629924683,-0.9627700629924683,-0.9655750855615757,-0.35318842392654765,-0.36496951871680017,-0.3694575548273725,-0.3750319299546077,-0.3801166405899819,-0.8812103416255028,-0.8824806784884857,-0.880904674979962,-0.8831073752328494,-0.883148693035248,-1.0145640209554256,-1.0147359857373799,-0.9554056642908271,-0.9769542323216236,-1.025926791275778,-1.0334047230357493,-1.0334047230357493,-1.0334047230357493,-1.0328437185219277,-1.0334047230357493,-0.8329072886577356,-0.8334682931715571,-0.832917424881888,-0.8334682931715571,-0.832917424881888,0.44843451755207364,0.4484523525575638,0.4484523525575638,0.4484523525575638,0.44843451755207364,-0.9545476527524871,-0.9593163912860647,-0.9598941560627439,-0.9546388787698574,-0.9546692874423143,-0.0902172698682942,-0.9632334825225106,-0.9873566766168371,-0.9869040587154325,-0.9912837082135879,-0.9453897246926379,-1.0599259272093837,-1.0599080922038935,-1.0599259272093837,-1.0599259272093837,-1.0598724221929137,0.1679428357580589,0.23975452538047504,0.1861567603108029,0.139032381149793,0.17915590166359532,-0.1390163035672003,-0.1387309434793578,-0.13844558339151525,-0.1385266390753394,-0.13997939386366884,-0.6369530637010193,-0.6376154304563632,-0.6370544259425418,-0.6376154304563632,-0.6375140682148408,0.4199104828514178,0.4199104828514178,0.4199104828514178,0.4199104828514178,0.4199104828514178,-1.0580889216438973,-1.0580889216438973,-1.0580889216438973,-1.0580889216438973,-1.0580889216438973,0.5330263975605438,0.5474197459558192,0.5410614074374066,0.541529483454603,0.5933443813666848,-0.49728090076840104,-0.4674971303620497,-0.4635301340983053,-0.43175597464622273,-0.5372739193600519,-1.0020233934407372,-1.0018093733748554,-1.0020412284462274,-1.0020233934407372,-1.0020733314561099,-0.9554847597635667,-0.9554847597635667,-0.9554847597635667,-0.9554847597635667,-0.9554847597635667,-0.10528242830015884,0.4492868676055574,0.11583299448831806,0.12609485169937013,0.3783243963922213,-0.9812384981682096,-0.9812384981682096,-0.9756284530299941,-0.9812384981682096,-0.9812384981682096,-0.9041884121087693,-0.903174789693543,-0.903174789693543,-0.903174789693543,-0.903174789693543,-1.025257216712937,-1.026159340662488,-1.0262607029040107,-1.0262607029040107,-1.0262607029040107,-0.7796578004404696,-0.7513039906015759,-0.7737563047618735,-0.7852779818028373,-0.7737563047618735,-0.5721999812804487,-0.5576917269684389,-0.5672676663508592,-0.5325250756560317,-0.5375122164154439,-0.7114800988352233,-0.7114800988352233,-0.7157605001528612,-0.712906899274436,-0.7174468440832419,-1.013601930669394,-1.013601930669394,-1.013601930669394,-1.013601930669394,-1.013601930669394,-0.9563108197121615,-0.9552971972969351,-0.9497808156189045,-0.9507944380341308,-0.9497986506243945,-0.9285754160582894,-0.9285754160582894,-0.9341854611965051,-0.9341854611965051,-0.9285754160582894,-0.8631797822442353,-0.8641934046594616,-0.8519596919678045,-0.8576054071170003,-0.8519953619787846,-0.8514891079731043,-0.850591472456287,-0.8514121201597253,-0.8508865823153869,-0.8525984448384349,-1.0015594134224926,-1.0127795036989238,-1.0068111785299318,-1.0021204179363141,-1.0103799300959064,-0.9999468037459831,-0.9953097023185422,-0.9970932028675579,-0.9970932028675579,-1.0006602039655894,-0.9661658930286727,-0.9667268975424941,-0.9661658930286727,-0.9667268975424941,-0.9661658930286727,-1.05008840971772,-1.05008840971772,-1.0500782734935676,-1.0500782734935676,-1.0498248678897613,-0.7641651421042935,-0.7641651421042935,-0.7185752453079114,-0.7073551550314803,-0.763455606413635,-0.9868609909620949,-0.995163857766654,-0.9508445011747516,-0.9682356411032192,-0.9665526275617549,-0.7489782329168315,-0.7810812427991153,-0.7489782329168315,-0.7525452340148627,-0.7525452340148627,-1.0351104982898574,-1.0348964782239753,-1.034656503808977,-1.0364108573724018,-1.0365438217544596,-0.9763579710541492,-0.9757969665403275,-0.9763579710541492,-0.9763579710541492,-0.9757969665403275,-1.0250641879868605,-1.013390103229549,-1.0294808840754721,-1.0200508173734468,-1.0340045901970247,-0.5038794764269979,-0.5038794764269979,-0.5038794764269979,-0.5038794764269979,-0.5038794764269979,-0.8520290427823621,-0.8577404501621002,-0.8520290427823621,-0.8576390879205774,-0.8520290427823621,-0.7415285652165087,-0.6727173703892367,-0.6698285127571585,-0.7313885664362358,-0.6933487848061783,-0.5668935451074267,-0.5652105315659619,-0.5712802189764763,-0.5740852415455839,-0.5707135666712365,0.17988641882826695,0.29174033545681005,0.2107482216771222,0.2723150122161038,0.13999092339471803,-0.6749023444751797,-0.6806137518549177,-0.6693936615784871,-0.6750037067167021,-0.6693936615784871,-1.0461986231541671,-1.0461986231541671,-1.0461986231541671,-1.0461986231541671,-1.0461986231541671,-0.9978856658609282,-0.9933619597393756,-0.9889095936397835,-0.9917146162088913,-0.9832995485015679,-1.0562646988243398,-1.0562646988243398,-1.0562646988243398,-1.0562646988243398,-1.0562646988243398,-1.0158047676342237,-1.0110663039652599,-1.016024435491524,-1.0116257285581083,-1.014163947129129,-1.0436544635492933,-1.0436901335602735,-1.0436901335602735,-1.0436901335602735,-1.0436544635492933,-0.9618648165639518,-0.9562547714257363,-0.9562547714257363,-0.9572683938409625,-0.9618648165639518,0.6167065177815327,0.616145513267711,0.6155845087538894,0.6155845087538894,0.616145513267711,-1.0013644153167716,-1.0008034108029498,-1.0024137077429778,-1.0023780377319973,-1.0023423677210173,-1.0356009944495994,-1.0356111306737519,-1.0356009944495994,-1.0356009944495994,-1.0350501261599303,-0.8952107875727233,0.4343699101843456,-0.8952107875727233,-0.9750092023964965,-0.9746265479375767,-0.9692663306286655,-0.9748405680034583,-0.9696230307384689,-0.6888334584630289,-0.6893425542786171,-0.6889858541688139,-0.6886291540590107,-0.6884767583532259,-1.0585526317866416,-1.0585526317866416,-1.0585526317866416,-1.0585526317866416,-1.0585526317866416,-1.0450390521740855,-1.050978106621522,-1.0535534804619864,-1.0522958157613163,-1.0524084735856751,-1.0555551636098388,-1.0555194935988588,-1.0555551636098388,-1.0556208558403815,-1.0556565258513615,-0.9717980439118464,-0.9717980439118464,-0.9717980439118464,-0.9661879987736309,-0.9717980439118464,-1.0599907278086906,-1.0572798069741864,-1.0585639273694782,-1.0603117579075134,-1.0601690778635924,-1.028688676152653,-1.0281175354146792,-1.0286607049230108,-1.0286708411471632,-1.0281276716388317,-0.8393366358924735,-0.9313652642216874,-0.8407634363316859,-0.8963729834499977,-0.9681410455423926,-0.9060666895650064,-0.9066276940788277,-0.9060666895650064,-0.9060666895650064,-0.9060666895650064,-0.923003041465155,-0.9233071281897228,-0.9218880568084059,-0.9243511592774061,-0.9214826078423155,0.147131527773498,0.147131527773498,0.147131527773498,0.147131527773498,0.147131527773498,-0.8617206830332478,-0.8611596785194263,-0.8612610407609491,-0.8617206830332478,-0.8617206830332478,-0.9581104811593417,-0.9574067966015987,-0.9579678011154203,-0.9579678011154203,-0.9574837844149776,-0.7808039186658899,-0.8414389148308392,-0.8348238235426192,-0.8087527821154448,-0.8232205938590276,-0.8868270738248359,-0.8868270738248359,-0.8868270738248359,-0.8924371189630513,-0.8924371189630513,-0.8803146566300621,-0.8803146566300621,-0.8803146566300621,-0.8803146566300621,-0.8803146566300621,-1.0516481101530386,-1.0516302751475484,-1.0516302751475484,-1.0516481101530386,-1.0516302751475484,-1.0060644300071577,-0.9999189141419487,-0.9926003216754405,-1.0055390955043162,-1.0105881361287103,-1.0323211171714664,-1.0323211171714664,-1.0323211171714664,-1.0323211171714664,-1.0326778172812692,-1.0605822554114215,-1.0605822554114215,-1.0605822554114215,-1.0605822554114215,-1.0605822554114215,-0.3740534010386548,-0.3796634461768702,-0.3775797234322345,-0.3740534010386548,-0.3800201462866734,-0.8930580655078737,-0.8930937355188542,-0.8930580655078737,-0.8930937355188542,-0.8930937355188542,-0.9026783101785921,-0.9019981084177576,-0.9016646877633656,-0.9026783101785921,-0.9025591129315791,-0.9680341263737524,-0.9682840197921119,-0.9662025816554511,-0.9665608616862273,-0.9663581372031821,-0.9812822797808862,-0.9811809175393635,-0.9811809175393635,-0.9812822797808862,-0.9812822797808862,-0.9879997762446185,-0.9879997762446185,-0.9874387717307971,-0.9874387717307971,-0.9878984140030962,-1.0182890393304658,-1.0154980655031465,-1.0181876770889429,-1.0176266725751213,-1.0158021522277143,-0.9209416549721179,-0.9209416549721179,-0.9209416549721179,-0.9209416549721179,-0.9199280325568918,-0.9579150057964708,-0.9579328408019612,-0.9579251420206232,-0.9635530221643288,-0.9645386733499125,-0.7856008572972064,-0.7856008572972064,-0.7856008572972064,-0.7856008572972064,-0.7856008572972064,-0.9106104895970166,-0.910539149575056,-0.9094875043220867,-0.9116028633166514,-0.9096245365745896,-0.8451919482222404,-0.8411731285723159,-0.8411731285723159,-0.8462412406484471,-0.842186750987542,-0.970620826048192,-0.9699787658505463,-0.9543650167030316,-0.9708291983226555,-0.9708291983226555,-0.8398482141421157,-0.8341410123852653,-0.850209555363172,-0.8543963234971834,-0.8491224169969978,-0.5145282349535583,-0.5145282349535583,-0.5145282349535583,-0.5145282349535583,-0.5145282349535583,-0.7911081918607719,-0.7916691963745934,-0.7911081918607719,-0.7911081918607719,-0.7911081918607719,-0.8385390154994906,-0.8375253930842647,-0.8385390154994906,-0.8431354382224799,-0.8441490606377064,-0.6076352257008596,-0.609927822065463,-0.6090620261400721,-0.6079919258106625,-0.6083486259204656,-0.7663799648833123,-0.9745400127402813,-0.8956067668735771,-0.8554321982855895,-0.9361534331340436,-0.9670842526750334,-0.9670485826640531,-0.9670485826640531,-0.9670129126530729,-0.9670842526750334,-1.0140388075079774,-1.0122553069589615,-1.010375888618344,-1.0109414623481154,-1.0008617161100362,-1.0256965325226428,-1.03575894376045,-1.031163897616937,-1.0390893008323994,-1.0435773369429715,-0.2342532092285947,-0.23509957383025876,-0.23457423932741758,-0.2350282338082982,-0.2347428737204556,-1.059694072138012,-1.059694072138012,-1.059694072138012,-1.059694072138012,-1.059694072138012,-1.020612097392153,-1.0251001335027259,-1.0127580341986517,-1.0295881696132982,-1.022295110933618,-1.0157221132513763,-1.0162831177651976,-1.0162831177651976,-1.0162831177651976,-1.0162831177651976,-1.057375521424291,-1.057375521424291,-1.057375521424291,-1.057375521424291,-1.057375521424291,-0.9761413009744704,-0.9760399387329475,-0.9760399387329475,-0.9760399387329475,-0.9760399387329475,-0.9968980144918683,-0.9750433900022742,-0.9655648827433736,-0.9928783954924318,-0.9851833887825473,-0.1334066642465749,-0.1334066642465749,-0.13396766876039654,-0.1334066642465749,-0.1334066642465749,-0.9497585739633663,-0.9441992099459123,-0.9432970859963608,-0.9485523632892471,-0.9487550877722924,-1.0600151022368347,-1.0576252115011533,-1.0600507722478147,-1.0600151022368347,-1.0584456217537006,-1.0600151022368347,-1.054878620655669,-1.0498848191184247,-1.0591946919842876,-1.0582672716987986,-0.7413695670709056,-0.7433968119013582,-0.7490068570395737,-0.7556305245930153,-0.7479932346243473,-1.0444853259047326,-1.0430941954765003,-1.0438529813689508,-1.0444853259047326,-1.0435579056192443,-1.0161460245988685,-1.0155850200850467,-1.0161460245988685,-1.0155748838608947,-1.0161460245988685,-0.9030434656961484,-0.9249226417351889,-0.9030434656961484,-0.9226786236799026,-0.9243616372213671,-0.8674084193631034,-0.8679694238769249,-0.8674084193631034,-0.8674084193631034,-0.8679694238769249,-0.9370919953251365,-0.9763290074034835,-0.9986227642661806,-0.940658996423168,-0.9549270008152941,-1.0338450437038091,-1.0344417182286108,-1.0344060482176307,-1.0338450437038091,-1.0344060482176307,-1.0402539161537396,-1.0402539161537396,-1.040610616263543,-1.0398972160439364,-1.0398972160439364,-0.5158138275761863,-0.5078749508429854,-0.8862552478129873,-0.8918652929512026,-0.8862552478129873,-0.8918652929512026,-0.8918652929512026,-0.3038707367684897,-0.06824884096343956,-0.4155106350189778,-0.26968513143635564,-0.06207779131140253,-0.9822066492659675,-0.9817826770046488,-0.9817928132288013,-0.9824093737490128,-0.9822524555010999,-0.8441634131807599,-0.8548224989433695,-0.8548224989433695,-0.8318213138766858,-0.8548224989433695,-1.0227610361506823,-0.9967175887043216,-1.019204171276803,-1.0220597044197022,-1.017799575550369,-1.0146087638092505,-1.01457309379827,-1.0140120892844484,-1.01457309379827,-1.01457309379827,-0.9906545620716397,-0.9903504753470717,-0.9915465497970386,-0.9898436641394587,-0.9915364135728865,-1.0437872418512462,-1.0437872418512462,-1.0443482463650677,-1.0437872418512462,-1.0437872418512462,0.17164576723875707,0.1677187356420062,0.16266969501761228,0.16266969501761228,0.15537663633793222,-0.827785329855411,-0.827785329855411,-0.827785329855411,-0.827785329855411,-0.8272243253415892,-1.036128878769895,-1.036128878769895,-1.036128878769895,-1.036128878769895,-1.036128878769895,-1.01826518121846,-1.0334479731026218,-1.0154958286603324,-1.0362173256607494,-1.0339733076054636,-0.9723806219296988,-0.9712317164150461,-0.9712114439667419,-0.9717689362951162,-0.9714344408980915,-0.904561887458189,-0.9099278903109607,-0.9040065307357857,-0.9092185579617996,-0.9037155228565249,-1.0605858224125195,-1.0605858224125195,-1.0605858224125195,-1.0605858224125195,-1.0605858224125195,-0.799861153188897,-0.8034088316421887,-0.796122797333403,-0.7983527666469006,-0.7983527666469006,-1.0128789880154658,-1.0055859293357858,-1.0061469338496074,-0.9999758841975703,-1.0095129609325368,-0.9317957412977705,-0.9323364733632874,-0.9318869673151408,-0.9323567458115921,-0.9315626081422683,0.7085744397335831,0.7007203765400816,0.695110331401866,0.701281381053903,0.6861342591807214,-0.8479265245315837,-0.8393657218963079,-0.8462501717679514,-0.8474174287159958,-0.8393657218963079,-1.0233657781975867,-1.0216276633214145,-1.0076901291850897,-1.0244229702286585,-1.0197662997250483,-0.9983216443637519,-0.9982202821222294,-0.9983216443637519,-0.9982202821222294,-0.9981846121112491,-0.751659758426003,-0.7601848910502983,-0.7542428613243631,-0.7591504607318694,-0.7416156774373314,-1.0123980036999323,-1.0123980036999323,-1.0123980036999323,-1.0123980036999323,-1.0123980036999323,-1.0495262832671939,-1.0483135028938633,-1.04346238140054,-1.0505963835966032,-1.0505963835966032,0.6272375105583997,0.6272375105583997,0.6272375105583997,0.6272375105583997,0.6272375105583997,-1.0009864087270186,-1.0020000311422448,-1.0014390266284232,-1.0020000311422448,-1.0009864087270186,-1.060407472357618,-1.060407472357618,-1.060407472357618,-0.9705695910906984,-0.9705695910906984,-0.9715832135059247,-0.9812705943847931,-0.9715832135059247,-0.25043369644527225,-0.21844630293329176,-0.24766434388714484,-0.23023753394769658,-0.2442881805800633,-0.3049345824507164,-0.29879637004517573,-0.3041104023317312,-0.3129870838583431,-0.3123301615529201,-0.8957173102994745,-0.8963124049033031,-0.896633435002126,-0.8962110426617805,-0.8967347972436487,-1.0166037346066934,-1.016318374518851,-1.0165680645957131,-1.016461054562772,-1.0171647391205147,-1.0569831513035077,-1.0561270710399797,-1.0540225403921415,-1.0550926407215513,-1.0568404712595867,0.25569100057931404,0.26112401672492674,0.2618335524155852,0.2546773781640878,0.2557518179242277,-0.87316011632916,-0.8766654930670943,-0.8706988855715181,-0.8742756023314131,-0.881276777897861,-1.0605822554114215,-1.0605822554114215,-1.0605822554114215,-1.0605822554114215,-1.0605822554114215,-0.8249129034526584,-0.8305229485908742,-0.8249129034526584,-0.8249129034526584,-0.8305229485908742,-1.0512218509029583,-1.0512218509029583,-1.0512218509029583,-1.0512218509029583,-1.0512218509029583,-0.6975945874464711,-0.6975945874464711,-0.6975945874464711,-0.6975945874464711,-0.6975945874464711,-1.021827558284891,-1.0212665537710692,-1.0212665537710692,-1.0212665537710692,-1.0212665537710692,-1.0228295553592461,-1.0126301118689356,-1.0239515643868895,-1.0217075463316032,-1.0138534831381014,-0.024826977430412588,-0.24676231760857723,0.25896696031789396,0.2578871443266209,-0.2053852426238536,-0.5375952095445914,-0.744368433285806,-0.5559980568833626,-0.9093783210407305,-0.9215888865018952,-1.0011069940657844,-1.004350585794508,-0.9941129994007231,-1.0072900907986644,-0.9941129994007231,-1.0599080922038935,-1.0599080922038935,-1.0599080922038935,-1.0599437622148735,-1.0599080922038935,-0.9697864223830114,-0.9687727999677854,-0.9687727999677854,-0.9692254178691899,-0.9687727999677854,-0.9445098194631348,-0.8726610463647447,-0.8952392779230911,-0.765215831992243,-0.9595227503309428,-1.0603361323356575,-1.0603361323356575,-1.0603361323356575,-1.0603004623246768,-1.0603004623246768,-0.9484207965046356,-0.9499444366432427,-0.9500356626606131,-0.9482521621115974,-0.9478042359844238,-1.0538085203262595,-1.0516683196674406,-1.0541652204360628,-1.055235320765472,-1.0565907811827242,-0.862015928888995,-0.8635905558180427,-0.868186978541032,-0.868186978541032,-0.8676259740272105,-0.9757686133704161,-0.9759056456229189,-0.9758399533923767,-0.9758399533923767,-0.9757686133704161,-1.018125308672984,-1.0138095883730003,-1.0193790886146064,-1.0104954434073994,-1.016919898663243,-0.9468611887681145,-0.946211009226842,-0.9468433537626243,-0.9472774622480952,-0.9473508532599753,-0.6522719320354896,-0.6522719320354896,-0.6522719320354896,-0.6522719320354896,-0.6522719320354896,-1.0135050569977884,-1.01406606151161,-1.0135050569977884,-1.0135050569977884,-1.01406606151161,-0.9873285090061604,-0.9873285090061604,-0.9873285090061604,-0.9873285090061604,-0.9873285090061604,-0.8725246177350893,-0.8694926668017624,-0.8689576166370578,-0.8710978172958769,-0.873059667899794,-0.9398495570405695,-0.9639727511348961,-0.9510696473170005,-0.9448985976649634,-0.934239511902354,-1.0279412047328533,-1.020440398860179,-1.030428091835605,-1.0182104295466816,-1.032086920411129,-1.0427508169223614,-1.0438209172517712,-1.0423941168125586,-1.0438209172517712,-1.0349034145066927,-0.9201533537394426,-0.9204086916077233,-0.921003786211552,-0.9205100538492461,-0.9204743838382657,-1.0600507722478147,-1.0600507722478147,-1.0600507722478147,-1.0600507722478147,-1.0600507722478147,-1.058980671918405,-1.058980671918405,-1.058980671918405,-1.058980671918405,-1.058980671918405,-0.9912974581343965,-1.0030785529246486,-0.9823213859132517,-0.9969075032726118,-1.001956543897006,-1.0585526317866416,-1.0585526317866416,-1.0585526317866416,-1.0585526317866416,-1.0585526317866416,-1.0223721503195742,-1.0223721503195742,-1.0223721503195742,-1.0223721503195742,-1.0223721503195742,-1.0432765085302764,-1.0432765085302764,-1.0432765085302764,-1.0432765085302764,-1.0432765085302764,-0.8503831318017115,-0.8753424238260691,-0.9151858260910815,-0.6364700759527593,-0.9314870211090858,-1.045851137360723,-1.045851137360723,-1.0465645375803292,-1.045851137360723,-1.044745367020333,-1.0593168621290125,-1.0593269983531648,-1.0593675432497738,-1.0594080881463832,-1.0593675432497738,0.4547688109501048,0.45636702234680976,0.3925579270947321,0.44995270331511844,0.4307873238278155,-0.6475841775973789,-0.6418727702176408,-0.6414131279453418,-0.6475841775973789,-0.6413117657038191,0.2823767333229816,0.2823767333229816,0.2823767333229816,0.2823767333229816,0.2823767333229816,-0.7355133773771217,-0.8190904112191576,-0.6935019700688391,-0.7311332061661789,-0.7139239876654704,-0.9030341632916125,-0.9030341632916125,-0.9021164586679876,-0.9030341632916125,-0.8994671621935807,-1.0268710893464663,-1.017626908711146,-1.0178765987880083,-1.0306010770461174,-1.0310469521833712,-0.5225011095463808,-0.5168910644081653,-0.5219401050325593,-0.5168910644081653,-0.5219401050325593,-0.7457331688263478,-0.7457331688263478,-0.7479771868816337,-0.7474161823678123,-0.75022120493692,-1.0106711516120694,-1.0106711516120694,-1.0106711516120694,-1.0106711516120694,-1.0106711516120694,-0.9704550130328937,-0.9760650581711092,-0.9704550130328937,-0.9704550130328937,-0.9704550130328937,0.30499048079237245,0.30499048079237245,0.30499048079237245,0.30499048079237245,0.30499048079237245,-0.758486632661628,-0.7696108051464574,-0.7892405186802905,-0.7675710914951895,-0.7578297103562047,-0.8464564685780102,-0.8510528913009996,-0.845442846162784,-0.8520665137162257,-0.8520665137162257,-1.0290024823719208,-0.9824391077247321,-0.9835712529765274,-1.0037674154741032,-1.0278906095684297,-0.976667968966855,-0.9788437449741442,-0.9728633727243092,-0.9753502598270608,-0.9748434486194476,-1.038353276652592,-1.0349872495696628,-1.022084145751767,-1.0293772044314475,-1.0293772044314475,-0.9679337386947323,-0.9280185831504317,-0.9509026292649836,-0.965848777123063,-0.9319036972156972,-0.6718610428764996,-0.6797151060700012,-0.6903741918326107,-0.6965452414846477,-0.6858861557220384,-0.9165042173063899,-0.9165042173063899,-0.9159432127925681,-0.9159432127925681,-0.9159432127925681,-1.0062274480853755,-0.9936048465243904,-1.005385941314643,-1.0034224255162676,-0.990799823955283,-0.9539571021494083,-0.9559843469798609,-0.9539571021494083,-0.9615943921180763,-0.9615943921180763,-0.9691327219501198,-0.968553882430808,-0.968553882430808,-0.9685717174362981,-0.9685717174362981,-0.8711312252090535,-0.8644897226501217,-0.8711312252090535,-0.8701354377993175,-0.8700997677883371,-0.12729411939950205,-0.12729411939950205,-0.12729411939950205,-0.1329398345486978,-0.13286849452673724,-0.6697035997488864,-0.6697035997488864,-0.6640935546106708,-0.6640935546106708,-0.6640935546106708,-0.6754426229557903,-0.6754426229557903,-0.6754426229557903,-0.6754426229557903,-0.6754426229557903,-1.0262652673256074,-1.0262295973146272,-1.0262295973146272,-1.0262652673256074,-1.0262295973146272,-1.0485102456115527,-1.0447292244476394,-1.0492236458311592,-1.0483675655676314,-1.0501867361276278,-0.9828211053481555,-0.97721106020994,-0.9828211053481555,-0.9828211053481555,-0.97721106020994,-0.995637783276694,-0.9936105384462416,-0.994826885344513,-0.994624160861468,-0.9936105384462416,-0.5991843660912707,-0.598863335992448,-0.598542305893625,-0.5929679307663899,-0.5991843660912707,-0.6990170477174847,-0.6880664118805347,-0.6951868535702165,-0.699185225188928,-0.6628317996544,-0.8718465799993111,-0.87284534030676,-0.8736657505593072,-0.8737370905812678,-0.8670311285169686,-0.9932734409266842,-0.9932734409266842,-0.9921514318990409,-0.9545641294729973,-0.9809313416226099,-0.2255128980008465,-0.2204638573764526,-0.2255128980008465,-0.2255128980008465,-0.21990285286263106,-0.9628838715556836,-0.9565570958089453,-0.9384525556608713,-0.9724695265999674,-0.9651764679202872,-0.6300232878396771,-0.5871184326384747,-0.5770318773815617,-0.5992673545803118,-0.6029018482342482,0.12179349155423089,0.12892749375029397,0.12892749375029397,0.12592149716608397,0.12536049265226246,-0.9185378113348418,-0.9195412975259157,-0.9186087649039075,-0.9183756317484054,-0.9130798095589102,-0.9859320429242826,-0.9864930474381038,-0.9859320429242826,-0.9865031836622562,-0.9864930474381038,-1.060407472357618,-1.060407472357618,-1.060407472357618,-1.060407472357618,-1.060407472357618,-0.45476278939789994,-0.8607888765954134,-0.8524834118284181,-0.6708255582260373,-0.8775050328998744,-0.9929626615502796,-0.9929626615502796,-0.9929626615502796,-0.9929626615502796,-0.9929626615502796,-0.8739042924336796,-0.8853813004993644,-0.8734064164536516,-0.8709682996149707,-0.8770715075511998,-0.882723679964042,-0.8893773697370458,-0.8826523399420813,-0.8883994173327999,-0.8892658712713708,-1.0144829652716016,-1.015043969785423,-1.015043969785423,-1.015043969785423,-1.015043969785423,-0.9016441439975971,-0.9016441439975971,-0.9016441439975971,-0.9016619790030871,-0.9022051485114182,-0.8732981065426674,-0.8743117289578937,-0.8677594014264125,-0.8743473989688739,-0.8676880614044522,-1.0445209959157131,-1.0445209959157131,-1.0445209959157131,-1.0445209959157131,-1.0445209959157131,-0.8991689894332744,-0.9188041474170286,-0.9165601293617422,-0.9249751970690657,-0.9165601293617422,-1.040389659914944,-1.040389659914944,-1.0409506644287656,-1.040389659914944,-1.040389659914944,-0.8984049309466138,-0.8765257549075732,-0.8429738706906973,-0.9035623581834243,-0.8271573576912772,-1.0555040354830667,-1.0554683654720864,-1.0549972242754537,-1.0555040354830667,-1.0554683654720864,-0.9385949391019964,-0.9641063955729938,-0.9446536896239804,-0.9257756365983878,-0.9673190304727518,-1.0324993785539525,-1.02982126589249,-1.0276129178481839,-1.02985693590347,-1.0354313110307052,-1.0020984321535373,-0.9819022696559617,-0.9723651929209952,-0.9962531910306123,-0.9981714005567867,-0.1772408307465893,-0.17726636453341735,-0.17720516073560902,-0.17619153832038273,-0.17720516073560902,-1.0286581920682107,-1.0426765063834746,-1.0503455587442427,-1.0519150392273764,-1.0346507539129037,-0.9547536800446743,-0.977653827094037,-0.9448017469811665,-0.9469062776290051,-0.9525064693529145,-1.027768861300859,-0.994183811892213,-1.0172102625458013,-1.0111044431476621,-1.0226645815893158,-1.0477178695225502,-1.0477178695225502,-1.0477178695225502,-1.0477178695225502,-1.0477178695225502,-0.9737561030906939,-0.9760001211459801,-0.9664630444110139,-0.9664630444110139,-0.9743171076045155,0.009467161338242902,0.009467161338242902,0.009467161338242902,0.01002816585206447,0.009467161338242902,-0.4456067040157138,-0.4456067040157138,-0.4456067040157138,-0.4456067040157138,-0.4456067040157138,-1.0174470443243262,-1.0185690533519693,-0.984347778008855,-0.984347778008855,-1.0196910623796125,-0.8418328817523257,-0.8469903089891367,-0.8469903089891367,-0.8469903089891367,-0.8475513135029583,-0.4997529368063013,-0.40625424308905494,-0.2107569744075398,-0.533752461794391,-0.5587267710326166,-0.8787437423024,-0.8818827032686678,-0.8818827032686678,-0.8779946720718134,-0.8818470332576875,-1.0308452758620539,-1.0309466381035763,-1.0317068549149964,-1.0317068549149964,-1.0309466381035763,-1.0149705167429581,-1.0149348467319774,-1.0149348467319774,-1.0149705167429581,-1.0149705167429581,-1.0586239718086021,-1.0586239718086021,-1.0586239718086021,-1.0586239718086021,-1.0586239718086021,-1.0605858224125195,-1.0605858224125195,-1.0605858224125195,-1.0605858224125195,-1.0605858224125195,-0.893144165836426,-0.9108008212716823,-0.9109791713265838,-0.9107651512607019,-0.9000641479666073,-0.9901727846003215,-0.9887816541720895,-0.9809642739759818,-0.980149511514853,-0.9901727846003215,-1.0116269202458372,-1.0301400692019484,-1.0048948660799786,-1.0211639969808037,-1.0250910285775545,-1.0205891979270676,-1.0317736181925183,-1.0317736181925183,-1.0401886858998417,-1.0323346227063397,-1.0069787774374337,-1.0069787774374337,-1.0064177729236121,-1.0069787774374337,-1.0069787774374337,-0.9675356363229554,-0.9674342740814328,-0.9674342740814328,-0.9674444103055849,-0.9674444103055849,-1.020572475718204,-1.032412214193405,-1.0316217920510258,-1.0204980099636909,-1.030534361894467,-1.0169923491010437,-1.0173389129866945,-1.0173389129866945,-1.0169822128768913,-1.0173389129866945,-1.0594810927053684,-1.0595167627163489,-1.0594632576998781,-1.0594632576998781,-1.0594989277108586,0.31371533422449194,0.32689242562243337,0.3127017118092657,0.3471648739269583,0.3522329860030896,-1.0133810880574576,-1.0140060217694506,-1.0134282569927717,-1.014016157993603,-1.013671526372426,-1.040034539726114,-1.0366685126431845,-1.0389125306984703,-1.0411565487537568,-1.023765408825289,-0.9970932028675579,-0.9970932028675579,-0.9970932028675579,-0.9970932028675579,-0.9970932028675579,-1.0375813426047078,-1.037682704846231,-1.0375813426047078,-1.0375813426047078,-1.037682704846231,-1.0029563476964787,-1.0029563476964787,-1.0023953431826569,-1.0023953431826569,-1.002854985454956,-1.0466936739490382,-1.04721900845188,-1.0478870229986423,-1.0478156829766816,-1.0478156829766816,-1.010411084988475,-1.0064840533917248,-1.0205091662372632,-1.0109720895022969,-1.0199481617234416,-0.9053142300079184,-0.904753225494097,-0.9053142300079184,-0.9053142300079184,-0.9053142300079184,-1.0512102573161146,-1.0490700566572957,-1.053314787963953,-1.0508535572063114,-1.0546345783702253,-0.8858908229028413,-0.8818957816730457,-0.8864258730675459,-0.8860691729577429,-0.8803877877975665,0.2833186724438983,0.2833085362197462,0.28445744173439885,0.2843560794928763,0.28386954073356757,-1.0025021049913025,-1.0040767319203507,-1.0048334365463232,-1.0044821808864408,-1.0036170896480516,-0.9328707232795561,-0.9390113642591364,-0.9275951735383655,-0.9501905093067692,-0.9448713028157111,-0.9374131601434024,-0.9368521556295806,-0.9367507933880583,-0.9368521556295806,-0.9368521556295806,-1.0591376199667186,-1.0591197849612284,-1.0591376199667186,-1.0591376199667186,-1.0591376199667186,-0.7720420142531645,-0.7740850582933484,-0.7720420142531645,-0.7720420142531645,-0.7684750131551331,-0.4628567531399459,-0.4622957486261243,-0.4622957486261243,-0.4628567531399459,-0.4628567531399459,-0.6200229946653071,-0.6200586646762875,-0.6200586646762875,-0.6200586646762875,-0.6200229946653071,-1.060086442258795,-1.059587062105071,-1.0601577822807555,-1.0599437622148735,-1.0601577822807555,-0.9457701922828808,-0.9383808522185374,-0.9161775763631927,-0.8575793610357707,-0.9364549696296073,-0.18877774284225016,-0.18907169334266583,-0.18347178442860262,-0.18293456454853269,-0.18345151198029808,-0.9194225857250373,-0.9184089633098113,-0.9127989181715955,-0.9127989181715955,-0.9138125405868218,0.05802461564330357,0.4711761565742448,0.09110443988065561,0.06583065970323057,0.3274176650335158,-1.0439698458566977,-1.0439293009600887,-1.043909028511784,-1.043909028511784,-1.0438988922876318,-0.9900003948334803,-0.9900003948334803,-0.9901017570750027,-0.9900003948334803,-0.9900003948334803,-0.7457372396309991,-0.7480775529406879,-0.7405868506348214,-0.685254808423396,-0.6813746324074978,0.026116751662314325,0.026116751662314325,0.020471036513118532,0.020506706524098844,0.020506706524098844,-0.9859062470338651,-0.9865029215586669,-0.9859419170448451,-0.9859419170448451,-0.9865029215586669,-0.7132304427859988,-0.18608892427678891,-0.7031253371663168,-0.7766239528478339,-0.7031253371663168,-1.0068275583872313,-1.0068275583872313,-1.0068275583872313,-1.0068275583872313,-1.0068275583872313,-1.0547716106227283,-1.054450580523905,-1.0555206808533144,-1.0559130509740982,-1.053380480194496,-0.9739226698575845,-0.9734515286609515,-0.9681342746644673,-0.9645265517720516,-0.9675674190177302,-1.0068102387474058,-1.0047829939169535,-1.0011339532221388,-1.0076211366795869,-1.007823861162632,-1.0440857697094406,-1.0440857697094406,-1.043514628971467,-1.0440934684907788,-1.043532463976957,-1.0341229576807847,-1.0341229576807847,-1.0341229576807847,-1.0341229576807847,-1.0340872876698044,-0.9443495725267014,-0.9432229942831089,-0.9382856706600476,-0.9450064948321244,-0.9450629727463076,-0.9232568779774943,-0.9232568779774943,-0.9232568779774943,-0.9232568779774943,-0.9232568779774943,-0.8951532219868091,-0.9176660076088597,-0.9115049491235709,-0.8277419099274842,-0.9178294955559836,-0.9388532443595766,-0.9444632894977919,-0.9388532443595766,-0.9388532443595766,-0.9444632894977919,-0.004640384412819953,0.14734385561835686,0.5298385117343646,-0.005654006828046193,-0.6527632229279975,-0.6513364224887849,-0.6465921732759607,-0.6423603502676399,-0.6513364224887849,-1.0093012772198957,-1.0091999149783728,-1.0093012772198957,-1.0091999149783728,-1.0091999149783728,-0.838324281845865,-0.857959439829619,-0.8467393495531883,-0.8501053766361177,-0.8467393495531883,0.6349247453654666,0.6353171154862501,0.6351744354423289,0.6354297733106093,0.6352157532447276,-0.794653508476998,-0.7912193340085819,-0.7879117386492761,-0.7852721578367328,-0.7868059683088864,-1.0278499987029448,-1.0242236542880123,-1.0115503886609631,-1.021372825483772,-1.02421351806386,-0.4857948490061905,-0.48637368852550233,-0.48655614056024316,-0.4858126840116808,-0.4857948490061905,-1.0577678915450746,-1.0577678915450746,-1.0577678915450746,-1.0577678915450746,-1.0577678915450746,-0.11625839180504682,-0.11906362593518854,-0.12388304558952758,-0.11106393185707414,-0.12380195579630944,-1.0346824581580936,-1.0346824581580936,-1.0346824581580936,-1.0352434626719151,-1.0346824581580936,-1.0379672918047558,-1.040593964318962,-1.0374062872909344,-1.0413511538931755,-1.038349946263676,-0.6943873395943612,-0.6880557116846444,-0.6880557116846444,-0.692056008039341,-0.6924142880701173,-1.0592660320062477,-1.0592660320062477,-1.0591946919842876,-1.0592660320062477,-1.0592303619952677,-0.9917671402927606,-0.9973771854309761,-0.9974128554419563,-0.9918028103037408,-0.9918028103037408,-0.9048405166858123,-0.9048405166858123,-0.9104505618240277,-0.9048405166858123,-0.9048405166858123,-1.04968209463538,-1.04968209463538,-1.04968209463538,-1.04968209463538,-1.04968209463538,-1.044268113202377,-1.0364140500088757,-1.0302430003568386,-1.0302430003568386,-1.0392190725779833,-0.9731210269545919,-0.9495588373740866,-0.9675109818163762,-0.9523638599431943,-0.9501198418879081,-1.0603117579075134,-1.0603117579075134,-1.0603117579075134,-1.0603117579075134,-1.0603117579075134,-0.7659303959034665,-0.81077508699821,-0.7995906667327592,-0.7490645904778397,-0.7602846807542707,-0.1316113902337545,-0.3410815530480045,-0.37416881786239053,-0.10509812407746112,-0.29008226556587013,-1.0534518202164562,-1.0534518202164562,-1.0534518202164562,-1.0534518202164562,-1.0534518202164562,-0.6133720039439923,-0.6133720039439923,-0.6133720039439923,-0.6133720039439923,-0.6133720039439923,-1.0448612981271985,-1.0448791331326888,-1.0448791331326888,-1.0448791331326888,-1.0448434631217083,-1.0414111819350356,-1.0453382135317866,-1.0290690826309616,-1.0414111819350356,-1.0414111819350356,-0.8742440489873317,-0.8748420862123152,-0.8813273588130724,-0.875413226950289,-0.8745481357118995,-1.0315860210267302,-1.0315860210267302,-1.0315860210267302,-1.0315503510157498,-1.0315860210267302,-1.024773131388283,-1.044498647460397,-1.0601221122697755,-1.0592303619952677,-1.0555741858697851,-1.0204825477661164,-1.0204825477661164,-1.0204825477661164,-1.0204825477661164,-1.0204825477661164,-1.0420285051519762,-1.0420285051519762,-1.0420285051519762,-1.0420285051519762,-1.0420285051519762,-1.0340587835895776,-1.0307771425793886,-1.0337377534907546,-1.0343084736664396,-1.0327746631942862,-1.0566621212046845,-1.0566621212046845,-1.0566621212046845,-1.0566621212046845,-1.0566621212046845,-1.0350371829998342,-1.0350371829998342,-1.0350371829998342,-1.0350371829998342,-1.0350371829998342,-0.9660635728200194,-0.966624577333841,-0.9660635728200194,-0.966624577333841,-0.966624577333841,-0.8952765941330965,-0.8942154706691549,-0.8982193397624146,-0.8943493228496119,-0.8941141689807484,-0.9254691778574577,-0.9261315446128019,-0.9251650911328899,-0.9304832859524004,-0.9261315446128019,0.32895288486059576,0.3308787674495257,0.32885152261907324,0.32885152261907324,0.32885152261907324,-0.8569868295891658,-0.8571538840612307,-0.8574710496311058,-0.8579647819934118,-0.8565231194464217,-0.8817688156994912,-0.8352411110632832,-0.8582066261189862,-0.8885365398763302,-0.8515102419641081,-0.9659173415825012,-0.967287664107531,-0.9715273867207168,-0.9662740416923044,-0.9669309639977277,-1.0371640106185969,-1.0371640106185969,-1.0371640106185969,-1.0371640106185969,-1.0371640106185969,-1.0463178180203931,-1.0463178180203931,-1.0463178180203931,-1.0463178180203931,-1.0463178180203931,-1.0011901891982244,-1.0011901891982244,-1.000629184684403,-1.0011901891982244,-1.0011901891982244,0.3307795478410254,0.3850854392273526,0.438940761184225,0.43680900171244813,0.3982513738353999,-1.0344781537540748,-1.0344781537540748,-1.0344781537540748,-1.0344781537540748,-1.0344781537540748,-0.8044990316363343,-0.8050600361501559,-0.8044990316363343,-0.7994499910119403,-0.8044990316363343,-0.9821520287349514,-0.9596541426904343,-0.9586202478269035,-0.9793470061658439,-0.982396878035579,-1.0564466158803396,-1.0565479781218625,-1.0564466158803396,-1.0564466158803396,-1.0567507026049079,-1.0605822554114215,-1.0605822554114215,-1.0605822554114215,-1.0605822554114215,-1.0605822554114215,-0.9747330076977794,-0.9747330076977794,-0.9747330076977794,-0.9747330076977794,-0.9747330076977794,-0.9242729573737578,-0.9067135160911431,-0.904469498035857,-0.9140065747708231,-0.909518538660251,-1.0073524752609855,-1.0073524752609855,-1.0073524752609855,-1.0073524752609855,-1.0073524752609855,-1.0302457724310232,-0.9685352759106531,-0.7609636057966803,-1.030235636206871,-1.030235636206871,-1.0267731558774422,-1.0267731558774422,-1.0267731558774422,-1.0267731558774422,-1.0267731558774422,-0.9172661911891877,-0.9130193786160526,-0.9164520526318447,-0.913773323732268,-0.917788250957473,-0.9046722044175604,-0.9103080661524502,-0.9129833169759739,-0.9035307640661905,-0.8660772525368592,-1.0074551142463521,-1.006313673894982,-1.008096753881709,-1.0063233895568457,-1.006252049534885,-0.9810304717492582,-0.9810304717492582,-0.9810304717492582,-0.9810304717492582,-0.975456096622023,-1.048912812509604,-1.0487956662525113,-1.048912812509604,-1.0488313362634916,-1.048912812509604,-0.44135533260416104,-0.4469653777423766,-0.43882072840958625,-0.44340041244010375,-0.44692970773139634,0.1124613395267241,0.10125124041704156,0.09087084665948096,0.11302234404054567,0.16831086106003473,-1.0478329066173937,-1.0480356311004395,-1.0479342688589168,-1.0480356311004395,-1.0479342688589168,-0.9071448281966726,-0.9071448281966726,-0.9071448281966726,-0.9071448281966726,-0.9065838236828511,-0.5087134005989247,-0.4807124419793771,-0.5380906275389273,-0.48651179166139097,-0.5221253247275234,-1.00079089517113,-1.0064009403093452,-1.0097669673922742,-0.9985468771158432,-0.9963028590605573,-1.0187649755836676,-1.0183053333113687,-1.018203971069846,-1.0187649755836676,-1.018203971069846,-1.0604395753675002,-1.0604395753675002,-1.0604395753675002,-1.0604395753675002,-1.0604395753675002,-1.0323649074548096,-1.0323649074548096,-1.0323649074548096,-1.0323649074548096,-1.0323649074548096,-0.9955301583713446,-0.9955301583713446,-0.9955301583713446,-0.9955301583713446,-0.9955301583713446,-0.9621359150695705,-0.9621715850805507,-0.961610580566729,-0.961610580566729,-0.9627325895943722,-0.9152664206039106,-0.915284255609401,-0.9152664206039106,-0.915284255609401,-0.9152765568280632],\"xaxis\":\"x\",\"y\":[-0.06711867505779025,-0.0732076324701154,-0.049069624669060084,-0.07558752134770093,-0.057924323021341186,-0.17324408374112935,-0.16745530032071623,-0.15664957126927836,-0.16128059800560895,-0.16475386805785674,0.143752938516297,0.15591260937749607,0.16342307637117465,0.15587625511511616,0.14761212746323907,-0.18110511753978922,-0.18110511753978922,-0.17640138227869898,-0.16981838479800285,-0.1921512910138127,0.1938003909725635,0.19372106357105595,0.19373924070224596,0.19372106357105595,0.197598429649188,-0.37724307436238375,-0.37892647243342675,-0.39694725684009413,-0.40633775853569104,-0.382645881465514,-0.039608612912657236,-0.03167587276190453,-0.03574942396571517,-0.03574942396571517,-0.03167587276190453,0.23967335161693065,0.23967335161693065,0.23967335161693065,0.23960064309217066,0.23967335161693065,-0.2547686523952273,-0.2512953823429795,-0.2547686523952273,-0.2512953823429795,-0.25515457128992153,-0.002265647040485455,-0.0234601820080088,-0.0020111672038256533,-0.00501459298987777,-0.008670616096107985,-0.28458677648048075,-0.28458677648048075,-0.28458677648048075,-0.28458677648048075,-0.28458677648048075,2.0190571657945755,1.88204391267567,1.9261344925829702,2.3688382434378323,1.8983344559902877,-0.15845894353145656,-0.15807302463676245,-0.15807302463676245,-0.15807302463676245,-0.15807302463676245,0.22566125136064832,0.23359399151140103,0.22948408604521045,0.22562489709826836,0.22562489709826836,-0.4826157339640903,-0.47970739297369247,-0.4800709355974923,-0.483728738106384,-0.48443344708308894,-0.059408819698227554,-0.05323411738312016,-0.0632465724194827,-0.07021454874966516,-0.06211025196108693,-0.2956508834276667,-0.2956508834276667,-0.2956508834276667,-0.2956508834276667,-0.2956508834276667,-0.12806110007519203,-0.036913915743042834,-0.10743597568323475,-0.03683458834153539,-0.12500368567877834,-0.16127200327838226,-0.13047426889488106,-0.1674315501550825,-0.15716563869391545,-0.13458063347934793,-0.966019386226719,-0.5693077655456065,-1.1477385588877878,-0.4920578214317655,-0.7365279720413986,0.1792138488197492,0.17604075275944814,0.17207438268407182,0.18399167004139097,0.17808918730354978,-0.17951404305153587,-0.1804228996110351,-0.17958675157629578,-0.18035019108627523,-0.17987758567533554,-0.5366229030827895,-0.12936967621220194,-0.5757616907882246,-0.2465457884399779,-0.25657080552330064,-0.2302248255306205,-0.30415541721999684,-0.23098826504059985,-0.21597395467767166,-0.2677648005776455,-0.16545023617774127,-0.16545023617774127,-0.16545023617774127,-0.16583615507243554,-0.16583615507243554,0.29364109176049796,0.2936187154896035,0.2980036032460946,0.2994353974703989,0.2972541417276007,-0.14626611537491485,-0.14332142012213728,-0.15288259112806962,-0.14452111078067625,-0.14332142012213728,0.23086159254835506,0.23086159254835506,0.23086159254835506,0.23086159254835506,0.23086159254835506,-0.18343774840982818,-0.18340139414744824,-0.18343774840982818,-0.18343774840982818,-0.18340139414744824,-0.1930126338867792,-0.1930126338867792,-0.1891534449398371,-0.1930126338867792,-0.1930126338867792,-0.1407906728525167,-0.13654556501088042,-0.13307229495863263,-0.13654556501088042,-0.14657945627292981,0.25351027337826754,0.25336485632874756,0.25354662764064756,0.2532921478039877,0.25440515194628127,-0.14593892701349515,-0.14593892701349515,-0.14590257275111515,-0.14593892701349515,-0.14590257275111515,-0.17558621893038925,-0.17558621893038925,-0.17558621893038925,-0.17558621893038925,-0.17558621893038925,0.24828536825185066,0.2448120981996028,0.25253047609348694,0.24828536825185066,0.24442617930490856,0.025129790915894082,0.018302105823597453,0.03323115429196255,0.03537605577238083,0.03982056927389844,0.02863329600899843,0.032492484955940426,0.032492484955940426,0.0245597448051877,0.040425225106693226,-0.14622976111253486,-0.14622976111253486,-0.14622976111253486,-0.14622976111253486,-0.14622976111253486,-0.25988565113989437,-0.2602715700345885,-0.2602715700345885,-0.25988565113989437,-0.2602715700345885,-0.07896950641403488,-0.07858358751934065,-0.07896950641403488,-0.07065084736858794,-0.07858358751934065,-0.33619935012510305,-0.3357267447141634,-0.33561768192702346,-0.33559950479583345,-0.33569039045178345,-0.2942461804521131,-0.36834260823340065,-0.3035082339247742,-0.31431396297621184,-0.31662947634437716,-0.20397372587429433,-0.19756218042030008,-0.21223310577803944,-0.2435068045705858,-0.21170116048722049,-0.09846135205639987,-0.09884727095109401,-0.0909145308003412,-0.09884727095109401,-0.0909145308003412,0.251581208726148,0.25544039767309,0.251581208726148,0.25196712762084206,0.251581208726148,-0.2150208624478019,-0.2229536025985547,-0.2150208624478019,-0.21545059383907741,-0.218880051394744,0.03888219350866214,0.03855500514724247,0.03960265987951409,0.038991256295802065,0.03869380332001472,-0.15789867770364077,-0.15647078447650528,-0.15781935030213323,-0.15924724352926886,-0.16194437518052468,-0.15916641365290538,-0.15916641365290538,-0.1595523325475996,-0.1595523325475996,-0.1595523325475996,-0.14310329454785733,-0.1430851174166673,-0.1430851174166673,-0.1430851174166673,-0.14310329454785733,0.0007142227455748659,0.0007142227455748659,0.0007142227455748659,0.0007142227455748659,0.0007142227455748659,-0.1965518768555823,-0.21532686784023725,-0.184839275159395,-0.17318238091706134,-0.18831254521164295,-1.0261143315949723,-0.9134029795830294,-0.9309612245697306,-1.0025614690058942,-1.026771721134286,-0.14452111078067625,-0.14452111078067625,-0.14452111078067625,-0.14452111078067625,-0.14452111078067625,-0.13718314517490193,-0.13332395622795987,-0.13679722628020763,-0.1352535507014309,-0.146831117542257,-0.1537980295295023,-0.1537980295295023,-0.15198031641050366,-0.15597928527230062,-0.15597928527230062,-0.20366884430891544,-0.1882320885211472,-0.1882320885211472,-0.1963363853097256,-0.20444068209830385,-0.13019624824458792,-0.12984668361227356,-0.13095316799728315,-0.13095316799728315,-0.12984668361227356,-0.06179874627722148,-0.06179874627722148,-0.06179874627722148,-0.06179874627722148,-0.06179874627722148,-0.22766827796732192,-0.22766827796732192,-0.22766827796732192,-0.22766827796732192,-0.22728235907262773,-0.08808307316590766,-0.08808307316590766,-0.08808307316590766,-0.08808307316590766,-0.08808307316590766,0.78356211123987,0.775629371089117,0.775629371089117,0.7764012088785055,0.7839480301345639,0.11012634435588355,0.11012634435588355,0.11012634435588355,0.11012634435588355,0.11012634435588355,0.24123809023383394,0.24039028482518884,0.24034731168606113,0.24432405611414465,0.24878911062959722,-0.190923599496037,-0.1709285254966981,-0.1886658766159386,-0.18526531508845062,-0.17162765476132655,-0.0647800380290563,-0.07231288129362937,-0.07227652703124937,-0.07242194408076921,-0.05662917230402369,-0.024692176796106923,-0.024692176796106923,-0.024692176796106923,-0.02472853105848688,-0.02472853105848688,-0.14288167543229485,-0.14633350925885594,-0.14913570514890978,-0.14062405323995034,-0.14332548550280985,-0.161208763762343,-0.161208763762343,-0.161208763762343,-0.16159468265703722,-0.16159468265703722,-0.16798387512018637,-0.16798387512018637,-0.16794752085780634,-0.16798387512018637,-0.16794752085780634,-0.3821416945903005,-0.10768660211391955,-0.17058668887471393,-0.1577886999639387,-0.16864793060245714,-0.15271491265283238,-0.15271491265283238,-0.15271491265283238,-0.15348675044222085,-0.15310083154752663,-0.09755550807401202,-0.08962276792325924,-0.08962276792325924,-0.08576357897631715,-0.09369631912706997,-0.027525119044446957,-0.023665930097504895,-0.015733189946752112,-0.015733189946752112,-0.023665930097504895,0.1277190781874581,0.10367208390227008,0.09677500127047255,0.12189059998796833,0.059634457455756955,-0.10465810103968867,-0.10858999851139062,-0.10931708375899007,-0.10968062638278978,-0.10869906129853056,-2.2516934801672512,-2.2513075612725566,-2.2513075612725566,-2.252079399061945,-2.2516934801672512,-0.23655978063856933,-0.2581712387414449,-0.2427344829536766,-0.21610607921977648,-0.22845548384999104,-0.26541926959482814,-0.26156008064788605,-0.26156008064788605,-0.26117416175319186,-0.26541926959482814,-0.10439022533919122,-0.10400430644449701,-0.10439022533919122,-0.10479758045957227,-0.10321103242942178,-0.09113460785630731,-0.09906734800706003,-0.09460787790855515,-0.09906734800706003,-0.0907486889616131,-0.19452897339960262,-0.19596106655058776,-0.19786482349901457,-0.21456020028581366,-0.19957797268140376,0.08882718003762212,0.08844126114292802,0.08882718003762212,0.08882718003762212,0.08882718003762212,0.1583970093358246,0.1583970093358246,0.1583970093358246,0.1583970093358246,0.1583970093358246,-0.18462032470307432,-0.18500624359776846,-0.18462032470307432,-0.18500624359776846,-0.18500624359776846,-0.1448846534044759,-0.1448846534044759,-0.1448846534044759,-0.1448846534044759,-0.1448846534044759,-0.13376577767885392,-0.13387484046599382,-0.1338021319412338,-0.13376577767885392,-0.1338021319412338,0.07417824123948169,0.07460051439655589,0.07421459550186175,0.07460051439655589,0.07460051439655589,-0.20745286042133126,-0.1706812674073111,-0.1045026278846601,-0.15220221663532998,-0.13412827042943232,-0.38578004436950203,-0.40145877638956035,-0.435024608175115,-0.3807367005092698,-0.3816136884381916,-0.16459441559426277,-0.16459441559426277,-0.16459441559426277,-0.1642308729704631,-0.16498033448895702,-0.14781117152606363,-0.14781117152606363,-0.1478293486572537,-0.1478293486572537,-0.1478293486572537,0.13108039157118845,0.13108039157118845,0.1303664449576207,0.13346021361641416,0.13195299298777122,-0.19741190152475496,-0.19741190152475496,-0.1966186275096797,-0.19741190152475496,-0.1966186275096797,-0.1583246859060897,-0.1583246859060897,-0.1583246859060897,-0.1583246859060897,-0.1583246859060897,-0.32948795479570353,-0.32910203590100934,-0.32910203590100934,-0.32910203590100934,-0.32910203590100934,0.11992673882619491,0.12033083485207913,0.1203490119832691,0.11996309308857486,0.11992673882619491,-0.11339083383995963,-0.10545809368920687,-0.10545809368920687,-0.10931728263614893,-0.10931728263614893,-0.10236721801213877,-0.10236721801213877,-0.10395376604228926,-0.10316049202721397,-0.10236721801213877,-0.29256888838399586,-0.29983974085999027,-0.30347516709798744,-0.30347516709798744,-0.3071105933359845,-0.16075760291821534,-0.16075760291821534,-0.16075760291821534,-0.16075760291821534,-0.16075760291821534,-0.21329257599786422,-0.18292267407392546,-0.2150373509017485,-0.17232385375002596,-0.17411919059813,-0.004950315665225155,-0.004666100442932965,-0.004586773041425455,-0.004666100442932965,-0.01506431155877621,0.6655841824782476,0.6767758304243796,0.7163325505467011,-0.08616800388889011,-0.09002719283583213,-0.09002719283583213,-0.09002719283583213,-0.08964127394113808,-0.13047892124228214,-0.13047892124228214,-0.13046074411109213,-0.13047892124228214,-0.13047892124228214,0.1319155551890069,0.1171341830016165,0.11016808676184925,0.2580032495663115,0.29038858689216196,-0.2929506379350327,-0.2745083515673119,-0.2703656327204652,-0.2519233463527445,-0.2683488046906118,-0.06258104986140733,-0.07338677891284512,-0.0664402388083494,-0.0849643457536713,-0.08033331901734082,-0.15397981837957783,-0.15136142886560078,-0.14023138744266445,-0.15477309239465306,-0.15477309239465306,-0.1437576712706968,-0.1437576712706968,-0.1437576712706968,-0.1437576712706968,-0.1437576712706968,0.06810910687912283,0.07990103597681764,0.07990103597681764,0.07990103597681764,0.07990103597681764,-0.19777786082588789,-0.19735558766881384,-0.19739194193119375,-0.19816377972058216,-0.19816377972058216,-0.19134783568041322,-0.19134783568041322,-0.19131148141803317,-0.19131148141803317,-0.19134783568041322,0.9367778976195469,0.9265119861583797,0.7622757914341763,0.7167325328218932,0.6036209884191214,-0.07388326844603271,-0.07384691418365263,-0.07382873705246265,-0.07382873705246265,-0.07382873705246265,4.21110688050194,4.071404842113615,4.316355022966379,4.862406283104428,4.227270351073425,-0.19893306323850035,-0.18967100976583942,-0.1977753065544177,-0.18851325308175676,-0.19316571604377414,-0.059554440381320024,-0.059554440381320024,-0.059554440381320024,-0.059554440381320024,-0.059554440381320024,-0.2910685926501483,-0.2910685926501483,-0.2910685926501483,-0.2910685926501483,-0.2910685926501483,0.13325554383379365,0.12705570410304792,0.09534598707018355,0.10810650543331934,0.11852631559006291,-0.14343048290927696,-0.14343048290927696,-0.14343048290927696,-0.14343048290927696,-0.14343048290927696,-0.1303760403466089,-0.12599327575291572,-0.12426466967135073,-0.05814933019119072,-0.12395787993923708,-0.1904902117910757,-0.17088553194060993,-0.17049961304591585,-0.18392959058127414,-0.17053820493538516,-0.08512354709654203,-0.07680488805109507,-0.07719080694578925,-0.08512354709654203,-0.08473762820184783,-0.08575103990986817,-0.08938646614786531,-0.08900054725317112,-0.08900054725317112,-0.08938646614786531,1.6614936308022843,1.679419203021797,1.6501668520179082,1.6244978683132074,1.6006082178535004,-0.2599457870097592,-0.26378679882551126,-0.2595598681150651,-0.2599276098785693,-0.2599457870097592,-1.0355618906067026,-1.0452098629740576,-1.0371055661854793,-1.0452098629740576,-1.0394210795536445,-0.03561030379535015,-0.038518644785747874,-0.03561030379535015,-0.033974361988251434,-0.038518644785747874,-0.24348529687745307,-0.2503339336189619,-0.24309937798275882,-0.2511281476792447,-0.2563212849100928,-0.1390146239318459,-0.1390146239318459,-0.1390146239318459,-0.1390146239318459,-0.13905759707097345,-0.07166307809510265,-0.07359267256857366,-0.07830302670641164,-0.07938145598898678,-0.07899553709429255,-0.16333684143011348,-0.15947765248317142,-0.15955697988467887,-0.16697226766811055,-0.16319240612267605,-0.750934419368851,-0.750934419368851,-0.750934419368851,-0.750934419368851,-0.754793608315793,-0.19450657742623756,-0.1843050076889511,-0.1944842011553431,-0.19412065853154326,-0.185054469207445,-0.054315073372403426,-0.054315073372403426,-0.054315073372403426,-0.054315073372403426,-0.054315073372403426,-1.287332285551255,-1.287332285551255,-1.287332285551255,-1.287332285551255,-1.287332285551255,-0.1125356703410054,-0.11249931607862554,-0.11249931607862554,-0.1125356703410054,-0.11249931607862554,0.4803017542360291,0.4735760607219726,0.47682848418378115,0.4868752104483105,0.5274393663455836,-0.17768476861838498,-0.17768476861838498,-0.17768476861838498,-0.177721122880765,-0.17768476861838498,-0.18122521863538774,-0.18122521863538774,-0.18197468015388174,-0.18122521863538774,-0.18197468015388174,0.8498467865289964,0.850059231703446,0.8447050222849752,0.8462652930470626,0.8498110733851433,-0.14005882054654842,-0.14005882054654842,-0.14009517480892833,-0.14009517480892833,-0.14009517480892833,-0.1689271416562271,-0.16854122276153283,-0.16854122276153283,-0.1689271416562271,-0.16854122276153283,-0.014665951496947055,-0.026494234857021848,-0.026494234857021848,-0.015459225512022338,-0.02263504591007976,-0.14630246963729474,-0.14630246963729474,-0.14630246963729474,-0.1463388238996748,-0.14630246963729474,-0.00815051544537665,-0.00815051544537665,-0.014711136655178078,-0.011237866602930226,-0.00815051544537665,-0.31540782659179495,-0.31540782659179495,-0.31540782659179495,-0.31540782659179495,-0.31540782659179495,-0.1595578968890653,-0.16611851809886674,-0.1736653393549253,-0.1721216637761485,-0.168434031467032,-0.4123873637206139,-0.41224194667109404,-0.4128599691315536,-0.412351009458234,-0.41242371798299393,-0.07033395351675872,-0.07033395351675872,-0.07033395351675872,-0.07041328091826626,-0.07033395351675872,-0.2104720688035361,-0.21431308061928814,-0.21045389167234607,-0.2104720688035361,-0.21431308061928814,-0.19292865109268906,-0.19678784003963118,-0.19292865109268906,-0.19678784003963118,-0.19678784003963118,0.23696808556807533,0.23125651265953334,0.23109785785651837,0.23934790761330113,0.2496604698092797,0.06427660813385554,0.08122475686390873,0.13017856900372238,0.27708014957031996,0.22713063640161338,-0.19666210181201182,-0.17429103434889884,-0.17132954410559342,-0.17473010563308125,-0.17375412182918878,-0.15079084046884936,-0.15079084046884936,-0.15079084046884936,-0.15079084046884936,-0.15079084046884936,0.3124065138917558,0.38032823935793597,0.3541081307896244,0.3156877979580295,0.3083329626879451,1.0628408909425144,1.0897292236970704,0.9381346585356489,0.9327467167514941,0.9512231841870733,-0.1295464789014844,-0.1312123543331424,-0.12795993087133384,-0.13105369953012738,-0.12719451058318537,-0.02863482933400339,0.003096131269007599,0.011028871419760358,-0.02863482933400339,-0.02863482933400339,-0.17593380334587802,-0.175915626214688,-0.17557026072207832,-0.175915626214688,-0.17555208359088836,-0.1583023096351953,-0.1583023096351953,-0.15868822852988942,-0.1583023096351953,-0.1583023096351953,-0.2541458163445872,-0.22002829100394142,-0.22729365460661316,-0.2267717144096043,-0.2178739154975108,-0.07263755444853365,-0.07263755444853365,-0.07263755444853365,-0.07607121114390474,-0.07688266229016998,0.07054321829153457,0.07091328067261846,0.07072498960343443,0.07057957255391453,0.0706224465735786,-0.21058206891335537,-0.21066139631486305,-0.21066139631486305,-0.21421749515135266,-0.20694664267535837,-0.25733149262600313,-0.25733149262600313,-0.25733149262600313,-0.25733149262600313,-0.25733149262600313,-0.1345720912084974,-0.1345720912084974,-0.1345720912084974,-0.13449276380698977,-0.13449276380698977,-0.1709610299113365,-0.17126762140452315,-0.1709610299113365,-0.17088170250982895,-0.17088170250982895,-0.11357241725273294,-0.11830048558564978,-0.14928159478992523,-0.1372389956175381,-0.12371448867930315,-0.10106266342169237,-0.10106266342169237,-0.10144858231638651,-0.10106266342169237,-0.10106266342169237,-0.15966508818356628,-0.15966508818356628,-0.15966508818356628,-0.15966508818356628,-0.15966508818356628,-0.268966603838686,-0.23467312477755448,-0.2966198734279077,-0.2386612485584925,-0.26077900735870596,-0.20729129472809446,-0.20173837662256747,-0.2005591837127981,-0.1969787325321159,-0.20769864984847555,-0.5505402199141585,-0.5505402199141585,-0.5543994088611004,-0.5466810309672163,-0.5505402199141585,-0.07344934168984779,-0.06483050865245407,-0.07542921099459567,-0.06155023146371868,-0.07383526058454197,-0.208460504398485,-0.20539458946661823,-0.20460131545154295,-0.21002561620294868,-0.20305763987276612,-0.3396606455670635,-0.33580145662012145,-0.33541553772542726,-0.3396606455670635,-0.3392747266723693,-0.1394967116203212,-0.1394967116203212,-0.1394967116203212,-0.1394967116203212,-0.1394967116203212,0.4439260804554821,0.2693876200077317,0.3804823363806501,0.055421157515517586,0.05619299530490588,0.055421157515517586,0.055807076410211674,0.055807076410211674,-0.14997425013767196,-0.14997425013767196,-0.14997425013767196,-0.14997425013767196,-0.14997425013767196,-0.15627906836103023,-0.15592950372871614,-0.15629724549222024,-0.15629724549222024,-0.15631542262341028,0.40402433873104054,0.3842996694825931,0.37308665214310494,0.36674046002250266,0.3716072852413887,-0.15223158383888455,-0.1395648696026398,-0.15743943929920826,-0.14774849379272573,-0.14651140970713547,-0.16975057705658309,-0.1654012042050183,-0.1687697529944593,-0.16925643551634784,-0.1611311587549609,-0.11554004401371698,-0.11881192762791426,-0.1184483850041147,-0.11881192762791426,-0.11665304815601052,-0.11563901167683072,-0.11488209192413551,-0.11449617302944134,-0.11525309278213665,-0.11449617302944134,0.9286930423614077,0.9047842480215571,0.8827686938927973,0.9013109779693091,0.8866460599709293,-0.24378193539205442,-0.2438182896544344,-0.24378193539205442,-0.24378193539205442,-0.2438182896544344,0.3554837993176182,0.3384391261063432,0.33526603004604216,0.34081894815156905,0.3848349378754035,0.4082548647656007,0.4082548647656007,0.4082548647656007,0.4082548647656007,0.4082548647656007,-0.14397579684497666,-0.14397579684497666,-0.14397579684497666,-0.14397579684497666,-0.14397579684497666,-0.08646770691794167,-0.08723490817704187,-0.09851135941242323,-0.0872228488362659,-0.09933341461049996,0.6185266164503528,0.6127099344695573,0.6155958991890604,0.6214349574407505,0.6137781860700618,-0.19813952963243386,-0.21473404210428462,-0.22090874441939184,-0.21010301536795425,-0.2070156642104005,-0.16274880391488183,-0.16274880391488183,-0.16274880391488183,-0.16313472280957603,-0.16274880391488183,-0.14088834970454026,-0.14088834970454026,-0.14088834970454026,-0.14088834970454026,-0.14088834970454026,-0.3494774647131695,-0.3494774647131695,-0.3494774647131695,-0.3494774647131695,-0.3494774647131695,0.5433204129964833,0.6220583539100765,0.5382181590691495,0.6410213332108793,0.6301728653727292,-0.11736646025198424,-0.13697544783654428,-0.12447515654222924,-0.12877247045498483,-0.13651780215917264,0.34813514696480735,0.34813514696480735,0.34821447436631486,0.34821447436631486,0.34821447436631486,-0.15166621875588984,-0.15166621875588984,-0.152052137650584,-0.152052137650584,-0.152052137650584,-0.14317600307261738,-0.14317600307261738,-0.14317600307261738,-0.14317600307261738,-0.14317600307261738,0.08377881162890041,0.08377881162890041,0.08377881162890041,0.08377881162890041,0.08377881162890041,-0.01977852411143053,-0.14310329454785733,-0.14307057571171536,-0.14310329454785733,-0.14310329454785733,-0.14307057571171536,-0.13602525511062982,-0.13604343224181975,-0.13604343224181975,-0.13602525511062982,-0.13604343224181975,0.09355326961354225,0.09473246252331173,0.09355326961354225,0.09393918850823646,0.09393918850823646,-0.14217093436855105,-0.14518833814608864,-0.13958978173957307,-0.14082582666049206,-0.1480966791364864,0.12989376330460822,0.12833804097418855,0.13600879033636243,0.13273690672216504,0.13851723444058048,0.4681531663166088,0.4681531663166088,0.4681531663166088,0.4681531663166088,0.4681531663166088,-0.12532609945130985,-0.12522355642145414,-0.11984588987054288,-0.12601683043652923,-0.12074822667275803,-0.13266407321082843,-0.1288048842638864,-0.1288048842638864,-0.13266407321082843,-0.1288048842638864,-0.15281276016152134,-0.15319867905621534,-0.15281276016152134,-0.15281276016152134,-0.15281276016152134,-0.1812727506390874,-0.1654072703375819,-0.13050321367426976,-0.12177719950844178,-0.1654072703375819,0.35171314778397444,0.39930958868849087,0.33584766748246897,0.4072423288392437,0.39930958868849087,-0.3873140613974834,-0.3876999802921777,-0.3873140613974834,-0.3873140613974834,-0.387807161420612,-0.182985588064001,-0.1830037651951911,-0.182985588064001,-0.1830037651951911,-0.1830037651951911,-0.1378113760362743,-0.1378113760362743,-0.1377750217738943,-0.1377750217738943,-0.1377750217738943,-0.14652059521157473,-0.14652059521157473,-0.14652059521157473,-0.14652059521157473,-0.14652059521157473,-0.21118162946461777,-0.21504081841155986,-0.21118162946461777,-0.21118162946461777,-0.21504081841155986,-0.19832541910303395,-0.21541192242162052,-0.23540676673060473,-0.22740882900701107,-0.23395259623540596,-0.20682041050433264,-0.20682041050433264,-0.20643449160963842,-0.20682041050433264,-0.20682041050433264,-0.14339412864689713,-0.14350319143403706,-0.14339412864689713,-0.14350319143403706,-0.14357589995879694,0.24868946899654853,0.24112027146959553,0.2955049327157616,0.13662824080901567,0.1003624135434879,0.7437210497684175,0.7623028803694756,0.7670988787223072,0.7643050826799528,0.7622227136105143,0.05474880762098263,0.04897494694213364,0.057031615199001816,0.05408691994622418,0.05856600517087967,-0.0022014147119415396,0.011784942438998133,0.0011812426709498802,0.0011121695724279547,0.0011121695724279547,0.0013890256799822382,0.001166700965997889,-0.07781090058391388,-0.0857436407346667,-0.0857436407346667,-0.0857436407346667,-0.0857436407346667,-0.1861447346617063,-0.1861447346617063,-0.1861447346617063,-0.1861447346617063,-0.1861447346617063,0.05341672664961772,0.05348943517437772,0.053875354069071936,0.053380372387237855,0.05380264554431196,-0.22519423197481384,-0.22519423197481384,-0.22519423197481384,-0.22519423197481384,-0.22519423197481384,-0.14317600307261738,-0.14423027668163646,-0.14397579684497666,-0.14412121389449653,-0.14343048290927696,-0.02801653947415217,-0.02801653947415217,-0.028402458368846327,-0.024543269421904303,-0.02801653947415217,-0.18329477156199664,-0.18329477156199664,-0.18329477156199664,-0.18329477156199664,-0.18329477156199664,-0.39152459029961023,-0.3911610476758105,-0.3911610476758105,-0.3911610476758105,-0.3911610476758105,0.5563649642495241,0.5543117819572906,0.5543117819572906,0.5543117819572906,0.5543117819572906,-0.20807209151231892,-0.18689970312533552,-0.20498755892209783,-0.20182468067245168,-0.19297932064478837,-0.12974625835056983,-0.12974625835056983,-0.12974625835056983,-0.12974625835056983,-0.12974625835056983,0.05949080511549735,0.2498765687335633,-0.14676043880407405,-0.0991639978995576,-0.210222360010096,-0.3223723605572244,-0.32275827945191854,-0.3223723605572244,-0.32275827945191854,-0.3223723605572244,0.1618559181898297,0.18849536650270562,0.1498700561834149,0.15945089973808663,0.18615747686364592,-0.017636882509654297,-0.01803351951719189,-0.017716209911161792,-0.01739890030513173,-0.01803351951719189,0.29045316046499764,0.30224508956269247,0.29431234941193973,0.30224508956269247,0.30224508956269247,-0.14647070583730915,-0.14647070583730915,-0.14647070583730915,-0.14647070583730915,-0.14647070583730915,-0.3544245558629793,-0.3540386369682851,-0.3540386369682851,-0.3544245558629793,-0.3540386369682851,-0.1565443677824325,-0.15646504038092496,-0.15658072204481246,-0.15658072204481246,-0.15658072204481246,-0.04026850668711144,-0.04026850668711144,-0.04026850668711144,-0.04026850668711144,-0.04026850668711144,-0.3046673885442927,-0.30892083724274927,-0.31146563560934726,-0.30579437067807164,-0.30448561723239276,-0.17486046784466602,-0.17486046784466602,-0.17524638673936022,-0.1748241135822862,-0.1748241135822862,-0.022068099306676754,-0.026313207148313016,-0.010662089103676163,-0.026720562268694088,-0.022454018201370964,-0.08299266442282008,-0.08417417795016918,-0.09326274354516201,-0.08722793599008676,-0.08555563992060808,-0.1796515338771094,-0.18016711242717648,-0.18301010400755216,-0.1800051977455195,-0.17759638055265156,-0.18908456569603616,-0.18445353895970568,-0.1968029435899203,-0.19834661916869703,-0.19834661916869703,-0.14349856745007156,-0.13753829422416358,-0.1411187454048458,-0.1367450202090883,-0.14746493752544804,0.8044597548565913,0.8049854536661402,0.8084587237183879,0.8053266200190453,0.807144333138044,-0.15727881057647947,-0.15341962162953737,-0.15689289168178525,-0.16229575620750417,-0.16229575620750417,-0.2277553610515129,-0.26715174349864185,-0.27489922637137376,-0.28113810064958167,-0.2933778670014745,-0.05807083988907194,-0.05779650342216938,-0.058150167290579556,-0.058150167290579556,-0.05799151248756453,-0.14561173865207538,-0.14561173865207538,-0.14561173865207538,-0.14561173865207538,-0.14561173865207538,-0.14903192001058493,-0.14906827427296487,-0.14903192001058493,-0.14903192001058493,-0.14903192001058493,-1.755211451984012,-1.7529902847418015,-1.8256988095017441,-1.7114140480936821,-1.7529109573402937,-0.1634374872467912,-0.1525130314016098,-0.16335080073054575,-0.1541307960775186,-0.15940216412261446,-0.14313964881023733,-0.14313964881023733,-0.14313964881023733,-0.14317600307261738,-0.14313964881023733,-0.2016594834663132,-0.18699456546793336,-0.1738733230483304,-0.18931007883609854,-0.19316926778304058,-0.14528455029065562,-0.14532090455303573,-0.14521184176589566,-0.14542996734017555,-0.14550267586493548,-0.0441268239894668,-0.04451274288416101,-0.04451274288416101,-0.0441268239894668,-0.04451274288416101,-0.18128610060085235,-0.18522461694930192,-0.18518164381017432,-0.18510231640866692,-0.18506596214628684,-0.09977400390651091,-0.05037638538565265,-0.11559667858897331,-0.09552889606487464,-0.04651719643871059,-0.9162802763455427,-0.6595464754181845,-0.5071512891800499,-0.8159025110104978,-0.7617617302881118,-0.14306694028547726,-0.14306694028547726,-0.14306694028547726,-0.14306694028547726,-0.14306694028547726,-0.16445275715728297,-0.16459817420680295,-0.16459817420680295,-0.16452546568204296,-0.16441640289490303,-0.13519005998710298,-0.13519005998710298,-0.13519005998710298,-0.13519005998710298,-0.13519005998710298,-0.1424682590227626,-0.13185281440781094,-0.1299385784981973,-0.13740937941728143,-0.12806633398562872,-0.023109605655612927,-0.02231633164053767,-0.014383591489784908,0.008621354947398066,0.004547803743587336,-0.17662226899772263,-0.17662226899772263,-0.17700818789241696,-0.17700818789241696,-0.17700818789241696,-0.0894830291484065,-0.0960864559772511,-0.07605519523561678,-0.09085514808935766,-0.09269251332651066,-0.13304798744789562,-0.13266206855320137,-0.13266206855320137,-0.13304798744789562,-0.13304798744789562,-0.1448846534044759,-0.1448846534044759,-0.1448846534044759,-0.1448846534044759,-0.1448846534044759,-0.04859663929012667,-0.042421936975019385,-0.013756891303875127,-0.042036018080325185,-0.03624723465991205,1.2330549164642932,1.240547206326782,1.240547206326782,1.2409876566150455,1.2527614085815508,-0.15078531817936142,-0.15078531817936142,-0.15078531817936142,-0.15078531817936142,-0.15078531817936142,-0.08277018558267747,-0.08277018558267747,-0.08277018558267747,-0.08277018558267747,-0.08277018558267747,-0.3551808284355858,-0.36639485265261235,-0.36287683005857546,-0.3663053475690343,-0.3741132305464964,-0.19083137814398093,-0.19083137814398093,-0.19083137814398093,-0.19083137814398093,-0.19083137814398093,-0.1613029742765034,-0.1613029742765034,-0.16133932853888336,-0.16095340964418908,-0.16095340964418908,0.049054663937939905,0.04941820656173973,0.04941820656173973,0.04941820656173973,0.04941820656173973,-0.13957653461914615,-0.13965586202065378,-0.13957653461914615,-0.13965586202065378,-0.13957653461914615,-0.1811889280661137,0.1340336510551692,0.1340336510551692,0.1340336510551692,0.1340336510551692,0.1340336510551692,-0.13729350208823313,-0.139252185713867,-0.13836457225607032,-0.1397108131333211,-0.14040994239794957,-0.1601368193130117,-0.16017317357539176,-0.16010046505063175,-0.16010046505063175,-0.16010046505063175,-0.46539587886623734,-0.46539587886623734,-0.46539587886623734,-0.46539587886623734,-0.46539587886623734,-0.168183202427221,-0.16781965980342134,-0.16709257455582208,-0.16888791140392595,-0.16561602778972853,-0.37274950983190563,-0.3731792412231812,-0.37274950983190563,-0.36932005227623915,-0.36852677826116387,0.2952903619807461,0.29532671624312606,0.2952903619807461,0.29532671624312606,0.29532671624312606,0.1798198869985081,0.1798198869985081,0.1836790759454501,0.18345531323650527,0.1798198869985081,-0.4644053222309532,-0.4622594024265203,-0.4107420705491137,-0.41902860474465775,-0.41710973231156806,0.08674521193949751,0.08674521193949751,0.08674521193949751,0.08674521193949751,0.08674521193949751,-0.3779989624140551,-0.36012842271725604,-0.3564929964792589,-0.3815550612505447,-0.34164470003408365,-0.22739835865392147,-0.22739835865392147,-0.23125754760086353,-0.23125754760086353,-0.22739835865392147,-0.7010022643856867,-0.6971430754387447,-0.7002089903706114,-0.6963498014236693,-0.7010022643856867,-0.0843833523654631,-0.08758252745490046,-0.10176068978308946,-0.08867315532629966,-0.10176068978308946,-0.5793341077561635,-0.5793341077561635,-0.5793704620185434,-0.5804247356275625,-0.5793704620185434,0.18012920934914847,0.1250307508797897,0.14135856135899133,0.17170054903964438,0.13547469941608506,0.5104386463012975,0.48859931600793405,0.49986913734572536,0.31995935106144796,0.5002326799695248,0.31395766897374494,0.31395766897374494,0.31395766897374494,0.3139213147113649,0.3135353958166707,-0.22979997425086005,-0.22594078530391806,-0.2544987835112893,-0.22979997425086005,-0.22979997425086005,0.21852979663099303,0.21849344236861298,0.21943865319049224,0.22007065364243725,-0.32522090578623947,-0.06091521194744915,-0.06556767490946647,-0.06556767490946647,-0.06556767490946647,-0.061708485962524436,-0.21153674083210103,-0.21153674083210103,-0.21153674083210103,-0.21153674083210103,-0.20960714635862995,-0.20358382775455908,-0.19547953096598075,-0.19239217980842713,-0.188569345123865,-0.18505972080923722,1.035573201394388,1.0373927930355114,1.0363440991385688,1.0369490836527502,1.0378877747173454,-0.17510378825717293,-0.17641530284759582,-0.21662639498788558,-0.20414267530971542,-0.16723999331376896,-0.16259217001862045,-0.16259217001862045,-0.16259217001862045,-0.16297808891331453,-0.16259217001862045,-0.35499101418905193,-0.35460509529435774,-0.3550703415905596,-0.35460509529435774,-0.3550703415905596,0.2840879992408389,0.28406982210964893,0.28406982210964893,0.28406982210964893,0.2840879992408389,0.0919833616001577,0.10242672487222453,0.09790506298629537,0.09126941498658996,0.09103143278206731,0.08102337321457256,-0.11737352937406045,-0.10077901690220958,-0.09246035785676268,-0.09807758463935007,-0.12101835606413379,-0.14373949413950682,-0.1437576712706968,-0.14373949413950682,-0.14373949413950682,-0.14379402553307677,1.892149512021191,1.8523290728570567,1.8895180067077628,1.9219351938620766,1.8939289860825237,0.26088459550977505,0.2605937614107353,0.2603029273116955,0.26057138513984085,0.26186616059403434,-0.20176885043144777,-0.20217620555182875,-0.20256212444652297,-0.20217620555182875,-0.2013829315367535,0.7051163496605786,0.7051163496605786,0.7051163496605786,0.7051163496605786,0.7051163496605786,-0.14561173865207538,-0.14561173865207538,-0.14561173865207538,-0.14561173865207538,-0.14561173865207538,-0.1379478789932568,-0.10887072682626614,-0.11020848487213954,-0.12700983923919798,-0.09183325139718522,-0.6080852926835885,-0.6486619995213585,-0.6357929925969689,-0.6831745445358849,-0.5740155968537128,-0.19020063240713778,-0.1904187579814176,-0.19018245527594782,-0.19020063240713778,-0.19014973643980582,-0.004568567348125482,-0.004568567348125482,-0.004568567348125482,-0.004568567348125482,-0.004568567348125482,-0.25501251953810994,-0.5461534524467528,-0.4176089127626692,-0.3698886494592253,-0.5461682185824579,-0.19350016047099267,-0.19350016047099267,-0.1973593494179347,-0.19350016047099267,-0.19350016047099267,0.35836589371598476,0.3662986338667376,0.3662986338667376,0.3662986338667376,0.3662986338667376,0.12710905061512945,0.1200489118809596,0.11925563786588422,0.11925563786588422,0.11925563786588422,0.19952981691265423,0.1952126309530426,0.18191774581210204,0.2033096784580888,0.18191774581210204,-0.5662966447339427,-0.5768087211190083,-0.5694651026956652,-0.6048741542537573,-0.5971894843226867,0.3529830080314147,0.3529830080314147,0.3573455195170112,0.3544371785266135,0.35720573960215635,0.014472911664537997,0.014472911664537997,0.014472911664537997,0.014472911664537997,0.014472911664537997,0.04020579160107035,0.048138531751823116,0.04338856425710819,0.035455824106355456,0.043406741388298184,0.15321511158974654,0.15321511158974654,0.15707430053668855,0.15707430053668855,0.15321511158974654,-0.1431942247541513,-0.15112696490490402,-0.15091260264803544,-0.14701705943871338,-0.15087624838565533,0.8526618117525229,0.8587402862829698,0.8516867664255475,0.8583237926451894,0.8430334607844796,-0.14970692501027452,-0.14198854711639047,-0.14782020298817722,-0.14932100611558036,-0.14709123765016266,-0.20486918633142873,-0.20959524044082511,-0.20777752732182644,-0.20777752732182644,-0.2041421010838293,-0.21638367165334504,-0.21599775275865088,-0.21638367165334504,-0.21599775275865088,-0.21638367165334504,-0.06312141719802704,-0.06312141719802704,-0.06304208979651929,-0.06304208979651929,-0.06105890475883116,-0.3072905150953814,-0.3072905150953814,-0.33261110856539094,-0.3403294864592751,-0.30173759698985453,-0.15819725082022904,-0.15248565117875493,-0.1829732438595971,-0.1710097581240767,-0.17216751480815928,-0.17379136545526125,-0.14107252931328693,-0.17379136545526125,-0.170155939217264,-0.170155939217264,-0.16234045132670452,-0.16255857690098435,-0.1626173074342589,-0.16138684222541624,-0.16143717447928174,-0.21069748711708608,-0.21108340601178027,-0.21069748711708608,-0.21069748711708608,-0.21108340601178027,-0.16756160196311218,-0.1755568359645506,-0.1645469593303185,-0.17099851775298003,-0.1614232539103848,-0.2207234178334571,-0.2207234178334571,-0.2207234178334571,-0.2207234178334571,-0.2207234178334571,0.07365955799858587,0.07672547293045265,0.07365955799858587,0.07751874694552799,0.07365955799858587,-0.36493900390318135,-0.4276363007849125,-0.4367135346879865,-0.37545936372247857,-0.4240787608256314,2.195521955871079,2.1943641991869964,2.1994025810437083,2.2013321755171793,2.1981143253467983,-0.8069565876068661,-0.835029419376339,-0.8226098363894623,-0.8284509649500343,-0.7993445372994368,0.4801221865756476,0.48318810150751434,0.47546972361363005,0.47932891256057214,0.47546972361363005,-0.10303870571327899,-0.10303870571327899,-0.10303870571327899,-0.10303870571327899,-0.10303870571327899,0.1755411314107452,0.17241742599081158,0.16936642909563782,0.1712960235691088,0.16550724014869586,-0.12505643845383202,-0.12505643845383202,-0.12505643845383202,-0.12505643845383202,-0.12505643845383202,-0.12599151291167326,-0.1299242930059943,-0.12487105053517834,-0.13114729841234515,-0.127663808981152,-0.016870183121032875,-0.016833828858652814,-0.016833828858652814,-0.016833828858652814,-0.016870183121032875,-0.11377242094882345,-0.11763160989576539,-0.11763160989576539,-0.1255643500465182,-0.11377242094882345,-0.4289031288175903,-0.4285172099228961,-0.42813129102820197,-0.42813129102820197,-0.4285172099228961,0.03490040352611386,0.034514484631419595,0.027004017637741184,0.02696766337536119,0.026931309112981205,-0.14817333307781808,-0.1482526604793256,-0.14817333307781808,-0.14817333307781808,-0.14863857937401984,0.8987695701621664,-0.015858210263100244,0.8987695701621664,-0.11739618570934127,-0.11760033329213566,-0.12324922195251663,-0.11738220771785585,-0.12288567932871702,0.21298005543065082,0.21368476440735576,0.213321221783556,0.21295767915975625,0.21261651280685104,-0.1451391332411357,-0.1451391332411357,-0.1451391332411357,-0.1451391332411357,-0.1451391332411357,-0.06746071305527515,-0.11520257100931154,-0.1340957303215983,-0.12551513320529017,-0.12450373361593503,-0.10874455182024481,-0.10878090608262479,-0.10874455182024481,-0.10957418009770002,-0.10953782583532,-0.20568082859900447,-0.20568082859900447,-0.20568082859900447,-0.20954001754594653,-0.20568082859900447,-0.14188028914150644,-0.14464321308238431,-0.1433344596367054,-0.1415531007800866,-0.1416985178296067,-0.1450346384892925,-0.14534122998247911,-0.14497348821897504,-0.14505281562048247,-0.14542055738398676,-0.33269708331411235,-0.23890308637378602,-0.33124291281891355,-0.2745666177685381,-0.2014218418600356,-0.2540883689110172,-0.253702450016323,-0.2540883689110172,-0.2540883689110172,-0.2540883689110172,-0.022870906520094946,-0.025250728565320745,-0.014144892354266875,-0.03342145092059617,-0.010971796293965753,0.471907927568318,0.471907927568318,0.471907927568318,0.471907927568318,0.471907927568318,0.5859488432531821,0.5855629243584876,0.5847696503434124,0.5859488432531821,0.5859488432531821,0.027169798771369266,0.026638462827155176,0.027024381721849344,0.027024381721849344,0.027613508154130315,0.009303539944003235,0.051889592627371584,0.056719787469403087,0.029392758693788764,0.037512913564267884,-0.17758476705681472,-0.17758476705681472,-0.17758476705681472,-0.17372557810987269,-0.17372557810987269,-0.11031062779842525,-0.11031062779842525,-0.11031062779842525,-0.11031062779842525,-0.11031062779842525,-0.07327700409004319,-0.07329518122123309,-0.07329518122123309,-0.07327700409004319,-0.07329518122123309,-0.17426800363775927,-0.1783974298155081,-0.1835300571104203,-0.17461756827007355,-0.17114429821782573,-0.09539551110854083,-0.09539551110854083,-0.09539551110854083,-0.09539551110854083,-0.09503196848474099,-0.14307057571171536,-0.14307057571171536,-0.14307057571171536,-0.14307057571171536,-0.14307057571171536,0.5768179133203355,0.5806771022672775,0.5875192145466314,0.5768179133203355,0.5810406448910772,0.06275552950286002,0.06279188376524007,0.06275552950286002,0.06279188376524007,0.06279188376524007,0.20379773887595778,0.20418691686514884,0.21173047902671052,0.20379773887595778,0.2045728357598431,-0.18774785399958838,-0.1944799650148847,-0.18296677368344993,-0.18099430675860514,-0.17940775872845455,0.09348532657886086,0.09427860059393607,0.09427860059393607,0.09348532657886086,0.09348532657886086,-0.07779396879214424,-0.07779396879214424,-0.0781798876868385,-0.0781798876868385,-0.0770006947770691,-0.15991301015951068,-0.14284690072254888,-0.1591197361444353,-0.15950565503912956,-0.1452267227677746,-0.05552089034383291,-0.05552089034383291,-0.05552089034383291,-0.05552089034383291,-0.047588150193080186,0.08696310494106371,0.0869812820722537,0.08688377753955619,0.0907611436176882,0.08288955373725305,-0.219830649589514,-0.219830649589514,-0.219830649589514,-0.219830649589514,-0.219830649589514,0.0911773572854527,0.09110464876069276,0.09613610967739526,0.08913386211904596,0.09537918992469992,-0.09575307096957626,-0.06398575610418537,-0.06398575610418537,-0.10364945685794907,-0.07191849625493808,-0.1055753220231737,-0.10622969874601321,-0.12195711636505535,-0.10625953325110912,-0.10625953325110912,-0.07673518037532949,-0.08255186235612497,-0.039463506571587384,-0.021747714364662878,-0.06728307215653694,0.422373101884478,0.422373101884478,0.422373101884478,0.422373101884478,0.422373101884478,-0.4113951046124797,-0.41100918571778544,-0.4113951046124797,-0.4113951046124797,-0.4113951046124797,-0.15004950080299234,-0.14211676065223955,-0.15004950080299234,-0.1382575717052975,-0.14619031185605025,-0.2204466031356616,-0.21792418103995814,-0.21899243264046275,-0.22008306051186188,-0.21971951788806218,-0.37125419336891574,-0.15901139071789494,-0.24044503756849442,-0.2813006096068347,-0.19903091384095944,-0.19434659158042716,-0.1943829458428072,-0.1943829458428072,-0.1944193001051872,-0.19434659158042716,0.047993686826165206,0.0461759737071667,0.053040462257414864,0.06276853925627167,0.15111930878595092,-0.1671029745436581,-0.16019278870154222,-0.16338920264623585,-0.15791362959575714,-0.15482627843820335,-0.3513775192373653,-0.35070076624363145,-0.3510503308759456,-0.3507734747683914,-0.3510643088674311,-0.14397579684497666,-0.14397579684497666,-0.14397579684497666,-0.14397579684497666,-0.14397579684497666,-0.17470095795848334,-0.1716136068009298,-0.18010382248420231,-0.1685262556433762,-0.17354320127440087,-0.18042813485570092,-0.1800422159610066,-0.1800422159610066,-0.1800422159610066,-0.1800422159610066,-0.1463388238996748,-0.1463388238996748,-0.1463388238996748,-0.1463388238996748,-0.1463388238996748,-0.12793057466955132,-0.12713730065447598,-0.12713730065447598,-0.12713730065447598,-0.12713730065447598,-0.04217674274525857,-0.0556706411277946,-0.06514512561748156,-0.03749350993780878,-0.04515028130849728,0.5086954566040073,0.5086954566040073,0.5090813754987015,0.5086954566040073,0.5086954566040073,-0.12268084418283959,-0.12693667013731932,-0.11987653140314941,-0.11324088340344382,-0.1148274314335944,-0.143648608483557,-0.14608434406301504,-0.14361225422117696,-0.143648608483557,-0.14524819602827566,-0.143648608483557,-0.14888362226627272,-0.15397321899946875,-0.14448475651829637,-0.14542996734017555,0.031368660547879595,0.015503180246374142,0.01936236919331613,0.015288817989505462,0.027295109344068934,-0.1542725662230948,-0.15569038245591357,-0.154731193642549,-0.1542725662230948,-0.15521777704497408,-0.17162168018249688,-0.17200759907719101,-0.17162168018249688,-0.17192827167568348,-0.17162168018249688,-0.29043624766267173,-0.2753854107695976,-0.29043624766267173,-0.27692908634837443,-0.2757713296642918,0.07702050143026541,0.07740642032495963,0.07702050143026541,0.07702050143026541,0.07740642032495963,-0.20751990236608114,-0.1675302137481126,-0.1448087997606304,-0.20388447612808405,-0.18934277117609544,-0.053787764334188554,-0.05336549117711441,-0.05340184543949428,-0.053787764334188554,-0.05340184543949428,-0.16378886984206106,-0.16378886984206106,-0.16342532721826136,-0.16415241246586082,-0.16415241246586082,-0.28696700068843284,-0.28863426408597204,-0.29843999478869626,-0.2945808058417542,-0.29843999478869626,-0.2945808058417542,-0.2945808058417542,-0.4555381376891201,-0.6176240734606864,-0.3787402776449733,-0.47904283600308667,-0.6218691813023227,0.040254362194391456,0.03911152354700191,0.03903219614549437,0.03866781416424091,0.04021138905526392,-0.25340735701394873,-0.24607489801475882,-0.24607489801475882,-0.2618975726972212,-0.24607489801475882,-0.16816149134169203,-0.1852007704478741,-0.17187624498119675,-0.16582790231423583,-0.17034906860284751,-0.1514407064846103,-0.15147706074699038,-0.1518629796416845,-0.15147706074699038,-0.15147706074699038,-0.19283422550246063,-0.19045440345723472,-0.19981503683512297,-0.18648803338185846,-0.19973570943361552,-0.10715888277645945,-0.10715888277645945,-0.10677296388176515,-0.10715888277645945,-0.10715888277645945,-0.42278488334918674,-0.4200834510863272,-0.41661018103407943,-0.41661018103407943,-0.4115932354030547,0.29215273360212346,0.29215273360212346,0.29215273360212346,0.29215273360212346,0.2917668147074294,-0.12364614728754512,-0.12364614728754512,-0.12364614728754512,-0.12364614728754512,-0.12364614728754512,-0.16896964169658563,-0.15851347727746215,-0.1708628819076766,-0.156620237066371,-0.15816391264514795,-0.2009093572193166,-0.19669428682657422,-0.19653563202355914,-0.20089863910647324,-0.19828083485672482,-0.1823084431601033,-0.1778013972476057,-0.18179202525258228,-0.17923506999403507,-0.1829851961538372,-0.14306694028547726,-0.14306694028547726,-0.14306694028547726,-0.14306694028547726,-0.14306694028547726,-0.015559985813895005,-0.04332457634152961,-0.038843670017337885,-0.05629569834899392,-0.05629569834899392,-0.16142608188745936,-0.16644302751848414,-0.16605710862378992,-0.17030221646542615,-0.16374159525562473,0.41584654169800805,0.41639111539571727,0.4151325950844403,0.41623246059270225,0.417671071932681,-0.6026990152909398,-0.597296150765221,-0.5934369618182788,-0.5976820696599151,-0.5872622595031715,-0.2942015576883201,-0.3029265806595132,-0.2979543875702776,-0.29490626666502506,-0.3029265806595132,-0.16734623910186672,-0.16893184865509983,-0.17886225684208576,-0.1671980034850141,-0.17027137665108233,0.2183266392992718,0.21911991331434705,0.2183266392992718,0.21911991331434705,0.21908355905196705,-0.20687648968287567,-0.1981878209740626,-0.21320964228890965,-0.19924209458308167,-0.22607905117141952,-0.1791698285090646,-0.1791698285090646,-0.1791698285090646,-0.1791698285090646,-0.1791698285090646,-0.1491726081227723,-0.15040865304369141,-0.15535283272736747,-0.1480819802513732,-0.1480819802513732,-0.15177930206395313,-0.15177930206395313,-0.15177930206395313,-0.15177930206395313,-0.15177930206395313,-0.03745237977626178,-0.045385119927014585,-0.04577103882170873,-0.045385119927014585,-0.03745237977626178,-0.14324871159737726,-0.14324871159737726,-0.14324871159737726,0.07899329781189247,0.07899329781189247,0.07106055766113967,0.08989957652588386,0.07106055766113967,0.14636053246547534,0.12444248286941312,0.14446729225438426,0.1324674522564839,0.14223110628772662,-0.0705532173692241,-0.03198014448685947,-0.053647441450184914,-0.14303850659739792,-0.13474222382284548,1.092947234193048,1.091760583049077,1.0920877714104968,1.092553857064152,1.0912944973954213,-0.17358248894929057,-0.1738733230483304,-0.17361884321167054,-0.1737279059988104,-0.17319657005459632,-0.1467387207858545,-0.14761122308297375,-0.14975612456339205,-0.14866549669199303,-0.14688413783537435,0.7261796217454949,0.7686991089535297,0.7742520270590566,0.7182468815947424,0.7266555861545402,-0.20920922776100298,-0.20545076074438048,-0.21171767186522103,-0.20788649632383852,-0.20260949114407764,-0.14307057571171536,-0.14307057571171536,-0.14307057571171536,-0.14307057571171536,-0.14307057571171536,0.9159024387836348,0.9197616277305767,0.9159024387836348,0.9159024387836348,0.9197616277305767,-0.1328857644298156,-0.1328857644298156,-0.1328857644298156,-0.1328857644298156,-0.1328857644298156,0.03399780364122383,0.03399780364122383,0.03399780364122383,0.03399780364122383,0.03399780364122383,-0.1699310830113809,-0.17031700190607507,-0.17031700190607507,-0.17031700190607507,-0.17031700190607507,-0.05520739803028975,-0.06136066411971011,-0.05443556024090139,-0.05597923581967813,-0.061382100345397074,-0.7930707987036895,-0.563532862026471,-1.0810077735998047,-1.0797213964250199,-0.6077479859373367,-0.37807986072552124,-0.114331939705158,-0.48705288699836147,-0.11011332412067222,-0.10950540777589539,0.3208129517954205,0.2954281833130118,0.37554885883561445,0.2724232368758287,0.37554885883561445,-0.1437576712706968,-0.1437576712706968,-0.1437576712706968,-0.14372131700831683,-0.1437576712706968,0.17171082751394928,0.17964356766470202,0.17964356766470202,0.17132490861925506,0.17964356766470202,-0.22920137555981906,-0.27435237349342734,-0.2950205442156247,-0.33916089686967094,-0.18465233109108883,-0.14332142012213728,-0.14332142012213728,-0.14332142012213728,-0.14335777438451708,-0.14335777438451708,0.04520997306829225,0.047755610792344125,0.04704166417877631,0.045223951059777744,0.0455743550495459,-0.14997425013767196,-0.1521555058804702,-0.14961070751387226,-0.1485200796424731,-0.14713861767203407,-0.005616420966288411,-0.013163242222346916,-0.0013713131246520687,-0.0013713131246520687,-0.0017572320193463553,-0.05340198537731689,-0.05415890513001219,-0.053329276852556964,-0.053329276852556964,-0.05340198537731689,-0.16742828751953362,-0.17186420450271514,-0.16768770594974292,-0.1315980388754215,-0.1293361160714735,-0.14267657098486225,-0.1431533755355064,-0.14269474811605223,-0.1416312368701703,-0.14236336061492796,-0.35056559085957467,-0.35056559085957467,-0.35056559085957467,-0.35056559085957467,-0.35056559085957467,-0.05444402898889498,-0.0540581100942007,-0.05444402898889498,-0.05444402898889498,-0.0540581100942007,-0.20527776860996053,-0.20527776860996053,-0.20527776860996053,-0.20527776860996053,-0.20527776860996053,-0.09265890823692446,-0.09574902053922202,-0.09629433447492161,-0.09411307873212338,-0.09211359430122483,-0.04512820783344929,-0.028533695361598437,-0.037409829939565174,-0.04165493778120138,-0.048987396780391365,-0.07355994883745932,-0.014857671721888947,-0.08824623622919528,0.0025943566097670835,-0.10600485605403798,-0.161244071475463,-0.16015344360406403,-0.16160761409926272,-0.16015344360406403,-0.16924200919905688,-0.1767499375010482,-0.17559312086217319,-0.17677977200614406,-0.17638639487724841,-0.1764227491396285,-0.14361225422117696,-0.14361225422117696,-0.14361225422117696,-0.14361225422117696,-0.14361225422117696,-0.144702882092576,-0.144702882092576,-0.144702882092576,-0.144702882092576,-0.144702882092576,-0.19900251663229965,-0.19089821984372127,-0.20517721894740687,-0.1951433276853576,-0.19167005763310968,-0.1451391332411357,-0.1451391332411357,-0.1451391332411357,-0.1451391332411357,-0.1451391332411357,-0.12248012178351711,-0.12248012178351711,-0.12248012178351711,-0.12248012178351711,-0.12248012178351711,-0.05177374418702755,-0.05177374418702755,-0.05177374418702755,-0.05177374418702755,-0.05177374418702755,-0.30705065132746273,-0.2817984169648682,-0.24119070588644004,-0.5250671628201513,-0.22457680797879312,-0.11325524463668593,-0.11325524463668593,-0.11252815938908649,-0.11325524463668593,-0.1143822267704649,-0.1362910167735996,-0.13637034417510718,-0.1366876537811372,-0.1370049633871673,-0.1366876537811372,-0.33365744128584457,-0.32353783853721313,-0.2831814268985765,-0.32119658833175746,-0.3087892925257223,-0.4232814779739564,-0.4263473929058232,-0.42752658581559266,-0.4232814779739564,-0.4267333118005173,1.5378615888435914,1.5378615888435914,1.5378615888435914,1.5378615888435914,1.5378615888435914,1.967722311483205,1.3902445684822762,2.3803727407173905,2.0466205251668104,2.236541643478617,-0.2967645356163534,-0.2967645356163534,-0.2975139971348473,-0.2967645356163534,-0.3003999618543505,-0.15864536078338673,-0.16896345154201448,-0.1687089717053546,-0.15592624933909027,-0.15547182105934057,-0.17852364283484665,-0.18238283178178863,-0.17890956172954084,-0.18238283178178863,-0.17890956172954084,-0.0535890064188151,-0.0535890064188151,-0.052045330840038234,-0.05243124973473246,-0.05050165526126143,-0.17647955880693875,-0.17647955880693875,-0.17647955880693875,-0.17647955880693875,-0.17647955880693875,-0.09017646780609681,-0.08631727885915474,-0.09017646780609681,-0.09017646780609681,-0.09017646780609681,-1.0526566032775087,-1.0526566032775087,-1.0526566032775087,-1.0526566032775087,-1.0526566032775087,0.5439012100499627,0.5603017896130934,0.5659200232732191,0.558780490305211,0.5521974928245151,-0.06368135388135301,-0.051889424783658294,-0.0557486137306003,-0.059822164934411025,-0.059822164934411025,-0.16058429044489367,-0.1926155587045127,-0.1919230483166318,-0.17802996810764032,-0.1614354556357895,-0.09291938802723215,-0.11472370532895883,-0.06792053843951748,-0.08260682583125367,-0.07864045575587725,-0.1597788564012885,-0.16209436976945374,-0.17097050434742048,-0.1659535587163958,-0.1659535587163958,-0.22485873804127962,-0.2594066189941712,-0.23775621775193767,-0.22865632046502615,-0.26027900644611324,-0.2592473609362259,-0.2538444964105069,-0.24651203741131703,-0.24226692956968082,-0.24959938856887076,0.2655382640872701,0.2655382640872701,0.26515234519257597,0.26515234519257597,0.26515234519257597,0.07840464842546141,0.06972147329484178,0.07782577008342006,0.07647505395199036,0.06779187882137067,-0.026616262484947605,-0.04248174278645312,-0.026616262484947605,-0.038622553839511055,-0.038622553839511055,0.05419102587292417,0.05378692984703997,0.05378692984703997,0.053805106978229954,0.053805106978229954,-0.001791236401513646,0.0022641376711070318,-0.001791236401513646,0.006159680880429019,0.006123326618049149,-0.693625121462408,-0.693625121462408,-0.693625121462408,-0.689729578253086,-0.6898022867778458,-0.4856932059447608,-0.4856932059447608,-0.4895523948917026,-0.4895523948917026,-0.4895523948917026,-0.27560266715488185,-0.27560266715488185,-0.27560266715488185,-0.27560266715488185,-0.27560266715488185,-0.15160685781583083,-0.1516432120782109,-0.1516432120782109,-0.15160685781583083,-0.1516432120782109,-0.15331202516095468,-0.1571655769732318,-0.15258493991335534,-0.15345744221047464,-0.15160337482909622,-0.11394998744915509,-0.11780917639609713,-0.11394998744915509,-0.11394998744915509,-0.11780917639609713,0.167717452478842,0.18358293278034746,0.1740636445994442,0.17565019262959472,0.18358293278034746,-0.012966640561771013,-0.013293828923190757,-0.01362101728461053,-0.017443851969172613,-0.012966640561771013,-0.18111226184396037,-0.18831441495430784,-0.1848345964334815,-0.18206045564586212,-0.2069382463621529,-0.32556434623829905,-0.32454642689165986,-0.3237102788569205,-0.3236375703321607,-0.3304721716595952,-0.15483879729716488,-0.15483879729716488,-0.15561063508655326,-0.181467201031065,-0.16332901298043734,-0.2529391764364806,-0.25641244648872846,-0.2529391764364806,-0.2529391764364806,-0.25679836538342266,-0.21606693079293468,-0.21935566838853868,-0.23204623937165855,-0.20852756306620662,-0.21354450869723116,-0.03489426599458234,-0.0419870813954483,0.016141380329604733,-0.06849176364592477,-0.028361428630078192,-0.3883319739385377,-0.395602826414532,-0.395602826414532,-0.39235331907122906,-0.3919674001765348,0.017366276548689687,0.00951286379944442,0.016810984738137025,0.01863551497281015,0.012317176579134753,-0.18960662982729926,-0.189220710932605,-0.18960662982729926,-0.18930003833411257,-0.189220710932605,-0.14324871159737726,-0.14324871159737726,-0.14324871159737726,-0.14324871159737726,-0.14324871159737726,-0.7497523994450898,-0.3368341675760903,-0.3444023739084084,-0.5223722920542613,-0.3162110255734028,-0.12294439888395908,-0.12294439888395908,-0.12294439888395908,-0.12294439888395908,-0.12294439888395908,0.11913131821833726,0.1296154370521414,0.08004004488920959,0.14688519063312844,0.14210841092859344,-0.05934148932129529,-0.06428102306494128,-0.05941419784605523,-0.05631192865180851,-0.06340842164835846,-0.1753722460853182,-0.174986327190624,-0.174986327190624,-0.174986327190624,-0.174986327190624,0.6852798955803843,0.6852798955803843,0.6852798955803843,0.6852980727115744,0.6856658144750786,0.14568345388956971,0.137750713738817,0.1418969734673876,0.1377870680011969,0.14182426494262765,-0.1542362119607149,-0.1542362119607149,-0.1542362119607149,-0.1542362119607149,-0.1542362119607149,-0.18026045227974666,-0.16675329096544958,-0.1682969665442263,-0.16250818312381335,-0.1682969665442263,-0.15696002049446872,-0.15696002049446872,-0.15657410159977456,-0.15696002049446872,-0.15696002049446872,0.3232007768995595,0.30814994000648555,0.2936993842649744,0.33537862489194853,0.2741890772733954,-0.1339009194951302,-0.13393727375751005,-0.12993454941975377,-0.1339009194951302,-0.13393727375751005,-0.14249954960971806,-0.15109899647873068,-0.16603405102016341,-0.1759135880908013,-0.12879287724291474,-0.1149463337688654,-0.10385541559450469,-0.10536273691090145,-0.10381906133212469,-0.09999622664756264,-0.16690287913979507,-0.18079595934878648,-0.1873565805585879,-0.17290228698143947,-0.16960431140265453,0.2017471839888758,0.20186286565276326,0.2017108297264958,0.20964356987724855,0.2017108297264958,-0.13077799910383206,-0.1164907739885033,-0.10867460757680947,-0.10707502003209081,-0.12467048302399694,-0.24381657415082383,-0.22047713770288216,-0.2539594133548359,-0.2518145118744175,-0.2461068926807619,-0.16833614347465578,-0.20089282343088088,-0.17500864603892985,-0.18476269035832654,-0.17019308684595563,-0.07548947647859965,-0.07548947647859965,-0.07548947647859965,-0.07548947647859965,-0.07548947647859965,-0.15336330796565967,-0.1518196323868829,-0.1583802535966844,-0.1583802535966844,-0.1529773890709655,-0.2366261113742905,-0.2366261113742905,-0.2366261113742905,-0.2370120302689847,-0.2366261113742905,-0.3957423153687397,-0.3957423153687397,-0.3957423153687397,-0.3957423153687397,-0.3957423153687397,-0.17569655845681673,-0.17492472066742837,-0.19846577324377496,-0.19846577324377496,-0.17415288287803998,-0.056989244032380246,-0.04481139603999123,-0.04481139603999123,-0.04481139603999123,-0.04442547714529702,-0.10864022725017869,-0.13122523246474624,-0.17844842518611467,-0.10042749808124507,-0.09461751583685904,0.9966385171280657,0.9998376922175033,0.9998376922175033,0.9958750776180866,0.9998013379551236,-0.1060590460399071,-0.10685232005498237,-0.11280187516804698,-0.11280187516804698,-0.10685232005498237,-0.045220270428198615,-0.0452566246905785,-0.0452566246905785,-0.045220270428198615,-0.045220270428198615,-0.1450664247163758,-0.1450664247163758,-0.1450664247163758,-0.1450664247163758,-0.1450664247163758,-0.14306694028547726,-0.14306694028547726,-0.14306694028547726,-0.14306694028547726,-0.14306694028547726,-0.10625125284252672,-0.08825589296444092,-0.088074121652541,-0.08829224722682084,-0.09919852594081224,-0.0725178394621678,-0.07393565569498667,-0.08279957595841558,-0.08273338719093981,-0.0725178394621678,-0.1715278556900671,-0.1587925321651583,-0.17615888242639746,-0.1649672344802656,-0.16226580221740616,-0.17175074041621788,-0.16406871678471377,-0.16406871678471377,-0.15827993336430068,-0.16368279789001944,-0.16546046653471896,-0.16546046653471896,-0.16584638542941324,-0.16546046653471896,-0.16546046653471896,0.1366103214378461,0.13740359545292144,0.13740359545292144,0.1373242680514139,0.1373242680514139,-0.16304185084363054,-0.15536823808066844,-0.15616729161503756,-0.16723548501068602,-0.16059293022839494,-0.17433118348323773,-0.17388831345793043,-0.17388831345793043,-0.17425185608173016,-0.17388831345793043,-0.1383650874672377,-0.1383287332048578,-0.13838326459842765,-0.13838326459842765,-0.13834691033604768,0.042194282445855325,0.14531990440564105,0.03426154229510259,0.303974707420696,0.34363840817445984,-0.15201385478526894,-0.16168107965634387,-0.1571594177704148,-0.16176040705785139,-0.15906327540659548,-0.1557146388172234,-0.15803015218538868,-0.15648647660661175,-0.15494280102783495,-0.1669062867633554,-0.20777752732182644,-0.20777752732182644,-0.20777752732182644,-0.20777752732182644,-0.20777752732182644,-0.12078709670662416,-0.12158037072169942,-0.12078709670662416,-0.12078709670662416,-0.12158037072169942,-0.10763068023856241,-0.10763068023856241,-0.10801659913325662,-0.10801659913325662,-0.10683740622348707,-0.15276524490669788,-0.1524156802743837,-0.15192069859254967,-0.15199340711730963,-0.15199340711730963,-0.17555472311224624,-0.17825615537510578,-0.16860818300775052,-0.1751688042175521,-0.16899410190244474,-0.19909679654757703,-0.1994827154422713,-0.19909679654757703,-0.19909679654757703,-0.19909679654757703,-0.15172577448919464,-0.15390703023199293,-0.14958087300877632,-0.15208931711299437,-0.14823576530071741,0.41279991423671164,0.40872823685015486,0.41334522817241115,0.4129816855486114,0.4090497880769095,-0.13699166906962956,-0.13707099647113707,-0.13285592607839472,-0.13364920009346998,-0.1374569153658313,-0.09982074770346772,-0.1073675689595263,-0.11806605005019905,-0.11054066501982727,-0.10854676186929578,-0.14457037343814416,-0.14008728339198534,-0.15104736663483478,-0.14637770122640328,-0.14296020546033972,-0.11652863830664809,-0.1169145572013422,-0.11612128318626708,-0.1169145572013422,-0.1169145572013422,-0.1445429233381042,-0.14456110046929418,-0.1445429233381042,-0.1445429233381042,-0.1445429233381042,0.1640470631047065,0.16427082581365138,0.1640470631047065,0.1640470631047065,0.16041163686670928,0.26328003250518317,0.26289411361048887,0.26289411361048887,0.26328003250518317,0.26328003250518317,-0.13965850196590926,-0.13962214770352924,-0.13962214770352924,-0.13962214770352924,-0.13965850196590926,-0.14357589995879694,-0.14408485963211656,-0.14350319143403706,-0.14372131700831683,-0.14350319143403706,-0.02604724282134832,-0.03447491193621764,-0.10049861367463926,-0.08992898347229707,-0.019402705649787338,-0.38938335357147374,-0.39168384821519203,-0.39562236456364164,-0.3914180122837427,-0.39546370976062656,-0.07974486172592384,-0.0718121215751711,-0.07567131052211302,-0.07567131052211302,-0.08360405067286585,-0.25305915208010665,0.04233953340444318,-0.05770730657220727,-0.31618972279536045,0.25447134744263683,-0.01744533156182824,-0.01712802195579826,-0.016969367152783132,-0.016969367152783132,-0.01689003975127558,-0.09903341445460943,-0.09903341445460943,-0.09982668846968458,-0.09903341445460943,-0.09903341445460943,-0.35355674780431295,-0.3517104977621002,-0.35934489286189425,-0.41466044552587894,-0.41969296841264686,-0.1125467986253627,-0.1125467986253627,-0.10865125541604066,-0.10868760967842062,-0.10868760967842062,-0.19533362784755734,-0.1949113546904832,-0.19529727358517743,-0.19529727358517743,-0.1949113546904832,0.12884873555138573,-0.23550157349131784,0.1124043434916736,0.1724575706518309,0.1124043434916736,0.017322921442874138,0.017322921442874138,0.017322921442874138,0.017322921442874138,0.017322921442874138,-0.1489926850534128,-0.1493198734148325,-0.14822924554343322,-0.1478293486572537,-0.1504105012862316,-0.14549894811852887,-0.14149622378077256,-0.14953990837737074,-0.12004335277006581,-0.1438415732223239,-0.002399331696034415,0.01346614860547104,0.04202401314818095,-0.008745523816636576,-0.0103320718467872,-0.11608940921547596,-0.11608940921547596,-0.1163960007086628,-0.11599190468277863,-0.11637782357747282,-0.1330163845609809,-0.1330163845609809,-0.1330163845609809,-0.1330163845609809,-0.133052738823361,0.2089937666769527,0.19887977078340174,0.20281354207235772,0.2006974839024004,0.20972085192455223,-0.22232110049018247,-0.22232110049018247,-0.22232110049018247,-0.22232110049018247,-0.22232110049018247,0.024758458886889656,0.04059576919797304,0.032458051559524526,-0.051053326261934935,0.04972820000726492,-0.08798782536629879,-0.08412863641935672,-0.08798782536629879,-0.08798782536629879,-0.08412863641935672,0.37041926355100535,0.32552924214005124,0.23313603898954763,0.3624865234002526,0.4201656268828592,0.4187114563876603,0.41592051904122296,0.4125367540725531,0.4187114563876603,0.1005363534993775,0.1013296275144528,0.1005363534993775,0.1013296275144528,0.1013296275144528,-0.22457360956843495,-0.2110664482541377,-0.2187848261480218,-0.21646931277985665,-0.2187848261480218,-0.03449055527351612,-0.034890452159695766,-0.03474503511017597,-0.035901851749050896,-0.03568372617477105,-0.25495771917421367,-0.25659929811597754,-0.25978449521392943,-0.2624747106300474,-0.26091147734770864,-0.1571996223938338,-0.1597214269673622,-0.1684595036105469,-0.16160804830170558,-0.1596420995658546,0.04471198744668868,0.04511608347257288,0.04368819024543737,0.04473016457787866,0.04471198744668868,-0.14593892701349515,-0.14593892701349515,-0.14593892701349515,-0.14593892701349515,-0.14593892701349515,-0.08388291775609742,-0.08980323117635405,-0.07975650491182486,-0.09099453016484813,-0.07912188569976461,-0.16277670247526424,-0.16277670247526424,-0.16277670247526424,-0.16239078358057002,-0.16277670247526424,-0.1586854673851454,-0.15693764422357415,-0.15907138627983972,-0.15635177688579027,-0.1584813198023511,-0.46670451583813877,-0.4123759639183258,-0.4123759639183258,-0.4484592134914073,-0.4464867465665627,-0.14441204799353632,-0.14441204799353632,-0.14448475651829637,-0.14441204799353632,-0.1444484022559163,-0.19090408666874079,-0.18704489772179872,-0.1870085434594189,-0.19086773240636093,-0.19086773240636093,0.09572969146564113,0.09572969146564113,0.0995888804125832,0.09572969146564113,0.09572969146564113,-0.1523866709693183,-0.1523866709693183,-0.1523866709693183,-0.1523866709693183,-0.1523866709693183,-0.15523733474853596,-0.16064019927425488,-0.16488530711589114,-0.16488530711589114,-0.15871060480078394,-0.20358907793978417,-0.2197976715169408,-0.20744826688672613,-0.2178680770434698,-0.21941175262224646,-0.1415531007800866,-0.1415531007800866,-0.1415531007800866,-0.1415531007800866,-0.1415531007800866,-0.1748518662439769,-0.14401470893082047,-0.1516967325623246,-0.18646578734718305,-0.178747409453299,0.33583020982412554,0.38972269353736483,0.4050748888419758,0.337603403098178,0.37740359978396437,-0.15033779276147166,-0.15033779276147166,-0.15033779276147166,-0.15033779276147166,-0.15033779276147166,0.663335869588712,0.663335869588712,0.663335869588712,0.663335869588712,0.663335869588712,-0.03357181145727769,-0.033553634326087683,-0.033553634326087683,-0.033553634326087683,-0.033589988588467665,-0.15684813913999626,-0.1541467068771369,-0.1653383548232688,-0.15684813913999626,-0.15684813913999626,-0.156143170315438,-0.16082348700438215,-0.15903752860947926,-0.16051689551119552,-0.15852299236066383,-0.15192628614607773,-0.15192628614607773,-0.15192628614607773,-0.1519626404084578,-0.15192628614607773,-0.1795666197149688,-0.15946271261884445,-0.14353954569641694,-0.1444484022559163,-0.1481747141498633,-0.12833133379057554,-0.12833133379057554,-0.12833133379057554,-0.12833133379057554,-0.12833133379057554,-0.02749313868790347,-0.02749313868790347,-0.02749313868790347,-0.02749313868790347,-0.02749313868790347,-0.052202484383668146,-0.0555470765226256,-0.05252967274508781,-0.05194800454700838,-0.05351123782934708,-0.14706590914727416,-0.14706590914727416,-0.14706590914727416,-0.14706590914727416,-0.14706590914727416,-0.034618574114377874,-0.034618574114377874,-0.034618574114377874,-0.034618574114377874,-0.034618574114377874,-0.05598339680439117,-0.05559747790969698,-0.05598339680439117,-0.05559747790969698,-0.05559747790969698,-0.06350976740320073,-0.06656372368204526,-0.07297304293040822,-0.05593730999760559,-0.04084544531985959,-0.022772279437726438,-0.02317963455810743,-0.020392457392500566,-0.018744414547750873,-0.02317963455810743,0.2727889444683882,0.28786115075481844,0.27199567045331297,0.27199567045331297,0.27199567045331297,0.2872416553254314,0.2856187530329009,0.27966593804119416,0.27927256091229863,0.28676904991449165,0.615829506065387,0.5838345920681478,0.5996209124882305,0.6204968870640972,0.5950262400142797,-0.0988357976071315,-0.1064049951340846,-0.09497660866018949,-0.09847225498333179,-0.10676853775788432,0.04017208634443521,0.04017208634443521,0.04017208634443521,0.04017208634443521,0.04017208634443521,-0.15760864523746596,-0.15760864523746596,-0.15760864523746596,-0.15760864523746596,-0.15760864523746596,-0.18610973714767967,-0.18610973714767967,-0.18649565604237384,-0.18610973714767967,-0.18610973714767967,0.4982585433954924,0.47274683715238575,0.424787596308866,0.4742177791137573,0.4406960827264065,-0.16279907874615868,-0.16279907874615868,-0.16279907874615868,-0.16279907874615868,-0.16279907874615868,-0.3735872459631956,-0.3732013270685014,-0.3735872459631956,-0.3770605160154433,-0.3735872459631956,-0.08917078560857576,-0.11370875634402286,-0.10561736139025509,-0.09110038008204681,-0.08946571894371144,-0.12487103171569418,-0.1256643057307695,-0.12487103171569418,-0.12487103171569418,-0.12725085376092002,-0.14307057571171536,-0.14307057571171536,-0.14307057571171536,-0.14307057571171536,-0.14307057571171536,0.22868866982092562,0.22868866982092562,0.22868866982092562,0.22868866982092562,0.22868866982092562,0.17263411564092554,0.16055485423699695,0.15901117865822012,0.1655717998680217,0.16248444871046802,-0.17789417258370416,-0.17789417258370416,-0.17789417258370416,-0.17789417258370416,-0.17789417258370416,-0.16386358745983692,-0.20631466587619957,-0.3491046569130555,-0.16378426005832936,-0.16378426005832936,-0.16656324032003503,-0.16656324032003503,-0.16656324032003503,-0.16656324032003503,-0.16656324032003503,0.2030019994721782,0.18701817234492404,0.19580652068280502,0.1874279479864934,0.19071297023472253,-0.3019714211483325,-0.296227447692297,-0.2935008780137992,-0.30313475754449154,-0.3413067330434615,-0.09551789263892987,-0.09668122903508898,-0.09458843921119751,-0.09648547973170363,-0.09655818825646363,-0.094257034364509,-0.094257034364509,-0.094257034364509,-0.094257034364509,-0.09807986904907112,-0.12806645132917213,-0.1280961867148047,-0.12806645132917213,-0.12805983245242464,-0.12806645132917213,0.9930675732952561,0.996926762242198,1.06035232918584,0.9772202701249403,0.9968904079798181,-0.006999748736313173,0.004611238954383195,0.014915252602062013,-0.007385667631007377,-0.06373477431996308,-0.045785070530258376,-0.047371618560408855,-0.04657834454533357,-0.047371618560408855,-0.04657834454533357,-0.27603460973848093,-0.27603460973848093,-0.27603460973848093,-0.27603460973848093,-0.27642052863317523,-0.13132749654429227,-0.1598655925125698,-0.09242092484580383,-0.14498918824724255,-0.11765829388942295,0.07462935613872643,0.07848854508566849,0.08080405845383389,0.07308568055994975,0.07154200498117286,-0.1404364716899142,-0.14161566459968375,-0.14082239058460844,-0.1404364716899142,-0.14082239058460844,-0.14321599276123523,-0.14321599276123523,-0.14321599276123523,-0.14321599276123523,-0.14321599276123523,0.025418535476007774,0.025418535476007774,0.025418535476007774,0.025418535476007774,0.025418535476007774,-0.023890003589678615,-0.023890003589678615,-0.023890003589678615,-0.023890003589678615,-0.023890003589678615,-0.05353553106591625,-0.05349917680353625,-0.0538850956982304,-0.0538850956982304,-0.05311325790884204,-0.17217352006664824,-0.1721553429354583,-0.17217352006664824,-0.1721553429354583,-0.17225284746815583],\"yaxis\":\"y\",\"type\":\"scattergl\"},{\"hovertemplate\":\"color=1\\u003cbr\\u003ePC1=%{x}\\u003cbr\\u003ePC2=%{y}\\u003cextra\\u003e\\u003c\\u002fextra\\u003e\",\"legendgroup\":\"1\",\"marker\":{\"color\":\"#EF553B\",\"symbol\":\"circle\"},\"mode\":\"markers\",\"name\":\"1\",\"showlegend\":true,\"x\":[3.38036351109187,3.3693058076879714,3.3775099102134436,3.374299609225216,3.3636957625497566,2.8652189168867332,2.859608871748519,2.859608871748519,2.859608871748519,2.865779921400555,1.277533506588575,1.3332913384522938,1.1831272376716533,1.338593773430933,1.1827015162572585,2.22445987450266,2.117718751928836,2.0344290116168002,2.17676533569888,2.10058491173385,4.546967381584945,4.5161270929483095,4.393342022649573,4.499829469216817,4.633241890414997,-0.01314376446313326,0.005009727882725935,-0.01083790364927534,-0.003555073312868597,-0.04745969505850496,4.049798985527437,4.092903220899435,4.086482618922978,4.27553367711865,4.103304001997911,0.9757357361773545,0.976815050823123,0.976815050823123,0.9731308882738376,0.9777273109968266,0.9487555567700333,0.9478633859332366,0.9528775635618337,0.959201291729502,0.9468698869643116,3.189607626538677,3.1834365768866397,3.1890466220248554,3.1834365768866397,3.1885940041234506,1.3964177025377726,1.4200966178130823,1.4305157291606931,1.4249932627316912,1.385722946764183,1.591072430589956,1.591072430589956,1.5911737928314786,1.5911737928314786,1.5966824757281715,2.420253977513872,2.420253977513872,2.420253977513872,2.420253977513872,2.420355339755395,0.8917112991362155,0.8923079736610174,0.8923079736610174,0.8917469691471958,0.8922723036500373,0.7599711651916569,0.7599711651916569,0.7609847876068832,0.7599711651916569,0.7599711651916569,1.2114423115458974,1.2114828564425062,1.2102056921993216,1.2108746829933708,1.216484728131586,2.6967276236043567,2.691678582979963,2.691117578466142,2.691117578466142,2.691117578466142,0.8060537056934084,0.7407271881450699,0.9454899235275595,0.9035610278895051,0.8265400324995636,1.1250622963072212,0.5360075567945954,2.386056332581991,2.384934323554347,2.382690305499061,2.3798852829299535,2.3916663777202065,4.096896479181685,4.096896479181685,4.091286434043471,4.096335474667865,4.090725429529648,0.9098766398243503,0.9098766398243503,0.9098766398243503,0.9098766398243503,0.9098766398243503,1.5345081799300015,1.533299264085619,1.5385213517885081,1.5356083024789733,1.5345851677433808,1.693575999139115,1.6976203525758677,1.6966067301606416,1.6935658629149628,1.6959498078552182,1.9051429043126165,1.9107529494508315,1.9097393270356053,2.006123716800495,3.2309205889972925,3.2483117289257604,3.2875820448932687,1.1044647790979452,1.1390373101009414,1.0146026946449744,1.1156848693743757,1.0272603795979505,0.8767409656190294,0.9032165643810591,0.8726583784745476,0.8987659613138378,0.8710295582392914,3.3304788595624215,3.3360889047006372,3.3314924819776475,3.3304788595624215,3.3304788595624215,0.8405014462631198,0.8624890089145772,0.8691126764680188,0.8619280044007556,0.8166909431852287,2.9138587641199263,2.4002106060033834,2.1540875302392064,2.211159547807711,2.7738539565817,1.9595706457182984,1.9595706457182984,1.9595706457182984,1.9595706457182984,1.9595706457182984,1.1182149335631124,1.2597002719489068,1.2770914118773746,1.1182149335631124,1.2709203622253376,2.8058279859814217,2.4733915911922177,2.479001636330433,2.479001636330433,2.4733915911922177,2.4733915911922177,3.0569162451604095,2.8243081316739094,2.4881745290895245,3.004722133912013,2.9613246291777697,1.4349483080721337,1.4296423496584856,1.4360161237935687,1.4293382629339182,1.4347455835890885,1.082222653431768,0.6476808562387791,0.5700465717243425,0.6461917003415262,1.4995551163004734,1.3789696851791062,1.3615684090264857,1.3935201325274862,1.3744816490685337,1.3356143304769499,1.095723487071895,1.121058165743292,1.140695074194989,1.0789876895278767,1.1300551506883716,1.0426661803815727,1.0426661803815727,1.0427675426230953,1.0430228804913757,1.0426661803815727,3.330495567754556,3.3350919904775447,3.3361056128927706,3.3361056128927706,3.3350919904775447,1.3731643903639659,1.372603385850144,1.3731643903639659,1.3731643903639659,1.3761703869481756,3.154115286426407,3.154115286426407,3.1485052412881904,3.1485052412881904,3.1485052412881904,1.0990622697127834,1.1097213554753929,1.1046723148509985,1.1658218068575477,1.0537292907056544,3.2606147806191754,3.260716142860698,3.2606147806191754,3.2606147806191754,3.2600537761053534,1.263572162756513,1.2590108618879952,1.269384932377774,1.2633694382734677,1.2624381066480268,0.634514790840239,0.6628962184665735,2.4790297050631005,2.478570062790802,2.4790297050631005,2.479131067304623,2.479131067304623,2.7657388579774995,2.7662998624913206,2.7657388579774995,2.7657388579774995,2.766401224732844,3.8953574098253982,3.900406450449792,3.9009674549636144,3.9009674549636144,3.894343787410172,2.2506952166068577,2.2613543023694667,2.2563052617450725,2.2496815941916313,2.2557442572312514,1.2939795863963408,1.2939795863963408,1.2945405909101626,1.2939795863963408,1.2939795863963408,4.6108168832849445,4.5998206664887,4.170156825247476,4.154584056529495,4.603908792745614,3.466178947225915,3.466178947225915,3.466178947225915,3.466178947225915,3.466178947225915,4.458050684386612,4.321032595979402,4.575727662683624,4.374365943681411,4.173172855920005,1.2658259437618853,1.2946248264262217,1.3970596578047094,1.2959025615485655,1.5361760310168562,0.6561795879128663,0.6216190584109551,0.6731793504069109,0.8643152124346724,0.598387299142256,0.8721225013652912,0.5825817731399617,0.7357320312921496,0.7263873039734992,0.7178874227264767,0.7179887849679992,0.7178874227264767,0.7178874227264767,0.6319970092588539,0.5896757578358904,0.5813349785522329,0.7499552028275186,0.7341205693947827,3.4376768413782544,3.4590788479664436,3.4037903309469546,2.0986936904760847,2.0986758554705944,2.0992546949899062,2.0992546949899062,2.0986936904760847,2.534789615550856,2.606486337621289,2.574383327739006,2.5494143200527843,2.481284599080382,3.684236437465114,3.684236437465114,3.6674063020504675,3.6674063020504675,3.6730163471886828,1.7301844294233895,1.5963457465943436,1.5340095052558065,1.7066538157632252,1.6246229267326515,3.376106161110167,3.3699351114581293,3.3704961159719518,3.3694824935567254,3.376106161110167,2.081170954752953,2.0277633250371414,2.0215922753851046,2.068267850935058,2.081170954752953,1.4696811519419974,1.4688914030069593,1.466114150843966,1.4599174223476974,1.4859565303633275,2.114999532757451,2.1269234199916838,2.189504435924073,2.149339342237534,2.1733728467848215,1.1148263691926714,0.9210989292532654,0.7686811427724212,0.9516531346277651,0.7678039566016835,2.4835089314368206,2.488619871926196,2.5017758584574277,2.505378116309112,2.4640361603256,5.355244695019308,5.433785326954326,5.114012754076043,5.1084027089378266,5.114012754076043,1.8485522300962043,1.8468302161548436,1.8465953881857586,1.8524402612930588,1.8432988850677923,0.8333059079835895,0.8002423116790983,0.8047905955702919,0.7806674014759653,0.7721015343810942,2.465861832582643,2.5276372133734246,3.0195731895934035,3.52501056190752,2.8463227617744713,1.640318362665197,1.22022734405438,1.2529753547099691,1.6416430961758852,1.4220519367776345,1.727770859938405,1.3645553576619773,1.292774160485677,1.3841805731983,1.328328663413966,0.9623778397877757,0.9680892471675135,0.9623778397877757,0.962276477546253,0.962276477546253,1.3576817380819761,1.3571207335681543,1.3571105973440023,1.3571207335681543,1.3576817380819761,1.6307720648910327,1.6342782486441505,1.6310558791672962,1.620598145252856,1.6352142934516063,0.874973410069154,0.8722371777045523,0.8712235552893263,0.8759870324843804,0.8760883947259029,2.8482357043061373,2.843360180488899,2.8921936690140058,2.8362959421148957,2.85343016425411,1.8313187856372095,1.8313187856372095,1.8313187856372095,1.831879790151031,1.8313187856372095,0.8501435810888787,0.8353600131494244,0.8181244287686874,0.8390248530539702,0.7958066835700309,0.6198714244402936,0.6324092238565185,0.6613195551912077,0.6171175741283907,0.6264990953156259,1.562647846164157,1.548839506543452,1.5504141334725,1.5560241786107152,1.5504141334725,0.6806575682613683,0.6806575682613683,0.6807589305028908,0.6807589305028908,0.6807589305028908,4.946006257887711,4.94590489564619,4.946006257887711,4.946006257887711,4.94590489564619,2.556845785690579,2.488252216822989,2.6460208131413676,2.8243708680429442,1.8522278533387133,1.8521921833277333,1.8456041857852716,1.8455685157742916,1.8455685157742916,0.9617141531766008,1.35396269977344,1.3523880728443924,1.3523880728443924,1.352949077358214,1.3523880728443924,2.0593585594343637,2.0228681524862187,2.0107046835035036,2.0435109279023633,2.0755765180779835,1.8852480981105753,1.899340394074504,1.8371417625487716,1.9941671435994768,2.168585038014108,0.9455469072355488,0.8517575920919365,0.6484149635325783,0.7830579010716918,0.8308484939302929,1.6100114134558214,1.6107507680245445,1.6105403149597608,1.609979310445939,1.609979310445939,2.1787975739703063,2.182142527940553,2.183257512597302,2.180926181042282,2.1803180075931463,1.099367743215117,1.1066608018947972,1.0999287477289388,1.1201249102265143,1.1218079237679792,2.8435256585207243,2.8155289378461177,2.7981556329231387,2.8198935054977348,2.803872688094295,2.7317291273469726,2.6282860955040577,2.735101815207734,2.724757512023442,2.6884060271882575,1.646844753954246,1.6090492571056694,1.6642083133087202,1.761040748768621,1.7433211808426794,2.0737487234904113,2.0689624176787915,2.0768027301345127,2.0667161288948246,2.0794056305793953,2.4705682931223967,2.7129653113049246,2.51469528934152,2.665790400970106,2.5077955650497206,0.694482527058547,1.323257846448777,1.0951623644336503,1.059299765194442,1.1775592113806097,2.6437728842912747,2.6441295844010786,2.6443338888050967,2.6437728842912747,2.6441295844010786,1.1032822250036138,1.1042958474188402,1.1088922701418291,1.1042958474188402,1.1032822250036138,1.6196561809998775,1.620108798901282,1.6216834258303297,1.6196561809998775,1.620669803415104,1.1360026376245977,1.1493545450535507,1.1493545450535507,1.1336464186665474,1.1381344547771197,3.279034692997823,3.279034692997823,3.279034692997823,3.279034692997823,3.279034692997823,1.3909628180916698,1.6775713563185053,1.1800460431650643,1.5081388041620065,1.2049437108293244,3.101393393421928,3.098722853287869,3.0953427774631517,3.09993920018614,3.1034206382523815,1.335107892294632,1.3420882599578772,1.3330806474641799,1.3400045372132414,1.3463279825710632,2.3799436775960374,2.421352736859673,2.383999368253509,2.3992949304992726,2.4247448597652332,2.558420187428491,2.5568863769563372,2.5431177527179347,2.5558876166488878,2.545909729236264,2.493145655633005,2.519070229112485,3.6024793849818786,3.5952161967528413,3.4304265528409594,3.262273075918804,3.6569266932732116,0.9629206207701185,0.96172352076931,0.9573819156538637,0.9614839669165999,0.9617336569934621,1.530366165337907,1.5353317710079917,1.5305692309148913,1.5317977195565162,1.5387473790912474,1.5688960697875245,1.5683350652737027,1.5683958826186166,1.5683350652737027,1.5683350652737027,1.1921545460656764,1.143280563008799,1.2150962993982994,1.0834946001220134,1.17153155762115,2.316739368477095,2.3111293233388803,2.316739368477095,2.316739368477095,2.316739368477095,0.9252424529337152,0.9252424529337152,0.9258034574475367,0.9254467573377335,0.9258034574475367,1.9886621572549712,2.055982698913556,2.177275257062269,2.168882783150352,2.2083997449760147,2.1983613269729227,2.1563113927206015,1.790572920235471,1.7895592978202455,1.7911339247492928,1.7901203023340664,1.7895592978202455,2.3470184742795075,2.3470184742795075,2.381017999267597,2.3725181180205746,2.355518355526529,3.046233706800554,3.046233706800554,3.046233706800554,3.046233706800554,3.046794711314375,2.985136172056979,2.9892064609276154,2.9851005020459986,2.9861497944722055,2.9861497944722055,0.5660410577462894,0.5660882266816036,0.5657841399570358,0.5669533179199931,0.5657369710217215,0.9639680013026003,0.9607933703253522,0.9667909408635166,0.9571957079098118,0.9706531554636967,2.0490342136633295,2.0462956498797484,2.050802554100561,2.0472810333378835,2.046196070900696,1.4945426563366955,1.4927653049246026,1.493326309438424,1.493326309438424,1.4948467430612635,1.9617186641738984,1.426226145611488,1.4772254330936223,1.3922266206233982,1.757721514245361,1.9059140656768483,1.9072843882018773,1.9051441875430584,1.9075846103974967,1.906570987982271,2.6922201471495897,2.6922201471495897,2.6922201471495897,2.691659142635768,2.691659142635768,3.0083000788988006,2.5648605705939445,3.134792122927543,3.0011954225054156,3.1787753004539967,4.852785313941805,4.791245066302427,1.3869417867013691,1.6557641141235604,1.4169554045889774,1.5082030398975497,1.6544918327060425,2.5069759331599806,2.509104540231956,2.5090031779904334,2.5023795104369913,2.501365888021765,1.5316005290514325,1.5311408867791334,1.5316005290514325,1.5303771577822667,1.531701891292955,1.155758137764831,1.156114837874634,1.1505047927364185,1.1501480926266157,1.1505047927364185,1.991798792241894,2.0128670703487535,1.9804773397239401,1.9680880714845523,2.0183757532454463,0.8529098882204499,0.817663191488273,0.8472128226877517,0.7904975052290503,0.8507798237857834,0.5978375617105437,1.3736450444212724,1.3726183431607395,1.3778966107738042,1.3804624722939023,1.3762370636319847,2.703137036952534,2.712673284036751,2.7213757329076573,2.5693741617007544,2.598361508973254,1.3308098023826036,1.2540836087639444,1.4108077835971449,1.2848331868823764,1.3573027671266715,1.7069004854453689,1.538497769057382,1.560937949610244,1.6619187620981228,1.6003096278192752,1.8857379524691746,0.7895022156098412,1.3396938713835194,1.5775227386533994,1.2733364200214017,2.2459823307162163,2.3854096061160353,2.238886973809633,2.5526573046283656,2.30173156355366,4.305794696488782,4.300184651350568,4.300184651350568,4.300184651350568,4.300184651350568,0.8024239794229089,0.8024239794229089,0.8024239794229089,0.8014103570076828,0.8024239794229089,0.5024974484357771,0.5030584529495987,0.5024974484357771,0.5024974484357771,0.5030584529495987,0.9763724830064336,0.9829961505598753,0.9840097729751015,0.9773861054216598,0.9829961505598753,1.9715373874268822,1.9771474325650977,1.9715373874268822,1.9715373874268822,1.9771474325650977,4.705685028567745,4.689415897666922,4.697830965374244,4.694464938291317,4.683805852528705,3.572025052129794,2.7534254379284104,2.9578095629622645,3.072243551819416,3.4069898859318797,2.7953842671675977,2.485055171638853,2.752580253991219,2.3602101332077483,2.8952602979124813,1.6433839488611224,1.4645913858927428,1.3200469214762525,2.026426557713185,1.622430502692442,1.0028516423528582,1.001168628811393,0.9899485385349623,1.0062176694357874,1.0280968454748276],\"xaxis\":\"x\",\"y\":[0.4677160844181265,0.47898590575591743,0.470624425408524,0.4738963090227214,0.4828450947028595,1.3242097395426526,1.3280689284895948,1.3280689284895948,1.3280689284895948,1.323823820647958,0.8728178940541141,0.7890277382950002,0.8912119392575116,0.7980995010580135,0.8878801883941956,0.42085673812629926,0.7108272494837459,0.05962199163170543,0.24685294111788092,-0.0028753646824481874,0.3699168523606628,0.33679493644602426,-0.1029104515996862,0.25657448217489004,0.20225698684434262,7.0118919027129465,7.009724561265884,6.933463074690222,7.054120952299795,6.6462251727082124,0.8312857309144672,0.7963204414568539,0.8028642086852482,0.6101866180713997,0.7767543373445104,0.00652596407669126,0.015288332504899272,0.015288332504899272,0.03421972773827156,0.02242779864057673,0.5924028267481702,0.5930366066027766,0.5892467671824889,0.5828913901427415,0.5937801894825132,2.365054839068063,2.3692999469096985,2.3654407579627565,2.3692999469096985,2.3571220989173103,-1.7214682307451807,-1.7379816364128626,-1.7452553648787779,-1.7411137401122052,-1.714099417483611,1.1309019281528994,1.1309019281528994,1.131695202167974,1.131695202167974,1.1270427392059572,-1.221963865943516,-1.221963865943516,-1.221963865943516,-1.221963865943516,-1.2211705919284404,1.0901578562329486,1.0897355830758741,1.0897355830758741,1.0901215019705688,1.0897719373382544,0.9425723550355363,0.9425723550355363,0.9505050951862889,0.9425723550355363,0.9425723550355363,-0.2037461105874456,-0.20342880098141566,-0.21342405357136382,-0.20818844507186712,-0.21204763401880924,2.2672320904644296,2.2707053605166774,2.2710912794113716,2.2710912794113716,2.2710912794113716,1.0675154108816276,0.9881151437649751,1.1106194850320619,1.0192354874886347,0.9706719043627193,0.14399339348950768,0.5492082329184232,0.5287254047517103,0.5294972425410984,0.5310409181198755,0.5329705125933462,0.5248662158047679,1.4684427954285195,1.4684427954285195,1.472301984375462,1.4688287143232146,1.472687903270156,-0.009998633886887036,-0.009998633886887036,-0.009998633886887036,-0.009998633886887036,-0.009998633886887036,0.4769035552416737,0.47185959680946643,0.5095732069092799,0.47667890991010986,0.4759285099146986,1.1010031795818866,1.1326548127833902,1.1247220726326372,1.1009238521803792,1.1164257898580847,-1.8585802604331327,-1.8624394493800749,-1.8703721895308274,-1.928045661478089,-1.0070155810407522,-1.0189790667762724,-1.0459933894048663,-0.11390698248845452,-0.12992265003442943,-0.05295323335245712,-0.12162536038233875,-0.05388170974297785,-0.0689002255168537,-0.09574299150762251,-0.06263977829899894,-0.10191551010076268,-0.06583431058498686,1.0423461923350357,1.0384870033880935,1.0502789324857882,1.0423461923350357,1.0423461923350357,0.010086450513468393,-0.013668964319746724,-0.009595413115936063,-0.013283045425052578,0.01795400877428362,-1.1817937758446353,-0.6582923975730464,-0.4074479871512439,-0.46561480695919827,-0.8103564341988523,1.2628615439392206,1.2628615439392206,1.2628615439392206,1.2628615439392206,1.2628615439392206,-0.4503993714326791,-0.5477281166745576,-0.5596916024100781,-0.4503993714326791,-0.555446494568442,-2.0478462695923683,-0.5516514911231533,-0.5555106800700954,-0.5555106800700954,-0.5516514911231533,-0.5516514911231533,-0.1648917063827436,-0.01731626445704546,0.33753901459309504,-0.23033709902431168,0.022608525771625042,1.633904897820732,1.6401439088129,1.637485349001414,1.637764086767674,1.6323183497905813,0.7873138433488909,0.9270596829083264,0.47955667254709233,0.7846660802579776,0.5466543360107909,0.733364032512661,0.7452481908466737,0.7233664955129917,0.7364513836702146,0.763113998043926,-0.36029483112526345,-0.37985369567291727,-0.39045439608723204,-0.33842613831414553,-0.46417098831341186,0.7668796320336148,0.7668796320336148,0.7676729060486899,0.766516089409815,0.7668796320336148,0.663011857093835,0.65121992799614,0.6591526681468926,0.6591526681468926,0.65121992799614,-0.4400308530429139,-0.4396449341482197,-0.4400308530429139,-0.4400308530429139,-0.44328036038621677,0.7896581730075558,0.7896581730075558,0.7935173619544978,0.7935173619544978,0.7935173619544978,0.37108123595206016,0.3637487769528702,0.36722204700511807,0.32515688748344973,0.3936360884821495,0.5569387883699197,0.557732062384995,0.5569387883699197,0.5569387883699197,0.5573247072646141,0.36101134167761273,0.3253140109992253,0.35873870076082126,0.35942479364746216,0.3091483567057732,0.9119213950875139,1.134038119308591,-0.3915648965071298,-0.3903857035973602,-0.3915648965071298,-0.3907716224920543,-0.3907716224920543,0.1774076312568407,0.1770217123621463,0.1774076312568407,0.1774076312568407,0.17781498637722168,0.9924242078039506,0.9889509377517026,0.9885650188570086,0.9885650188570086,0.9844914676531977,-0.9037562161971476,-0.9110886751963374,-0.9076154051440897,-0.9116889563479003,-0.9072294862493955,0.11836098834217339,0.11836098834217339,0.11797506944747921,0.11836098834217339,0.11836098834217339,1.1146526785709483,1.1240013611372657,1.3919075502425498,1.4291010506546329,1.0858300589583343,0.9904932454152652,0.9904932454152652,0.9904932454152652,0.9904932454152652,0.9904932454152652,2.2361367956387483,2.3689533030332672,2.198802365262854,2.4629131983003982,2.483920435000029,0.5825932342313984,0.5564013113364121,0.45627597818471727,0.5565858437930559,0.31579189150176623,-0.031331885697903454,-0.022733237634275663,-0.03543825028237037,0.7227010648581437,0.7402036448118668,0.7123879540537378,0.7829372152287587,0.7456387676156522,0.8781404481909523,0.8801936304831854,0.8809869044982607,0.8801936304831854,0.8801936304831854,0.4031227587156837,0.2520475903373435,0.40173194345460156,0.234917367320379,0.32660666820035,-1.401314085928675,-1.4231266433566583,-1.3667775366677024,1.7042500983236497,1.7042682754548397,1.703864179428955,1.703864179428955,1.7042500983236497,-0.09183286506036865,-0.16490493244411142,-0.13218609630213699,-0.10673811263615712,-0.03730147149041155,-0.46792928377732634,-0.46792928377732634,-0.45635171693650034,-0.45635171693650034,-0.4602109058834425,0.2856959774552673,0.45341707576588863,0.48572374794661777,0.2908497805666695,0.37454391144211113,1.2123102798527385,1.2165553876943749,1.2161694687996805,1.2082367286489277,1.2123102798527385,1.0544927470062984,1.0912322257811864,1.095477333622823,1.0633688815842652,1.0544927470062984,0.04701167296166194,0.040709237483343,0.05064709919965909,0.05882117110048768,0.03228255956310841,0.9972434744759985,1.0514378230564518,0.9205920926274179,1.1281123546048766,1.0505402439884848,1.0323762584133231,1.0105467689071277,1.0902551020786468,1.1507305301636135,1.1171499545904864,0.6018294311952816,0.6025675610218568,0.5926903036560687,0.5828859845053952,0.6188880359534856,0.6530930875293558,0.5990644422721677,0.8190382122478647,0.8228974011948067,0.8190382122478647,1.6040647523440825,1.603961326691607,1.6131664660256593,1.6001021377446651,1.6075603986672247,0.3400912793907975,0.3628241399153756,0.36845534468944857,0.38504985716129925,0.3908064854590369,0.5611202250187972,0.49081438785632064,-0.027228176974413792,-0.5238394525413373,0.17548842918763813,-0.08278291020474164,0.20706361593629338,0.17676901611896356,-0.08196819996397961,0.06737589409368419,0.4477203880377524,0.8067525518479607,0.8659395140602107,0.7785409338862499,0.8388059360120875,-0.40856468116386807,-0.41163059609573494,-0.40856468116386807,-0.4093579551789434,-0.4093579551789434,0.48451863176262583,0.4849045506573201,0.48482522325581257,0.4849045506573201,0.48451863176262583,-0.4024718808276321,-0.40658327147467443,-0.40025071358542136,-0.3874405772352493,-0.4040340765135901,0.5761859236371897,0.6022204307438593,0.5942876905931066,0.5841186637879423,0.5849119378030175,0.02344515580947983,-0.014711324315640843,-0.014647149303241062,0.025531288196329726,0.016333543400729157,-1.480803467776962,-1.480803467776962,-1.480803467776962,-1.481189386671656,-1.480803467776962,0.6593086367697133,0.6553516671464129,0.6637561379269379,0.6678202886786724,0.6514926118641322,2.796271612853253,2.798865797155348,3.2018490636459185,2.6600857169685477,2.6570841107137424,-0.22718934976438715,-0.23495053327731433,-0.22740371202125578,-0.2312629009681979,-0.22740371202125578,0.49370106120035984,0.49370106120035984,0.494494335215435,0.494494335215435,0.494494335215435,2.290393024861474,2.2895997508463997,2.290393024861474,2.290393024861474,2.2895997508463997,0.8897914708701528,0.9576565378767389,0.7989058149202238,0.6171345030203667,0.8260023710817154,0.8260387253440954,0.8219288198779046,0.8219651741402846,0.8219651741402846,-0.37862197127565334,1.5019529229712536,1.4944061017151948,1.4944061017151948,1.494020182820501,1.4944061017151948,0.41778986874275026,0.1322112233156515,0.0370183415066186,0.3415283821670897,0.5447137111547945,-0.2673568824379017,-0.2906401772295468,-0.22881592968507208,-0.26913459964304887,-0.34188569985317396,1.6143358015503197,1.6374859773308297,1.5556825533320455,1.5071777621718012,1.470693546344237,0.6828670983675532,0.6822994081609592,0.6825138983090009,0.6828998172036951,0.6828998172036951,1.1559991708595387,1.1821772133570225,1.1909032275228513,1.1726579251761193,1.1678982810856682,-0.681609397684703,-0.6866263433157276,-0.6819953165793974,-0.695888396788389,-0.6970461534724712,0.573969450554444,0.5932108638955842,0.6051561724999146,0.5816552375033595,0.6011879207658324,0.8697893820701377,0.9752167429720545,0.8700689418998473,0.8806116779900391,0.9102265961059961,-1.054757135374631,-1.0309268574024302,-1.0846496317667331,-1.154114649715864,-1.1112394793437659,-1.6439147762470252,-1.6380260701251625,-1.6414685671953968,-1.6455094204933238,-1.6507560955706708,-0.929524479891932,-1.1789873709207073,-0.9752413454071178,-1.1264471783474166,-0.9563150398115815,0.715555505576112,0.5110517031682686,0.7452262030287287,0.7800732447800572,0.6887987250881998,0.9365671477733145,0.9362036051495146,0.9361812288786199,0.9365671477733145,0.9362036051495146,0.8748031264183381,0.882735866569091,0.870943937471396,0.882735866569091,0.8748031264183381,0.35429820978439286,0.36261686882983973,0.3701636900858983,0.35429820978439286,0.3622309499351457,0.07660587724269333,0.06742100754897108,0.06742100754897108,0.07822673660040884,0.07513938544285521,2.2760270593282916,2.2760270593282916,2.2760270593282916,2.2760270593282916,2.2760270593282916,-0.18655768596593506,-0.4786641841890056,0.028405067486836,-0.30598143788414106,0.003029792345615813,2.0788352510073325,2.1056993863914575,2.127010603670056,2.1152186745723602,2.094700731308838,1.5181651117896815,1.521875120369692,1.502299631488176,1.5150330080903385,1.5104467338957972,-0.5121055801796665,-0.5223818210901726,-0.5233529355796522,-0.4036478867047931,-0.4910582156075427,1.5840900430860791,1.5856532763684186,1.599686021647087,1.5866711957150577,1.5966546398780643,-1.5952635010316274,-1.9509086428772437,1.1940641292560323,1.1428724324110278,1.398787415353674,1.4915089645726283,1.1004213539946648,0.8251538853527647,0.8244258183630828,0.8289403657749469,0.8247596256012503,0.8245051457645906,1.2259076249499299,1.2513958190848133,1.2365249433821355,1.274657127017362,1.2280040679937365,-1.8493945046542943,-1.8490085857596001,-1.8485326213505546,-1.8490085857596001,-1.8490085857596001,1.137223349173944,1.223814934899586,1.3110892557676648,1.0879584312197528,1.0520155504504436,1.2910238517151023,1.2948830406620448,1.2910238517151023,1.2910238517151023,1.2910238517151023,1.135420157085679,1.135420157085679,1.1350342381909848,1.1353977808147846,1.1350342381909848,-2.1665405889914027,-2.2128508563547067,0.7713163914347599,0.7703595704248658,0.738871052402234,0.7419050434788202,0.791868948075485,-1.6554731998615422,-1.663405940012295,-1.655859118756236,-1.663791858906989,-1.663405940012295,0.9796302528000594,0.9796302528000594,0.9714175236311255,0.9734707059233588,0.9775770705078256,1.9105271929041734,1.9105271929041734,1.9105271929041734,1.9105271929041734,1.91014127400948,2.4523796523060333,2.468021369898594,2.4524160065684133,2.4603123924567862,2.4603123924567862,0.5248917330394791,0.5300372960246251,0.5276574739793992,0.5320311991751566,0.5225119109942533,1.2966953284829246,1.299930857834742,1.3009255710055851,1.3107048675857977,1.2988477409152617,-0.744356636538928,-0.7711527014968713,-0.7380896727003698,-0.7587082773350428,-0.7665683089610359,1.58496300094926,1.5758296316630505,1.5754437127683563,1.5754437127683563,1.5873428229944853,-0.7938379538427751,-0.6644874694320703,-0.6768065631854706,-0.6562747402631366,-0.7445615788291733,2.1490428835256266,2.1566120810525793,2.158793336795379,2.165271906450932,2.157339166300179,-1.7368012740037775,-1.7368012740037775,-1.7368012740037775,-1.7364153551090833,-1.7364153551090833,0.801128167329841,1.0091145175870073,0.9991686710967583,0.9484843282376204,0.7251875769872599,1.2332852290698497,1.1652597914230283,0.2903029057576023,0.30115075642187317,0.1337427601533417,0.07407968566715142,0.45569742705742733,1.4155965352208106,1.432255289537391,1.4314620155223163,1.4273884643185055,1.4194557241677526,0.041715762210783346,0.04289495512055278,0.041715762210783346,0.04169432598509645,0.04250903622585864,0.6466773898758036,0.6463138472520037,0.650173036198946,0.6505365788227456,0.650173036198946,-1.0393397354557805,-1.0607367644694567,-1.032414631576972,-1.029069978878845,-1.065389227431474,-0.6250840165116691,-0.5980373373761417,-0.6191880071293663,-0.5613847299452115,-0.6228234333673633,0.2167105806516803,0.9267194329544788,0.9152136998572452,0.9609392783898556,0.9870147778574836,0.9599409183150682,8.076165950400686,7.394902413960235,7.867198235036125,7.029635896574258,7.136054484867847,-0.9304605157875967,-0.8522624974082788,-1.0138515565525865,-0.7061442777796487,-0.9593201629826293,1.3190140748082007,1.4339964692013871,1.418559713413619,1.349094312368662,1.3923386648001004,-0.49729913858944846,0.23963170559940608,-0.13001804858970284,-0.2850157905246646,-0.08468934631065764,0.34802404269457315,1.4344235244530052,0.2924948616393038,2.743325649327208,0.7843247509859741,-0.3966568387323135,-0.3927976497853711,-0.3927976497853711,-0.3927976497853711,-0.3927976497853711,0.8910477073709102,0.8910477073709102,0.8910477073709102,0.8831149672201573,0.8910477073709102,1.0021200405437487,1.0017341216490543,1.0021200405437487,1.0021200405437487,1.0017341216490543,1.0974572656315795,1.1015308168353908,1.109463556986143,1.1053900057823325,1.1015308168353908,1.7616540124792253,1.7577948235322833,1.7616540124792253,1.7616540124792253,1.7577948235322833,-0.09117198901589547,-0.07998034106976316,-0.08576912449017679,-0.08345361112201134,-0.07612115212282125,-0.5948584270127258,-0.3944244539400538,-0.04582150438634327,-0.09575109281228991,-0.25134231300018645,-0.9312273329866559,-0.6149452502809042,-0.8876022181306898,-0.4877053319510047,-1.0330192676505754,1.285555505801541,1.4130747159394446,1.3558552985726533,1.1189464717327875,1.365443995960021,-1.2641019006225487,-1.2629441439384663,-1.255225766044582,-1.266417413990714,-1.281468250883788],\"yaxis\":\"y\",\"type\":\"scattergl\"},{\"hovertemplate\":\"color=3\\u003cbr\\u003ePC1=%{x}\\u003cbr\\u003ePC2=%{y}\\u003cextra\\u003e\\u003c\\u002fextra\\u003e\",\"legendgroup\":\"3\",\"marker\":{\"color\":\"#00cc96\",\"symbol\":\"circle\"},\"mode\":\"markers\",\"name\":\"3\",\"showlegend\":true,\"x\":[13.213272841726699,13.19667643320655,13.204987545764963,13.227540846118828,13.217196542934536,7.777275962865225,7.777275962865225,7.777275962865225,7.777275962865225,7.777275962865225,9.807824929576228,9.806709944919476,9.80630449595339,9.808230378542317,9.806365313298299,9.955501807967586,9.955501807967586,9.955501807967586,9.955501807967586,9.955501807967586,6.956174200011453,6.956174200011453,6.956174200011453,6.956174200011453,6.9617842451496665,7.190238527754638,7.228293201698899,7.213603604858546,7.307958554466202,7.197054475130378,7.080404412088491,7.091655620897502,7.0915542586559805,7.0915542586559805,7.0886147536518225,8.163716575654092,8.128046564673777,8.110211559183618,9.119672869926548,8.13518056686984,9.959169147727199,9.96579281528064,9.959169147727199,9.959169147727199,9.959169147727199,10.587780840103724,10.586260406480886,10.579227766526344,10.583200216590468,10.577083360244638,11.79154703155553,11.79154703155553,11.79154703155553,11.79154703155553,11.79154703155553,18.15083715269302,18.15083715269302,18.15083715269302,18.15083715269302,18.15083715269302,9.127375868922378,9.133492725268207,9.133999536475823,9.136467352126836,9.133492725268207,10.378187342782692],\"xaxis\":\"x\",\"y\":[-2.609768568368035,-2.5947122666080618,-2.603182809742595,-2.624310273320023,-2.6137675372298323,1.637859091929737,1.637859091929737,1.637859091929737,1.637859091929737,1.637859091929737,0.05896519823886522,0.05023918407303653,0.04706608801273563,0.06213829429916591,0.04754205242178106,3.810054605179925,3.810054605179925,3.810054605179925,3.810054605179925,3.810054605179925,3.0098101843013967,3.0098101843013967,3.0098101843013967,3.0098101843013967,3.005950995354454,1.3403698521856189,1.5430996681113016,1.2897488049736896,1.5864655110477148,1.2706625088021613,4.136408542760709,4.224461958434064,4.22366868441899,4.22366868441899,4.200663737981805,3.595581379962768,3.6319356423427385,3.650112773532725,2.621287148179534,3.6246647898667446,-0.3545544204217189,-0.3504808692179088,-0.3545544204217189,-0.3545544204217189,-0.3545544204217189,1.4102403543467186,1.398341244120591,1.4064053706116602,1.4059430404339635,1.405835859305529,3.568448321445815,3.568448321445815,3.568448321445815,3.568448321445815,3.568448321445815,0.31829440848962437,0.31829440848962437,0.31829440848962437,0.31829440848962437,0.31829440848962437,-0.24053252722583823,-0.2404253460974038,-0.23645897602202734,-0.26490965943630174,-0.2404253460974038,-2.52508647206011],\"yaxis\":\"y\",\"type\":\"scattergl\"},{\"hovertemplate\":\"color=2\\u003cbr\\u003ePC1=%{x}\\u003cbr\\u003ePC2=%{y}\\u003cextra\\u003e\\u003c\\u002fextra\\u003e\",\"legendgroup\":\"2\",\"marker\":{\"color\":\"#ab63fa\",\"symbol\":\"circle\"},\"mode\":\"markers\",\"name\":\"2\",\"showlegend\":true,\"x\":[5.618218845622363,4.906845870846504,5.260992601966854,5.620246090452815,5.624842513175804,2.612464721814618,3.608476626799194,3.6628940646398838,3.445390981157659,3.23524769508947,3.6081778025306597,3.399122405810343,3.6646987873113424,3.28839387941324,4.4740408979266935,3.7550001701348275,4.026563175974583,3.69054174464378,3.5872272555639104,2.91617899090682,4.062925702825379,3.137323354615294,8.67441752833858,6.823102632727469,5.924934406099171,3.641816451971043,3.63386190176999,5.782515558502556,5.7825512285135385,5.7825512285135385,5.782515558502556,5.7825512285135385,7.756488193765332,7.760014516158913,7.759244638025123,7.763881739452564,7.758531237805516,4.166893333263171,4.168576346804635,4.1461361662517735,4.135151316442112,4.14214344242448,3.5059009277217825,3.663285794726844,3.260265340520479,3.6699094622802857,3.4696541130179144,6.426273647183319,6.426273647183319,6.426273647183319,6.426273647183319,6.426273647183319,3.928297053541451,4.548651157874372,3.831886661653077,3.8747920370709776,4.767501740687883,4.232775297251586,4.004868593380922,4.00743777127346,4.0035860060956,4.008451393688686,4.006424148858233,7.40765601698619,6.042604826450182,6.042604826450182,6.042604826450182,6.042604826450182,6.042604826450182,5.042413940060098,5.042403803835946,5.042413940060098,5.041852935546276,5.042413940060098,12.495937824516382,2.9886523923142883,2.7831874454741907,3.0948364749268933,3.688505834134262,2.44868585858864,3.4697140737438583,6.940671857601426,6.942812058260245,6.938628813561241,6.935718734768634,6.936131912792619,9.285686641783293,9.735503875255754,8.051476711375884,9.622289350076219,8.326368923148443,5.55071615318034,6.616921147008902,6.051287248731536,4.622802062559173,4.67861143784328,4.623180615038254,4.6930860567369646,4.652234089469515,4.037844625124245,3.7769996882395027,3.774599944089516,3.2601412291347316,3.4170892774481194,8.463918138744793,8.458308093606577,8.463918138744793,8.458308093606577,8.458308093606577],\"xaxis\":\"x\",\"y\":[-4.434006021286465,-3.6910552933855305,-4.043029750796494,-4.418140540984958,-4.429932470082655,-2.3412683346799925,-1.2667389971699525,-1.3041731299552903,-2.0098388892340053,-1.8596214668862971,-2.2133281756969794,-2.0114198741309983,-2.195120769388174,-1.5635135308343349,-2.00395815637746,-1.485725218026555,-1.6752936353686396,-1.4439695626437954,-2.7913569755296637,-2.213192123154358,-3.1836441514206464,-2.127920378989471,-6.2273050642433985,-4.9537727117525225,-4.3359165613471,-1.6073253499791533,-1.6012625290185183,-1.8296377858143533,-1.8296741400767322,-1.8296741400767322,-1.8296377858143533,-1.8296741400767322,-6.04855876016542,-6.059260061391716,-6.049509608121966,-6.054235662231362,-6.048782522874365,-1.3417578660807798,-1.3429156227648629,-1.3274788669770945,-1.3207853144351025,-1.3256070629916905,-2.7013730829592517,-2.8369239353752285,-2.4151622856964408,-2.832850384171418,-2.6485436586741353,-4.081073456224237,-4.081073456224237,-4.081073456224237,-4.081073456224237,-4.081073456224237,-1.448003656404582,-2.082947643861311,-1.3506404219937336,-1.3934722628346246,-2.2900437932130866,-0.8184729420938105,-1.5195701294692647,-1.5472275388684646,-1.5773719514413254,-1.5392947987177117,-1.5551602790192176,-4.812830071312073,0.24087634658091495,0.24087634658091495,0.24087634658091495,0.24087634658091495,0.24087634658091495,-4.404795526148108,-4.404874853549618,-4.404795526148108,-4.404409607253414,-4.404795526148108,-6.09575466792935,-2.2644212045911263,-1.9339644929798794,-2.243386180113939,-3.335874839914845,-2.482994082640652,-3.1853664709841047,-2.257373883271936,-2.259555139014734,-2.2571501205629905,-2.2452184115504417,-2.2546053221963924,-4.260721622898966,-4.561523998503579,-3.4117000545717153,-4.492272959715491,-3.6008003129718764,0.5942208533350166,-0.16697855117929777,0.42525238439180424,-2.9338385700985175,-2.9730434427470946,-2.9356523822203484,-2.983949935425727,-2.9549845820979743,-3.485289550151766,-3.217582399120322,-3.2169950937875775,-2.690809137234536,-2.8507678917064108,-6.4506203165352325,-6.446761127588291,-6.4506203165352325,-6.446761127588291,-6.446761127588291],\"yaxis\":\"y\",\"type\":\"scattergl\"}],                        {\"template\":{\"data\":{\"histogram2dcontour\":[{\"type\":\"histogram2dcontour\",\"colorbar\":{\"outlinewidth\":0,\"ticks\":\"\"},\"colorscale\":[[0.0,\"#0d0887\"],[0.1111111111111111,\"#46039f\"],[0.2222222222222222,\"#7201a8\"],[0.3333333333333333,\"#9c179e\"],[0.4444444444444444,\"#bd3786\"],[0.5555555555555556,\"#d8576b\"],[0.6666666666666666,\"#ed7953\"],[0.7777777777777778,\"#fb9f3a\"],[0.8888888888888888,\"#fdca26\"],[1.0,\"#f0f921\"]]}],\"choropleth\":[{\"type\":\"choropleth\",\"colorbar\":{\"outlinewidth\":0,\"ticks\":\"\"}}],\"histogram2d\":[{\"type\":\"histogram2d\",\"colorbar\":{\"outlinewidth\":0,\"ticks\":\"\"},\"colorscale\":[[0.0,\"#0d0887\"],[0.1111111111111111,\"#46039f\"],[0.2222222222222222,\"#7201a8\"],[0.3333333333333333,\"#9c179e\"],[0.4444444444444444,\"#bd3786\"],[0.5555555555555556,\"#d8576b\"],[0.6666666666666666,\"#ed7953\"],[0.7777777777777778,\"#fb9f3a\"],[0.8888888888888888,\"#fdca26\"],[1.0,\"#f0f921\"]]}],\"heatmap\":[{\"type\":\"heatmap\",\"colorbar\":{\"outlinewidth\":0,\"ticks\":\"\"},\"colorscale\":[[0.0,\"#0d0887\"],[0.1111111111111111,\"#46039f\"],[0.2222222222222222,\"#7201a8\"],[0.3333333333333333,\"#9c179e\"],[0.4444444444444444,\"#bd3786\"],[0.5555555555555556,\"#d8576b\"],[0.6666666666666666,\"#ed7953\"],[0.7777777777777778,\"#fb9f3a\"],[0.8888888888888888,\"#fdca26\"],[1.0,\"#f0f921\"]]}],\"heatmapgl\":[{\"type\":\"heatmapgl\",\"colorbar\":{\"outlinewidth\":0,\"ticks\":\"\"},\"colorscale\":[[0.0,\"#0d0887\"],[0.1111111111111111,\"#46039f\"],[0.2222222222222222,\"#7201a8\"],[0.3333333333333333,\"#9c179e\"],[0.4444444444444444,\"#bd3786\"],[0.5555555555555556,\"#d8576b\"],[0.6666666666666666,\"#ed7953\"],[0.7777777777777778,\"#fb9f3a\"],[0.8888888888888888,\"#fdca26\"],[1.0,\"#f0f921\"]]}],\"contourcarpet\":[{\"type\":\"contourcarpet\",\"colorbar\":{\"outlinewidth\":0,\"ticks\":\"\"}}],\"contour\":[{\"type\":\"contour\",\"colorbar\":{\"outlinewidth\":0,\"ticks\":\"\"},\"colorscale\":[[0.0,\"#0d0887\"],[0.1111111111111111,\"#46039f\"],[0.2222222222222222,\"#7201a8\"],[0.3333333333333333,\"#9c179e\"],[0.4444444444444444,\"#bd3786\"],[0.5555555555555556,\"#d8576b\"],[0.6666666666666666,\"#ed7953\"],[0.7777777777777778,\"#fb9f3a\"],[0.8888888888888888,\"#fdca26\"],[1.0,\"#f0f921\"]]}],\"surface\":[{\"type\":\"surface\",\"colorbar\":{\"outlinewidth\":0,\"ticks\":\"\"},\"colorscale\":[[0.0,\"#0d0887\"],[0.1111111111111111,\"#46039f\"],[0.2222222222222222,\"#7201a8\"],[0.3333333333333333,\"#9c179e\"],[0.4444444444444444,\"#bd3786\"],[0.5555555555555556,\"#d8576b\"],[0.6666666666666666,\"#ed7953\"],[0.7777777777777778,\"#fb9f3a\"],[0.8888888888888888,\"#fdca26\"],[1.0,\"#f0f921\"]]}],\"mesh3d\":[{\"type\":\"mesh3d\",\"colorbar\":{\"outlinewidth\":0,\"ticks\":\"\"}}],\"scatter\":[{\"fillpattern\":{\"fillmode\":\"overlay\",\"size\":10,\"solidity\":0.2},\"type\":\"scatter\"}],\"parcoords\":[{\"type\":\"parcoords\",\"line\":{\"colorbar\":{\"outlinewidth\":0,\"ticks\":\"\"}}}],\"scatterpolargl\":[{\"type\":\"scatterpolargl\",\"marker\":{\"colorbar\":{\"outlinewidth\":0,\"ticks\":\"\"}}}],\"bar\":[{\"error_x\":{\"color\":\"#2a3f5f\"},\"error_y\":{\"color\":\"#2a3f5f\"},\"marker\":{\"line\":{\"color\":\"#E5ECF6\",\"width\":0.5},\"pattern\":{\"fillmode\":\"overlay\",\"size\":10,\"solidity\":0.2}},\"type\":\"bar\"}],\"scattergeo\":[{\"type\":\"scattergeo\",\"marker\":{\"colorbar\":{\"outlinewidth\":0,\"ticks\":\"\"}}}],\"scatterpolar\":[{\"type\":\"scatterpolar\",\"marker\":{\"colorbar\":{\"outlinewidth\":0,\"ticks\":\"\"}}}],\"histogram\":[{\"marker\":{\"pattern\":{\"fillmode\":\"overlay\",\"size\":10,\"solidity\":0.2}},\"type\":\"histogram\"}],\"scattergl\":[{\"type\":\"scattergl\",\"marker\":{\"colorbar\":{\"outlinewidth\":0,\"ticks\":\"\"}}}],\"scatter3d\":[{\"type\":\"scatter3d\",\"line\":{\"colorbar\":{\"outlinewidth\":0,\"ticks\":\"\"}},\"marker\":{\"colorbar\":{\"outlinewidth\":0,\"ticks\":\"\"}}}],\"scattermapbox\":[{\"type\":\"scattermapbox\",\"marker\":{\"colorbar\":{\"outlinewidth\":0,\"ticks\":\"\"}}}],\"scatterternary\":[{\"type\":\"scatterternary\",\"marker\":{\"colorbar\":{\"outlinewidth\":0,\"ticks\":\"\"}}}],\"scattercarpet\":[{\"type\":\"scattercarpet\",\"marker\":{\"colorbar\":{\"outlinewidth\":0,\"ticks\":\"\"}}}],\"carpet\":[{\"aaxis\":{\"endlinecolor\":\"#2a3f5f\",\"gridcolor\":\"white\",\"linecolor\":\"white\",\"minorgridcolor\":\"white\",\"startlinecolor\":\"#2a3f5f\"},\"baxis\":{\"endlinecolor\":\"#2a3f5f\",\"gridcolor\":\"white\",\"linecolor\":\"white\",\"minorgridcolor\":\"white\",\"startlinecolor\":\"#2a3f5f\"},\"type\":\"carpet\"}],\"table\":[{\"cells\":{\"fill\":{\"color\":\"#EBF0F8\"},\"line\":{\"color\":\"white\"}},\"header\":{\"fill\":{\"color\":\"#C8D4E3\"},\"line\":{\"color\":\"white\"}},\"type\":\"table\"}],\"barpolar\":[{\"marker\":{\"line\":{\"color\":\"#E5ECF6\",\"width\":0.5},\"pattern\":{\"fillmode\":\"overlay\",\"size\":10,\"solidity\":0.2}},\"type\":\"barpolar\"}],\"pie\":[{\"automargin\":true,\"type\":\"pie\"}]},\"layout\":{\"autotypenumbers\":\"strict\",\"colorway\":[\"#636efa\",\"#EF553B\",\"#00cc96\",\"#ab63fa\",\"#FFA15A\",\"#19d3f3\",\"#FF6692\",\"#B6E880\",\"#FF97FF\",\"#FECB52\"],\"font\":{\"color\":\"#2a3f5f\"},\"hovermode\":\"closest\",\"hoverlabel\":{\"align\":\"left\"},\"paper_bgcolor\":\"white\",\"plot_bgcolor\":\"#E5ECF6\",\"polar\":{\"bgcolor\":\"#E5ECF6\",\"angularaxis\":{\"gridcolor\":\"white\",\"linecolor\":\"white\",\"ticks\":\"\"},\"radialaxis\":{\"gridcolor\":\"white\",\"linecolor\":\"white\",\"ticks\":\"\"}},\"ternary\":{\"bgcolor\":\"#E5ECF6\",\"aaxis\":{\"gridcolor\":\"white\",\"linecolor\":\"white\",\"ticks\":\"\"},\"baxis\":{\"gridcolor\":\"white\",\"linecolor\":\"white\",\"ticks\":\"\"},\"caxis\":{\"gridcolor\":\"white\",\"linecolor\":\"white\",\"ticks\":\"\"}},\"coloraxis\":{\"colorbar\":{\"outlinewidth\":0,\"ticks\":\"\"}},\"colorscale\":{\"sequential\":[[0.0,\"#0d0887\"],[0.1111111111111111,\"#46039f\"],[0.2222222222222222,\"#7201a8\"],[0.3333333333333333,\"#9c179e\"],[0.4444444444444444,\"#bd3786\"],[0.5555555555555556,\"#d8576b\"],[0.6666666666666666,\"#ed7953\"],[0.7777777777777778,\"#fb9f3a\"],[0.8888888888888888,\"#fdca26\"],[1.0,\"#f0f921\"]],\"sequentialminus\":[[0.0,\"#0d0887\"],[0.1111111111111111,\"#46039f\"],[0.2222222222222222,\"#7201a8\"],[0.3333333333333333,\"#9c179e\"],[0.4444444444444444,\"#bd3786\"],[0.5555555555555556,\"#d8576b\"],[0.6666666666666666,\"#ed7953\"],[0.7777777777777778,\"#fb9f3a\"],[0.8888888888888888,\"#fdca26\"],[1.0,\"#f0f921\"]],\"diverging\":[[0,\"#8e0152\"],[0.1,\"#c51b7d\"],[0.2,\"#de77ae\"],[0.3,\"#f1b6da\"],[0.4,\"#fde0ef\"],[0.5,\"#f7f7f7\"],[0.6,\"#e6f5d0\"],[0.7,\"#b8e186\"],[0.8,\"#7fbc41\"],[0.9,\"#4d9221\"],[1,\"#276419\"]]},\"xaxis\":{\"gridcolor\":\"white\",\"linecolor\":\"white\",\"ticks\":\"\",\"title\":{\"standoff\":15},\"zerolinecolor\":\"white\",\"automargin\":true,\"zerolinewidth\":2},\"yaxis\":{\"gridcolor\":\"white\",\"linecolor\":\"white\",\"ticks\":\"\",\"title\":{\"standoff\":15},\"zerolinecolor\":\"white\",\"automargin\":true,\"zerolinewidth\":2},\"scene\":{\"xaxis\":{\"backgroundcolor\":\"#E5ECF6\",\"gridcolor\":\"white\",\"linecolor\":\"white\",\"showbackground\":true,\"ticks\":\"\",\"zerolinecolor\":\"white\",\"gridwidth\":2},\"yaxis\":{\"backgroundcolor\":\"#E5ECF6\",\"gridcolor\":\"white\",\"linecolor\":\"white\",\"showbackground\":true,\"ticks\":\"\",\"zerolinecolor\":\"white\",\"gridwidth\":2},\"zaxis\":{\"backgroundcolor\":\"#E5ECF6\",\"gridcolor\":\"white\",\"linecolor\":\"white\",\"showbackground\":true,\"ticks\":\"\",\"zerolinecolor\":\"white\",\"gridwidth\":2}},\"shapedefaults\":{\"line\":{\"color\":\"#2a3f5f\"}},\"annotationdefaults\":{\"arrowcolor\":\"#2a3f5f\",\"arrowhead\":0,\"arrowwidth\":1},\"geo\":{\"bgcolor\":\"white\",\"landcolor\":\"#E5ECF6\",\"subunitcolor\":\"white\",\"showland\":true,\"showlakes\":true,\"lakecolor\":\"white\"},\"title\":{\"x\":0.05},\"mapbox\":{\"style\":\"light\"}}},\"xaxis\":{\"anchor\":\"y\",\"domain\":[0.0,1.0],\"title\":{\"text\":\"PC1\"}},\"yaxis\":{\"anchor\":\"x\",\"domain\":[0.0,1.0],\"title\":{\"text\":\"PC2\"}},\"legend\":{\"title\":{\"text\":\"color\"},\"tracegroupgap\":0},\"title\":{\"text\":\"PCA Representation of Clusters\"}},                        {\"responsive\": true}                    ).then(function(){\n",
              "                            \n",
              "var gd = document.getElementById('800134cc-433e-41cc-909e-ae40951c6637');\n",
              "var x = new MutationObserver(function (mutations, observer) {{\n",
              "        var display = window.getComputedStyle(gd).display;\n",
              "        if (!display || display === 'none') {{\n",
              "            console.log([gd, 'removed!']);\n",
              "            Plotly.purge(gd);\n",
              "            observer.disconnect();\n",
              "        }}\n",
              "}});\n",
              "\n",
              "// Listen for the removal of the full notebook cells\n",
              "var notebookContainer = gd.closest('#notebook-container');\n",
              "if (notebookContainer) {{\n",
              "    x.observe(notebookContainer, {childList: true});\n",
              "}}\n",
              "\n",
              "// Listen for the clearing of the current output cell\n",
              "var outputEl = gd.closest('.output');\n",
              "if (outputEl) {{\n",
              "    x.observe(outputEl, {childList: true});\n",
              "}}\n",
              "\n",
              "                        })                };                            </script>        </div>\n",
              "</body>\n",
              "</html>"
            ]
          },
          "metadata": {}
        }
      ]
    },
    {
      "cell_type": "code",
      "source": [],
      "metadata": {
        "id": "7wM-f7QCH_2X"
      },
      "execution_count": null,
      "outputs": []
    }
  ]
}